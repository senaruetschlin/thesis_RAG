{
 "cells": [
  {
   "cell_type": "markdown",
   "metadata": {},
   "source": [
    "## **1. Dataset Exploration**\n",
    "In the following we will analyse the dataset used for our research. This allows proper pre-processing and a sound research design enabling meaningful insights. \n",
    "The primary aim is to understand the structure of each dataset, which allows us to unify them to construct the final dataset, and to analyze the data distribution and characteristics, which enables efficient sampling. \n",
    "\n",
    "The dataset used for our research are: FinQA, ConFinQA, and FinDER.\n"
   ]
  },
  {
   "cell_type": "code",
   "execution_count": null,
   "metadata": {},
   "outputs": [],
   "source": [
    "import json\n",
    "import random\n",
    "import os\n",
    "import pandas as pd\n",
    "from pathlib import Path"
   ]
  },
  {
   "cell_type": "markdown",
   "metadata": {},
   "source": [
    "**Load and Inspect the Samples**"
   ]
  },
  {
   "cell_type": "code",
   "execution_count": null,
   "metadata": {},
   "outputs": [],
   "source": [
    "# Import necessary libraries\n",
    "import sys\n",
    "sys.path.append('../src')"
   ]
  },
  {
   "cell_type": "markdown",
   "metadata": {},
   "source": [
    "#### FinQA"
   ]
  },
  {
   "cell_type": "code",
   "execution_count": null,
   "metadata": {},
   "outputs": [
    {
     "name": "stdout",
     "output_type": "stream",
     "text": [
      "Loaded 6251 training examples\n",
      "Data type: <class 'list'>\n"
     ]
    }
   ],
   "source": [
    "finQA_train_file = Path(\"data/FinQA/train.json\")\n",
    "with open(finQA_train_file, 'r') as f:\n",
    "    finQA_train_data = json.load(f)\n",
    "\n",
    "print(f\"Loaded {len(finQA_train_data)} training examples\")\n",
    "print(f\"Data type: {type(finQA_train_data)}\")"
   ]
  },
  {
   "cell_type": "code",
   "execution_count": 4,
   "metadata": {},
   "outputs": [
    {
     "name": "stdout",
     "output_type": "stream",
     "text": [
      "Sample type: <class 'dict'>\n",
      "Sample keys: ['pre_text', 'post_text', 'filename', 'table_ori', 'table', 'qa', 'id', 'table_retrieved', 'text_retrieved', 'table_retrieved_all', 'text_retrieved_all']\n",
      "Number of keys: 11\n"
     ]
    }
   ],
   "source": [
    "# Inspect the structure of the first sample\n",
    "finQA_first_sample = finQA_train_data[0]\n",
    "print(f\"Sample type: {type(finQA_first_sample)}\")\n",
    "print(f\"Sample keys: {list(finQA_first_sample.keys())}\")\n",
    "print(f\"Number of keys: {len(finQA_first_sample.keys())}\")"
   ]
  },
  {
   "cell_type": "code",
   "execution_count": 5,
   "metadata": {},
   "outputs": [
    {
     "name": "stdout",
     "output_type": "stream",
     "text": [
      "{'pre_text': ['interest rate to a variable interest rate based on the three-month libor plus 2.05% ( 2.05 % ) ( 2.34% ( 2.34 % ) as of october 31 , 2009 ) .', 'if libor changes by 100 basis points , our annual interest expense would change by $ 3.8 million .', 'foreign currency exposure as more fully described in note 2i .', 'in the notes to consolidated financial statements contained in item 8 of this annual report on form 10-k , we regularly hedge our non-u.s .', 'dollar-based exposures by entering into forward foreign currency exchange contracts .', 'the terms of these contracts are for periods matching the duration of the underlying exposure and generally range from one month to twelve months .', 'currently , our largest foreign currency exposure is the euro , primarily because our european operations have the highest proportion of our local currency denominated expenses .', 'relative to foreign currency exposures existing at october 31 , 2009 and november 1 , 2008 , a 10% ( 10 % ) unfavorable movement in foreign currency exchange rates over the course of the year would not expose us to significant losses in earnings or cash flows because we hedge a high proportion of our year-end exposures against fluctuations in foreign currency exchange rates .', 'the market risk associated with our derivative instruments results from currency exchange rate or interest rate movements that are expected to offset the market risk of the underlying transactions , assets and liabilities being hedged .', 'the counterparties to the agreements relating to our foreign exchange instruments consist of a number of major international financial institutions with high credit ratings .', 'we do not believe that there is significant risk of nonperformance by these counterparties because we continually monitor the credit ratings of such counterparties .', 'while the contract or notional amounts of derivative financial instruments provide one measure of the volume of these transactions , they do not represent the amount of our exposure to credit risk .', 'the amounts potentially subject to credit risk ( arising from the possible inability of counterparties to meet the terms of their contracts ) are generally limited to the amounts , if any , by which the counterparties 2019 obligations under the contracts exceed our obligations to the counterparties .', 'the following table illustrates the effect that a 10% ( 10 % ) unfavorable or favorable movement in foreign currency exchange rates , relative to the u.s .', 'dollar , would have on the fair value of our forward exchange contracts as of october 31 , 2009 and november 1 , 2008: .'], 'post_text': ['fair value of forward exchange contracts after a 10% ( 10 % ) unfavorable movement in foreign currency exchange rates asset ( liability ) .', '.', '.', '.', '.', '.', '.', '.', '.', '$ 20132 $ ( 9457 ) fair value of forward exchange contracts after a 10% ( 10 % ) favorable movement in foreign currency exchange rates liability .', '.', '.', '.', '.', '.', '.', '.', '.', '.', '.', '.', '.', '.', '.', '.', '.', '.', '.', '.', '.', '.', '$ ( 6781 ) $ ( 38294 ) the calculation assumes that each exchange rate would change in the same direction relative to the u.s .', 'dollar .', 'in addition to the direct effects of changes in exchange rates , such changes typically affect the volume of sales or the foreign currency sales price as competitors 2019 products become more or less attractive .', 'our sensitivity analysis of the effects of changes in foreign currency exchange rates does not factor in a potential change in sales levels or local currency selling prices. .'], 'filename': 'ADI/2009/page_49.pdf', 'table_ori': [['', 'October 31, 2009', 'November 1, 2008'], ['Fair value of forward exchange contracts asset (liability)', '$6,427', '$(23,158)'], ['Fair value of forward exchange contracts after a 10% unfavorable movement in foreign currency exchange rates asset (liability)', '$20,132', '$(9,457)'], ['Fair value of forward exchange contracts after a 10% favorable movement in foreign currency exchange rates liability', '$(6,781)', '$(38,294)']], 'table': [['', 'october 31 2009', 'november 1 2008'], ['fair value of forward exchange contracts asset ( liability )', '$ 6427', '$ -23158 ( 23158 )'], ['fair value of forward exchange contracts after a 10% ( 10 % ) unfavorable movement in foreign currency exchange rates asset ( liability )', '$ 20132', '$ -9457 ( 9457 )'], ['fair value of forward exchange contracts after a 10% ( 10 % ) favorable movement in foreign currency exchange rates liability', '$ -6781 ( 6781 )', '$ -38294 ( 38294 )']], 'qa': {'question': 'what is the the interest expense in 2009?', 'answer': '380', 'explanation': '', 'ann_table_rows': [], 'ann_text_rows': [1], 'steps': [{'op': 'divide1-1', 'arg1': '100', 'arg2': '100', 'res': '1%'}, {'op': 'divide1-2', 'arg1': '3.8', 'arg2': '#0', 'res': '380'}], 'program': 'divide(100, 100), divide(3.8, #0)', 'gold_inds': {'text_1': 'if libor changes by 100 basis points , our annual interest expense would change by $ 3.8 million .'}, 'exe_ans': 3.8, 'tfidftopn': {'text_14': 'dollar , would have on the fair value of our forward exchange contracts as of october 31 , 2009 and november 1 , 2008: .', 'text_0': 'interest rate to a variable interest rate based on the three-month libor plus 2.05% ( 2.05 % ) ( 2.34% ( 2.34 % ) as of october 31 , 2009 ) .'}, 'program_re': 'divide(3.8, divide(100, 100))', 'model_input': [['text_0', 'interest rate to a variable interest rate based on the three-month libor plus 2.05% ( 2.05 % ) ( 2.34% ( 2.34 % ) as of october 31 , 2009 ) .'], ['text_1', 'if libor changes by 100 basis points , our annual interest expense would change by $ 3.8 million .'], ['text_14', 'dollar , would have on the fair value of our forward exchange contracts as of october 31 , 2009 and november 1 , 2008: .']]}, 'id': 'ADI/2009/page_49.pdf-1', 'table_retrieved': [{'score': -0.6207679510116577, 'ind': 'table_1'}, {'score': -0.8948984742164612, 'ind': 'table_2'}], 'text_retrieved': [{'score': 1.251369595527649, 'ind': 'text_1'}, {'score': 0.6589734554290771, 'ind': 'text_0'}, {'score': -0.1914736032485962, 'ind': 'text_14'}], 'table_retrieved_all': [{'score': -0.6207679510116577, 'ind': 'table_1'}, {'score': -0.8948984742164612, 'ind': 'table_2'}, {'score': -1.2129878997802734, 'ind': 'table_3'}, {'score': -2.9782934188842773, 'ind': 'table_0'}], 'text_retrieved_all': [{'score': 1.251369595527649, 'ind': 'text_1'}, {'score': 0.6589734554290771, 'ind': 'text_0'}, {'score': -0.1914736032485962, 'ind': 'text_14'}, {'score': -1.0945320129394531, 'ind': 'text_47'}, {'score': -1.4916260242462158, 'ind': 'text_24'}, {'score': -1.5615578889846802, 'ind': 'text_12'}, {'score': -1.572263479232788, 'ind': 'text_15'}, {'score': -1.6337369680404663, 'ind': 'text_5'}, {'score': -1.678298830986023, 'ind': 'text_3'}, {'score': -1.6905218362808228, 'ind': 'text_6'}, {'score': -1.9114893674850464, 'ind': 'text_46'}, {'score': -1.914547324180603, 'ind': 'text_7'}, {'score': -1.955027461051941, 'ind': 'text_8'}, {'score': -2.0304598808288574, 'ind': 'text_49'}, {'score': -2.0383174419403076, 'ind': 'text_13'}, {'score': -2.112241268157959, 'ind': 'text_10'}, {'score': -2.1439552307128906, 'ind': 'text_11'}, {'score': -2.2258567810058594, 'ind': 'text_4'}, {'score': -2.409395694732666, 'ind': 'text_48'}, {'score': -2.6092159748077393, 'ind': 'text_9'}, {'score': -2.6313436031341553, 'ind': 'text_2'}, {'score': -2.932347536087036, 'ind': 'text_16'}, {'score': -2.932347536087036, 'ind': 'text_17'}, {'score': -2.932347536087036, 'ind': 'text_18'}, {'score': -2.932347536087036, 'ind': 'text_19'}, {'score': -2.932347536087036, 'ind': 'text_20'}, {'score': -2.932347536087036, 'ind': 'text_21'}, {'score': -2.932347536087036, 'ind': 'text_22'}, {'score': -2.932347536087036, 'ind': 'text_23'}, {'score': -2.932347536087036, 'ind': 'text_25'}, {'score': -2.932347536087036, 'ind': 'text_26'}, {'score': -2.932347536087036, 'ind': 'text_27'}, {'score': -2.932347536087036, 'ind': 'text_28'}, {'score': -2.932347536087036, 'ind': 'text_29'}, {'score': -2.932347536087036, 'ind': 'text_30'}, {'score': -2.932347536087036, 'ind': 'text_31'}, {'score': -2.932347536087036, 'ind': 'text_32'}, {'score': -2.932347536087036, 'ind': 'text_33'}, {'score': -2.932347536087036, 'ind': 'text_34'}, {'score': -2.932347536087036, 'ind': 'text_35'}, {'score': -2.932347536087036, 'ind': 'text_36'}, {'score': -2.932347536087036, 'ind': 'text_37'}, {'score': -2.932347536087036, 'ind': 'text_38'}, {'score': -2.932347536087036, 'ind': 'text_39'}, {'score': -2.932347536087036, 'ind': 'text_40'}, {'score': -2.932347536087036, 'ind': 'text_41'}, {'score': -2.932347536087036, 'ind': 'text_42'}, {'score': -2.932347536087036, 'ind': 'text_43'}, {'score': -2.932347536087036, 'ind': 'text_44'}, {'score': -2.932347536087036, 'ind': 'text_45'}]}\n"
     ]
    }
   ],
   "source": [
    "print(finQA_first_sample)"
   ]
  },
  {
   "cell_type": "code",
   "execution_count": 6,
   "metadata": {},
   "outputs": [
    {
     "name": "stdout",
     "output_type": "stream",
     "text": [
      "\n",
      "📋 pre_text:\n",
      "   Type: list (length: 15)\n",
      "   First item type: <class 'str'>\n",
      "\n",
      "📋 post_text:\n",
      "   Type: list (length: 35)\n",
      "   First item type: <class 'str'>\n",
      "\n",
      "📋 filename:\n",
      "   Type: string (length: 20)\n",
      "   Preview: ADI/2009/page_49.pdf\n",
      "\n",
      "📋 table_ori:\n",
      "   Type: list (length: 4)\n",
      "   First item type: <class 'list'>\n",
      "\n",
      "📋 table:\n",
      "   Type: list (length: 4)\n",
      "   First item type: <class 'list'>\n",
      "\n",
      "📋 qa:\n",
      "   Type: dict (keys: ['question', 'answer', 'explanation', 'ann_table_rows', 'ann_text_rows', 'steps', 'program', 'gold_inds', 'exe_ans', 'tfidftopn', 'program_re', 'model_input'])\n",
      "\n",
      "📋 id:\n",
      "   Type: string (length: 22)\n",
      "   Preview: ADI/2009/page_49.pdf-1\n",
      "\n",
      "📋 table_retrieved:\n",
      "   Type: list (length: 2)\n",
      "   First item type: <class 'dict'>\n",
      "   First item keys: ['score', 'ind']\n",
      "\n",
      "📋 text_retrieved:\n",
      "   Type: list (length: 3)\n",
      "   First item type: <class 'dict'>\n",
      "   First item keys: ['score', 'ind']\n",
      "\n",
      "📋 table_retrieved_all:\n",
      "   Type: list (length: 4)\n",
      "   First item type: <class 'dict'>\n",
      "   First item keys: ['score', 'ind']\n",
      "\n",
      "📋 text_retrieved_all:\n",
      "   Type: list (length: 50)\n",
      "   First item type: <class 'dict'>\n",
      "   First item keys: ['score', 'ind']\n"
     ]
    }
   ],
   "source": [
    "# Detailed inspection of the first sample\n",
    "for key, value in finQA_first_sample.items():\n",
    "    print(f\"\\n📋 {key}:\")\n",
    "    if isinstance(value, str):\n",
    "        print(f\"   Type: string (length: {len(value)})\")\n",
    "        print(f\"   Preview: {value[:100]}{'...' if len(value) > 100 else ''}\")\n",
    "    elif isinstance(value, list):\n",
    "        print(f\"   Type: list (length: {len(value)})\")\n",
    "        if len(value) > 0:\n",
    "            print(f\"   First item type: {type(value[0])}\")\n",
    "            if isinstance(value[0], dict):\n",
    "                print(f\"   First item keys: {list(value[0].keys())}\")\n",
    "    elif isinstance(value, dict):\n",
    "        print(f\"   Type: dict (keys: {list(value.keys())})\")\n",
    "    else:\n",
    "        print(f\"   Type: {type(value)}\")\n",
    "        print(f\"   Value: {value}\")"
   ]
  },
  {
   "cell_type": "code",
   "execution_count": 7,
   "metadata": {},
   "outputs": [
    {
     "name": "stdout",
     "output_type": "stream",
     "text": [
      "pre_text: ['interest rate to a variable interest rate based on the three-month libor plus 2.05% ( 2.05 % ) ( 2.34% ( 2.34 % ) as of october 31 , 2009 ) .', 'if libor changes by 100 basis points , our annual interest expense would change by $ 3.8 million .', 'foreign currency exposure as more fully described in note 2i .', 'in the notes to consolidated financial statements contained in item 8 of this annual report on form 10-k , we regularly hedge our non-u.s .', 'dollar-based exposures by entering into forward foreign currency exchange contracts .', 'the terms of these contracts are for periods matching the duration of the underlying exposure and generally range from one month to twelve months .', 'currently , our largest foreign currency exposure is the euro , primarily because our european operations have the highest proportion of our local currency denominated expenses .', 'relative to foreign currency exposures existing at october 31 , 2009 and november 1 , 2008 , a 10% ( 10 % ) unfavorable movement in foreign currency exchange rates over the course of the year would not expose us to significant losses in earnings or cash flows because we hedge a high proportion of our year-end exposures against fluctuations in foreign currency exchange rates .', 'the market risk associated with our derivative instruments results from currency exchange rate or interest rate movements that are expected to offset the market risk of the underlying transactions , assets and liabilities being hedged .', 'the counterparties to the agreements relating to our foreign exchange instruments consist of a number of major international financial institutions with high credit ratings .', 'we do not believe that there is significant risk of nonperformance by these counterparties because we continually monitor the credit ratings of such counterparties .', 'while the contract or notional amounts of derivative financial instruments provide one measure of the volume of these transactions , they do not represent the amount of our exposure to credit risk .', 'the amounts potentially subject to credit risk ( arising from the possible inability of counterparties to meet the terms of their contracts ) are generally limited to the amounts , if any , by which the counterparties 2019 obligations under the contracts exceed our obligations to the counterparties .', 'the following table illustrates the effect that a 10% ( 10 % ) unfavorable or favorable movement in foreign currency exchange rates , relative to the u.s .', 'dollar , would have on the fair value of our forward exchange contracts as of october 31 , 2009 and november 1 , 2008: .']\n",
      "\n",
      "post_text: ['fair value of forward exchange contracts after a 10% ( 10 % ) unfavorable movement in foreign currency exchange rates asset ( liability ) .', '.', '.', '.', '.', '.', '.', '.', '.', '$ 20132 $ ( 9457 ) fair value of forward exchange contracts after a 10% ( 10 % ) favorable movement in foreign currency exchange rates liability .', '.', '.', '.', '.', '.', '.', '.', '.', '.', '.', '.', '.', '.', '.', '.', '.', '.', '.', '.', '.', '.', '$ ( 6781 ) $ ( 38294 ) the calculation assumes that each exchange rate would change in the same direction relative to the u.s .', 'dollar .', 'in addition to the direct effects of changes in exchange rates , such changes typically affect the volume of sales or the foreign currency sales price as competitors 2019 products become more or less attractive .', 'our sensitivity analysis of the effects of changes in foreign currency exchange rates does not factor in a potential change in sales levels or local currency selling prices. .']\n",
      "\n",
      "filename: ADI/2009/page_49.pdf\n",
      "\n",
      "table_ori: [['', 'October 31, 2009', 'November 1, 2008'], ['Fair value of forward exchange contracts asset (liability)', '$6,427', '$(23,158)'], ['Fair value of forward exchange contracts after a 10% unfavorable movement in foreign currency exchange rates asset (liability)', '$20,132', '$(9,457)'], ['Fair value of forward exchange contracts after a 10% favorable movement in foreign currency exchange rates liability', '$(6,781)', '$(38,294)']]\n",
      "\n",
      "table: [['', 'october 31 2009', 'november 1 2008'], ['fair value of forward exchange contracts asset ( liability )', '$ 6427', '$ -23158 ( 23158 )'], ['fair value of forward exchange contracts after a 10% ( 10 % ) unfavorable movement in foreign currency exchange rates asset ( liability )', '$ 20132', '$ -9457 ( 9457 )'], ['fair value of forward exchange contracts after a 10% ( 10 % ) favorable movement in foreign currency exchange rates liability', '$ -6781 ( 6781 )', '$ -38294 ( 38294 )']]\n",
      "\n",
      "qa: {'question': 'what is the the interest expense in 2009?', 'answer': '380', 'explanation': '', 'ann_table_rows': [], 'ann_text_rows': [1], 'steps': [{'op': 'divide1-1', 'arg1': '100', 'arg2': '100', 'res': '1%'}, {'op': 'divide1-2', 'arg1': '3.8', 'arg2': '#0', 'res': '380'}], 'program': 'divide(100, 100), divide(3.8, #0)', 'gold_inds': {'text_1': 'if libor changes by 100 basis points , our annual interest expense would change by $ 3.8 million .'}, 'exe_ans': 3.8, 'tfidftopn': {'text_14': 'dollar , would have on the fair value of our forward exchange contracts as of october 31 , 2009 and november 1 , 2008: .', 'text_0': 'interest rate to a variable interest rate based on the three-month libor plus 2.05% ( 2.05 % ) ( 2.34% ( 2.34 % ) as of october 31 , 2009 ) .'}, 'program_re': 'divide(3.8, divide(100, 100))', 'model_input': [['text_0', 'interest rate to a variable interest rate based on the three-month libor plus 2.05% ( 2.05 % ) ( 2.34% ( 2.34 % ) as of october 31 , 2009 ) .'], ['text_1', 'if libor changes by 100 basis points , our annual interest expense would change by $ 3.8 million .'], ['text_14', 'dollar , would have on the fair value of our forward exchange contracts as of october 31 , 2009 and november 1 , 2008: .']]}\n",
      "\n",
      "id: ADI/2009/page_49.pdf-1\n",
      "\n",
      "table_retrieved: [{'score': -0.6207679510116577, 'ind': 'table_1'}, {'score': -0.8948984742164612, 'ind': 'table_2'}]\n",
      "\n",
      "text_retrieved: [{'score': 1.251369595527649, 'ind': 'text_1'}, {'score': 0.6589734554290771, 'ind': 'text_0'}, {'score': -0.1914736032485962, 'ind': 'text_14'}]\n",
      "\n",
      "table_retrieved_all: [{'score': -0.6207679510116577, 'ind': 'table_1'}, {'score': -0.8948984742164612, 'ind': 'table_2'}, {'score': -1.2129878997802734, 'ind': 'table_3'}, {'score': -2.9782934188842773, 'ind': 'table_0'}]\n",
      "\n",
      "text_retrieved_all: [{'score': 1.251369595527649, 'ind': 'text_1'}, {'score': 0.6589734554290771, 'ind': 'text_0'}, {'score': -0.1914736032485962, 'ind': 'text_14'}, {'score': -1.0945320129394531, 'ind': 'text_47'}, {'score': -1.4916260242462158, 'ind': 'text_24'}, {'score': -1.5615578889846802, 'ind': 'text_12'}, {'score': -1.572263479232788, 'ind': 'text_15'}, {'score': -1.6337369680404663, 'ind': 'text_5'}, {'score': -1.678298830986023, 'ind': 'text_3'}, {'score': -1.6905218362808228, 'ind': 'text_6'}, {'score': -1.9114893674850464, 'ind': 'text_46'}, {'score': -1.914547324180603, 'ind': 'text_7'}, {'score': -1.955027461051941, 'ind': 'text_8'}, {'score': -2.0304598808288574, 'ind': 'text_49'}, {'score': -2.0383174419403076, 'ind': 'text_13'}, {'score': -2.112241268157959, 'ind': 'text_10'}, {'score': -2.1439552307128906, 'ind': 'text_11'}, {'score': -2.2258567810058594, 'ind': 'text_4'}, {'score': -2.409395694732666, 'ind': 'text_48'}, {'score': -2.6092159748077393, 'ind': 'text_9'}, {'score': -2.6313436031341553, 'ind': 'text_2'}, {'score': -2.932347536087036, 'ind': 'text_16'}, {'score': -2.932347536087036, 'ind': 'text_17'}, {'score': -2.932347536087036, 'ind': 'text_18'}, {'score': -2.932347536087036, 'ind': 'text_19'}, {'score': -2.932347536087036, 'ind': 'text_20'}, {'score': -2.932347536087036, 'ind': 'text_21'}, {'score': -2.932347536087036, 'ind': 'text_22'}, {'score': -2.932347536087036, 'ind': 'text_23'}, {'score': -2.932347536087036, 'ind': 'text_25'}, {'score': -2.932347536087036, 'ind': 'text_26'}, {'score': -2.932347536087036, 'ind': 'text_27'}, {'score': -2.932347536087036, 'ind': 'text_28'}, {'score': -2.932347536087036, 'ind': 'text_29'}, {'score': -2.932347536087036, 'ind': 'text_30'}, {'score': -2.932347536087036, 'ind': 'text_31'}, {'score': -2.932347536087036, 'ind': 'text_32'}, {'score': -2.932347536087036, 'ind': 'text_33'}, {'score': -2.932347536087036, 'ind': 'text_34'}, {'score': -2.932347536087036, 'ind': 'text_35'}, {'score': -2.932347536087036, 'ind': 'text_36'}, {'score': -2.932347536087036, 'ind': 'text_37'}, {'score': -2.932347536087036, 'ind': 'text_38'}, {'score': -2.932347536087036, 'ind': 'text_39'}, {'score': -2.932347536087036, 'ind': 'text_40'}, {'score': -2.932347536087036, 'ind': 'text_41'}, {'score': -2.932347536087036, 'ind': 'text_42'}, {'score': -2.932347536087036, 'ind': 'text_43'}, {'score': -2.932347536087036, 'ind': 'text_44'}, {'score': -2.932347536087036, 'ind': 'text_45'}]\n",
      "\n"
     ]
    }
   ],
   "source": [
    "for col, value in finQA_first_sample.items():\n",
    "    print(f\"{col}: {value}\\n\")"
   ]
  },
  {
   "cell_type": "markdown",
   "metadata": {},
   "source": [
    "**FinQA: Each training example is a dictionary with 11 keys:** <br>\n",
    "\"pre_text\": the texts before the table; <br>\n",
    "\"post_text\": the text after the table;<br>\n",
    "\"filename\": name of the pdf file <br>\n",
    "\"table_ori\": The original version of the table, as extracted from the document, before any preprocessing or normalization.<br>\n",
    "\"table\": the table;<br>\n",
    "\"qa\": {<br>\n",
    "  \"question\": the question;<br>\n",
    "  \"answer\": The final numeric/textual answer to the question.<br>\n",
    "  \"explenation\": Optional human-written explanation for the answer (often empty in FinQA)<br>\n",
    "  \"ann_table_rows\": Indices of table rows that are annotated as relevant (if the answer comes from a table).<br>\n",
    "  \"ann_text_rows\": Indices of relevant text passages (e.g., [1] refers to text_1) from model_input.<br>\n",
    "  \"steps\" (\"op\": operation, \"arg1; arg2\": operands; \"res\": result of the operation:  The symbolic execution steps used to compute the answer.<br>\n",
    "  \"program\": the reasoning program;<br>\n",
    "  \"gold_inds\": the gold supporting facts;<br>\n",
    "  \"exe_ans\": the gold execution result;<br>\n",
    "  \"tfidftopn\": Top-n retrieved text chunks using TF-IDF baseline.<br>\n",
    "  \"program_re\": the reasoning program in nested format;<br>\n",
    "  \"model_input\": A list of text chunks (tuples of text ID and content) used as input to the model.<br>\n",
    "}<br>\n",
    "\"id\": unique example id. <br>\n",
    "\"table_retrieved\": A list of tables retrieved by a retriever model (e.g., BM25, DPR), each with a similarity score and ind (identifier).<br>\n",
    "\"text_retrieved\": A list of retrieved text passages (usually from pre_text + post_text), sorted by similarity score.<br>\n",
    "\"table_retrieved_all\": A complete list of table candidates along with their retrieval scores.<br>\n",
    "\"text_retrieved_all\": All candidate text chunks (with scores), potentially from the whole document, ranked by relevance.<br>"
   ]
  },
  {
   "cell_type": "markdown",
   "metadata": {},
   "source": [
    "#### ConvFinQA"
   ]
  },
  {
   "cell_type": "code",
   "execution_count": null,
   "metadata": {},
   "outputs": [
    {
     "name": "stdout",
     "output_type": "stream",
     "text": [
      "Loaded 11104 training examples\n",
      "Data type: <class 'list'>\n"
     ]
    }
   ],
   "source": [
    "ConvfinQA_turn_train_file = Path(\"data/ConFinQA/train_turn.json\")\n",
    "with open(ConvfinQA_turn_train_file, 'r') as f: \n",
    "    ConvfinQA_turn_train_data = json.load(f)\n",
    "\n",
    "print(f\"Loaded {len(ConvfinQA_turn_train_data)} training examples\")\n",
    "print(f\"Data type: {type(ConvfinQA_turn_train_data)}\")"
   ]
  },
  {
   "cell_type": "code",
   "execution_count": null,
   "metadata": {},
   "outputs": [
    {
     "name": "stdout",
     "output_type": "stream",
     "text": [
      "Loaded 3037 training examples\n",
      "Data type: <class 'list'>\n"
     ]
    }
   ],
   "source": [
    "ConvfinQA_train_file = Path(\"data/ConFinQA/train.json\")\n",
    "with open(ConvfinQA_train_file, 'r') as f:\n",
    "    ConvfinQA_train_data = json.load(f)\n",
    "\n",
    "print(f\"Loaded {len(ConvfinQA_train_data)} training examples\")\n",
    "print(f\"Data type: {type(ConvfinQA_train_data)}\")"
   ]
  },
  {
   "cell_type": "code",
   "execution_count": 11,
   "metadata": {},
   "outputs": [
    {
     "name": "stdout",
     "output_type": "stream",
     "text": [
      "\n",
      "Sample 0: Dialogue length = 4\n",
      "['what is the net cash from operating activities in 2009?', 'what about in 2008?', 'what is the difference?', 'what percentage change does this represent?']\n",
      "\n",
      "Sample 1: Dialogue length = 4\n",
      "['what is the net cash from operating activities in 2009?', 'what about in 2008?', 'what is the difference?', 'what percentage change does this represent?']\n",
      "\n",
      "Sample 2: Dialogue length = 4\n",
      "['what is the net cash from operating activities in 2009?', 'what about in 2008?', 'what is the difference?', 'what percentage change does this represent?']\n",
      "\n",
      "Sample 3: Dialogue length = 4\n",
      "['what is the net cash from operating activities in 2009?', 'what about in 2008?', 'what is the difference?', 'what percentage change does this represent?']\n",
      "\n",
      "Sample 4: Dialogue length = 4\n",
      "['what were revenues in 2008?', 'what were they in 2007?', 'what was the net change?', 'what is the percent change?']\n"
     ]
    }
   ],
   "source": [
    "for i, sample in enumerate(ConvfinQA_turn_train_data[:5]):\n",
    "    dialogue = sample.get(\"annotation\", {}).get(\"dialogue_break\", [])\n",
    "    print(f\"\\nSample {i}: Dialogue length = {len(dialogue)}\")\n",
    "    print(dialogue)\n"
   ]
  },
  {
   "cell_type": "code",
   "execution_count": 12,
   "metadata": {},
   "outputs": [
    {
     "name": "stdout",
     "output_type": "stream",
     "text": [
      "\n",
      "Sample 0: Dialogue length = 4\n",
      "['what is the net cash from operating activities in 2009?', 'what about in 2008?', 'what is the difference?', 'what percentage change does this represent?']\n",
      "\n",
      "Sample 1: Dialogue length = 4\n",
      "['what were revenues in 2008?', 'what were they in 2007?', 'what was the net change?', 'what is the percent change?']\n",
      "\n",
      "Sample 2: Dialogue length = 4\n",
      "['what was the total of net sales in 2001?', 'and what was that in 2000?', 'what was, then, the change in the total of net sales over the year?', 'and how much does this change represent in relation to that total in 2000, in percentage?']\n",
      "\n",
      "Sample 3: Dialogue length = 6\n",
      "['what was the change in the performance of the united parcel service inc . from 2004 to 2009?', 'and how much does this change represent in relation to that performance in 2004, in percentage?', 'what was the performance value of the s&p 500 index in 2009?', 'what was, then, the change in that performance from 2004 to 2009?', 'and how much does this change represent in relation to that performance in 2004, in percentage?', 'what is, then, the difference between the percent representation of the united parcel service inc . and the s&p 500 index?']\n",
      "\n",
      "Sample 4: Dialogue length = 7\n",
      "['what was the fluctuation of the performance price of the ups from 2004 to 2006?', 'and how much does this fluctuation represent in relation to that price in 2004?', 'and from this year to 2009, what was the fluctuation for that stock?', 'what is this fluctuation as a percentage of the 2004 price?', 'and for the s&p 500 index price, what was the fluctuation in those five years?', 'and what percentage does this fluctuation represent in relation to the 2004 price of this stock?', 'what is, then, the difference between the ups percentage and this s&p 500 index one, for this five year period?']\n"
     ]
    }
   ],
   "source": [
    "for i, sample in enumerate(ConvfinQA_train_data[:5]):\n",
    "    dialogue = sample.get(\"annotation\", {}).get(\"dialogue_break\", [])\n",
    "    print(f\"\\nSample {i}: Dialogue length = {len(dialogue)}\")\n",
    "    print(dialogue)"
   ]
  },
  {
   "cell_type": "markdown",
   "metadata": {},
   "source": [
    "**train.json (Conversation-Level Format):** <br>\n",
    "Each entry in this file represents a full multi-turn dialogue between a user and a system. It contains multiple interrelated QA pairs (dialogue_break) that often require the model to reason across dialogue history. This format is ideal for training and evaluating systems designed to handle conversational memory and context-aware reasoning.<br>\n",
    "**train_turn.json (Turn-Level Format):**<br>\n",
    "This version contains individual QA pairs, each treated as an independent training instance. While each turn includes metadata about the full dialogue (e.g., dialogue_break, turn_program), the structure is flattened to focus on single-turn question answering. It aligns closely with traditional QA datasets like FinQA and FinDER.<br>\n",
    "\n",
    "\n",
    "The evaluation requires a unified dataset format that:<br>\n",
    "\n",
    "- Ensures consistency across multiple QA datasets (FinQA, FinDER, ConvFinQA),\n",
    "- Supports scalable benchmarking without additional engineering overhead,\n",
    "- Enables clean input-output tracking across different RAG pipelines.<br>\n",
    "\n",
    "The turn-level format (train_turn.json) satisfies these requirements by providing structurally uniform, self-contained QA pairs that are directly comparable to FinQA and FinDER. This consistency allows for streamlined preprocessing, batching, and evaluation across all models and datasets.<br>\n",
    "\n",
    "Additionally, using the turn-level format avoids the added complexity of reconstructing dialogue context or implementing query-rewriting logic—an important consideration given the limited timeline of the project.<br>\n",
    "\n",
    "To still account for conversational realism, a small subset of context-dependent examples from train.json may be used in a complementary analysis, providing qualitative insights into retriever performance under dialogue-aware conditions.<br>"
   ]
  },
  {
   "cell_type": "code",
   "execution_count": 13,
   "metadata": {},
   "outputs": [
    {
     "name": "stdout",
     "output_type": "stream",
     "text": [
      "Sample type: <class 'dict'>\n",
      "Sample keys: ['pre_text', 'post_text', 'filename', 'table_ori', 'table', 'qa', 'id', 'annotation']\n",
      "Number of keys: 8\n"
     ]
    }
   ],
   "source": [
    "# Inspect the structure of the first sample\n",
    "ConvfinQA_first_sample = ConvfinQA_turn_train_data[0]\n",
    "print(f\"Sample type: {type(ConvfinQA_first_sample)}\")\n",
    "print(f\"Sample keys: {list(ConvfinQA_first_sample.keys())}\")\n",
    "print(f\"Number of keys: {len(ConvfinQA_first_sample.keys())}\")"
   ]
  },
  {
   "cell_type": "code",
   "execution_count": 15,
   "metadata": {},
   "outputs": [
    {
     "name": "stdout",
     "output_type": "stream",
     "text": [
      "\n",
      "📋 pre_text:\n",
      "   Type: list (length: 9)\n",
      "   First item type: <class 'str'>\n",
      "\n",
      "📋 post_text:\n",
      "   Type: list (length: 15)\n",
      "   First item type: <class 'str'>\n",
      "\n",
      "📋 filename:\n",
      "   Type: string (length: 21)\n",
      "   Preview: JKHY/2009/page_28.pdf\n",
      "\n",
      "📋 table_ori:\n",
      "   Type: list (length: 8)\n",
      "   First item type: <class 'list'>\n",
      "\n",
      "📋 table:\n",
      "   Type: list (length: 7)\n",
      "   First item type: <class 'list'>\n",
      "\n",
      "📋 qa:\n",
      "   Type: dict (keys: ['question', 'answer', 'explanation', 'ann_table_rows', 'ann_text_rows', 'steps', 'program', 'gold_inds', 'exe_ans', 'program_re'])\n",
      "\n",
      "📋 id:\n",
      "   Type: string (length: 32)\n",
      "   Preview: Single_JKHY/2009/page_28.pdf-3_0\n",
      "\n",
      "📋 annotation:\n",
      "   Type: dict (keys: ['amt_table', 'amt_pre_text', 'amt_post_text', 'original_program', 'step_list', 'answer_list', 'dialogue_break', 'turn_program_ori', 'dialogue_break_ori', 'turn_program', 'qa_split', 'exe_ans_list', 'cur_program', 'cur_dial', 'exe_ans', 'cur_type', 'turn_ind', 'gold_ind'])\n"
     ]
    }
   ],
   "source": [
    "# Detailed inspection of the first sample\n",
    "for key, value in ConvfinQA_first_sample.items():\n",
    "    print(f\"\\n📋 {key}:\")\n",
    "    if isinstance(value, str):\n",
    "        print(f\"   Type: string (length: {len(value)})\")\n",
    "        print(f\"   Preview: {value[:100]}{'...' if len(value) > 100 else ''}\")\n",
    "    elif isinstance(value, list):\n",
    "        print(f\"   Type: list (length: {len(value)})\")\n",
    "        if len(value) > 0:\n",
    "            print(f\"   First item type: {type(value[0])}\")\n",
    "            if isinstance(value[0], dict):\n",
    "                print(f\"   First item keys: {list(value[0].keys())}\")\n",
    "    elif isinstance(value, dict):\n",
    "        print(f\"   Type: dict (keys: {list(value.keys())})\")\n",
    "    else:\n",
    "        print(f\"   Type: {type(value)}\")\n",
    "        print(f\"   Value: {value}\")"
   ]
  },
  {
   "cell_type": "code",
   "execution_count": 46,
   "metadata": {},
   "outputs": [
    {
     "name": "stdout",
     "output_type": "stream",
     "text": [
      "pre_text: ['26 | 2009 annual report in fiscal 2008 , revenues in the credit union systems and services business segment increased 14% ( 14 % ) from fiscal 2007 .', 'all revenue components within the segment experienced growth during fiscal 2008 .', 'license revenue generated the largest dollar growth in revenue as episys ae , our flagship core processing system aimed at larger credit unions , experienced strong sales throughout the year .', 'support and service revenue , which is the largest component of total revenues for the credit union segment , experienced 34 percent growth in eft support and 10 percent growth in in-house support .', 'gross profit in this business segment increased $ 9344 in fiscal 2008 compared to fiscal 2007 , due primarily to the increase in license revenue , which carries the highest margins .', 'liquidity and capital resources we have historically generated positive cash flow from operations and have generally used funds generated from operations and short-term borrowings on our revolving credit facility to meet capital requirements .', 'we expect this trend to continue in the future .', 'the company 2019s cash and cash equivalents increased to $ 118251 at june 30 , 2009 from $ 65565 at june 30 , 2008 .', 'the following table summarizes net cash from operating activities in the statement of cash flows : 2009 2008 2007 .']\n",
      "\n",
      "post_text: ['year ended june 30 , cash provided by operations increased $ 25587 to $ 206588 for the fiscal year ended june 30 , 2009 as compared to $ 181001 for the fiscal year ended june 30 , 2008 .', 'this increase is primarily attributable to a decrease in receivables compared to the same period a year ago of $ 21214 .', 'this decrease is largely the result of fiscal 2010 annual software maintenance billings being provided to customers earlier than in the prior year , which allowed more cash to be collected before the end of the fiscal year than in previous years .', 'further , we collected more cash overall related to revenues that will be recognized in subsequent periods in the current year than in fiscal 2008 .', 'cash used in investing activities for the fiscal year ended june 2009 was $ 59227 and includes $ 3027 in contingent consideration paid on prior years 2019 acquisitions .', 'cash used in investing activities for the fiscal year ended june 2008 was $ 102148 and includes payments for acquisitions of $ 48109 , plus $ 1215 in contingent consideration paid on prior years 2019 acquisitions .', 'capital expenditures for fiscal 2009 were $ 31562 compared to $ 31105 for fiscal 2008 .', 'cash used for software development in fiscal 2009 was $ 24684 compared to $ 23736 during the prior year .', 'net cash used in financing activities for the current fiscal year was $ 94675 and includes the repurchase of 3106 shares of our common stock for $ 58405 , the payment of dividends of $ 26903 and $ 13489 net repayment on our revolving credit facilities .', 'cash used in financing activities was partially offset by proceeds of $ 3773 from the exercise of stock options and the sale of common stock ( through the employee stock purchase plan ) and $ 348 excess tax benefits from stock option exercises .', 'during fiscal 2008 , net cash used in financing activities for the fiscal year was $ 101905 and includes the repurchase of 4200 shares of our common stock for $ 100996 , the payment of dividends of $ 24683 and $ 429 net repayment on our revolving credit facilities .', 'cash used in financing activities was partially offset by proceeds of $ 20394 from the exercise of stock options and the sale of common stock and $ 3809 excess tax benefits from stock option exercises .', 'beginning during fiscal 2008 , us financial markets and many of the largest us financial institutions have been shaken by negative developments in the home mortgage industry and the mortgage markets , and particularly the markets for subprime mortgage-backed securities .', 'since that time , these and other such developments have resulted in a broad , global economic downturn .', 'while we , as is the case with most companies , have experienced the effects of this downturn , we have not experienced any significant issues with our current collection efforts , and we believe that any future impact to our liquidity will be minimized by cash generated by recurring sources of revenue and due to our access to available lines of credit. .']\n",
      "\n",
      "filename: JKHY/2009/page_28.pdf\n",
      "\n",
      "table_ori: [['', 'Year ended June 30, 2009'], ['2008', '2007'], ['Net income', '$103,102', '$104,222', '$104,681'], ['Non-cash expenses', '74,397', '70,420', '56,348'], ['Change in receivables', '21,214', '(2,913)', '(28,853)'], ['Change in deferred revenue', '21,943', '5,100', '24,576'], ['Change in other assets and liabilities', '(14,068)', '4,172', '17,495'], ['Net cash from operating activities', '$206,588', '$181,001', '$174,247']]\n",
      "\n",
      "table: [['2008', 'year ended june 30 2009 2008', 'year ended june 30 2009 2008', 'year ended june 30 2009'], ['net income', '$ 103102', '$ 104222', '$ 104681'], ['non-cash expenses', '74397', '70420', '56348'], ['change in receivables', '21214', '-2913 ( 2913 )', '-28853 ( 28853 )'], ['change in deferred revenue', '21943', '5100', '24576'], ['change in other assets and liabilities', '-14068 ( 14068 )', '4172', '17495'], ['net cash from operating activities', '$ 206588', '$ 181001', '$ 174247']]\n",
      "\n",
      "qa: {'question': 'what was the percentage change in the net cash from operating activities from 2008 to 2009', 'answer': '14.1%', 'explanation': '', 'ann_table_rows': [6], 'ann_text_rows': [], 'steps': [{'op': 'minus2-1', 'arg1': '206588', 'arg2': '181001', 'res': '25587'}, {'op': 'divide2-2', 'arg1': '#0', 'arg2': '181001', 'res': '14.1%'}], 'program': 'subtract(206588, 181001), divide(#0, 181001)', 'gold_inds': {'table_6': '2008 the net cash from operating activities of year ended june 30 2009 2008 is $ 206588 ; the net cash from operating activities of year ended june 30 2009 2008 is $ 181001 ; the net cash from operating activities of year ended june 30 2009 is $ 174247 ;'}, 'exe_ans': 0.14136, 'program_re': 'divide(subtract(206588, 181001), 181001)'}\n",
      "\n",
      "id: Single_JKHY/2009/page_28.pdf-3_0\n",
      "\n",
      "annotation: {'amt_table': \"<table class='wikitable'><tr><td>1</td><td>2008</td><td>year ended june 30 2009 2008</td><td>year ended june 30 2009 2008</td><td>year ended june 30 2009</td></tr><tr><td>2</td><td>net income</td><td>$ 103102</td><td>$ 104222</td><td>$ 104681</td></tr><tr><td>3</td><td>non-cash expenses</td><td>74397</td><td>70420</td><td>56348</td></tr><tr><td>4</td><td>change in receivables</td><td>21214</td><td>-2913 ( 2913 )</td><td>-28853 ( 28853 )</td></tr><tr><td>5</td><td>change in deferred revenue</td><td>21943</td><td>5100</td><td>24576</td></tr><tr><td>6</td><td>change in other assets and liabilities</td><td>-14068 ( 14068 )</td><td>4172</td><td>17495</td></tr><tr><td>7</td><td>net cash from operating activities</td><td>$ 206588</td><td>$ 181001</td><td>$ 174247</td></tr></table>\", 'amt_pre_text': '26 | 2009 annual report in fiscal 2008 , revenues in the credit union systems and services business segment increased 14% ( 14 % ) from fiscal 2007 . all revenue components within the segment experienced growth during fiscal 2008 . license revenue generated the largest dollar growth in revenue as episys ae , our flagship core processing system aimed at larger credit unions , experienced strong sales throughout the year . support and service revenue , which is the largest component of total revenues for the credit union segment , experienced 34 percent growth in eft support and 10 percent growth in in-house support . gross profit in this business segment increased $ 9344 in fiscal 2008 compared to fiscal 2007 , due primarily to the increase in license revenue , which carries the highest margins . liquidity and capital resources we have historically generated positive cash flow from operations and have generally used funds generated from operations and short-term borrowings on our revolving credit facility to meet capital requirements . we expect this trend to continue in the future . the company 2019s cash and cash equivalents increased to $ 118251 at june 30 , 2009 from $ 65565 at june 30 , 2008 . the following table summarizes net cash from operating activities in the statement of cash flows : 2009 2008 2007 .', 'amt_post_text': 'year ended june 30 , cash provided by operations increased $ 25587 to $ 206588 for the fiscal year ended june 30 , 2009 as compared to $ 181001 for the fiscal year ended june 30 , 2008 . this increase is primarily attributable to a decrease in receivables compared to the same period a year ago of $ 21214 . this decrease is largely the result of fiscal 2010 annual software maintenance billings being provided to customers earlier than in the prior year , which allowed more cash to be collected before the end of the fiscal year than in previous years . further , we collected more cash overall related to revenues that will be recognized in subsequent periods in the current year than in fiscal 2008 . cash used in investing activities for the fiscal year ended june 2009 was $ 59227 and includes $ 3027 in contingent consideration paid on prior years 2019 acquisitions . cash used in investing activities for the fiscal year ended june 2008 was $ 102148 and includes payments for acquisitions of $ 48109 , plus $ 1215 in contingent consideration paid on prior years 2019 acquisitions . capital expenditures for fiscal 2009 were $ 31562 compared to $ 31105 for fiscal 2008 . cash used for software development in fiscal 2009 was $ 24684 compared to $ 23736 during the prior year . net cash used in financing activities for the current fiscal year was $ 94675 and includes the repurchase of 3106 shares of our common stock for $ 58405 , the payment of dividends of $ 26903 and $ 13489 net repayment on our revolving credit facilities . cash used in financing activities was partially offset by proceeds of $ 3773 from the exercise of stock options and the sale of common stock ( through the employee stock purchase plan ) and $ 348 excess tax benefits from stock option exercises . during fiscal 2008 , net cash used in financing activities for the fiscal year was $ 101905 and includes the repurchase of 4200 shares of our common stock for $ 100996 , the payment of dividends of $ 24683 and $ 429 net repayment on our revolving credit facilities . cash used in financing activities was partially offset by proceeds of $ 20394 from the exercise of stock options and the sale of common stock and $ 3809 excess tax benefits from stock option exercises . beginning during fiscal 2008 , us financial markets and many of the largest us financial institutions have been shaken by negative developments in the home mortgage industry and the mortgage markets , and particularly the markets for subprime mortgage-backed securities . since that time , these and other such developments have resulted in a broad , global economic downturn . while we , as is the case with most companies , have experienced the effects of this downturn , we have not experienced any significant issues with our current collection efforts , and we believe that any future impact to our liquidity will be minimized by cash generated by recurring sources of revenue and due to our access to available lines of credit. .', 'original_program': 'subtract(206588, 181001), divide(A0, 181001)', 'step_list': ['Ask for number 206588', 'Ask for number 181001', 'subtract(206588, 181001)', 'divide(A0, 181001)'], 'answer_list': ['206588', '181001', 'A0', 'A1'], 'dialogue_break': ['what is the net cash from operating activities in 2009?', 'what about in 2008?', 'what is the difference?', 'what percentage change does this represent?'], 'turn_program_ori': ['206588', '181001', 'subtract(206588, 181001)', 'subtract(206588, 181001), divide(#0, 181001)'], 'dialogue_break_ori': ['what is the net cash from operating activities in 2009?', 'what about in 2008?', 'what is the difference?', 'what percentage change does this represent?'], 'turn_program': ['206588', '181001', 'subtract(206588, 181001)', 'subtract(206588, 181001), divide(#0, 181001)'], 'qa_split': [0, 0, 0, 0], 'exe_ans_list': [206588.0, 181001.0, 25587.0, 0.14136], 'cur_program': '206588', 'cur_dial': ['what is the net cash from operating activities in 2009?'], 'exe_ans': 206588.0, 'cur_type': 'number_turn', 'turn_ind': 0, 'gold_ind': {'table_6': '2008 the net cash from operating activities of year ended june 30 2009 2008 is $ 206588 ; the net cash from operating activities of year ended june 30 2009 2008 is $ 181001 ; the net cash from operating activities of year ended june 30 2009 is $ 174247 ;'}}\n",
      "\n"
     ]
    }
   ],
   "source": [
    "#inspect the first sample of convfinqa\n",
    "for col, value in ConvfinQA_first_sample.items():\n",
    "    print(f\"{col}: {value}\\n\")\n"
   ]
  },
  {
   "cell_type": "code",
   "execution_count": null,
   "metadata": {},
   "outputs": [
    {
     "name": "stdout",
     "output_type": "stream",
     "text": [
      "Distribution of 'turn_ind':\n",
      "Turn 0: 3037 samples\n",
      "Turn 1: 3031 samples\n",
      "Turn 2: 2289 samples\n",
      "Turn 3: 1632 samples\n",
      "Turn 4: 795 samples\n",
      "Turn 5: 234 samples\n",
      "Turn 6: 67 samples\n",
      "Turn 7: 17 samples\n",
      "Turn 8: 2 samples\n"
     ]
    },
    {
     "data": {
      "image/png": "[encoded data removed]",
      "text/plain": [
       "<Figure size 640x480 with 1 Axes>"
      ]
     },
     "metadata": {},
     "output_type": "display_data"
    }
   ],
   "source": [
    "from collections import Counter\n",
    "import matplotlib.pyplot as plt\n",
    "\n",
    "# Extract 'turn_ind' values \n",
    "turn_inds = [entry['annotation']['turn_ind'] for entry in ConvfinQA_turn_train_data if 'turn_ind' in entry['annotation']]\n",
    "\n",
    "# Count frequency of each turn_ind value\n",
    "counter = Counter(turn_inds)\n",
    "\n",
    "\n",
    "print(\"Distribution of 'turn_ind':\")\n",
    "for k, v in sorted(counter.items()):\n",
    "    print(f\"Turn {k}: {v} samples\")\n",
    "\n",
    "\n",
    "plt.bar(counter.keys(), counter.values())\n",
    "plt.xlabel('turn_ind')\n",
    "plt.ylabel('Frequency')\n",
    "plt.title('Distribution of turn_ind')\n",
    "plt.show()\n"
   ]
  },
  {
   "cell_type": "markdown",
   "metadata": {},
   "source": [
    "**ConvFinQA: Each training example is a dictionary with 8 keys:** <br>\n",
    "\"pre_text\": the texts before the table; <br>\n",
    "\"post_text\": the text after the table;<br>\n",
    "\"filename\": name of the pdf file <br>\n",
    "\"table_ori\": The original version of the table, as extracted from the document, before any preprocessing or normalization.<br>\n",
    "\"table\": the table;<br>\n",
    "\"qa\": {<br>\n",
    "  \"question\": the question;<br>\n",
    "  \"answer\": The final numeric/textual answer to the question.<br>\n",
    "  \"ann_table_rows\": Indices of table rows that are annotated as relevant (if the answer comes from a table).<br>\n",
    "  \"ann_text_rows\": Indices of relevant text passages (e.g., [1] refers to text_1) from model_input.<br>\n",
    "  \"steps\" (\"op\": operation, \"arg1; arg2\": operands; \"res\": result of the operation:  The symbolic execution steps used to compute the answer.<br>\n",
    "  \"program\": the reasoning program;<br>\n",
    "  \"gold_inds\": the gold supporting facts;<br>\n",
    "  \"exe_ans\": the execution results of each question turn. ;<br>\n",
    "}<br>\n",
    "\"id\": unique example id. <br>\n",
    "\"annotation\": {<br>\n",
    "  \"original_program\": original FinQA question;<br>\n",
    "  \"dialogue_break\": the conversation, as a list of question turns. <br>\n",
    "  \"turn_program\": the ground truth program for each question, corresponding to the list in \"dialogue_break\".<br>\n",
    "  \"cur_pogram\":Current program for this turn.<br>\n",
    "  \"cur_dial\":Current dialogue turn.<br>\n",
    "  \"gold_ind\": Highlighted content for evidence.<br>\n",
    "  \"turn_ind\": Index of this turn in the full dialogue.<br>\n",
    "  \"exe_ans_list\": the execution results of each question turn. <br>\n",
    "}<br>"
   ]
  },
  {
   "cell_type": "markdown",
   "metadata": {},
   "source": [
    "#### FinDER"
   ]
  },
  {
   "cell_type": "code",
   "execution_count": null,
   "metadata": {},
   "outputs": [
    {
     "name": "stdout",
     "output_type": "stream",
     "text": [
      "Loaded 5703 training examples\n",
      "Data type: <class 'list'>\n"
     ]
    }
   ],
   "source": [
    "import json\n",
    "from pathlib import Path\n",
    "\n",
    "finder_train_file = Path(\"data/FinDER/train.jsonl\")\n",
    "finder_train_data = []\n",
    "with open(finder_train_file, 'r') as f:\n",
    "    for line in f:\n",
    "        finder_train_data.append(json.loads(line))\n",
    "\n",
    "print(f\"Loaded {len(finder_train_data)} training examples\")\n",
    "print(f\"Data type: {type(finder_train_data)}\")"
   ]
  },
  {
   "cell_type": "code",
   "execution_count": 18,
   "metadata": {},
   "outputs": [
    {
     "name": "stdout",
     "output_type": "stream",
     "text": [
      "Sample type: <class 'dict'>\n",
      "Sample keys: ['_id', 'text', 'reasoning', 'category', 'references', 'answer', 'type']\n",
      "Number of keys: 7\n"
     ]
    }
   ],
   "source": [
    "# Inspect the structure of the first sample\n",
    "finder_first_sample = finder_train_data[0]\n",
    "print(f\"Sample type: {type(finder_first_sample)}\")\n",
    "print(f\"Sample keys: {list(finder_first_sample.keys())}\")\n",
    "print(f\"Number of keys: {len(finder_first_sample.keys())}\")"
   ]
  },
  {
   "cell_type": "code",
   "execution_count": 19,
   "metadata": {},
   "outputs": [
    {
     "name": "stdout",
     "output_type": "stream",
     "text": [
      "{'_id': 'b33fcee7', 'text': 'Delta in CBOE Data & Access Solutions rev from 2021-23.', 'reasoning': True, 'category': 'Financials', 'references': ['Cboe Global Markets, Inc. and Subsidiaries\\n\\nConsolidated Statements of Income\\n\\nYears ended December 31, 2023, 2022, and 2021\\n\\n(In millions, except per share data)\\n\\n\\n\\n\\n\\n\\n\\n\\n\\n\\n\\n\\n\\n\\n    \\n\\n2023\\n\\n    \\n\\n2022\\n\\n    \\n\\n2021\\n\\n \\n\\nRevenues:\\n\\n\\n\\n\\n\\n\\n\\n\\n\\n\\n\\nCash and spot markets\\n\\n\\n$\\n\\n1,445.1\\n\\n\\n$\\n\\n1,777.6\\n\\n\\n$\\n\\n1,660.5\\n\\n\\nData and access solutions\\n\\n\\n\\n539.2\\n\\n\\n\\n497.0\\n\\n\\n\\n427.7\\n\\n\\nDerivatives markets\\n\\n\\n \\n\\n1,789.2\\n\\n\\n \\n\\n1,683.9\\n\\n\\n \\n\\n1,406.6\\n\\n\\nTotal revenues\\n\\n\\n \\n\\n3,773.5\\n\\n\\n \\n\\n3,958.5\\n\\n\\n \\n\\n3,494.8\\n\\n\\nCost of revenues:\\n\\n\\n\\n\\n\\n\\n\\n\\n\\n\\n\\n  Liquidity payments\\n\\n\\n \\n\\n1,385.8\\n\\n\\n \\n\\n1,670.2\\n\\n\\n \\n\\n1,650.7\\n\\n\\n  Routing and clearing\\n\\n\\n\\n79.1\\n\\n\\n\\n83.2\\n\\n\\n\\n87.8\\n\\n\\n  Section 31 fees\\n\\n\\n\\n185.7\\n\\n\\n\\n329.8\\n\\n\\n\\n179.6\\n\\n\\n  Royalty fees and other cost of revenues\\n\\n\\n \\n\\n204.9\\n\\n\\n \\n\\n133.6\\n\\n\\n \\n\\n100.6\\n\\n\\nTotal cost of revenues\\n\\n\\n \\n\\n1,855.5\\n\\n\\n \\n\\n2,216.8\\n\\n\\n \\n\\n2,018.7\\n\\n\\nRevenues less cost of revenues\\n\\n\\n \\n\\n1,918.0\\n\\n\\n \\n\\n1,741.7\\n\\n\\n \\n\\n1,476.1\\n\\n\\nOperating expenses:\\n\\n\\n\\n\\n\\n\\n\\n\\n\\n\\n\\n  Compensation and benefits\\n\\n\\n \\n\\n425.8\\n\\n\\n \\n\\n363.0\\n\\n\\n \\n\\n288.5\\n\\n\\n  Depreciation and amortization\\n\\n\\n \\n\\n158.0\\n\\n\\n \\n\\n166.8\\n\\n\\n \\n\\n167.4\\n\\n\\n  Technology support services\\n\\n\\n \\n\\n99.7\\n\\n\\n \\n\\n77.7\\n\\n\\n \\n\\n66.7\\n\\n\\n  Professional fees and outside services\\n\\n\\n \\n\\n92.0\\n\\n\\n \\n\\n89.0\\n\\n\\n \\n\\n83.7\\n\\n\\n  Travel and promotional expenses\\n\\n\\n \\n\\n37.6\\n\\n\\n \\n\\n23.7\\n\\n\\n \\n\\n9.7\\n\\n\\n  Facilities costs\\n\\n\\n \\n\\n25.7\\n\\n\\n \\n\\n25.1\\n\\n\\n \\n\\n22.2\\n\\n\\n  Acquisition-related costs\\n\\n\\n \\n\\n7.4\\n\\n\\n \\n\\n19.9\\n\\n\\n \\n\\n15.6\\n\\n\\n  Goodwill impairment\\n\\n\\n\\n—\\n\\n\\n\\n460.9\\n\\n\\n\\n—\\n\\n\\n  Other expenses\\n\\n\\n\\n13.9\\n\\n\\n\\n26.0\\n\\n\\n\\n16.4\\n\\n\\nTotal operating expenses\\n\\n\\n \\n\\n860.1\\n\\n\\n \\n\\n1,252.1\\n\\n\\n \\n\\n670.2\\n\\n\\nOperating income\\n\\n\\n \\n\\n1,057.9\\n\\n\\n \\n\\n489.6\\n\\n\\n \\n\\n805.9\\n\\n\\nNon-operating (expenses) income:\\n\\n\\n\\n\\n\\n\\n\\n\\n\\n\\n\\nInterest expense\\n\\n\\n \\n\\n(62.4)\\n\\n\\n\\n(60.0)\\n\\n\\n\\n(48.0)\\n\\n\\nInterest income\\n\\n\\n\\n12.0\\n\\n\\n\\n3.6\\n\\n\\n\\n0.6\\n\\n\\nEarnings in investments\\n\\n\\n\\n39.5\\n\\n\\n\\n7.2\\n\\n\\n\\n1.0\\n\\n\\nOther income (expense), net\\n\\n\\n \\n\\n0.6\\n\\n\\n \\n\\n(7.5)\\n\\n\\n \\n\\n(3.4)\\n\\n\\nIncome before income tax provision\\n\\n\\n \\n\\n1,047.6\\n\\n\\n \\n\\n432.9\\n\\n\\n \\n\\n756.1\\n\\n\\nIncome tax provision\\n\\n\\n \\n\\n286.2\\n\\n\\n \\n\\n197.9\\n\\n\\n \\n\\n227.1\\n\\n\\nNet income\\n\\n\\n\\n761.4\\n\\n\\n\\n235.0\\n\\n\\n\\n529.0\\n\\n\\nNet income allocated to participating securities\\n\\n\\n\\n(3.9)\\n\\n\\n\\n(0.9)\\n\\n\\n\\n(1.7)\\n\\n\\nNet income allocated to common stockholders\\n\\n\\n$\\n\\n757.5\\n\\n\\n$\\n\\n234.1\\n\\n\\n$\\n\\n527.3\\n\\n\\nBasic earnings per share\\n\\n\\n$\\n\\n7.16\\n\\n\\n$\\n\\n2.20\\n\\n\\n$\\n\\n4.93\\n\\n\\nDiluted earnings per share\\n\\n\\n$\\n\\n7.13\\n\\n\\n$\\n\\n2.19\\n\\n\\n$\\n\\n4.92\\n\\n\\n\\n\\n\\n\\n\\n\\n\\n\\n\\n\\n\\nBasic weighted average shares outstanding\\n\\n\\n\\n105.8\\n\\n\\n\\n106.3\\n\\n\\n\\n107.0\\n\\n\\nDiluted weighted average shares outstanding\\n\\n\\n\\n106.2\\n\\n\\n\\n106.7\\n\\n\\n\\n107.2'], 'answer': 'The Data and Access Solutions revenue increased by $111.5 million from 2021 to 2023, calculated as 539.2 million minus 427.7 million.', 'type': 'Subtract'}\n"
     ]
    }
   ],
   "source": [
    "print(finder_train_data[0])"
   ]
  },
  {
   "cell_type": "code",
   "execution_count": 20,
   "metadata": {},
   "outputs": [
    {
     "name": "stdout",
     "output_type": "stream",
     "text": [
      "\n",
      "📋 _id:\n",
      "   Type: string (length: 8)\n",
      "   Preview: b33fcee7\n",
      "\n",
      "📋 text:\n",
      "   Type: string (length: 55)\n",
      "   Preview: Delta in CBOE Data & Access Solutions rev from 2021-23.\n",
      "\n",
      "📋 reasoning:\n",
      "   Type: <class 'bool'>\n",
      "   Value: True\n",
      "\n",
      "📋 category:\n",
      "   Type: string (length: 10)\n",
      "   Preview: Financials\n",
      "\n",
      "📋 references:\n",
      "   Type: list (length: 1)\n",
      "   First item type: <class 'str'>\n",
      "\n",
      "📋 answer:\n",
      "   Type: string (length: 133)\n",
      "   Preview: The Data and Access Solutions revenue increased by $111.5 million from 2021 to 2023, calculated as 5...\n",
      "\n",
      "📋 type:\n",
      "   Type: string (length: 8)\n",
      "   Preview: Subtract\n"
     ]
    }
   ],
   "source": [
    "# Detailed inspection of the first sample\n",
    "for key, value in finder_first_sample.items():\n",
    "    print(f\"\\n📋 {key}:\")\n",
    "    if isinstance(value, str):\n",
    "        print(f\"   Type: string (length: {len(value)})\")\n",
    "        print(f\"   Preview: {value[:100]}{'...' if len(value) > 100 else ''}\")\n",
    "    elif isinstance(value, list):\n",
    "        print(f\"   Type: list (length: {len(value)})\")\n",
    "        if len(value) > 0:\n",
    "            print(f\"   First item type: {type(value[0])}\")\n",
    "            if isinstance(value[0], dict):\n",
    "                print(f\"   First item keys: {list(value[0].keys())}\")\n",
    "    elif isinstance(value, dict):\n",
    "        print(f\"   Type: dict (keys: {list(value.keys())})\")\n",
    "    else:\n",
    "        print(f\"   Type: {type(value)}\")\n",
    "        print(f\"   Value: {value}\")"
   ]
  },
  {
   "cell_type": "markdown",
   "metadata": {},
   "source": [
    "**FinDER: Each training example is a dictionary with 7 keys:** <br>\n",
    "\"id\": unique identifier.<br>\n",
    "\"text\": query that the model is expected to answer.<br>\n",
    "\"reasoning\": ndicates whether the question requires reasoning (e.g. logical inference, arithmetic operations) rather than simple lookup. true = reasoning required.<br>\n",
    "\"category\": The semantic category of the question (e.g., Financials, Company overview, Footnotes, etc.).<br>\n",
    "\"references\": The source text passages (e.g., extracted from tables or footnotes) that the model should consider when answering the question. <br>\n",
    "\"answer\": The reference answer that the model should produce.<br>\n",
    "\"types\": Indicates the type of reasoning required to arrive at the answer. <br>"
   ]
  },
  {
   "cell_type": "markdown",
   "metadata": {},
   "source": [
    "\n",
    "## **2. Construct the final dataset**<br>\n",
    "Since the original datasets are of varying structures we will in the following create a canonical schema to avoid confounds and log identical signals across runs. It'll contain only the fields that are relevant for retrieval, answer checking , and analysis. The goal is to construct a dataset where each row can be fed straight into the each of the RAG models with no dataset-specific branches. <br>\n",
    "\n",
    "\n",
    "\n",
    "The final dataset has the following structure: <br>\n",
    "\n",
    "{\n",
    "  \"ID\"          : \"string\", <br>\n",
    "  \"source\"      : \"FinQA | ConvFinQA | FinDER\",<br>\n",
    "  \"question\"     : \"string\",<br>\n",
    "  \"answer\"       : \"string\",  <br>\n",
    "  \"context\" : [\"string\"],   // list of text passages and tables <br>\n",
    "  \"operation\"  : \"string\", <br>\n",
    "  \"gold_context\" : [\"string\"],   <br>\n",
    "}"
   ]
  },
  {
   "cell_type": "markdown",
   "metadata": {},
   "source": [
    "#### **2.1 Preprocess datasets**\n",
    "\n",
    "##### 2.1.1 FinQA\n",
    "\n",
    "We sentence-split each pre_text/post_text, then concatenate adjacent sentences until the segment is ≤ 100 BPE tokens. This follows best practice in prior RAG work (Lewis 2020; Izacard 2021) and balances retrieval precision with embedding quality."
   ]
  },
  {
   "cell_type": "code",
   "execution_count": null,
   "metadata": {},
   "outputs": [],
   "source": [
    "df_finqa = pd.read_json(\"data/FinQA/train.json\")"
   ]
  },
  {
   "cell_type": "code",
   "execution_count": null,
   "metadata": {},
   "outputs": [
    {
     "name": "stdout",
     "output_type": "stream",
     "text": [
      "Sample 1 program: divide(100, 100), divide(3.8, #0)\n",
      "Sample 2 program: multiply(607, 18.13), multiply(#0, const_1000), multiply(3.3, const_1000000), greater(#1, #2)\n",
      "Sample 3 program: divide(9896, 23.6%)\n",
      "Sample 4 program: divide(14001, 26302)\n",
      "Sample 5 program: subtract(959.2, 991.1), divide(#0, 991.1)\n"
     ]
    }
   ],
   "source": [
    "for i, qa_dict in enumerate(df_finqa['qa'][:5]):\n",
    "    print(f\"Sample {i+1} program:\", qa_dict.get(\"program\", \"\"))"
   ]
  },
  {
   "cell_type": "code",
   "execution_count": null,
   "metadata": {},
   "outputs": [
    {
     "name": "stderr",
     "output_type": "stream",
     "text": [
      "/Users/christel/Desktop/Thesis/thesis_repo/venv/lib/python3.9/site-packages/urllib3/__init__.py:35: NotOpenSSLWarning: urllib3 v2 only supports OpenSSL 1.1.1+, currently the 'ssl' module is compiled with 'LibreSSL 2.8.3'. See: https://github.com/urllib3/urllib3/issues/3020\n",
      "  warnings.warn(\n"
     ]
    }
   ],
   "source": [
    "import random\n",
    "project_root = Path('/Users/christel/Desktop/Thesis/thesis_repo') \n",
    "sys.path.append(str(project_root))\n",
    "from src.data_utils import transform_finqa_dataset"
   ]
  },
  {
   "cell_type": "code",
   "execution_count": null,
   "metadata": {},
   "outputs": [],
   "source": [
    "with open(\"data/FinQA/train.json\") as f:\n",
    "    finqa_data = json.load(f)\n",
    "\n",
    "transformed_finqa_data = transform_finqa_dataset(finqa_data)"
   ]
  },
  {
   "cell_type": "code",
   "execution_count": 32,
   "metadata": {},
   "outputs": [
    {
     "name": "stdout",
     "output_type": "stream",
     "text": [
      "ID: ADI/2009/page_49.pdf\n",
      "\n",
      "question: what is the the interest expense in 2009?\n",
      "\n",
      "answer: 380\n",
      "\n",
      "context: ['interest rate to a variable interest rate based on the three-month libor plus 2.05% ( 2.05 % ) ( 2.34% ( 2.34 % ) as of october 31 , 2009 ) .', 'if libor changes by 100 basis points , our annual interest expense would change by $ 3.8 million .', 'foreign currency exposure as more fully described in note 2i .', 'in the notes to consolidated financial statements contained in item 8 of this annual report on form 10-k , we regularly hedge our non-u.s .', 'dollar-based exposures by entering into forward foreign currency exchange contracts .', 'the terms of these contracts are for periods matching the duration of the underlying exposure and generally range from one month to twelve months .', 'currently , our largest foreign currency exposure is the euro , primarily because our european operations have the highest proportion of our local currency denominated expenses .', 'relative to foreign currency exposures existing at october 31 , 2009 and november 1 , 2008 , a 10% ( 10 % ) unfavorable movement in foreign currency exchange rates over the course of the year would not expose us to significant losses in earnings or cash flows because we hedge a high proportion of our year-end exposures against fluctuations in foreign currency exchange rates .', 'the market risk associated with our derivative instruments results from currency exchange rate or interest rate movements that are expected to offset the market risk of the underlying transactions , assets and liabilities being hedged .', 'the counterparties to the agreements relating to our foreign exchange instruments consist of a number of major international financial institutions with high credit ratings .', 'we do not believe that there is significant risk of nonperformance by these counterparties because we continually monitor the credit ratings of such counterparties .', 'while the contract or notional amounts of derivative financial instruments provide one measure of the volume of these transactions , they do not represent the amount of our exposure to credit risk .', 'the amounts potentially subject to credit risk ( arising from the possible inability of counterparties to meet the terms of their contracts ) are generally limited to the amounts , if any , by which the counterparties 2019 obligations under the contracts exceed our obligations to the counterparties .', 'the following table illustrates the effect that a 10% ( 10 % ) unfavorable or favorable movement in foreign currency exchange rates , relative to the u.s .', 'dollar , would have on the fair value of our forward exchange contracts as of october 31 , 2009 and november 1 , 2008: .']\n",
      "\toctober 31 2009\tnovember 1 2008\n",
      "fair value of forward exchange contracts asset ( liability )\t$ 6427\t$ -23158 ( 23158 )\n",
      "fair value of forward exchange contracts after a 10% ( 10 % ) unfavorable movement in foreign currency exchange rates asset ( liability )\t$ 20132\t$ -9457 ( 9457 )\n",
      "fair value of forward exchange contracts after a 10% ( 10 % ) favorable movement in foreign currency exchange rates liability\t$ -6781 ( 6781 )\t$ -38294 ( 38294 )\n",
      "['fair value of forward exchange contracts after a 10% ( 10 % ) unfavorable movement in foreign currency exchange rates asset ( liability ) .', '.', '.', '.', '.', '.', '.', '.', '.', '$ 20132 $ ( 9457 ) fair value of forward exchange contracts after a 10% ( 10 % ) favorable movement in foreign currency exchange rates liability .', '.', '.', '.', '.', '.', '.', '.', '.', '.', '.', '.', '.', '.', '.', '.', '.', '.', '.', '.', '.', '.', '$ ( 6781 ) $ ( 38294 ) the calculation assumes that each exchange rate would change in the same direction relative to the u.s .', 'dollar .', 'in addition to the direct effects of changes in exchange rates , such changes typically affect the volume of sales or the foreign currency sales price as competitors 2019 products become more or less attractive .', 'our sensitivity analysis of the effects of changes in foreign currency exchange rates does not factor in a potential change in sales levels or local currency selling prices. .']\n",
      "\n",
      "gold_context: {'text_1': 'if libor changes by 100 basis points , our annual interest expense would change by $ 3.8 million .'}\n",
      "\n",
      "operation: divide(100, 100), divide(3.8, #0)\n",
      "\n"
     ]
    }
   ],
   "source": [
    "for k, v in transformed_finqa_data[0].items():\n",
    "    print(f\"{k}: {v}\\n\")"
   ]
  },
  {
   "cell_type": "code",
   "execution_count": 34,
   "metadata": {},
   "outputs": [
    {
     "data": {
      "text/html": [
       "<div>\n",
       "<style scoped>\n",
       "    .dataframe tbody tr th:only-of-type {\n",
       "        vertical-align: middle;\n",
       "    }\n",
       "\n",
       "    .dataframe tbody tr th {\n",
       "        vertical-align: top;\n",
       "    }\n",
       "\n",
       "    .dataframe thead th {\n",
       "        text-align: right;\n",
       "    }\n",
       "</style>\n",
       "<table border=\"1\" class=\"dataframe\">\n",
       "  <thead>\n",
       "    <tr style=\"text-align: right;\">\n",
       "      <th></th>\n",
       "      <th>ID</th>\n",
       "      <th>question</th>\n",
       "      <th>answer</th>\n",
       "      <th>context</th>\n",
       "      <th>gold_context</th>\n",
       "      <th>operation</th>\n",
       "    </tr>\n",
       "  </thead>\n",
       "  <tbody>\n",
       "    <tr>\n",
       "      <th>0</th>\n",
       "      <td>ADI/2009/page_49.pdf</td>\n",
       "      <td>what is the the interest expense in 2009?</td>\n",
       "      <td>380</td>\n",
       "      <td>['interest rate to a variable interest rate based on the three-month libor plus 2.05% ( 2.05 % ) ( 2.34% ( 2.34 % ) as of october 31 , 2009 ) .', 'if libor changes by 100 basis points , our annual interest expense would change by $ 3.8 million .', 'foreign currency exposure as more fully described in note 2i .', 'in the notes to consolidated financial statements contained in item 8 of this annual report on form 10-k , we regularly hedge our non-u.s .', 'dollar-based exposures by entering into forward foreign currency exchange contracts .', 'the terms of these contracts are for periods matching the duration of the underlying exposure and generally range from one month to twelve months .', 'currently , our largest foreign currency exposure is the euro , primarily because our european operations have the highest proportion of our local currency denominated expenses .', 'relative to foreign currency exposures existing at october 31 , 2009 and november 1 , 2008 , a 10% ( 10 % ) unfavorable movement in foreign currency exchange rates over the course of the year would not expose us to significant losses in earnings or cash flows because we hedge a high proportion of our year-end exposures against fluctuations in foreign currency exchange rates .', 'the market risk associated with our derivative instruments results from currency exchange rate or interest rate movements that are expected to offset the market risk of the underlying transactions , assets and liabilities being hedged .', 'the counterparties to the agreements relating to our foreign exchange instruments consist of a number of major international financial institutions with high credit ratings .', 'we do not believe that there is significant risk of nonperformance by these counterparties because we continually monitor the credit ratings of such counterparties .', 'while the contract or notional amounts of derivative financial instruments provide one measure of the volume of these transactions , they do not represent the amount of our exposure to credit risk .', 'the amounts potentially subject to credit risk ( arising from the possible inability of counterparties to meet the terms of their contracts ) are generally limited to the amounts , if any , by which the counterparties 2019 obligations under the contracts exceed our obligations to the counterparties .', 'the following table illustrates the effect that a 10% ( 10 % ) unfavorable or favorable movement in foreign currency exchange rates , relative to the u.s .', 'dollar , would have on the fair value of our forward exchange contracts as of october 31 , 2009 and november 1 , 2008: .']\\n\\toctober 31 2009\\tnovember 1 2008\\nfair value of forward exchange contracts asset ( liability )\\t$ 6427\\t$ -23158 ( 23158 )\\nfair value of forward exchange contracts after a 10% ( 10 % ) unfavorable movement in foreign currency exchange rates asset ( liability )\\t$ 20132\\t$ -9457 ( 9457 )\\nfair value of forward exchange contracts after a 10% ( 10 % ) favorable movement in foreign currency exchange rates liability\\t$ -6781 ( 6781 )\\t$ -38294 ( 38294 )\\n['fair value of forward exchange contracts after a 10% ( 10 % ) unfavorable movement in foreign currency exchange rates asset ( liability ) .', '.', '.', '.', '.', '.', '.', '.', '.', '$ 20132 $ ( 9457 ) fair value of forward exchange contracts after a 10% ( 10 % ) favorable movement in foreign currency exchange rates liability .', '.', '.', '.', '.', '.', '.', '.', '.', '.', '.', '.', '.', '.', '.', '.', '.', '.', '.', '.', '.', '.', '$ ( 6781 ) $ ( 38294 ) the calculation assumes that each exchange rate would change in the same direction relative to the u.s .', 'dollar .', 'in addition to the direct effects of changes in exchange rates , such changes typically affect the volume of sales or the foreign currency sales price as competitors 2019 products become more or less attractive .', 'our sensitivity analysis of the effects of changes in foreign currency exchange rates does not factor in a potential change in sales levels or local currency selling prices. .']</td>\n",
       "      <td>{'text_1': 'if libor changes by 100 basis points , our annual interest expense would change by $ 3.8 million .'}</td>\n",
       "      <td>divide(100, 100), divide(3.8, #0)</td>\n",
       "    </tr>\n",
       "    <tr>\n",
       "      <th>1</th>\n",
       "      <td>ABMD/2012/page_75.pdf</td>\n",
       "      <td>during the 2012 year , did the equity awards in which the prescribed performance milestones were achieved exceed the equity award compensation expense for equity granted during the year?</td>\n",
       "      <td></td>\n",
       "      <td>['abiomed , inc .', 'and subsidiaries notes to consolidated financial statements 2014 ( continued ) note 8 .', 'stock award plans and stock-based compensation ( continued ) restricted stock and restricted stock units the following table summarizes restricted stock and restricted stock unit activity for the fiscal year ended march 31 , 2012 : number of shares ( in thousands ) weighted average grant date fair value ( per share ) .']\\n\\tnumber of shares ( in thousands )\\tweighted average grant date fair value ( per share )\\nrestricted stock and restricted stock units at beginning of year\\t407\\t$ 9.84\\ngranted\\t607\\t18.13\\nvested\\t-134 ( 134 )\\t10.88\\nforfeited\\t-9 ( 9 )\\t13.72\\nrestricted stock and restricted stock units at end of year\\t871\\t$ 15.76\\n['the remaining unrecognized compensation expense for outstanding restricted stock and restricted stock units , including performance-based awards , as of march 31 , 2012 was $ 7.1 million and the weighted-average period over which this cost will be recognized is 2.2 years .', 'the weighted average grant-date fair value for restricted stock and restricted stock units granted during the years ended march 31 , 2012 , 2011 , and 2010 was $ 18.13 , $ 10.00 and $ 7.67 per share , respectively .', 'the total fair value of restricted stock and restricted stock units vested in fiscal years 2012 , 2011 , and 2010 was $ 1.5 million , $ 1.0 million and $ 0.4 million , respectively .', 'performance-based awards included in the restricted stock and restricted stock units activity discussed above are certain awards granted in fiscal years 2012 , 2011 and 2010 that vest subject to certain performance-based criteria .', 'in june 2010 , 311000 shares of restricted stock and a performance-based award for the potential issuance of 45000 shares of common stock were issued to certain executive officers and members of senior management of the company , all of which would vest upon achievement of prescribed service milestones by the award recipients and performance milestones by the company .', 'during the year ended march 31 , 2011 , the company determined that it met the prescribed performance targets and a portion of these shares and stock options vested .', 'the remaining shares will vest upon satisfaction of prescribed service conditions by the award recipients .', 'during the three months ended june 30 , 2011 , the company determined that it should have been using the graded vesting method instead of the straight-line method to expense stock-based compensation for the performance-based awards issued in june 2010 .', 'this resulted in additional stock based compensation expense of approximately $ 0.6 million being recorded during the three months ended june 30 , 2011 that should have been recorded during the year ended march 31 , 2011 .', 'the company believes that the amount is not material to its march 31 , 2011 consolidated financial statements and therefore recorded the adjustment in the quarter ended june 30 , 2011 .', 'during the three months ended june 30 , 2011 , performance-based awards of restricted stock units for the potential issuance of 284000 shares of common stock were issued to certain executive officers and members of the senior management , all of which would vest upon achievement of prescribed service milestones by the award recipients and revenue performance milestones by the company .', 'as of march 31 , 2012 , the company determined that it met the prescribed targets for 184000 shares underlying these awards and it believes it is probable that the prescribed performance targets will be met for the remaining 100000 shares , and the compensation expense is being recognized accordingly .', 'during the year ended march 31 , 2012 , the company has recorded $ 3.3 million in stock-based compensation expense for equity awards in which the prescribed performance milestones have been achieved or are probable of being achieved .', 'the remaining unrecognized compensation expense related to these equity awards at march 31 , 2012 is $ 3.6 million based on the company 2019s current assessment of probability of achieving the performance milestones .', 'the weighted-average period over which this cost will be recognized is 2.1 years. .']</td>\n",
       "      <td>{'table_2': 'the granted of number of shares ( in thousands ) is 607 ; the granted of weighted average grant date fair value ( per share ) is 18.13 ;', 'text_15': 'during the year ended march 31 , 2012 , the company has recorded $ 3.3 million in stock-based compensation expense for equity awards in which the prescribed performance milestones have been achieved or are probable of being achieved .'}</td>\n",
       "      <td>multiply(607, 18.13), multiply(#0, const_1000), multiply(3.3, const_1000000), greater(#1, #2)</td>\n",
       "    </tr>\n",
       "  </tbody>\n",
       "</table>\n",
       "</div>"
      ],
      "text/plain": [
       "                      ID  \\\n",
       "0   ADI/2009/page_49.pdf   \n",
       "1  ABMD/2012/page_75.pdf   \n",
       "\n",
       "                                                                                                                                                                                     question  \\\n",
       "0                                                                                                                                                   what is the the interest expense in 2009?   \n",
       "1  during the 2012 year , did the equity awards in which the prescribed performance milestones were achieved exceed the equity award compensation expense for equity granted during the year?   \n",
       "\n",
       "  answer  \\\n",
       "0    380   \n",
       "1          \n",
       "\n",
       "                                                                                                                                                                                                                                                                                                                                                                                                                                                                                                                                                                                                                                                                                                                                                                                                                                                                                                                                                                                                                                                                                                                                                                                                                                                                                                                                                                                                                                                                                                                                                                                                                                                                                                                                                                                                                                                                                                                                                                                                                                                                                                                                                                                                                                                                                                                                                                                                                                                                                                                                                                                                                                                                                                                                                                                                                                                                                                                                                                                                                                                                                                                                                                                                                                                                                                                                                                                                                                                                                                                                                                                                                                                                                                                                                                                                                                                                                                                                                                                                                                                                                                                                                                                                                                                                                                                                                                                                                    context  \\\n",
       "0                                                                                                                                                                                  ['interest rate to a variable interest rate based on the three-month libor plus 2.05% ( 2.05 % ) ( 2.34% ( 2.34 % ) as of october 31 , 2009 ) .', 'if libor changes by 100 basis points , our annual interest expense would change by $ 3.8 million .', 'foreign currency exposure as more fully described in note 2i .', 'in the notes to consolidated financial statements contained in item 8 of this annual report on form 10-k , we regularly hedge our non-u.s .', 'dollar-based exposures by entering into forward foreign currency exchange contracts .', 'the terms of these contracts are for periods matching the duration of the underlying exposure and generally range from one month to twelve months .', 'currently , our largest foreign currency exposure is the euro , primarily because our european operations have the highest proportion of our local currency denominated expenses .', 'relative to foreign currency exposures existing at october 31 , 2009 and november 1 , 2008 , a 10% ( 10 % ) unfavorable movement in foreign currency exchange rates over the course of the year would not expose us to significant losses in earnings or cash flows because we hedge a high proportion of our year-end exposures against fluctuations in foreign currency exchange rates .', 'the market risk associated with our derivative instruments results from currency exchange rate or interest rate movements that are expected to offset the market risk of the underlying transactions , assets and liabilities being hedged .', 'the counterparties to the agreements relating to our foreign exchange instruments consist of a number of major international financial institutions with high credit ratings .', 'we do not believe that there is significant risk of nonperformance by these counterparties because we continually monitor the credit ratings of such counterparties .', 'while the contract or notional amounts of derivative financial instruments provide one measure of the volume of these transactions , they do not represent the amount of our exposure to credit risk .', 'the amounts potentially subject to credit risk ( arising from the possible inability of counterparties to meet the terms of their contracts ) are generally limited to the amounts , if any , by which the counterparties 2019 obligations under the contracts exceed our obligations to the counterparties .', 'the following table illustrates the effect that a 10% ( 10 % ) unfavorable or favorable movement in foreign currency exchange rates , relative to the u.s .', 'dollar , would have on the fair value of our forward exchange contracts as of october 31 , 2009 and november 1 , 2008: .']\\n\\toctober 31 2009\\tnovember 1 2008\\nfair value of forward exchange contracts asset ( liability )\\t$ 6427\\t$ -23158 ( 23158 )\\nfair value of forward exchange contracts after a 10% ( 10 % ) unfavorable movement in foreign currency exchange rates asset ( liability )\\t$ 20132\\t$ -9457 ( 9457 )\\nfair value of forward exchange contracts after a 10% ( 10 % ) favorable movement in foreign currency exchange rates liability\\t$ -6781 ( 6781 )\\t$ -38294 ( 38294 )\\n['fair value of forward exchange contracts after a 10% ( 10 % ) unfavorable movement in foreign currency exchange rates asset ( liability ) .', '.', '.', '.', '.', '.', '.', '.', '.', '$ 20132 $ ( 9457 ) fair value of forward exchange contracts after a 10% ( 10 % ) favorable movement in foreign currency exchange rates liability .', '.', '.', '.', '.', '.', '.', '.', '.', '.', '.', '.', '.', '.', '.', '.', '.', '.', '.', '.', '.', '.', '$ ( 6781 ) $ ( 38294 ) the calculation assumes that each exchange rate would change in the same direction relative to the u.s .', 'dollar .', 'in addition to the direct effects of changes in exchange rates , such changes typically affect the volume of sales or the foreign currency sales price as competitors 2019 products become more or less attractive .', 'our sensitivity analysis of the effects of changes in foreign currency exchange rates does not factor in a potential change in sales levels or local currency selling prices. .']   \n",
       "1  ['abiomed , inc .', 'and subsidiaries notes to consolidated financial statements 2014 ( continued ) note 8 .', 'stock award plans and stock-based compensation ( continued ) restricted stock and restricted stock units the following table summarizes restricted stock and restricted stock unit activity for the fiscal year ended march 31 , 2012 : number of shares ( in thousands ) weighted average grant date fair value ( per share ) .']\\n\\tnumber of shares ( in thousands )\\tweighted average grant date fair value ( per share )\\nrestricted stock and restricted stock units at beginning of year\\t407\\t$ 9.84\\ngranted\\t607\\t18.13\\nvested\\t-134 ( 134 )\\t10.88\\nforfeited\\t-9 ( 9 )\\t13.72\\nrestricted stock and restricted stock units at end of year\\t871\\t$ 15.76\\n['the remaining unrecognized compensation expense for outstanding restricted stock and restricted stock units , including performance-based awards , as of march 31 , 2012 was $ 7.1 million and the weighted-average period over which this cost will be recognized is 2.2 years .', 'the weighted average grant-date fair value for restricted stock and restricted stock units granted during the years ended march 31 , 2012 , 2011 , and 2010 was $ 18.13 , $ 10.00 and $ 7.67 per share , respectively .', 'the total fair value of restricted stock and restricted stock units vested in fiscal years 2012 , 2011 , and 2010 was $ 1.5 million , $ 1.0 million and $ 0.4 million , respectively .', 'performance-based awards included in the restricted stock and restricted stock units activity discussed above are certain awards granted in fiscal years 2012 , 2011 and 2010 that vest subject to certain performance-based criteria .', 'in june 2010 , 311000 shares of restricted stock and a performance-based award for the potential issuance of 45000 shares of common stock were issued to certain executive officers and members of senior management of the company , all of which would vest upon achievement of prescribed service milestones by the award recipients and performance milestones by the company .', 'during the year ended march 31 , 2011 , the company determined that it met the prescribed performance targets and a portion of these shares and stock options vested .', 'the remaining shares will vest upon satisfaction of prescribed service conditions by the award recipients .', 'during the three months ended june 30 , 2011 , the company determined that it should have been using the graded vesting method instead of the straight-line method to expense stock-based compensation for the performance-based awards issued in june 2010 .', 'this resulted in additional stock based compensation expense of approximately $ 0.6 million being recorded during the three months ended june 30 , 2011 that should have been recorded during the year ended march 31 , 2011 .', 'the company believes that the amount is not material to its march 31 , 2011 consolidated financial statements and therefore recorded the adjustment in the quarter ended june 30 , 2011 .', 'during the three months ended june 30 , 2011 , performance-based awards of restricted stock units for the potential issuance of 284000 shares of common stock were issued to certain executive officers and members of the senior management , all of which would vest upon achievement of prescribed service milestones by the award recipients and revenue performance milestones by the company .', 'as of march 31 , 2012 , the company determined that it met the prescribed targets for 184000 shares underlying these awards and it believes it is probable that the prescribed performance targets will be met for the remaining 100000 shares , and the compensation expense is being recognized accordingly .', 'during the year ended march 31 , 2012 , the company has recorded $ 3.3 million in stock-based compensation expense for equity awards in which the prescribed performance milestones have been achieved or are probable of being achieved .', 'the remaining unrecognized compensation expense related to these equity awards at march 31 , 2012 is $ 3.6 million based on the company 2019s current assessment of probability of achieving the performance milestones .', 'the weighted-average period over which this cost will be recognized is 2.1 years. .']   \n",
       "\n",
       "                                                                                                                                                                                                                                                                                                                                                                                                       gold_context  \\\n",
       "0                                                                                                                                                                                                                                                                                                  {'text_1': 'if libor changes by 100 basis points , our annual interest expense would change by $ 3.8 million .'}   \n",
       "1  {'table_2': 'the granted of number of shares ( in thousands ) is 607 ; the granted of weighted average grant date fair value ( per share ) is 18.13 ;', 'text_15': 'during the year ended march 31 , 2012 , the company has recorded $ 3.3 million in stock-based compensation expense for equity awards in which the prescribed performance milestones have been achieved or are probable of being achieved .'}   \n",
       "\n",
       "                                                                                       operation  \n",
       "0                                                              divide(100, 100), divide(3.8, #0)  \n",
       "1  multiply(607, 18.13), multiply(#0, const_1000), multiply(3.3, const_1000000), greater(#1, #2)  "
      ]
     },
     "execution_count": 34,
     "metadata": {},
     "output_type": "execute_result"
    }
   ],
   "source": [
    "df_finqa = pd.DataFrame(transformed_finqa_data)\n",
    "\n",
    "# check for missing values\n",
    "df_finqa.head(2)"
   ]
  },
  {
   "cell_type": "code",
   "execution_count": 35,
   "metadata": {},
   "outputs": [
    {
     "name": "stdout",
     "output_type": "stream",
     "text": [
      "Check for missing or empty values per column:\n",
      "\n",
      "Number of rows: 6251\n",
      "Column 'ID': Clean (0 missing or empty values)\n",
      "Column 'question': Clean (0 missing or empty values)\n",
      "Column 'answer':\n",
      "  - Null/NaN values: 0\n",
      "  - Empty strings ('') values: 48\n",
      "  - Total missing/empty: 48\n",
      "\n",
      "Column 'context': Clean (0 missing or empty values)\n",
      "Column 'gold_context': Clean (0 missing or empty values)\n",
      "Column 'operation': Clean (0 missing or empty values)\n"
     ]
    }
   ],
   "source": [
    "print(\"Check for missing or empty values per column:\\n\")\n",
    "print(f\"Number of rows: {len(df_finqa)}\")\n",
    "\n",
    "for column in df_finqa.columns:\n",
    "    # Check for NaN/None using isnull()\n",
    "    null_count = df_finqa[column].isnull().sum()\n",
    "    \n",
    "    # Check for empty strings, but only if the column is of a string/object type\n",
    "    empty_string_count = 0\n",
    "    if df_finqa[column].dtype == 'object':\n",
    "        empty_string_count = (df_finqa[column] == '').sum()\n",
    "        \n",
    "    # Calculate total \"missing\" or \"empty\"\n",
    "    total_missing = null_count + empty_string_count\n",
    "    \n",
    "    if total_missing > 0:\n",
    "        print(f\"Column '{column}':\")\n",
    "        print(f\"  - Null/NaN values: {null_count}\")\n",
    "        print(f\"  - Empty strings ('') values: {empty_string_count}\")\n",
    "        print(f\"  - Total missing/empty: {total_missing}\\n\")\n",
    "    else:\n",
    "        print(f\"Column '{column}': Clean (0 missing or empty values)\")\n"
   ]
  },
  {
   "cell_type": "markdown",
   "metadata": {},
   "source": [
    "Drop all rows where data is missing"
   ]
  },
  {
   "cell_type": "code",
   "execution_count": 36,
   "metadata": {},
   "outputs": [
    {
     "name": "stdout",
     "output_type": "stream",
     "text": [
      "Rows before dropping missing answers: 6251\n",
      "Rows after dropping missing answers: 6203\n"
     ]
    }
   ],
   "source": [
    "finqa_cleaned = df_finqa[~(df_finqa['answer'].isnull() | (df_finqa['answer'] == ''))].copy()\n",
    "\n",
    "finqa_cleaned.reset_index(drop=True, inplace=True)\n",
    "print(f\"Rows before dropping missing answers: {len(df_finqa)}\")\n",
    "print(f\"Rows after dropping missing answers: {len(finqa_cleaned)}\")"
   ]
  },
  {
   "cell_type": "markdown",
   "metadata": {},
   "source": [
    "##### 2.1.2 ConvFinQa"
   ]
  },
  {
   "cell_type": "code",
   "execution_count": 37,
   "metadata": {},
   "outputs": [],
   "source": [
    "from pathlib import Path \n",
    "project_root = Path('/Users/christel/Desktop/Thesis/thesis_repo')  \n",
    "sys.path.append(str(project_root))\n",
    "\n",
    "from src.data_utils import transform_convfinqa_dataset"
   ]
  },
  {
   "cell_type": "code",
   "execution_count": null,
   "metadata": {},
   "outputs": [],
   "source": [
    "with open(\"data/ConFinQA/train_turn.json\") as f:\n",
    "    convfinqa_data = json.load(f)\n",
    "\n",
    "transformed_convfinqa_data = transform_convfinqa_dataset(convfinqa_data)"
   ]
  },
  {
   "cell_type": "code",
   "execution_count": 42,
   "metadata": {},
   "outputs": [
    {
     "name": "stdout",
     "output_type": "stream",
     "text": [
      "ID: RSG/2008/page_114.pdf\n",
      "\n",
      "question: Q: what were revenues in 2008?\n",
      "A: 9362.2\n",
      "Q: what were they in 2007?\n",
      "A: 9244.9\n",
      "Q: what was the net change?\n",
      "A: A0\n",
      "Q: what is the percent change?\n",
      "\n",
      "answer: 1.3%\n",
      "\n",
      "context: substantially all of the goodwill and other intangible assets recorded related to the acquisition of allied are not deductible for tax purposes . pro forma information the consolidated financial statements presented for republic include the operating results of allied from the date of the acquisition . the following pro forma information is presented assuming the merger had been completed as of january 1 , 2007 . the unaudited pro forma information presented below has been prepared for illustrative purposes and is not intended to be indicative of the results of operations that would have actually occurred had the acquisition been consummated at the beginning of the periods presented or of future results of the combined operations ( in millions , except share and per share amounts ) . year ended december 31 , year ended december 31 , ( unaudited ) ( unaudited ) .\n",
      "\tyear ended december 31 2008 ( unaudited )\tyear ended december 31 2007 ( unaudited )\n",
      "revenue\t$ 9362.2\t$ 9244.9\n",
      "income from continuing operations available to common stockholders\t285.7\t423.2\n",
      "basic earnings per share\t.76\t1.10\n",
      "diluted earnings per share\t.75\t1.09\n",
      "the above unaudited pro forma financial information includes adjustments for amortization of identifiable intangible assets , accretion of discounts to fair value associated with debt , environmental , self-insurance and other liabilities , accretion of capping , closure and post-closure obligations and amortization of the related assets , and provision for income taxes . assets held for sale as a condition of the merger with allied in december 2008 , we reached a settlement with the doj requiring us to divest of certain operations serving fifteen metropolitan areas including los angeles , ca ; san francisco , ca ; denver , co ; atlanta , ga ; northwestern indiana ; lexington , ky ; flint , mi ; cape girardeau , mo ; charlotte , nc ; cleveland , oh ; philadelphia , pa ; greenville-spartanburg , sc ; and fort worth , houston and lubbock , tx . the settlement requires us to divest 87 commercial waste collection routes , nine landfills and ten transfer stations , together with ancillary assets and , in three cases , access to landfill disposal capacity . we have classified the assets and liabilities we expect to divest ( including accounts receivable , property and equipment , goodwill , and accrued landfill and environmental costs ) as assets held for sale in our consolidated balance sheet at december 31 , 2008 . the assets held for sale related to operations that were republic 2019s prior to the merger with allied have been adjusted to the lower of their carrying amounts or estimated fair values less costs to sell , which resulted in us recognizing an asset impairment loss of $ 6.1 million in our consolidated statement of income for the year ended december 31 , 2008 . the assets held for sale related to operations that were allied 2019s prior to the merger are recorded at their estimated fair values in our consolidated balance sheet as of december 31 , 2008 in accordance with the purchase method of accounting . in february 2009 , we entered into an agreement to divest certain assets to waste connections , inc . the assets covered by the agreement include six municipal solid waste landfills , six collection operations and three transfer stations across the following seven markets : los angeles , ca ; denver , co ; houston , tx ; lubbock , tx ; greenville-spartanburg , sc ; charlotte , nc ; and flint , mi . the transaction with waste connections is subject to closing conditions regarding due diligence , regulatory approval and other customary matters . closing is expected to occur in the second quarter of 2009 . republic services , inc . and subsidiaries notes to consolidated financial statements %%transmsg*** transmitting job : p14076 pcn : 106000000 ***%%pcmsg|104 |00046|yes|no|02/28/2009 21:07|0|0|page is valid , no graphics -- color : d| .\n",
      "\n",
      "gold_context: {'table_1': 'the revenue of year ended december 31 2008 ( unaudited ) is $ 9362.2 ; the revenue of year ended december 31 2007 ( unaudited ) is $ 9244.9 ;'}\n",
      "\n",
      "operation: subtract(9362.2, 9244.9), divide(#0, 9244.9)\n",
      "\n",
      "turn_ind: 3\n",
      "\n"
     ]
    }
   ],
   "source": [
    "for k, v in transformed_convfinqa_data[7].items():\n",
    "    print(f\"{k}: {v}\\n\")"
   ]
  },
  {
   "cell_type": "code",
   "execution_count": 44,
   "metadata": {},
   "outputs": [],
   "source": [
    "df_convfinqa = pd.DataFrame(transformed_convfinqa_data)"
   ]
  },
  {
   "cell_type": "code",
   "execution_count": 45,
   "metadata": {},
   "outputs": [
    {
     "name": "stdout",
     "output_type": "stream",
     "text": [
      "Comprehensive check for missing or empty values per column:\n",
      "\n",
      "Number of rows: 11104\n",
      "Column 'ID': Clean (0 missing or empty values)\n",
      "Column 'question': Clean (0 missing or empty values)\n",
      "Column 'answer':\n",
      "  - Null/NaN values: 0\n",
      "  - Empty strings ('') values: 3712\n",
      "  - Total missing/empty: 3712\n",
      "\n",
      "Column 'context': Clean (0 missing or empty values)\n",
      "Column 'gold_context': Clean (0 missing or empty values)\n",
      "Column 'operation':\n",
      "  - Null/NaN values: 0\n",
      "  - Empty strings ('') values: 3642\n",
      "  - Total missing/empty: 3642\n",
      "\n",
      "Column 'turn_ind': Clean (0 missing or empty values)\n"
     ]
    }
   ],
   "source": [
    "print(\"Comprehensive check for missing or empty values per column:\\n\")\n",
    "print(f\"Number of rows: {len(df_convfinqa)}\")\n",
    "\n",
    "for column in df_convfinqa.columns:\n",
    "    # Check for NaN/None using isnull()\n",
    "    null_count = df_convfinqa[column].isnull().sum()\n",
    "    \n",
    "    # Check for empty strings, but only if the column is of a string/object type\n",
    "    empty_string_count = 0\n",
    "    if df_convfinqa[column].dtype == 'object':\n",
    "        empty_string_count = (df_convfinqa[column] == '').sum()\n",
    "        \n",
    "    # Calculate total \"missing\" or \"empty\"\n",
    "    total_missing = null_count + empty_string_count\n",
    "    \n",
    "    if total_missing > 0:\n",
    "        print(f\"Column '{column}':\")\n",
    "        print(f\"  - Null/NaN values: {null_count}\")\n",
    "        print(f\"  - Empty strings ('') values: {empty_string_count}\")\n",
    "        print(f\"  - Total missing/empty: {total_missing}\\n\")\n",
    "    else:\n",
    "        print(f\"Column '{column}': Clean (0 missing or empty values)\")\n"
   ]
  },
  {
   "cell_type": "code",
   "execution_count": null,
   "metadata": {},
   "outputs": [
    {
     "name": "stdout",
     "output_type": "stream",
     "text": [
      "Comprehensive check for missing or empty answers in original ConvFinQA data:\n",
      "\n",
      "Number of samples: 3037\n",
      "\n",
      "Samples with missing answers: 0\n",
      "Samples with answers present: 3037\n",
      "Percentage missing: 0.00%\n",
      "\n",
      "Breakdown of missing by source key:\n",
      "  qa.answer: 0\n",
      "  annotation.answer_list: 0\n"
     ]
    }
   ],
   "source": [
    "print(\"Comprehensive check for missing or empty answers in original ConvFinQA data:\\n\")\n",
    "\n",
    "# Count total rows\n",
    "total_samples = len(ConvfinQA_train_data)\n",
    "print(f\"Number of samples: {total_samples}\\n\")\n",
    "\n",
    "# Initialize counters\n",
    "missing_answer_count = 0\n",
    "non_missing_answer_count = 0\n",
    "missing_by_key = {\"qa.answer\": 0, \"annotation.answer_list\": 0}\n",
    "\n",
    "# Iterate over each sample\n",
    "for sample in ConvfinQA_train_data:\n",
    "    qa_dict = sample.get(\"qa\", {})\n",
    "    ann_dict = sample.get(\"annotation\", {})\n",
    "\n",
    "    # Extract the direct qa['answer']\n",
    "    direct_answer = qa_dict.get(\"answer\", \"\")\n",
    "    if isinstance(direct_answer, str):\n",
    "        direct_answer = direct_answer.strip()\n",
    "\n",
    "    # Extract from answer_list if available\n",
    "    answers_list = ann_dict.get(\"answer_list\", [])\n",
    "    turn_ind = ann_dict.get(\"turn_ind\", 0)\n",
    "    answer_from_list = \"\"\n",
    "    if isinstance(answers_list, list) and 0 <= turn_ind < len(answers_list):\n",
    "        answer_from_list = str(answers_list[turn_ind]).strip()\n",
    "\n",
    "    # Determine if answer is missing\n",
    "    if not direct_answer and not answer_from_list:\n",
    "        missing_answer_count += 1\n",
    "        if not direct_answer:\n",
    "            missing_by_key[\"qa.answer\"] += 1\n",
    "        if not answer_from_list:\n",
    "            missing_by_key[\"annotation.answer_list\"] += 1\n",
    "    else:\n",
    "        non_missing_answer_count += 1\n",
    "\n",
    "print(f\"Samples with missing answers: {missing_answer_count}\")\n",
    "print(f\"Samples with answers present: {non_missing_answer_count}\")\n",
    "print(f\"Percentage missing: {missing_answer_count / total_samples * 100:.2f}%\\n\")\n",
    "\n",
    "print(\"Breakdown of missing by source key:\")\n",
    "for key, count in missing_by_key.items():\n",
    "    print(f\"  {key}: {count}\")"
   ]
  },
  {
   "cell_type": "code",
   "execution_count": null,
   "metadata": {},
   "outputs": [
    {
     "name": "stdout",
     "output_type": "stream",
     "text": [
      "Rows before cleaning: 11104\n",
      "Rows after dropping rows with any missing/empty values: 7392\n"
     ]
    }
   ],
   "source": [
    "# Replace empty strings with NaN\n",
    "convfinqa_cleaned = df_convfinqa.replace('', pd.NA)\n",
    "\n",
    "# Drop any row that has at least one NaN (including ones that were empty strings)\n",
    "convfinqa_cleaned = convfinqa_cleaned.dropna(how='any')\n",
    "\n",
    "convfinqa_cleaned.reset_index(drop=True, inplace=True)\n",
    "print(f\"Rows before cleaning: {len(df_convfinqa)}\")\n",
    "print(f\"Rows after dropping rows with any missing/empty values: {len(convfinqa_cleaned)}\")\n"
   ]
  },
  {
   "cell_type": "code",
   "execution_count": 77,
   "metadata": {},
   "outputs": [
    {
     "name": "stdout",
     "output_type": "stream",
     "text": [
      "Rows after dropping rows with any missing/empty values: 7392\n",
      "Rows after dropping rows with no conversation history: 5302\n"
     ]
    }
   ],
   "source": [
    "convfinqa_cleaned2 = convfinqa_cleaned[convfinqa_cleaned['turn_ind'] > 0].copy()\n",
    "print(f\"Rows after dropping rows with any missing/empty values: {len(convfinqa_cleaned)}\")\n",
    "print(f\"Rows after dropping rows with no conversation history: {len(convfinqa_cleaned2)}\")"
   ]
  },
  {
   "cell_type": "code",
   "execution_count": 78,
   "metadata": {},
   "outputs": [],
   "source": [
    "convfinqa_cleaned2.drop(columns=[\"turn_ind\"], inplace=True)"
   ]
  },
  {
   "cell_type": "code",
   "execution_count": 79,
   "metadata": {},
   "outputs": [
    {
     "data": {
      "text/html": [
       "<div>\n",
       "<style scoped>\n",
       "    .dataframe tbody tr th:only-of-type {\n",
       "        vertical-align: middle;\n",
       "    }\n",
       "\n",
       "    .dataframe tbody tr th {\n",
       "        vertical-align: top;\n",
       "    }\n",
       "\n",
       "    .dataframe thead th {\n",
       "        text-align: right;\n",
       "    }\n",
       "</style>\n",
       "<table border=\"1\" class=\"dataframe\">\n",
       "  <thead>\n",
       "    <tr style=\"text-align: right;\">\n",
       "      <th></th>\n",
       "      <th>ID</th>\n",
       "      <th>question</th>\n",
       "      <th>answer</th>\n",
       "      <th>context</th>\n",
       "      <th>gold_context</th>\n",
       "      <th>operation</th>\n",
       "    </tr>\n",
       "  </thead>\n",
       "  <tbody>\n",
       "    <tr>\n",
       "      <th>1</th>\n",
       "      <td>JKHY/2009/page_28.pdf</td>\n",
       "      <td>Q: what is the net cash from operating activities in 2009?\\nA: 206588\\nQ: what about in 2008?</td>\n",
       "      <td>14.1%</td>\n",
       "      <td>26 | 2009 annual report in fiscal 2008 , revenues in the credit union systems and services business segment increased 14% ( 14 % ) from fiscal 2007 . all revenue components within the segment experienced growth during fiscal 2008 . license revenue generated the largest dollar growth in revenue as episys ae , our flagship core processing system aimed at larger credit unions , experienced strong sales throughout the year . support and service revenue , which is the largest component of total revenues for the credit union segment , experienced 34 percent growth in eft support and 10 percent growth in in-house support . gross profit in this business segment increased $ 9344 in fiscal 2008 compared to fiscal 2007 , due primarily to the increase in license revenue , which carries the highest margins . liquidity and capital resources we have historically generated positive cash flow from operations and have generally used funds generated from operations and short-term borrowings on our revolving credit facility to meet capital requirements . we expect this trend to continue in the future . the company 2019s cash and cash equivalents increased to $ 118251 at june 30 , 2009 from $ 65565 at june 30 , 2008 . the following table summarizes net cash from operating activities in the statement of cash flows : 2009 2008 2007 .\\n2008\\tyear ended june 30 2009 2008\\tyear ended june 30 2009 2008\\tyear ended june 30 2009\\nnet income\\t$ 103102\\t$ 104222\\t$ 104681\\nnon-cash expenses\\t74397\\t70420\\t56348\\nchange in receivables\\t21214\\t-2913 ( 2913 )\\t-28853 ( 28853 )\\nchange in deferred revenue\\t21943\\t5100\\t24576\\nchange in other assets and liabilities\\t-14068 ( 14068 )\\t4172\\t17495\\nnet cash from operating activities\\t$ 206588\\t$ 181001\\t$ 174247\\nyear ended june 30 , cash provided by operations increased $ 25587 to $ 206588 for the fiscal year ended june 30 , 2009 as compared to $ 181001 for the fiscal year ended june 30 , 2008 . this increase is primarily attributable to a decrease in receivables compared to the same period a year ago of $ 21214 . this decrease is largely the result of fiscal 2010 annual software maintenance billings being provided to customers earlier than in the prior year , which allowed more cash to be collected before the end of the fiscal year than in previous years . further , we collected more cash overall related to revenues that will be recognized in subsequent periods in the current year than in fiscal 2008 . cash used in investing activities for the fiscal year ended june 2009 was $ 59227 and includes $ 3027 in contingent consideration paid on prior years 2019 acquisitions . cash used in investing activities for the fiscal year ended june 2008 was $ 102148 and includes payments for acquisitions of $ 48109 , plus $ 1215 in contingent consideration paid on prior years 2019 acquisitions . capital expenditures for fiscal 2009 were $ 31562 compared to $ 31105 for fiscal 2008 . cash used for software development in fiscal 2009 was $ 24684 compared to $ 23736 during the prior year . net cash used in financing activities for the current fiscal year was $ 94675 and includes the repurchase of 3106 shares of our common stock for $ 58405 , the payment of dividends of $ 26903 and $ 13489 net repayment on our revolving credit facilities . cash used in financing activities was partially offset by proceeds of $ 3773 from the exercise of stock options and the sale of common stock ( through the employee stock purchase plan ) and $ 348 excess tax benefits from stock option exercises . during fiscal 2008 , net cash used in financing activities for the fiscal year was $ 101905 and includes the repurchase of 4200 shares of our common stock for $ 100996 , the payment of dividends of $ 24683 and $ 429 net repayment on our revolving credit facilities . cash used in financing activities was partially offset by proceeds of $ 20394 from the exercise of stock options and the sale of common stock and $ 3809 excess tax benefits from stock option exercises . beginning during fiscal 2008 , us financial markets and many of the largest us financial institutions have been shaken by negative developments in the home mortgage industry and the mortgage markets , and particularly the markets for subprime mortgage-backed securities . since that time , these and other such developments have resulted in a broad , global economic downturn . while we , as is the case with most companies , have experienced the effects of this downturn , we have not experienced any significant issues with our current collection efforts , and we believe that any future impact to our liquidity will be minimized by cash generated by recurring sources of revenue and due to our access to available lines of credit. .</td>\n",
       "      <td>{'table_6': '2008 the net cash from operating activities of year ended june 30 2009 2008 is $ 206588 ; the net cash from operating activities of year ended june 30 2009 2008 is $ 181001 ; the net cash from operating activities of year ended june 30 2009 is $ 174247 ;'}</td>\n",
       "      <td>subtract(206588, 181001), divide(#0, 181001)</td>\n",
       "    </tr>\n",
       "    <tr>\n",
       "      <th>2</th>\n",
       "      <td>JKHY/2009/page_28.pdf</td>\n",
       "      <td>Q: what is the net cash from operating activities in 2009?\\nA: 206588\\nQ: what about in 2008?\\nA: 181001\\nQ: what is the difference?</td>\n",
       "      <td>14.1%</td>\n",
       "      <td>26 | 2009 annual report in fiscal 2008 , revenues in the credit union systems and services business segment increased 14% ( 14 % ) from fiscal 2007 . all revenue components within the segment experienced growth during fiscal 2008 . license revenue generated the largest dollar growth in revenue as episys ae , our flagship core processing system aimed at larger credit unions , experienced strong sales throughout the year . support and service revenue , which is the largest component of total revenues for the credit union segment , experienced 34 percent growth in eft support and 10 percent growth in in-house support . gross profit in this business segment increased $ 9344 in fiscal 2008 compared to fiscal 2007 , due primarily to the increase in license revenue , which carries the highest margins . liquidity and capital resources we have historically generated positive cash flow from operations and have generally used funds generated from operations and short-term borrowings on our revolving credit facility to meet capital requirements . we expect this trend to continue in the future . the company 2019s cash and cash equivalents increased to $ 118251 at june 30 , 2009 from $ 65565 at june 30 , 2008 . the following table summarizes net cash from operating activities in the statement of cash flows : 2009 2008 2007 .\\n2008\\tyear ended june 30 2009 2008\\tyear ended june 30 2009 2008\\tyear ended june 30 2009\\nnet income\\t$ 103102\\t$ 104222\\t$ 104681\\nnon-cash expenses\\t74397\\t70420\\t56348\\nchange in receivables\\t21214\\t-2913 ( 2913 )\\t-28853 ( 28853 )\\nchange in deferred revenue\\t21943\\t5100\\t24576\\nchange in other assets and liabilities\\t-14068 ( 14068 )\\t4172\\t17495\\nnet cash from operating activities\\t$ 206588\\t$ 181001\\t$ 174247\\nyear ended june 30 , cash provided by operations increased $ 25587 to $ 206588 for the fiscal year ended june 30 , 2009 as compared to $ 181001 for the fiscal year ended june 30 , 2008 . this increase is primarily attributable to a decrease in receivables compared to the same period a year ago of $ 21214 . this decrease is largely the result of fiscal 2010 annual software maintenance billings being provided to customers earlier than in the prior year , which allowed more cash to be collected before the end of the fiscal year than in previous years . further , we collected more cash overall related to revenues that will be recognized in subsequent periods in the current year than in fiscal 2008 . cash used in investing activities for the fiscal year ended june 2009 was $ 59227 and includes $ 3027 in contingent consideration paid on prior years 2019 acquisitions . cash used in investing activities for the fiscal year ended june 2008 was $ 102148 and includes payments for acquisitions of $ 48109 , plus $ 1215 in contingent consideration paid on prior years 2019 acquisitions . capital expenditures for fiscal 2009 were $ 31562 compared to $ 31105 for fiscal 2008 . cash used for software development in fiscal 2009 was $ 24684 compared to $ 23736 during the prior year . net cash used in financing activities for the current fiscal year was $ 94675 and includes the repurchase of 3106 shares of our common stock for $ 58405 , the payment of dividends of $ 26903 and $ 13489 net repayment on our revolving credit facilities . cash used in financing activities was partially offset by proceeds of $ 3773 from the exercise of stock options and the sale of common stock ( through the employee stock purchase plan ) and $ 348 excess tax benefits from stock option exercises . during fiscal 2008 , net cash used in financing activities for the fiscal year was $ 101905 and includes the repurchase of 4200 shares of our common stock for $ 100996 , the payment of dividends of $ 24683 and $ 429 net repayment on our revolving credit facilities . cash used in financing activities was partially offset by proceeds of $ 20394 from the exercise of stock options and the sale of common stock and $ 3809 excess tax benefits from stock option exercises . beginning during fiscal 2008 , us financial markets and many of the largest us financial institutions have been shaken by negative developments in the home mortgage industry and the mortgage markets , and particularly the markets for subprime mortgage-backed securities . since that time , these and other such developments have resulted in a broad , global economic downturn . while we , as is the case with most companies , have experienced the effects of this downturn , we have not experienced any significant issues with our current collection efforts , and we believe that any future impact to our liquidity will be minimized by cash generated by recurring sources of revenue and due to our access to available lines of credit. .</td>\n",
       "      <td>{'table_6': '2008 the net cash from operating activities of year ended june 30 2009 2008 is $ 206588 ; the net cash from operating activities of year ended june 30 2009 2008 is $ 181001 ; the net cash from operating activities of year ended june 30 2009 is $ 174247 ;'}</td>\n",
       "      <td>subtract(206588, 181001), divide(#0, 181001)</td>\n",
       "    </tr>\n",
       "  </tbody>\n",
       "</table>\n",
       "</div>"
      ],
      "text/plain": [
       "                      ID  \\\n",
       "1  JKHY/2009/page_28.pdf   \n",
       "2  JKHY/2009/page_28.pdf   \n",
       "\n",
       "                                                                                                                               question  \\\n",
       "1                                         Q: what is the net cash from operating activities in 2009?\\nA: 206588\\nQ: what about in 2008?   \n",
       "2  Q: what is the net cash from operating activities in 2009?\\nA: 206588\\nQ: what about in 2008?\\nA: 181001\\nQ: what is the difference?   \n",
       "\n",
       "  answer  \\\n",
       "1  14.1%   \n",
       "2  14.1%   \n",
       "\n",
       "                                                                                                                                                                                                                                                                                                                                                                                                                                                                                                                                                                                                                                                                                                                                                                                                                                                                                                                                                                                                                                                                                                                                                                                                                                                                                                                                                                                                                                                                                                                                                                                                                                                                                                                                                                                                                                                                                                                                                                                                                                                                                                                                                                                                                                                                                                                                                                                                                                                                                                                                                                                                                                                                                                                                                                                                                                                                                                                                                                                                                                                                                                                                                                                                                                                                                                                                                                                                                                                                                                                                                                                                                                                                                                                                                                                                                                                                                                                                                                                                                                                                                                                                                                                                                                                                                                                                                                                                                                                                                                                                                                                                                                                                                                                                                                                                                                                                                                                                     context  \\\n",
       "1  26 | 2009 annual report in fiscal 2008 , revenues in the credit union systems and services business segment increased 14% ( 14 % ) from fiscal 2007 . all revenue components within the segment experienced growth during fiscal 2008 . license revenue generated the largest dollar growth in revenue as episys ae , our flagship core processing system aimed at larger credit unions , experienced strong sales throughout the year . support and service revenue , which is the largest component of total revenues for the credit union segment , experienced 34 percent growth in eft support and 10 percent growth in in-house support . gross profit in this business segment increased $ 9344 in fiscal 2008 compared to fiscal 2007 , due primarily to the increase in license revenue , which carries the highest margins . liquidity and capital resources we have historically generated positive cash flow from operations and have generally used funds generated from operations and short-term borrowings on our revolving credit facility to meet capital requirements . we expect this trend to continue in the future . the company 2019s cash and cash equivalents increased to $ 118251 at june 30 , 2009 from $ 65565 at june 30 , 2008 . the following table summarizes net cash from operating activities in the statement of cash flows : 2009 2008 2007 .\\n2008\\tyear ended june 30 2009 2008\\tyear ended june 30 2009 2008\\tyear ended june 30 2009\\nnet income\\t$ 103102\\t$ 104222\\t$ 104681\\nnon-cash expenses\\t74397\\t70420\\t56348\\nchange in receivables\\t21214\\t-2913 ( 2913 )\\t-28853 ( 28853 )\\nchange in deferred revenue\\t21943\\t5100\\t24576\\nchange in other assets and liabilities\\t-14068 ( 14068 )\\t4172\\t17495\\nnet cash from operating activities\\t$ 206588\\t$ 181001\\t$ 174247\\nyear ended june 30 , cash provided by operations increased $ 25587 to $ 206588 for the fiscal year ended june 30 , 2009 as compared to $ 181001 for the fiscal year ended june 30 , 2008 . this increase is primarily attributable to a decrease in receivables compared to the same period a year ago of $ 21214 . this decrease is largely the result of fiscal 2010 annual software maintenance billings being provided to customers earlier than in the prior year , which allowed more cash to be collected before the end of the fiscal year than in previous years . further , we collected more cash overall related to revenues that will be recognized in subsequent periods in the current year than in fiscal 2008 . cash used in investing activities for the fiscal year ended june 2009 was $ 59227 and includes $ 3027 in contingent consideration paid on prior years 2019 acquisitions . cash used in investing activities for the fiscal year ended june 2008 was $ 102148 and includes payments for acquisitions of $ 48109 , plus $ 1215 in contingent consideration paid on prior years 2019 acquisitions . capital expenditures for fiscal 2009 were $ 31562 compared to $ 31105 for fiscal 2008 . cash used for software development in fiscal 2009 was $ 24684 compared to $ 23736 during the prior year . net cash used in financing activities for the current fiscal year was $ 94675 and includes the repurchase of 3106 shares of our common stock for $ 58405 , the payment of dividends of $ 26903 and $ 13489 net repayment on our revolving credit facilities . cash used in financing activities was partially offset by proceeds of $ 3773 from the exercise of stock options and the sale of common stock ( through the employee stock purchase plan ) and $ 348 excess tax benefits from stock option exercises . during fiscal 2008 , net cash used in financing activities for the fiscal year was $ 101905 and includes the repurchase of 4200 shares of our common stock for $ 100996 , the payment of dividends of $ 24683 and $ 429 net repayment on our revolving credit facilities . cash used in financing activities was partially offset by proceeds of $ 20394 from the exercise of stock options and the sale of common stock and $ 3809 excess tax benefits from stock option exercises . beginning during fiscal 2008 , us financial markets and many of the largest us financial institutions have been shaken by negative developments in the home mortgage industry and the mortgage markets , and particularly the markets for subprime mortgage-backed securities . since that time , these and other such developments have resulted in a broad , global economic downturn . while we , as is the case with most companies , have experienced the effects of this downturn , we have not experienced any significant issues with our current collection efforts , and we believe that any future impact to our liquidity will be minimized by cash generated by recurring sources of revenue and due to our access to available lines of credit. .   \n",
       "2  26 | 2009 annual report in fiscal 2008 , revenues in the credit union systems and services business segment increased 14% ( 14 % ) from fiscal 2007 . all revenue components within the segment experienced growth during fiscal 2008 . license revenue generated the largest dollar growth in revenue as episys ae , our flagship core processing system aimed at larger credit unions , experienced strong sales throughout the year . support and service revenue , which is the largest component of total revenues for the credit union segment , experienced 34 percent growth in eft support and 10 percent growth in in-house support . gross profit in this business segment increased $ 9344 in fiscal 2008 compared to fiscal 2007 , due primarily to the increase in license revenue , which carries the highest margins . liquidity and capital resources we have historically generated positive cash flow from operations and have generally used funds generated from operations and short-term borrowings on our revolving credit facility to meet capital requirements . we expect this trend to continue in the future . the company 2019s cash and cash equivalents increased to $ 118251 at june 30 , 2009 from $ 65565 at june 30 , 2008 . the following table summarizes net cash from operating activities in the statement of cash flows : 2009 2008 2007 .\\n2008\\tyear ended june 30 2009 2008\\tyear ended june 30 2009 2008\\tyear ended june 30 2009\\nnet income\\t$ 103102\\t$ 104222\\t$ 104681\\nnon-cash expenses\\t74397\\t70420\\t56348\\nchange in receivables\\t21214\\t-2913 ( 2913 )\\t-28853 ( 28853 )\\nchange in deferred revenue\\t21943\\t5100\\t24576\\nchange in other assets and liabilities\\t-14068 ( 14068 )\\t4172\\t17495\\nnet cash from operating activities\\t$ 206588\\t$ 181001\\t$ 174247\\nyear ended june 30 , cash provided by operations increased $ 25587 to $ 206588 for the fiscal year ended june 30 , 2009 as compared to $ 181001 for the fiscal year ended june 30 , 2008 . this increase is primarily attributable to a decrease in receivables compared to the same period a year ago of $ 21214 . this decrease is largely the result of fiscal 2010 annual software maintenance billings being provided to customers earlier than in the prior year , which allowed more cash to be collected before the end of the fiscal year than in previous years . further , we collected more cash overall related to revenues that will be recognized in subsequent periods in the current year than in fiscal 2008 . cash used in investing activities for the fiscal year ended june 2009 was $ 59227 and includes $ 3027 in contingent consideration paid on prior years 2019 acquisitions . cash used in investing activities for the fiscal year ended june 2008 was $ 102148 and includes payments for acquisitions of $ 48109 , plus $ 1215 in contingent consideration paid on prior years 2019 acquisitions . capital expenditures for fiscal 2009 were $ 31562 compared to $ 31105 for fiscal 2008 . cash used for software development in fiscal 2009 was $ 24684 compared to $ 23736 during the prior year . net cash used in financing activities for the current fiscal year was $ 94675 and includes the repurchase of 3106 shares of our common stock for $ 58405 , the payment of dividends of $ 26903 and $ 13489 net repayment on our revolving credit facilities . cash used in financing activities was partially offset by proceeds of $ 3773 from the exercise of stock options and the sale of common stock ( through the employee stock purchase plan ) and $ 348 excess tax benefits from stock option exercises . during fiscal 2008 , net cash used in financing activities for the fiscal year was $ 101905 and includes the repurchase of 4200 shares of our common stock for $ 100996 , the payment of dividends of $ 24683 and $ 429 net repayment on our revolving credit facilities . cash used in financing activities was partially offset by proceeds of $ 20394 from the exercise of stock options and the sale of common stock and $ 3809 excess tax benefits from stock option exercises . beginning during fiscal 2008 , us financial markets and many of the largest us financial institutions have been shaken by negative developments in the home mortgage industry and the mortgage markets , and particularly the markets for subprime mortgage-backed securities . since that time , these and other such developments have resulted in a broad , global economic downturn . while we , as is the case with most companies , have experienced the effects of this downturn , we have not experienced any significant issues with our current collection efforts , and we believe that any future impact to our liquidity will be minimized by cash generated by recurring sources of revenue and due to our access to available lines of credit. .   \n",
       "\n",
       "                                                                                                                                                                                                                                                                    gold_context  \\\n",
       "1  {'table_6': '2008 the net cash from operating activities of year ended june 30 2009 2008 is $ 206588 ; the net cash from operating activities of year ended june 30 2009 2008 is $ 181001 ; the net cash from operating activities of year ended june 30 2009 is $ 174247 ;'}   \n",
       "2  {'table_6': '2008 the net cash from operating activities of year ended june 30 2009 2008 is $ 206588 ; the net cash from operating activities of year ended june 30 2009 2008 is $ 181001 ; the net cash from operating activities of year ended june 30 2009 is $ 174247 ;'}   \n",
       "\n",
       "                                      operation  \n",
       "1  subtract(206588, 181001), divide(#0, 181001)  \n",
       "2  subtract(206588, 181001), divide(#0, 181001)  "
      ]
     },
     "execution_count": 79,
     "metadata": {},
     "output_type": "execute_result"
    }
   ],
   "source": [
    "convfinqa_cleaned2.head(2)"
   ]
  },
  {
   "cell_type": "code",
   "execution_count": 55,
   "metadata": {},
   "outputs": [
    {
     "name": "stdout",
     "output_type": "stream",
     "text": [
      "Rows after dropping rows with no conversation history: 5302\n"
     ]
    }
   ],
   "source": [
    "print(f\"Rows after dropping rows with no conversation history: {len(convfinqa_cleaned2)}\")"
   ]
  },
  {
   "cell_type": "code",
   "execution_count": 56,
   "metadata": {},
   "outputs": [
    {
     "name": "stdout",
     "output_type": "stream",
     "text": [
      "Comprehensive check for missing or empty values per column:\n",
      "\n",
      "Number of rows: 5302\n",
      "Column 'ID': Clean (0 missing or empty values)\n",
      "Column 'question': Clean (0 missing or empty values)\n",
      "Column 'answer': Clean (0 missing or empty values)\n",
      "Column 'context': Clean (0 missing or empty values)\n",
      "Column 'gold_context': Clean (0 missing or empty values)\n",
      "Column 'operation': Clean (0 missing or empty values)\n"
     ]
    }
   ],
   "source": [
    "print(\"Comprehensive check for missing or empty values per column:\\n\")\n",
    "print(f\"Number of rows: {len(convfinqa_cleaned2)}\")\n",
    "\n",
    "for column in convfinqa_cleaned2.columns:\n",
    "    # Check for NaN/None using isnull()\n",
    "    null_count = convfinqa_cleaned2[column].isnull().sum()\n",
    "    \n",
    "    # Check for empty strings, but only if the column is of a string/object type\n",
    "    empty_string_count = 0\n",
    "    if convfinqa_cleaned2[column].dtype == 'object':\n",
    "        empty_string_count = (convfinqa_cleaned2[column] == '').sum()\n",
    "        \n",
    "    # Calculate total \"missing\" or \"empty\"\n",
    "    total_missing = null_count + empty_string_count\n",
    "    \n",
    "    if total_missing > 0:\n",
    "        print(f\"Column '{column}':\")\n",
    "        print(f\"  - Null/NaN values: {null_count}\")\n",
    "        print(f\"  - Empty strings ('') values: {empty_string_count}\")\n",
    "        print(f\"  - Total missing/empty: {total_missing}\\n\")\n",
    "    else:\n",
    "        print(f\"Column '{column}': Clean (0 missing or empty values)\")"
   ]
  },
  {
   "cell_type": "markdown",
   "metadata": {},
   "source": [
    "##### 2.1.3 FinDER"
   ]
  },
  {
   "cell_type": "code",
   "execution_count": null,
   "metadata": {},
   "outputs": [],
   "source": [
    "from pathlib import Path \n",
    "project_root = Path('/Users/christel/Desktop/Thesis/thesis_repo')  \n",
    "sys.path.append(str(project_root))\n",
    "\n",
    "from src.data_utils import transform_finder_dataset"
   ]
  },
  {
   "cell_type": "code",
   "execution_count": 64,
   "metadata": {},
   "outputs": [],
   "source": [
    "def transform_finder_dataset(finder_data):\n",
    "    \"\"\"\n",
    "    Transforms FinDER dataset into a unified format for RAG evaluation.\n",
    "\n",
    "    Args:\n",
    "        finder_data (list of dict): The original FinDER dataset.\n",
    "\n",
    "    Returns:\n",
    "        list of dict: Transformed dataset.\n",
    "    \"\"\"\n",
    "    transformed = []\n",
    "    for sample in finder_data:\n",
    "        transformed.append({\n",
    "            \"ID\": sample.get(\"_id\", \"\"),\n",
    "            \"question\": sample.get(\"text\", \"\"),\n",
    "            \"answer\": sample.get(\"answer\", \"\"),\n",
    "            \"context\": sample.get(\"references\", \"\"),\n",
    "            \"gold_context\": \"\",  # Empty as FinDER has no gold context\n",
    "            \"operation\": sample.get(\"type\", \"\")\n",
    "        })\n",
    "    return transformed\n"
   ]
  },
  {
   "cell_type": "code",
   "execution_count": null,
   "metadata": {},
   "outputs": [],
   "source": [
    "import json\n",
    "\n",
    "finder_data = []\n",
    "with open('data/FinDER/train.jsonl', 'r') as f:\n",
    "    for line in f:\n",
    "        finder_data.append(json.loads(line))"
   ]
  },
  {
   "cell_type": "code",
   "execution_count": 66,
   "metadata": {},
   "outputs": [],
   "source": [
    "finder_transformed = transform_finder_dataset(finder_data)\n",
    "df_finder = pd.DataFrame(finder_transformed)"
   ]
  },
  {
   "cell_type": "code",
   "execution_count": 68,
   "metadata": {},
   "outputs": [
    {
     "data": {
      "text/html": [
       "<div>\n",
       "<style scoped>\n",
       "    .dataframe tbody tr th:only-of-type {\n",
       "        vertical-align: middle;\n",
       "    }\n",
       "\n",
       "    .dataframe tbody tr th {\n",
       "        vertical-align: top;\n",
       "    }\n",
       "\n",
       "    .dataframe thead th {\n",
       "        text-align: right;\n",
       "    }\n",
       "</style>\n",
       "<table border=\"1\" class=\"dataframe\">\n",
       "  <thead>\n",
       "    <tr style=\"text-align: right;\">\n",
       "      <th></th>\n",
       "      <th>ID</th>\n",
       "      <th>question</th>\n",
       "      <th>answer</th>\n",
       "      <th>context</th>\n",
       "      <th>gold_context</th>\n",
       "      <th>operation</th>\n",
       "    </tr>\n",
       "  </thead>\n",
       "  <tbody>\n",
       "    <tr>\n",
       "      <th>0</th>\n",
       "      <td>b33fcee7</td>\n",
       "      <td>Delta in CBOE Data &amp; Access Solutions rev from 2021-23.</td>\n",
       "      <td>The Data and Access Solutions revenue increased by $111.5 million from 2021 to 2023, calculated as 539.2 million minus 427.7 million.</td>\n",
       "      <td>[Cboe Global Markets, Inc. and Subsidiaries\\n\\nConsolidated Statements of Income\\n\\nYears ended December 31, 2023, 2022, and 2021\\n\\n(In millions, except per share data)\\n\\n\\n\\n\\n\\n\\n\\n\\n\\n\\n\\n\\n\\n\\n    \\n\\n2023\\n\\n    \\n\\n2022\\n\\n    \\n\\n2021\\n\\n \\n\\nRevenues:\\n\\n\\n\\n\\n\\n\\n\\n\\n\\n\\n\\nCash and spot markets\\n\\n\\n$\\n\\n1,445.1\\n\\n\\n$\\n\\n1,777.6\\n\\n\\n$\\n\\n1,660.5\\n\\n\\nData and access solutions\\n\\n\\n\\n539.2\\n\\n\\n\\n497.0\\n\\n\\n\\n427.7\\n\\n\\nDerivatives markets\\n\\n\\n \\n\\n1,789.2\\n\\n\\n \\n\\n1,683.9\\n\\n\\n \\n\\n1,406.6\\n\\n\\nTotal revenues\\n\\n\\n \\n\\n3,773.5\\n\\n\\n \\n\\n3,958.5\\n\\n\\n \\n\\n3,494.8\\n\\n\\nCost of revenues:\\n\\n\\n\\n\\n\\n\\n\\n\\n\\n\\n\\n  Liquidity payments\\n\\n\\n \\n\\n1,385.8\\n\\n\\n \\n\\n1,670.2\\n\\n\\n \\n\\n1,650.7\\n\\n\\n  Routing and clearing\\n\\n\\n\\n79.1\\n\\n\\n\\n83.2\\n\\n\\n\\n87.8\\n\\n\\n  Section 31 fees\\n\\n\\n\\n185.7\\n\\n\\n\\n329.8\\n\\n\\n\\n179.6\\n\\n\\n  Royalty fees and other cost of revenues\\n\\n\\n \\n\\n204.9\\n\\n\\n \\n\\n133.6\\n\\n\\n \\n\\n100.6\\n\\n\\nTotal cost of revenues\\n\\n\\n \\n\\n1,855.5\\n\\n\\n \\n\\n2,216.8\\n\\n\\n \\n\\n2,018.7\\n\\n\\nRevenues less cost of revenues\\n\\n\\n \\n\\n1,918.0\\n\\n\\n \\n\\n1,741.7\\n\\n\\n \\n\\n1,476.1\\n\\n\\nOperating expenses:\\n\\n\\n\\n\\n\\n\\n\\n\\n\\n\\n\\n  Compensation and benefits\\n\\n\\n \\n\\n425.8\\n\\n\\n \\n\\n363.0\\n\\n\\n \\n\\n288.5\\n\\n\\n  Depreciation and amortization\\n\\n\\n \\n\\n158.0\\n\\n\\n \\n\\n166.8\\n\\n\\n \\n\\n167.4\\n\\n\\n  Technology support services\\n\\n\\n \\n\\n99.7\\n\\n\\n \\n\\n77.7\\n\\n\\n \\n\\n66.7\\n\\n\\n  Professional fees and outside services\\n\\n\\n \\n\\n92.0\\n\\n\\n \\n\\n89.0\\n\\n\\n \\n\\n83.7\\n\\n\\n  Travel and promotional expenses\\n\\n\\n \\n\\n37.6\\n\\n\\n \\n\\n23.7\\n\\n\\n \\n\\n9.7\\n\\n\\n  Facilities costs\\n\\n\\n \\n\\n25.7\\n\\n\\n \\n\\n25.1\\n\\n\\n \\n\\n22.2\\n\\n\\n  Acquisition-related costs\\n\\n\\n \\n\\n7.4\\n\\n\\n \\n\\n19.9\\n\\n\\n \\n\\n15.6\\n\\n\\n  Goodwill impairment\\n\\n\\n\\n—\\n\\n\\n\\n460.9\\n\\n\\n\\n—\\n\\n\\n  Other expenses\\n\\n\\n\\n13.9\\n\\n\\n\\n26.0\\n\\n\\n\\n16.4\\n\\n\\nTotal operating expenses\\n\\n\\n \\n\\n860.1\\n\\n\\n \\n\\n1,252.1\\n\\n\\n \\n\\n670.2\\n\\n\\nOperating income\\n\\n\\n \\n\\n1,057.9\\n\\n\\n \\n\\n489.6\\n\\n\\n \\n\\n805.9\\n\\n\\nNon-operating (expenses) income:\\n\\n\\n\\n\\n\\n\\n\\n\\n\\n\\n\\nInterest expense\\n\\n\\n \\n\\n(62.4)\\n\\n\\n\\n(60.0)\\n\\n\\n\\n(48.0)\\n\\n\\nInterest income\\n\\n\\n\\n12.0\\n\\n\\n\\n3.6\\n\\n\\n\\n0.6\\n\\n\\nEarnings in investments\\n\\n\\n\\n39.5\\n\\n\\n\\n7.2\\n\\n\\n\\n1.0\\n\\n\\nOther income (expense), net\\n\\n\\n \\n\\n0.6\\n\\n\\n \\n\\n(7.5)\\n\\n\\n \\n\\n(3.4)\\n\\n\\nIncome before income tax provision\\n\\n\\n \\n\\n1,047.6\\n\\n\\n \\n\\n432.9\\n\\n\\n \\n\\n756.1\\n\\n\\nIncome tax provision\\n\\n\\n \\n\\n286.2\\n\\n\\n \\n\\n197.9\\n\\n\\n \\n\\n227.1\\n\\n\\nNet income\\n\\n\\n\\n761.4\\n\\n\\n\\n235.0\\n\\n\\n\\n529.0\\n\\n\\nNet income allocated to participating securities\\n\\n\\n\\n(3.9)\\n\\n\\n\\n(0.9)\\n\\n\\n\\n(1.7)\\n\\n\\nNet income allocated to common stockholders\\n\\n\\n$\\n\\n757.5\\n\\n\\n$\\n\\n234.1\\n\\n\\n$\\n\\n527.3\\n\\n\\nBasic earnings per share\\n\\n\\n$\\n\\n7.16\\n\\n\\n$\\n\\n2.20\\n\\n\\n$\\n\\n4.93\\n\\n\\nDiluted earnings per share\\n\\n\\n$\\n\\n7.13\\n\\n\\n$\\n\\n2.19\\n\\n\\n$\\n\\n4.92\\n\\n\\n\\n\\n\\n\\n\\n\\n\\n\\n\\n\\n\\nBasic weighted average shares outstanding\\n\\n\\n\\n105.8\\n\\n\\n\\n106.3\\n\\n\\n\\n107.0\\n\\n\\nDiluted weighted average shares outstanding\\n\\n\\n\\n106.2\\n\\n\\n\\n106.7\\n\\n\\n\\n107.2]</td>\n",
       "      <td></td>\n",
       "      <td>Subtract</td>\n",
       "    </tr>\n",
       "    <tr>\n",
       "      <th>1</th>\n",
       "      <td>b8a1383c</td>\n",
       "      <td>CBOE CBA expiring may impact union representation expenses.</td>\n",
       "      <td>The three building engineers represent approximately 0.18% of the total workforce (calculated as 3 ÷ 1,647 × 100 ≈ 0.18%). Although this is a very small portion of overall employees, the impending expiration of their collective bargaining agreement (set to expire on March 31, 2024) is noteworthy for future expense planning. When the contract expires, there could be negotiations for new terms, which might include higher wages, enhanced benefits, or changes in other employment conditions. Such changes, though impacting only a small group, could lead to an increase in labor costs. Therefore, management should consider potential adjustments in their budgeting and forecasting process to account for any cost increases resulting from contract renegotiations.</td>\n",
       "      <td>[Employees\\n\\nAs of December 31, 2023, we employed 1,647 individuals in the following locations:\\n\\n\\n\\n\\nLocation\\n\\n\\nNumber of Employees\\n\\nUnited States\\n\\n\\n 1,107\\n\\nUnited Kingdom\\n\\n\\n 186\\n\\nNetherlands\\n\\n\\n 125\\n\\nCanada\\n\\n\\n 80\\n\\nAustralia\\n\\n\\n 78\\n\\nPhilippines\\n\\n\\n 30\\n\\nJapan\\n\\n\\n 26\\n\\nSingapore\\n\\n\\n 9\\n\\nHong Kong\\n\\n\\n 5\\n\\nSwitzerland\\n\\n\\n 1\\n\\nOf these employees, 595 were involved in technology operations and 185 were involved in direct support of trading operations. The remaining 867 employees provide business development, financial, regulation, human resources, compliance, legal, planning and research, administrative, and managerial support.  \\n\\nWe have three building engineers that are covered by a collective bargaining agreement, which expires on March 31, 2024, with the International Union of Operating Engineers Local 399, AFL-CIO. Management believes that we have strong relationships with our employees, and we have never experienced a work stoppage.]</td>\n",
       "      <td></td>\n",
       "      <td>Compositional</td>\n",
       "    </tr>\n",
       "  </tbody>\n",
       "</table>\n",
       "</div>"
      ],
      "text/plain": [
       "         ID                                                     question  \\\n",
       "0  b33fcee7      Delta in CBOE Data & Access Solutions rev from 2021-23.   \n",
       "1  b8a1383c  CBOE CBA expiring may impact union representation expenses.   \n",
       "\n",
       "                                                                                                                                                                                                                                                                                                                                                                                                                                                                                                                                                                                                                                                                                                                                                                                      answer  \\\n",
       "0                                                                                                                                                                                                                                                                                                                                                                                                                                                                                                                                                                                                                                                      The Data and Access Solutions revenue increased by $111.5 million from 2021 to 2023, calculated as 539.2 million minus 427.7 million.   \n",
       "1  The three building engineers represent approximately 0.18% of the total workforce (calculated as 3 ÷ 1,647 × 100 ≈ 0.18%). Although this is a very small portion of overall employees, the impending expiration of their collective bargaining agreement (set to expire on March 31, 2024) is noteworthy for future expense planning. When the contract expires, there could be negotiations for new terms, which might include higher wages, enhanced benefits, or changes in other employment conditions. Such changes, though impacting only a small group, could lead to an increase in labor costs. Therefore, management should consider potential adjustments in their budgeting and forecasting process to account for any cost increases resulting from contract renegotiations.   \n",
       "\n",
       "                                                                                                                                                                                                                                                                                                                                                                                                                                                                                                                                                                                                                                                                                                                                                                                                                                                                                                                                                                                                                                                                                                                                                                                                                                                                                                                                                                                                                                                                                                                                                                                                                                                                                                                                                                                                                                                                                                                                                                                                                                                                                                                                                                                                                                                                                                                                                                                                                                                                                                                                                                                                                                                                                                                                                                                                                                                                                                                                                                                                                                                                                                                                                                        context  \\\n",
       "0  [Cboe Global Markets, Inc. and Subsidiaries\\n\\nConsolidated Statements of Income\\n\\nYears ended December 31, 2023, 2022, and 2021\\n\\n(In millions, except per share data)\\n\\n\\n\\n\\n\\n\\n\\n\\n\\n\\n\\n\\n\\n\\n    \\n\\n2023\\n\\n    \\n\\n2022\\n\\n    \\n\\n2021\\n\\n \\n\\nRevenues:\\n\\n\\n\\n\\n\\n\\n\\n\\n\\n\\n\\nCash and spot markets\\n\\n\\n$\\n\\n1,445.1\\n\\n\\n$\\n\\n1,777.6\\n\\n\\n$\\n\\n1,660.5\\n\\n\\nData and access solutions\\n\\n\\n\\n539.2\\n\\n\\n\\n497.0\\n\\n\\n\\n427.7\\n\\n\\nDerivatives markets\\n\\n\\n \\n\\n1,789.2\\n\\n\\n \\n\\n1,683.9\\n\\n\\n \\n\\n1,406.6\\n\\n\\nTotal revenues\\n\\n\\n \\n\\n3,773.5\\n\\n\\n \\n\\n3,958.5\\n\\n\\n \\n\\n3,494.8\\n\\n\\nCost of revenues:\\n\\n\\n\\n\\n\\n\\n\\n\\n\\n\\n\\n  Liquidity payments\\n\\n\\n \\n\\n1,385.8\\n\\n\\n \\n\\n1,670.2\\n\\n\\n \\n\\n1,650.7\\n\\n\\n  Routing and clearing\\n\\n\\n\\n79.1\\n\\n\\n\\n83.2\\n\\n\\n\\n87.8\\n\\n\\n  Section 31 fees\\n\\n\\n\\n185.7\\n\\n\\n\\n329.8\\n\\n\\n\\n179.6\\n\\n\\n  Royalty fees and other cost of revenues\\n\\n\\n \\n\\n204.9\\n\\n\\n \\n\\n133.6\\n\\n\\n \\n\\n100.6\\n\\n\\nTotal cost of revenues\\n\\n\\n \\n\\n1,855.5\\n\\n\\n \\n\\n2,216.8\\n\\n\\n \\n\\n2,018.7\\n\\n\\nRevenues less cost of revenues\\n\\n\\n \\n\\n1,918.0\\n\\n\\n \\n\\n1,741.7\\n\\n\\n \\n\\n1,476.1\\n\\n\\nOperating expenses:\\n\\n\\n\\n\\n\\n\\n\\n\\n\\n\\n\\n  Compensation and benefits\\n\\n\\n \\n\\n425.8\\n\\n\\n \\n\\n363.0\\n\\n\\n \\n\\n288.5\\n\\n\\n  Depreciation and amortization\\n\\n\\n \\n\\n158.0\\n\\n\\n \\n\\n166.8\\n\\n\\n \\n\\n167.4\\n\\n\\n  Technology support services\\n\\n\\n \\n\\n99.7\\n\\n\\n \\n\\n77.7\\n\\n\\n \\n\\n66.7\\n\\n\\n  Professional fees and outside services\\n\\n\\n \\n\\n92.0\\n\\n\\n \\n\\n89.0\\n\\n\\n \\n\\n83.7\\n\\n\\n  Travel and promotional expenses\\n\\n\\n \\n\\n37.6\\n\\n\\n \\n\\n23.7\\n\\n\\n \\n\\n9.7\\n\\n\\n  Facilities costs\\n\\n\\n \\n\\n25.7\\n\\n\\n \\n\\n25.1\\n\\n\\n \\n\\n22.2\\n\\n\\n  Acquisition-related costs\\n\\n\\n \\n\\n7.4\\n\\n\\n \\n\\n19.9\\n\\n\\n \\n\\n15.6\\n\\n\\n  Goodwill impairment\\n\\n\\n\\n—\\n\\n\\n\\n460.9\\n\\n\\n\\n—\\n\\n\\n  Other expenses\\n\\n\\n\\n13.9\\n\\n\\n\\n26.0\\n\\n\\n\\n16.4\\n\\n\\nTotal operating expenses\\n\\n\\n \\n\\n860.1\\n\\n\\n \\n\\n1,252.1\\n\\n\\n \\n\\n670.2\\n\\n\\nOperating income\\n\\n\\n \\n\\n1,057.9\\n\\n\\n \\n\\n489.6\\n\\n\\n \\n\\n805.9\\n\\n\\nNon-operating (expenses) income:\\n\\n\\n\\n\\n\\n\\n\\n\\n\\n\\n\\nInterest expense\\n\\n\\n \\n\\n(62.4)\\n\\n\\n\\n(60.0)\\n\\n\\n\\n(48.0)\\n\\n\\nInterest income\\n\\n\\n\\n12.0\\n\\n\\n\\n3.6\\n\\n\\n\\n0.6\\n\\n\\nEarnings in investments\\n\\n\\n\\n39.5\\n\\n\\n\\n7.2\\n\\n\\n\\n1.0\\n\\n\\nOther income (expense), net\\n\\n\\n \\n\\n0.6\\n\\n\\n \\n\\n(7.5)\\n\\n\\n \\n\\n(3.4)\\n\\n\\nIncome before income tax provision\\n\\n\\n \\n\\n1,047.6\\n\\n\\n \\n\\n432.9\\n\\n\\n \\n\\n756.1\\n\\n\\nIncome tax provision\\n\\n\\n \\n\\n286.2\\n\\n\\n \\n\\n197.9\\n\\n\\n \\n\\n227.1\\n\\n\\nNet income\\n\\n\\n\\n761.4\\n\\n\\n\\n235.0\\n\\n\\n\\n529.0\\n\\n\\nNet income allocated to participating securities\\n\\n\\n\\n(3.9)\\n\\n\\n\\n(0.9)\\n\\n\\n\\n(1.7)\\n\\n\\nNet income allocated to common stockholders\\n\\n\\n$\\n\\n757.5\\n\\n\\n$\\n\\n234.1\\n\\n\\n$\\n\\n527.3\\n\\n\\nBasic earnings per share\\n\\n\\n$\\n\\n7.16\\n\\n\\n$\\n\\n2.20\\n\\n\\n$\\n\\n4.93\\n\\n\\nDiluted earnings per share\\n\\n\\n$\\n\\n7.13\\n\\n\\n$\\n\\n2.19\\n\\n\\n$\\n\\n4.92\\n\\n\\n\\n\\n\\n\\n\\n\\n\\n\\n\\n\\n\\nBasic weighted average shares outstanding\\n\\n\\n\\n105.8\\n\\n\\n\\n106.3\\n\\n\\n\\n107.0\\n\\n\\nDiluted weighted average shares outstanding\\n\\n\\n\\n106.2\\n\\n\\n\\n106.7\\n\\n\\n\\n107.2]   \n",
       "1                                                                                                                                                                                                                                                                                                                                                                                                                                                                                                                                                                                                                                                                                                                                                                                                                                                                                                                                                                                                                                                                                                                                                                                                                                                                                                                                                                                                                                                                                                                                                                                                                                                                                                                                                                                                                                                                                                                                                                                                                                                                                                                                        [Employees\\n\\nAs of December 31, 2023, we employed 1,647 individuals in the following locations:\\n\\n\\n\\n\\nLocation\\n\\n\\nNumber of Employees\\n\\nUnited States\\n\\n\\n 1,107\\n\\nUnited Kingdom\\n\\n\\n 186\\n\\nNetherlands\\n\\n\\n 125\\n\\nCanada\\n\\n\\n 80\\n\\nAustralia\\n\\n\\n 78\\n\\nPhilippines\\n\\n\\n 30\\n\\nJapan\\n\\n\\n 26\\n\\nSingapore\\n\\n\\n 9\\n\\nHong Kong\\n\\n\\n 5\\n\\nSwitzerland\\n\\n\\n 1\\n\\nOf these employees, 595 were involved in technology operations and 185 were involved in direct support of trading operations. The remaining 867 employees provide business development, financial, regulation, human resources, compliance, legal, planning and research, administrative, and managerial support.  \\n\\nWe have three building engineers that are covered by a collective bargaining agreement, which expires on March 31, 2024, with the International Union of Operating Engineers Local 399, AFL-CIO. Management believes that we have strong relationships with our employees, and we have never experienced a work stoppage.]   \n",
       "\n",
       "  gold_context      operation  \n",
       "0                    Subtract  \n",
       "1               Compositional  "
      ]
     },
     "execution_count": 68,
     "metadata": {},
     "output_type": "execute_result"
    }
   ],
   "source": [
    "df_finder.head(2)"
   ]
  },
  {
   "cell_type": "code",
   "execution_count": 69,
   "metadata": {},
   "outputs": [
    {
     "name": "stdout",
     "output_type": "stream",
     "text": [
      "Comprehensive check for missing or empty values per column:\n",
      "\n",
      "Number of rows: 5703\n",
      "Column 'ID': Clean (0 missing or empty values)\n",
      "Column 'question': Clean (0 missing or empty values)\n",
      "Column 'answer':\n",
      "  - Null/NaN values: 0\n",
      "  - Empty strings ('') values: 7\n",
      "  - Total missing/empty: 7\n",
      "\n",
      "Column 'context': Clean (0 missing or empty values)\n",
      "Column 'gold_context':\n",
      "  - Null/NaN values: 0\n",
      "  - Empty strings ('') values: 5703\n",
      "  - Total missing/empty: 5703\n",
      "\n",
      "Column 'operation': Clean (0 missing or empty values)\n"
     ]
    }
   ],
   "source": [
    "print(\"Comprehensive check for missing or empty values per column:\\n\")\n",
    "print(f\"Number of rows: {len(df_finder)}\")\n",
    "\n",
    "for column in df_finder.columns:\n",
    "    # Check for NaN/None using isnull()\n",
    "    null_count = df_finder[column].isnull().sum()\n",
    "    \n",
    "    # Check for empty strings, but only if the column is of a string/object type\n",
    "    empty_string_count = 0\n",
    "    if df_finder[column].dtype == 'object':\n",
    "        empty_string_count = (df_finder[column] == '').sum()\n",
    "        \n",
    "    # Calculate total \"missing\" or \"empty\"\n",
    "    total_missing = null_count + empty_string_count\n",
    "    \n",
    "    if total_missing > 0:\n",
    "        print(f\"Column '{column}':\")\n",
    "        print(f\"  - Null/NaN values: {null_count}\")\n",
    "        print(f\"  - Empty strings ('') values: {empty_string_count}\")\n",
    "        print(f\"  - Total missing/empty: {total_missing}\\n\")\n",
    "    else:\n",
    "        print(f\"Column '{column}': Clean (0 missing or empty values)\")\n"
   ]
  },
  {
   "cell_type": "code",
   "execution_count": 70,
   "metadata": {},
   "outputs": [],
   "source": [
    "finder_cleaned = df_finder[df_finder[\"answer\"] != \"\"].copy()"
   ]
  },
  {
   "cell_type": "code",
   "execution_count": 71,
   "metadata": {},
   "outputs": [
    {
     "name": "stdout",
     "output_type": "stream",
     "text": [
      "Before: 5703 rows\n",
      "After : 5696 rows (empty answers removed)\n"
     ]
    }
   ],
   "source": [
    "print(f\"Before: {len(df_finder)} rows\")\n",
    "print(f\"After : {len(finder_cleaned)} rows (empty answers removed)\")"
   ]
  },
  {
   "cell_type": "code",
   "execution_count": null,
   "metadata": {},
   "outputs": [],
   "source": [
    "# Save cleaned data \n",
    "finqa_cleaned.to_json(\"data/data_processed/finqa_processed.json\", orient=\"records\", lines=True)\n",
    "convfinqa_cleaned2.to_json(\"data/data_processed/convfinqa_processed.json\", orient=\"records\", lines=True)\n",
    "finder_cleaned.to_json(\"data/data_processed/finder_processed.json\", orient=\"records\", lines=True)"
   ]
  },
  {
   "cell_type": "markdown",
   "metadata": {},
   "source": [
    "#### 2.2 Compare FinQA and ConvFinQA\n"
   ]
  },
  {
   "cell_type": "markdown",
   "metadata": {},
   "source": [
    "Find unique questions in both datasets"
   ]
  },
  {
   "cell_type": "code",
   "execution_count": 81,
   "metadata": {},
   "outputs": [],
   "source": [
    "finqa_qas = set(\n",
    "    (row.question.strip().lower(), row.answer.strip().lower())\n",
    "    for row in finqa_cleaned.itertuples()\n",
    ")\n",
    "\n",
    "convfinqa_qas = set(\n",
    "    (row.question.strip().lower(), row.answer.strip().lower())\n",
    "    for row in convfinqa_cleaned2.itertuples()\n",
    ")"
   ]
  },
  {
   "cell_type": "code",
   "execution_count": 82,
   "metadata": {},
   "outputs": [
    {
     "name": "stdout",
     "output_type": "stream",
     "text": [
      "Unique to FinQA: 6142\n",
      "Unique to ConvFinQA: 5299\n",
      "Shared between both: 0\n"
     ]
    }
   ],
   "source": [
    "only_in_finqa = finqa_qas - convfinqa_qas\n",
    "only_in_convfinqa = convfinqa_qas - finqa_qas\n",
    "in_both = finqa_qas & convfinqa_qas\n",
    "\n",
    "print(f\"Unique to FinQA: {len(only_in_finqa)}\")\n",
    "print(f\"Unique to ConvFinQA: {len(only_in_convfinqa)}\")\n",
    "print(f\"Shared between both: {len(in_both)}\")"
   ]
  },
  {
   "cell_type": "code",
   "execution_count": 83,
   "metadata": {},
   "outputs": [
    {
     "name": "stdout",
     "output_type": "stream",
     "text": [
      "FinQA length: 6203\n",
      "ConvFinQA length: 5302\n",
      "FinDER length: 5696\n"
     ]
    }
   ],
   "source": [
    "#length of all three datasets\n",
    "print(f\"FinQA length: {len(finqa_cleaned)}\")\n",
    "print(f\"ConvFinQA length: {len(convfinqa_cleaned2)}\")\n",
    "print(f\"FinDER length: {len(finder_cleaned)}\")"
   ]
  },
  {
   "cell_type": "code",
   "execution_count": 84,
   "metadata": {},
   "outputs": [
    {
     "name": "stdout",
     "output_type": "stream",
     "text": [
      "Index(['ID', 'question', 'answer', 'context', 'gold_context', 'operation'], dtype='object')\n",
      "Index(['ID', 'question', 'answer', 'context', 'gold_context', 'operation'], dtype='object')\n",
      "Index(['ID', 'question', 'answer', 'context', 'gold_context', 'operation'], dtype='object')\n"
     ]
    }
   ],
   "source": [
    "print(finqa_cleaned.columns)\n",
    "print(convfinqa_cleaned2.columns)\n",
    "print(finder_cleaned.columns)"
   ]
  },
  {
   "cell_type": "markdown",
   "metadata": {},
   "source": [
    "#### 2.3 Merge Datasets "
   ]
  },
  {
   "cell_type": "code",
   "execution_count": 86,
   "metadata": {},
   "outputs": [
    {
     "data": {
      "text/html": [
       "<div>\n",
       "<style scoped>\n",
       "    .dataframe tbody tr th:only-of-type {\n",
       "        vertical-align: middle;\n",
       "    }\n",
       "\n",
       "    .dataframe tbody tr th {\n",
       "        vertical-align: top;\n",
       "    }\n",
       "\n",
       "    .dataframe thead th {\n",
       "        text-align: right;\n",
       "    }\n",
       "</style>\n",
       "<table border=\"1\" class=\"dataframe\">\n",
       "  <thead>\n",
       "    <tr style=\"text-align: right;\">\n",
       "      <th></th>\n",
       "      <th>ID</th>\n",
       "      <th>question</th>\n",
       "      <th>answer</th>\n",
       "      <th>context</th>\n",
       "      <th>gold_context</th>\n",
       "      <th>operation</th>\n",
       "      <th>source</th>\n",
       "    </tr>\n",
       "  </thead>\n",
       "  <tbody>\n",
       "    <tr>\n",
       "      <th>0</th>\n",
       "      <td>b33fcee7</td>\n",
       "      <td>Delta in CBOE Data &amp; Access Solutions rev from 2021-23.</td>\n",
       "      <td>The Data and Access Solutions revenue increased by $111.5 million from 2021 to 2023, calculated as 539.2 million minus 427.7 million.</td>\n",
       "      <td>[Cboe Global Markets, Inc. and Subsidiaries\\n\\nConsolidated Statements of Income\\n\\nYears ended December 31, 2023, 2022, and 2021\\n\\n(In millions, except per share data)\\n\\n\\n\\n\\n\\n\\n\\n\\n\\n\\n\\n\\n\\n\\n    \\n\\n2023\\n\\n    \\n\\n2022\\n\\n    \\n\\n2021\\n\\n \\n\\nRevenues:\\n\\n\\n\\n\\n\\n\\n\\n\\n\\n\\n\\nCash and spot markets\\n\\n\\n$\\n\\n1,445.1\\n\\n\\n$\\n\\n1,777.6\\n\\n\\n$\\n\\n1,660.5\\n\\n\\nData and access solutions\\n\\n\\n\\n539.2\\n\\n\\n\\n497.0\\n\\n\\n\\n427.7\\n\\n\\nDerivatives markets\\n\\n\\n \\n\\n1,789.2\\n\\n\\n \\n\\n1,683.9\\n\\n\\n \\n\\n1,406.6\\n\\n\\nTotal revenues\\n\\n\\n \\n\\n3,773.5\\n\\n\\n \\n\\n3,958.5\\n\\n\\n \\n\\n3,494.8\\n\\n\\nCost of revenues:\\n\\n\\n\\n\\n\\n\\n\\n\\n\\n\\n\\n  Liquidity payments\\n\\n\\n \\n\\n1,385.8\\n\\n\\n \\n\\n1,670.2\\n\\n\\n \\n\\n1,650.7\\n\\n\\n  Routing and clearing\\n\\n\\n\\n79.1\\n\\n\\n\\n83.2\\n\\n\\n\\n87.8\\n\\n\\n  Section 31 fees\\n\\n\\n\\n185.7\\n\\n\\n\\n329.8\\n\\n\\n\\n179.6\\n\\n\\n  Royalty fees and other cost of revenues\\n\\n\\n \\n\\n204.9\\n\\n\\n \\n\\n133.6\\n\\n\\n \\n\\n100.6\\n\\n\\nTotal cost of revenues\\n\\n\\n \\n\\n1,855.5\\n\\n\\n \\n\\n2,216.8\\n\\n\\n \\n\\n2,018.7\\n\\n\\nRevenues less cost of revenues\\n\\n\\n \\n\\n1,918.0\\n\\n\\n \\n\\n1,741.7\\n\\n\\n \\n\\n1,476.1\\n\\n\\nOperating expenses:\\n\\n\\n\\n\\n\\n\\n\\n\\n\\n\\n\\n  Compensation and benefits\\n\\n\\n \\n\\n425.8\\n\\n\\n \\n\\n363.0\\n\\n\\n \\n\\n288.5\\n\\n\\n  Depreciation and amortization\\n\\n\\n \\n\\n158.0\\n\\n\\n \\n\\n166.8\\n\\n\\n \\n\\n167.4\\n\\n\\n  Technology support services\\n\\n\\n \\n\\n99.7\\n\\n\\n \\n\\n77.7\\n\\n\\n \\n\\n66.7\\n\\n\\n  Professional fees and outside services\\n\\n\\n \\n\\n92.0\\n\\n\\n \\n\\n89.0\\n\\n\\n \\n\\n83.7\\n\\n\\n  Travel and promotional expenses\\n\\n\\n \\n\\n37.6\\n\\n\\n \\n\\n23.7\\n\\n\\n \\n\\n9.7\\n\\n\\n  Facilities costs\\n\\n\\n \\n\\n25.7\\n\\n\\n \\n\\n25.1\\n\\n\\n \\n\\n22.2\\n\\n\\n  Acquisition-related costs\\n\\n\\n \\n\\n7.4\\n\\n\\n \\n\\n19.9\\n\\n\\n \\n\\n15.6\\n\\n\\n  Goodwill impairment\\n\\n\\n\\n—\\n\\n\\n\\n460.9\\n\\n\\n\\n—\\n\\n\\n  Other expenses\\n\\n\\n\\n13.9\\n\\n\\n\\n26.0\\n\\n\\n\\n16.4\\n\\n\\nTotal operating expenses\\n\\n\\n \\n\\n860.1\\n\\n\\n \\n\\n1,252.1\\n\\n\\n \\n\\n670.2\\n\\n\\nOperating income\\n\\n\\n \\n\\n1,057.9\\n\\n\\n \\n\\n489.6\\n\\n\\n \\n\\n805.9\\n\\n\\nNon-operating (expenses) income:\\n\\n\\n\\n\\n\\n\\n\\n\\n\\n\\n\\nInterest expense\\n\\n\\n \\n\\n(62.4)\\n\\n\\n\\n(60.0)\\n\\n\\n\\n(48.0)\\n\\n\\nInterest income\\n\\n\\n\\n12.0\\n\\n\\n\\n3.6\\n\\n\\n\\n0.6\\n\\n\\nEarnings in investments\\n\\n\\n\\n39.5\\n\\n\\n\\n7.2\\n\\n\\n\\n1.0\\n\\n\\nOther income (expense), net\\n\\n\\n \\n\\n0.6\\n\\n\\n \\n\\n(7.5)\\n\\n\\n \\n\\n(3.4)\\n\\n\\nIncome before income tax provision\\n\\n\\n \\n\\n1,047.6\\n\\n\\n \\n\\n432.9\\n\\n\\n \\n\\n756.1\\n\\n\\nIncome tax provision\\n\\n\\n \\n\\n286.2\\n\\n\\n \\n\\n197.9\\n\\n\\n \\n\\n227.1\\n\\n\\nNet income\\n\\n\\n\\n761.4\\n\\n\\n\\n235.0\\n\\n\\n\\n529.0\\n\\n\\nNet income allocated to participating securities\\n\\n\\n\\n(3.9)\\n\\n\\n\\n(0.9)\\n\\n\\n\\n(1.7)\\n\\n\\nNet income allocated to common stockholders\\n\\n\\n$\\n\\n757.5\\n\\n\\n$\\n\\n234.1\\n\\n\\n$\\n\\n527.3\\n\\n\\nBasic earnings per share\\n\\n\\n$\\n\\n7.16\\n\\n\\n$\\n\\n2.20\\n\\n\\n$\\n\\n4.93\\n\\n\\nDiluted earnings per share\\n\\n\\n$\\n\\n7.13\\n\\n\\n$\\n\\n2.19\\n\\n\\n$\\n\\n4.92\\n\\n\\n\\n\\n\\n\\n\\n\\n\\n\\n\\n\\n\\nBasic weighted average shares outstanding\\n\\n\\n\\n105.8\\n\\n\\n\\n106.3\\n\\n\\n\\n107.0\\n\\n\\nDiluted weighted average shares outstanding\\n\\n\\n\\n106.2\\n\\n\\n\\n106.7\\n\\n\\n\\n107.2]</td>\n",
       "      <td></td>\n",
       "      <td>Subtract</td>\n",
       "      <td>FinDER</td>\n",
       "    </tr>\n",
       "    <tr>\n",
       "      <th>1</th>\n",
       "      <td>b8a1383c</td>\n",
       "      <td>CBOE CBA expiring may impact union representation expenses.</td>\n",
       "      <td>The three building engineers represent approximately 0.18% of the total workforce (calculated as 3 ÷ 1,647 × 100 ≈ 0.18%). Although this is a very small portion of overall employees, the impending expiration of their collective bargaining agreement (set to expire on March 31, 2024) is noteworthy for future expense planning. When the contract expires, there could be negotiations for new terms, which might include higher wages, enhanced benefits, or changes in other employment conditions. Such changes, though impacting only a small group, could lead to an increase in labor costs. Therefore, management should consider potential adjustments in their budgeting and forecasting process to account for any cost increases resulting from contract renegotiations.</td>\n",
       "      <td>[Employees\\n\\nAs of December 31, 2023, we employed 1,647 individuals in the following locations:\\n\\n\\n\\n\\nLocation\\n\\n\\nNumber of Employees\\n\\nUnited States\\n\\n\\n 1,107\\n\\nUnited Kingdom\\n\\n\\n 186\\n\\nNetherlands\\n\\n\\n 125\\n\\nCanada\\n\\n\\n 80\\n\\nAustralia\\n\\n\\n 78\\n\\nPhilippines\\n\\n\\n 30\\n\\nJapan\\n\\n\\n 26\\n\\nSingapore\\n\\n\\n 9\\n\\nHong Kong\\n\\n\\n 5\\n\\nSwitzerland\\n\\n\\n 1\\n\\nOf these employees, 595 were involved in technology operations and 185 were involved in direct support of trading operations. The remaining 867 employees provide business development, financial, regulation, human resources, compliance, legal, planning and research, administrative, and managerial support.  \\n\\nWe have three building engineers that are covered by a collective bargaining agreement, which expires on March 31, 2024, with the International Union of Operating Engineers Local 399, AFL-CIO. Management believes that we have strong relationships with our employees, and we have never experienced a work stoppage.]</td>\n",
       "      <td></td>\n",
       "      <td>Compositional</td>\n",
       "      <td>FinDER</td>\n",
       "    </tr>\n",
       "  </tbody>\n",
       "</table>\n",
       "</div>"
      ],
      "text/plain": [
       "         ID                                                     question  \\\n",
       "0  b33fcee7      Delta in CBOE Data & Access Solutions rev from 2021-23.   \n",
       "1  b8a1383c  CBOE CBA expiring may impact union representation expenses.   \n",
       "\n",
       "                                                                                                                                                                                                                                                                                                                                                                                                                                                                                                                                                                                                                                                                                                                                                                                      answer  \\\n",
       "0                                                                                                                                                                                                                                                                                                                                                                                                                                                                                                                                                                                                                                                      The Data and Access Solutions revenue increased by $111.5 million from 2021 to 2023, calculated as 539.2 million minus 427.7 million.   \n",
       "1  The three building engineers represent approximately 0.18% of the total workforce (calculated as 3 ÷ 1,647 × 100 ≈ 0.18%). Although this is a very small portion of overall employees, the impending expiration of their collective bargaining agreement (set to expire on March 31, 2024) is noteworthy for future expense planning. When the contract expires, there could be negotiations for new terms, which might include higher wages, enhanced benefits, or changes in other employment conditions. Such changes, though impacting only a small group, could lead to an increase in labor costs. Therefore, management should consider potential adjustments in their budgeting and forecasting process to account for any cost increases resulting from contract renegotiations.   \n",
       "\n",
       "                                                                                                                                                                                                                                                                                                                                                                                                                                                                                                                                                                                                                                                                                                                                                                                                                                                                                                                                                                                                                                                                                                                                                                                                                                                                                                                                                                                                                                                                                                                                                                                                                                                                                                                                                                                                                                                                                                                                                                                                                                                                                                                                                                                                                                                                                                                                                                                                                                                                                                                                                                                                                                                                                                                                                                                                                                                                                                                                                                                                                                                                                                                                                                        context  \\\n",
       "0  [Cboe Global Markets, Inc. and Subsidiaries\\n\\nConsolidated Statements of Income\\n\\nYears ended December 31, 2023, 2022, and 2021\\n\\n(In millions, except per share data)\\n\\n\\n\\n\\n\\n\\n\\n\\n\\n\\n\\n\\n\\n\\n    \\n\\n2023\\n\\n    \\n\\n2022\\n\\n    \\n\\n2021\\n\\n \\n\\nRevenues:\\n\\n\\n\\n\\n\\n\\n\\n\\n\\n\\n\\nCash and spot markets\\n\\n\\n$\\n\\n1,445.1\\n\\n\\n$\\n\\n1,777.6\\n\\n\\n$\\n\\n1,660.5\\n\\n\\nData and access solutions\\n\\n\\n\\n539.2\\n\\n\\n\\n497.0\\n\\n\\n\\n427.7\\n\\n\\nDerivatives markets\\n\\n\\n \\n\\n1,789.2\\n\\n\\n \\n\\n1,683.9\\n\\n\\n \\n\\n1,406.6\\n\\n\\nTotal revenues\\n\\n\\n \\n\\n3,773.5\\n\\n\\n \\n\\n3,958.5\\n\\n\\n \\n\\n3,494.8\\n\\n\\nCost of revenues:\\n\\n\\n\\n\\n\\n\\n\\n\\n\\n\\n\\n  Liquidity payments\\n\\n\\n \\n\\n1,385.8\\n\\n\\n \\n\\n1,670.2\\n\\n\\n \\n\\n1,650.7\\n\\n\\n  Routing and clearing\\n\\n\\n\\n79.1\\n\\n\\n\\n83.2\\n\\n\\n\\n87.8\\n\\n\\n  Section 31 fees\\n\\n\\n\\n185.7\\n\\n\\n\\n329.8\\n\\n\\n\\n179.6\\n\\n\\n  Royalty fees and other cost of revenues\\n\\n\\n \\n\\n204.9\\n\\n\\n \\n\\n133.6\\n\\n\\n \\n\\n100.6\\n\\n\\nTotal cost of revenues\\n\\n\\n \\n\\n1,855.5\\n\\n\\n \\n\\n2,216.8\\n\\n\\n \\n\\n2,018.7\\n\\n\\nRevenues less cost of revenues\\n\\n\\n \\n\\n1,918.0\\n\\n\\n \\n\\n1,741.7\\n\\n\\n \\n\\n1,476.1\\n\\n\\nOperating expenses:\\n\\n\\n\\n\\n\\n\\n\\n\\n\\n\\n\\n  Compensation and benefits\\n\\n\\n \\n\\n425.8\\n\\n\\n \\n\\n363.0\\n\\n\\n \\n\\n288.5\\n\\n\\n  Depreciation and amortization\\n\\n\\n \\n\\n158.0\\n\\n\\n \\n\\n166.8\\n\\n\\n \\n\\n167.4\\n\\n\\n  Technology support services\\n\\n\\n \\n\\n99.7\\n\\n\\n \\n\\n77.7\\n\\n\\n \\n\\n66.7\\n\\n\\n  Professional fees and outside services\\n\\n\\n \\n\\n92.0\\n\\n\\n \\n\\n89.0\\n\\n\\n \\n\\n83.7\\n\\n\\n  Travel and promotional expenses\\n\\n\\n \\n\\n37.6\\n\\n\\n \\n\\n23.7\\n\\n\\n \\n\\n9.7\\n\\n\\n  Facilities costs\\n\\n\\n \\n\\n25.7\\n\\n\\n \\n\\n25.1\\n\\n\\n \\n\\n22.2\\n\\n\\n  Acquisition-related costs\\n\\n\\n \\n\\n7.4\\n\\n\\n \\n\\n19.9\\n\\n\\n \\n\\n15.6\\n\\n\\n  Goodwill impairment\\n\\n\\n\\n—\\n\\n\\n\\n460.9\\n\\n\\n\\n—\\n\\n\\n  Other expenses\\n\\n\\n\\n13.9\\n\\n\\n\\n26.0\\n\\n\\n\\n16.4\\n\\n\\nTotal operating expenses\\n\\n\\n \\n\\n860.1\\n\\n\\n \\n\\n1,252.1\\n\\n\\n \\n\\n670.2\\n\\n\\nOperating income\\n\\n\\n \\n\\n1,057.9\\n\\n\\n \\n\\n489.6\\n\\n\\n \\n\\n805.9\\n\\n\\nNon-operating (expenses) income:\\n\\n\\n\\n\\n\\n\\n\\n\\n\\n\\n\\nInterest expense\\n\\n\\n \\n\\n(62.4)\\n\\n\\n\\n(60.0)\\n\\n\\n\\n(48.0)\\n\\n\\nInterest income\\n\\n\\n\\n12.0\\n\\n\\n\\n3.6\\n\\n\\n\\n0.6\\n\\n\\nEarnings in investments\\n\\n\\n\\n39.5\\n\\n\\n\\n7.2\\n\\n\\n\\n1.0\\n\\n\\nOther income (expense), net\\n\\n\\n \\n\\n0.6\\n\\n\\n \\n\\n(7.5)\\n\\n\\n \\n\\n(3.4)\\n\\n\\nIncome before income tax provision\\n\\n\\n \\n\\n1,047.6\\n\\n\\n \\n\\n432.9\\n\\n\\n \\n\\n756.1\\n\\n\\nIncome tax provision\\n\\n\\n \\n\\n286.2\\n\\n\\n \\n\\n197.9\\n\\n\\n \\n\\n227.1\\n\\n\\nNet income\\n\\n\\n\\n761.4\\n\\n\\n\\n235.0\\n\\n\\n\\n529.0\\n\\n\\nNet income allocated to participating securities\\n\\n\\n\\n(3.9)\\n\\n\\n\\n(0.9)\\n\\n\\n\\n(1.7)\\n\\n\\nNet income allocated to common stockholders\\n\\n\\n$\\n\\n757.5\\n\\n\\n$\\n\\n234.1\\n\\n\\n$\\n\\n527.3\\n\\n\\nBasic earnings per share\\n\\n\\n$\\n\\n7.16\\n\\n\\n$\\n\\n2.20\\n\\n\\n$\\n\\n4.93\\n\\n\\nDiluted earnings per share\\n\\n\\n$\\n\\n7.13\\n\\n\\n$\\n\\n2.19\\n\\n\\n$\\n\\n4.92\\n\\n\\n\\n\\n\\n\\n\\n\\n\\n\\n\\n\\n\\nBasic weighted average shares outstanding\\n\\n\\n\\n105.8\\n\\n\\n\\n106.3\\n\\n\\n\\n107.0\\n\\n\\nDiluted weighted average shares outstanding\\n\\n\\n\\n106.2\\n\\n\\n\\n106.7\\n\\n\\n\\n107.2]   \n",
       "1                                                                                                                                                                                                                                                                                                                                                                                                                                                                                                                                                                                                                                                                                                                                                                                                                                                                                                                                                                                                                                                                                                                                                                                                                                                                                                                                                                                                                                                                                                                                                                                                                                                                                                                                                                                                                                                                                                                                                                                                                                                                                                                                        [Employees\\n\\nAs of December 31, 2023, we employed 1,647 individuals in the following locations:\\n\\n\\n\\n\\nLocation\\n\\n\\nNumber of Employees\\n\\nUnited States\\n\\n\\n 1,107\\n\\nUnited Kingdom\\n\\n\\n 186\\n\\nNetherlands\\n\\n\\n 125\\n\\nCanada\\n\\n\\n 80\\n\\nAustralia\\n\\n\\n 78\\n\\nPhilippines\\n\\n\\n 30\\n\\nJapan\\n\\n\\n 26\\n\\nSingapore\\n\\n\\n 9\\n\\nHong Kong\\n\\n\\n 5\\n\\nSwitzerland\\n\\n\\n 1\\n\\nOf these employees, 595 were involved in technology operations and 185 were involved in direct support of trading operations. The remaining 867 employees provide business development, financial, regulation, human resources, compliance, legal, planning and research, administrative, and managerial support.  \\n\\nWe have three building engineers that are covered by a collective bargaining agreement, which expires on March 31, 2024, with the International Union of Operating Engineers Local 399, AFL-CIO. Management believes that we have strong relationships with our employees, and we have never experienced a work stoppage.]   \n",
       "\n",
       "  gold_context      operation  source  \n",
       "0                    Subtract  FinDER  \n",
       "1               Compositional  FinDER  "
      ]
     },
     "execution_count": 86,
     "metadata": {},
     "output_type": "execute_result"
    }
   ],
   "source": [
    "# Add source columns\n",
    "finqa_cleaned[\"source\"] = \"FinQA\"\n",
    "convfinqa_cleaned2[\"source\"] = \"ConvFinQA\"\n",
    "finder_cleaned[\"source\"] = \"FinDER\"\n",
    "\n",
    "\n",
    "finder_cleaned.head(2)"
   ]
  },
  {
   "cell_type": "code",
   "execution_count": null,
   "metadata": {},
   "outputs": [
    {
     "name": "stdout",
     "output_type": "stream",
     "text": [
      "source\n",
      "FinQA        6203\n",
      "FinDER       5696\n",
      "ConvFinQA    5302\n",
      "Name: count, dtype: int64\n",
      "                      ID  \\\n",
      "0   ADI/2009/page_49.pdf   \n",
      "1   AAL/2018/page_13.pdf   \n",
      "2  INTC/2013/page_71.pdf   \n",
      "3  ETR/2008/page_313.pdf   \n",
      "4    C/2010/page_272.pdf   \n",
      "\n",
      "                                                                                                             question  \\\n",
      "0                                                                           what is the the interest expense in 2009?   \n",
      "1                                                           what was the total operating expenses in 2018 in millions   \n",
      "2  what percentage of total cash and investments as of dec . 29 2012 was comprised of available-for-sale investments?   \n",
      "3                                                                     what is the growth rate in net revenue in 2008?   \n",
      "4                     what was the growth rate of the loans held-for-sale that are carried at locom from 2009 to 2010   \n",
      "\n",
      "   answer  \\\n",
      "0     380   \n",
      "1   41932   \n",
      "2     53%   \n",
      "3   -3.2%   \n",
      "4  56.25%   \n",
      "\n",
      "                                                                                                                                                                                                                                                                                                                                                                                                                                                                                                                                                                                                                                                                                                                                                                                                                                                                                                                                                                                                                                                                                                                                                                                                                                                                                                                                                                                                                                                                                                                                                                                                                                                                                                                                                                                                                                                                                                                                                                                                                                                                                                                                                                                                                                                                                                                                                                                                                                                                                                                                                                                                                                                                                                                                                                                                                                                                                                                                                                                                                                                                                                                                                                                                                                                                                                                                                                                                                                                                                                                                                                                                                                                                                                                                                                                                                                                                                                                                                                                                                                                                                                                                                                                                                                    context  \\\n",
      "0  ['interest rate to a variable interest rate based on the three-month libor plus 2.05% ( 2.05 % ) ( 2.34% ( 2.34 % ) as of october 31 , 2009 ) .', 'if libor changes by 100 basis points , our annual interest expense would change by $ 3.8 million .', 'foreign currency exposure as more fully described in note 2i .', 'in the notes to consolidated financial statements contained in item 8 of this annual report on form 10-k , we regularly hedge our non-u.s .', 'dollar-based exposures by entering into forward foreign currency exchange contracts .', 'the terms of these contracts are for periods matching the duration of the underlying exposure and generally range from one month to twelve months .', 'currently , our largest foreign currency exposure is the euro , primarily because our european operations have the highest proportion of our local currency denominated expenses .', 'relative to foreign currency exposures existing at october 31 , 2009 and november 1 , 2008 , a 10% ( 10 % ) unfavorable movement in foreign currency exchange rates over the course of the year would not expose us to significant losses in earnings or cash flows because we hedge a high proportion of our year-end exposures against fluctuations in foreign currency exchange rates .', 'the market risk associated with our derivative instruments results from currency exchange rate or interest rate movements that are expected to offset the market risk of the underlying transactions , assets and liabilities being hedged .', 'the counterparties to the agreements relating to our foreign exchange instruments consist of a number of major international financial institutions with high credit ratings .', 'we do not believe that there is significant risk of nonperformance by these counterparties because we continually monitor the credit ratings of such counterparties .', 'while the contract or notional amounts of derivative financial instruments provide one measure of the volume of these transactions , they do not represent the amount of our exposure to credit risk .', 'the amounts potentially subject to credit risk ( arising from the possible inability of counterparties to meet the terms of their contracts ) are generally limited to the amounts , if any , by which the counterparties 2019 obligations under the contracts exceed our obligations to the counterparties .', 'the following table illustrates the effect that a 10% ( 10 % ) unfavorable or favorable movement in foreign currency exchange rates , relative to the u.s .', 'dollar , would have on the fair value of our forward exchange contracts as of october 31 , 2009 and november 1 , 2008: .']\\n\\toctober 31 2009\\tnovember 1 2008\\nfair value of forward exchange contracts asset ( liability )\\t$ 6427\\t$ -23158 ( 23158 )\\nfair value of forward exchange contracts after a 10% ( 10 % ) unfavorable movement in foreign currency exchange rates asset ( liability )\\t$ 20132\\t$ -9457 ( 9457 )\\nfair value of forward exchange contracts after a 10% ( 10 % ) favorable movement in foreign currency exchange rates liability\\t$ -6781 ( 6781 )\\t$ -38294 ( 38294 )\\n['fair value of forward exchange contracts after a 10% ( 10 % ) unfavorable movement in foreign currency exchange rates asset ( liability ) .', '.', '.', '.', '.', '.', '.', '.', '.', '$ 20132 $ ( 9457 ) fair value of forward exchange contracts after a 10% ( 10 % ) favorable movement in foreign currency exchange rates liability .', '.', '.', '.', '.', '.', '.', '.', '.', '.', '.', '.', '.', '.', '.', '.', '.', '.', '.', '.', '.', '.', '$ ( 6781 ) $ ( 38294 ) the calculation assumes that each exchange rate would change in the same direction relative to the u.s .', 'dollar .', 'in addition to the direct effects of changes in exchange rates , such changes typically affect the volume of sales or the foreign currency sales price as competitors 2019 products become more or less attractive .', 'our sensitivity analysis of the effects of changes in foreign currency exchange rates does not factor in a potential change in sales levels or local currency selling prices. .']   \n",
      "1                                                                                                                                                                                                                                                                    ['the following table shows annual aircraft fuel consumption and costs , including taxes , for our mainline and regional operations for 2018 , 2017 and 2016 ( gallons and aircraft fuel expense in millions ) .', 'year gallons average price per gallon aircraft fuel expense percent of total operating expenses .']\\nyear\\tgallons\\taverage priceper gallon\\taircraft fuelexpense\\tpercent of totaloperating expenses\\n2018\\t4447\\t$ 2.23\\t$ 9896\\t23.6% ( 23.6 % )\\n2017\\t4352\\t1.73\\t7510\\t19.6% ( 19.6 % )\\n2016\\t4347\\t1.42\\t6180\\t17.6% ( 17.6 % )\\n['as of december 31 , 2018 , we did not have any fuel hedging contracts outstanding to hedge our fuel consumption .', 'as such , and assuming we do not enter into any future transactions to hedge our fuel consumption , we will continue to be fully exposed to fluctuations in fuel prices .', 'our current policy is not to enter into transactions to hedge our fuel consumption , although we review that policy from time to time based on market conditions and other factors .', 'fuel prices have fluctuated substantially over the past several years .', 'we cannot predict the future availability , price volatility or cost of aircraft fuel .', 'natural disasters ( including hurricanes or similar events in the u.s .', 'southeast and on the gulf coast where a significant portion of domestic refining capacity is located ) , political disruptions or wars involving oil-producing countries , economic sanctions imposed against oil-producing countries or specific industry participants , changes in fuel-related governmental policy , the strength of the u.s .', 'dollar against foreign currencies , changes in the cost to transport or store petroleum products , changes in access to petroleum product pipelines and terminals , speculation in the energy futures markets , changes in aircraft fuel production capacity , environmental concerns and other unpredictable events may result in fuel supply shortages , distribution challenges , additional fuel price volatility and cost increases in the future .', 'see part i , item 1a .', 'risk factors 2013 201cour business is very dependent on the price and availability of aircraft fuel .', 'continued periods of high volatility in fuel costs , increased fuel prices or significant disruptions in the supply of aircraft fuel could have a significant negative impact on our operating results and liquidity . 201d seasonality and other factors due to the greater demand for air travel during the summer months , revenues in the airline industry in the second and third quarters of the year tend to be greater than revenues in the first and fourth quarters of the year .', 'general economic conditions , fears of terrorism or war , fare initiatives , fluctuations in fuel prices , labor actions , weather , natural disasters , outbreaks of disease and other factors could impact this seasonal pattern .', 'therefore , our quarterly results of operations are not necessarily indicative of operating results for the entire year , and historical operating results in a quarterly or annual period are not necessarily indicative of future operating results .', 'domestic and global regulatory landscape general airlines are subject to extensive domestic and international regulatory requirements .', 'domestically , the dot and the federal aviation administration ( faa ) exercise significant regulatory authority over air carriers .', 'the dot , among other things , oversees domestic and international codeshare agreements , international route authorities , competition and consumer protection matters such as advertising , denied boarding compensation and baggage liability .', 'the antitrust division of the department of justice ( doj ) , along with the dot in certain instances , have jurisdiction over airline antitrust matters. .']   \n",
      "2                                                                                                                                                                                                                                                                                                                                                                                                                                                                                                                                                                                                                                                                                                                                                                                                                                                                                                                                                                                                                                                                                                                                                                                                                                                                                                                 ['the fair value of our grants receivable is determined using a discounted cash flow model , which discounts future cash flows using an appropriate yield curve .', 'as of december 28 , 2013 , and december 29 , 2012 , the carrying amount of our grants receivable was classified within other current assets and other long-term assets , as applicable .', 'our long-term debt recognized at amortized cost is comprised of our senior notes and our convertible debentures .', 'the fair value of our senior notes is determined using active market prices , and it is therefore classified as level 1 .', 'the fair value of our convertible long-term debt is determined using discounted cash flow models with observable market inputs , and it takes into consideration variables such as interest rate changes , comparable securities , subordination discount , and credit-rating changes , and it is therefore classified as level 2 .', 'the nvidia corporation ( nvidia ) cross-license agreement liability in the preceding table was incurred as a result of entering into a long-term patent cross-license agreement with nvidia in january 2011 .', 'we agreed to make payments to nvidia over six years .', 'as of december 28 , 2013 , and december 29 , 2012 , the carrying amount of the liability arising from the agreement was classified within other accrued liabilities and other long-term liabilities , as applicable .', 'the fair value is determined using a discounted cash flow model , which discounts future cash flows using our incremental borrowing rates .', 'note 5 : cash and investments cash and investments at the end of each period were as follows : ( in millions ) dec 28 , dec 29 .']\\n( in millions )\\tdec 282013\\tdec 292012\\navailable-for-sale investments\\t$ 18086\\t$ 14001\\ncash\\t854\\t593\\nequity method investments\\t1038\\t992\\nloans receivable\\t1072\\t979\\nnon-marketable cost method investments\\t1270\\t1202\\nreverse repurchase agreements\\t800\\t2850\\ntrading assets\\t8441\\t5685\\ntotal cash and investments\\t$ 31561\\t$ 26302\\n['in the third quarter of 2013 , we sold our shares in clearwire corporation , which had been accounted for as available-for-sale marketable equity securities , and our interest in clearwire communications , llc ( clearwire llc ) , which had been accounted for as an equity method investment .', 'in total , we received proceeds of $ 470 million on these transactions and recognized a gain of $ 439 million , which is included in gains ( losses ) on equity investments , net on the consolidated statements of income .', 'proceeds received and gains recognized for each investment are included in the \"available-for-sale investments\" and \"equity method investments\" sections that follow .', 'table of contents intel corporation notes to consolidated financial statements ( continued ) .']   \n",
      "3                                                                                                                                                                                                                                                                                                                                                                                                                                                                                                                                                                                                                                                                                                                                                                                                                                                                                                                                                                                                                                                                                                                                                                                                                                                                                                                                                                                                                                                                                                                                                                                                                                                                      [\"entergy louisiana , llc management's financial discussion and analysis net revenue 2008 compared to 2007 net revenue consists of operating revenues net of : 1 ) fuel , fuel-related expenses , and gas purchased for resale , 2 ) purchased power expenses , and 3 ) other regulatory charges .\", 'following is an analysis of the change in net revenue comparing 2008 to 2007 .', 'amount ( in millions ) .']\\n\\tamount ( in millions )\\n2007 net revenue\\t$ 991.1\\nretail electric price\\t-17.1 ( 17.1 )\\npurchased power capacity\\t-12.0 ( 12.0 )\\nnet wholesale revenue\\t-7.4 ( 7.4 )\\nother\\t4.6\\n2008 net revenue\\t$ 959.2\\n['the retail electric price variance is primarily due to the cessation of the interim storm recovery through the formula rate plan upon the act 55 financing of storm costs and a credit passed on to customers as a result of the act 55 storm cost financing , partially offset by increases in the formula rate plan effective october 2007 .', 'refer to \"hurricane rita and hurricane katrina\" and \"state and local rate regulation\" below for a discussion of the interim recovery of storm costs , the act 55 storm cost financing , and the formula rate plan filing .', 'the purchased power capacity variance is due to the amortization of deferred capacity costs effective september 2007 as a result of the formula rate plan filing in may 2007 .', 'purchased power capacity costs are offset in base revenues due to a base rate increase implemented to recover incremental deferred and ongoing purchased power capacity charges .', 'see \"state and local rate regulation\" below for a discussion of the formula rate plan filing .', 'the net wholesale revenue variance is primarily due to provisions recorded for potential rate refunds related to the treatment of interruptible load in pricing entergy system affiliate sales .', 'gross operating revenue and , fuel and purchased power expenses gross operating revenues increased primarily due to an increase of $ 364.7 million in fuel cost recovery revenues due to higher fuel rates offset by decreased usage .', 'the increase was partially offset by a decrease of $ 56.8 million in gross wholesale revenue due to a decrease in system agreement rough production cost equalization credits .', 'fuel and purchased power expenses increased primarily due to increases in the average market prices of natural gas and purchased power , partially offset by a decrease in the recovery from customers of deferred fuel costs. .']   \n",
      "4                                                                                                                                                                                                                                                                                                                                                                                                                                                                                                                                                                                                                                                                 ['the significant changes from december 31 , 2008 to december 31 , 2009 in level 3 assets and liabilities are due to : a net decrease in trading securities of $ 10.8 billion that was driven by : 2022 net transfers of $ 6.5 billion , due mainly to the transfer of debt 2013 securities from level 3 to level 2 due to increased liquidity and pricing transparency ; and net settlements of $ 5.8 billion , due primarily to the liquidations of 2013 subprime securities of $ 4.1 billion .', 'the change in net trading derivatives driven by : 2022 a net loss of $ 4.9 billion relating to complex derivative contracts , 2013 such as those linked to credit , equity and commodity exposures .', 'these losses include both realized and unrealized losses during 2009 and are partially offset by gains recognized in instruments that have been classified in levels 1 and 2 ; and net increase in derivative assets of $ 4.3 billion , which includes cash 2013 settlements of derivative contracts in an unrealized loss position , notably those linked to subprime exposures .', 'the decrease in level 3 investments of $ 6.9 billion primarily 2022 resulted from : a reduction of $ 5.0 billion , due mainly to paydowns on debt 2013 securities and sales of private equity investments ; the net transfer of investment securities from level 3 to level 2 2013 of $ 1.5 billion , due to increased availability of observable pricing inputs ; and net losses recognized of $ 0.4 billion due mainly to losses on non- 2013 marketable equity securities including write-downs on private equity investments .', 'the decrease in securities sold under agreements to repurchase of 2022 $ 9.1 billion is driven by a $ 8.6 billion net transfers from level 3 to level 2 as effective maturity dates on structured repos have shortened .', 'the decrease in long-term debt of $ 1.5 billion is driven mainly by 2022 $ 1.3 billion of net terminations of structured notes .', 'transfers between level 1 and level 2 of the fair value hierarchy the company did not have any significant transfers of assets or liabilities between levels 1 and 2 of the fair value hierarchy during 2010 .', 'items measured at fair value on a nonrecurring basis certain assets and liabilities are measured at fair value on a nonrecurring basis and therefore are not included in the tables above .', 'these include assets measured at cost that have been written down to fair value during the periods as a result of an impairment .', 'in addition , these assets include loans held-for-sale that are measured at locom that were recognized at fair value below cost at the end of the period .', 'the fair value of loans measured on a locom basis is determined where possible using quoted secondary-market prices .', 'such loans are generally classified as level 2 of the fair value hierarchy given the level of activity in the market and the frequency of available quotes .', 'if no such quoted price exists , the fair value of a loan is determined using quoted prices for a similar asset or assets , adjusted for the specific attributes of that loan .', 'the following table presents all loans held-for-sale that are carried at locom as of december 31 , 2010 and 2009 : in billions of dollars aggregate cost fair value level 2 level 3 .']\\nin billions of dollars\\taggregate cost\\tfair value\\tlevel 2\\tlevel 3\\ndecember 31 2010\\t$ 3.1\\t$ 2.5\\t$ 0.7\\t$ 1.8\\ndecember 31 2009\\t$ 2.5\\t$ 1.6\\t$ 0.3\\t$ 1.3\\n['.']   \n",
      "\n",
      "                                                                                                                                                                                                                                                                                                                                                                                                                                             gold_context  \\\n",
      "0                                                                                                                                                                                                                                                                                                                                        {'text_1': 'if libor changes by 100 basis points , our annual interest expense would change by $ 3.8 million .'}   \n",
      "1                                                                                                                                                                                                                                     {'table_1': 'year the 2018 of gallons is 4447 ; the 2018 of average priceper gallon is $ 2.23 ; the 2018 of aircraft fuelexpense is $ 9896 ; the 2018 of percent of totaloperating expenses is 23.6% ( 23.6 % ) ;'}   \n",
      "2                                                                                                                                            {'table_1': '( in millions ) the available-for-sale investments of dec 282013 is $ 18086 ; the available-for-sale investments of dec 292012 is $ 14001 ;', 'table_8': '( in millions ) the total cash and investments of dec 282013 is $ 31561 ; the total cash and investments of dec 292012 is $ 26302 ;'}   \n",
      "3                                                                                                                                                                                                                                                                                                    {'table_1': 'the 2007 net revenue of amount ( in millions ) is $ 991.1 ;', 'table_6': 'the 2008 net revenue of amount ( in millions ) is $ 959.2 ;'}   \n",
      "4  {'table_1': 'in billions of dollars the december 31 2010 of aggregate cost is $ 3.1 ; the december 31 2010 of fair value is $ 2.5 ; the december 31 2010 of level 2 is $ 0.7 ; the december 31 2010 of level 3 is $ 1.8 ;', 'table_2': 'in billions of dollars the december 31 2009 of aggregate cost is $ 2.5 ; the december 31 2009 of fair value is $ 1.6 ; the december 31 2009 of level 2 is $ 0.3 ; the december 31 2009 of level 3 is $ 1.3 ;'}   \n",
      "\n",
      "                                   operation source  \n",
      "0          divide(100, 100), divide(3.8, #0)  FinQA  \n",
      "1                        divide(9896, 23.6%)  FinQA  \n",
      "2                       divide(14001, 26302)  FinQA  \n",
      "3  subtract(959.2, 991.1), divide(#0, 991.1)  FinQA  \n",
      "4          divide(2.5, 1.6), divide(#0, 1.6)  FinQA  \n"
     ]
    }
   ],
   "source": [
    "# Merge all datasets\n",
    "combined_df = pd.concat(\n",
    "    [finqa_cleaned, convfinqa_cleaned2, finder_cleaned],\n",
    "    axis=0,\n",
    "    ignore_index=True\n",
    ")\n",
    "\n",
    "print(combined_df[\"source\"].value_counts())\n",
    "print(combined_df.head())"
   ]
  },
  {
   "cell_type": "code",
   "execution_count": 88,
   "metadata": {},
   "outputs": [
    {
     "name": "stdout",
     "output_type": "stream",
     "text": [
      "17201\n"
     ]
    }
   ],
   "source": [
    "print(len(combined_df))"
   ]
  },
  {
   "cell_type": "code",
   "execution_count": 89,
   "metadata": {},
   "outputs": [
    {
     "name": "stdout",
     "output_type": "stream",
     "text": [
      "ID              0\n",
      "question        0\n",
      "answer          0\n",
      "context         0\n",
      "gold_context    0\n",
      "operation       0\n",
      "source          0\n",
      "dtype: int64\n"
     ]
    }
   ],
   "source": [
    "print(combined_df.isnull().sum())"
   ]
  },
  {
   "cell_type": "code",
   "execution_count": 90,
   "metadata": {},
   "outputs": [
    {
     "name": "stdout",
     "output_type": "stream",
     "text": [
      "Rows with any missing value: 0\n"
     ]
    }
   ],
   "source": [
    "print(\"Rows with any missing value:\", combined_df.isnull().any(axis=1).sum())"
   ]
  },
  {
   "cell_type": "code",
   "execution_count": 91,
   "metadata": {},
   "outputs": [
    {
     "name": "stdout",
     "output_type": "stream",
     "text": [
      "ID              0\n",
      "question        0\n",
      "answer          0\n",
      "context         0\n",
      "gold_context    0\n",
      "operation       0\n",
      "source          0\n",
      "dtype: int64\n"
     ]
    }
   ],
   "source": [
    "print((combined_df == None).sum())"
   ]
  },
  {
   "cell_type": "code",
   "execution_count": 92,
   "metadata": {},
   "outputs": [
    {
     "name": "stdout",
     "output_type": "stream",
     "text": [
      "['divide(100, 100), divide(3.8, #0)', 'divide(9896, 23.6%)', 'divide(14001, 26302)', 'subtract(959.2, 991.1), divide(#0, 991.1)', 'divide(2.5, 1.6), divide(#0, 1.6)', 'add(75.0, 72.7), divide(#0, 20)', 'divide(1786.2, 2807.0)', 'subtract(34.8, 1.2), divide(#0, 34.8), multiply(#1, const_100)', 'multiply(1327657, 42.61), divide(#0, const_1000000)', 'subtract(2309.9, 2303.0)', 'divide(1733, 2655)', 'subtract(440.9, 442.3), divide(#0, 442.3)', 'divide(1947, 7018)', 'divide(1733, 2640)', 'divide(37788, 186792)', 'divide(726.6, 6039.0)', 'divide(const_3, 83)', 'divide(439, 470)', 'divide(12, 261)', 'subtract(10, 12), divide(#0, 12)', 'subtract(35764, 22176)', 'subtract(15, 8)', 'divide(303, 304)', 'divide(7991, 21367)', 'subtract(23.59, 28.37), divide(#0, 28.37)', 'subtract(14.6%, 13.0%)', 'subtract(78.0, 75.3), subtract(58.0, 49.9), subtract(54.0, 51.8), add(#0, #1), add(#2, #3)', 'add(2.1, 0.7), add(#0, 0.1), divide(#1, const_3)', 'subtract(1680, 1747), divide(#0, 1747)', 'table_average(2016, none)', 'add(4.5, 2.4), add(8.0, #0)', 'divide(6.1, -2.5)', 'subtract(319.10, 285.37), divide(#0, 285.37)', 'divide(61, 109)', 'subtract(425.7, 480.2), divide(#0, 480.2)', 'subtract(1639, 1731), divide(#0, 1731)', 'divide(7751987, 33035204)', 'subtract(1679116, 1636526), divide(#0, 1636526)', 'subtract(930.4, 206.1), divide(#0, const_5)', 'multiply(83.7, 7.81%), divide(#0, const_2)', 'divide(79, 1058)', 'divide(const_8, 261)', 'divide(530, 922)', 'divide(646.7, 2320.7)', 'add(100000, 92500), add(#0, #0), add(#1, const_3), divide(#2, const_2)', 'greater(189.57, 137.82)', 'subtract(46.4, 9.7)', 'table_average(beginning balance, none)', 'subtract(426390481, 400251872)', 'subtract(26.7, 21.3), divide(#0, 21.3)', 'subtract(3859, 4822), divide(#0, 4822)', 'divide(114400, 329500)', 'divide(72789, 1294310)', 'subtract(142.72, const_100), divide(#0, const_100), subtract(210.39, const_100), divide(#2, const_100), subtract(#1, #3)', 'add(286, 272)', 'add(535, 3043), divide(535, #0)', 'subtract(32900, 32400), divide(#0, 32400)', 'divide(166961, 1355605)', 'subtract(180, 192), divide(#0, 192)', 'divide(34.7, 17), multiply(#0, const_100)', 'divide(29500, 114251)', 'subtract(3.0, 2.6), divide(#0, 2.6)', 'subtract(431, 100), divide(#0, 100), subtract(197, 100), divide(#2, 100), subtract(#1, #3)', 'divide(6334, 47292)', 'divide(3919, 9955)', 'divide(5320, 37899)', 'subtract(4273, 6392)', 'divide(646560, const_1000), add(#0, 183.6), add(#1, 178.3)', 'subtract(638.56, const_100), divide(#0, const_100)', 'subtract(34.6, 24.8)', 'subtract(737, 645), divide(#0, 645)', 'divide(312, 4742)', 'subtract(18854, 3812), divide(#0, 3812)', 'multiply(0.0425, 1000)', 'subtract(85936, 83000), divide(#0, 83000), multiply(#1, const_100)', 'divide(116, 1683)', 'add(96454, 101321), multiply(const_1000, 103.698), add(#0, #1), divide(#2, const_3)', 'divide(13, 167), multiply(#0, const_100)', 'subtract(22.7, 21.6), divide(#0, 21.6)', 'subtract(19520, 25621), divide(#0, 25621)', 'subtract(91.8, 27.6)', 'divide(970, 100), multiply(#0, 100), subtract(#1, 100)', 'divide(142.4, 1934.2)', 'greater(5941210, 4852978)', 'subtract(1666, 2224)', 'subtract(2010, 1999)', 'divide(851, 16088)', 'subtract(14215, 15794)', 'multiply(525000000, 0.25)', 'divide(838, 2.53)', 'multiply(10086, 42%)', 'multiply(1.9, 1.25%)', 'add(1832000, 2157000)', 'divide(11772, 59658)', 'subtract(59, 82)', 'divide(143.2, 4386.1)', 'subtract(418.67, const_100), divide(#0, const_100)', 'subtract(52.4, 32.1)', 'subtract(1630, 1498), divide(#0, 1498)', 'subtract(1470, 1328), divide(#0, 1328)', 'divide(5567, 9325)', 'subtract(139.32, const_100), divide(#0, const_100), multiply(1000000, #1)', 'multiply(3811, 2%), subtract(4716, #0)', 'divide(1.3, 503)', 'add(5171000, 7779000), divide(5171000, #0)', 'divide(27000000, 12000000)', 'subtract(352, 364)', 'subtract(3749, 3365), divide(#0, 3365)', 'add(130, 294)', 'subtract(75305, 81444), divide(#0, 81444)', 'add(9, 10), add(#0, 15), divide(#1, const_3)', 'divide(const_7, const_3)', 'subtract(114, 100)', 'subtract(29.3, 17.3)', 'divide(39, 37), subtract(#0, const_1), multiply(#1, const_100)', 'divide(5425, const_1000), subtract(#0, 7.4), divide(#1, 7.4)', 'divide(145.3, 1735.9)', 'multiply(10000, 0.235)', 'divide(170, 1.10)', 'subtract(1648, 1540), divide(#0, 1540)', 'subtract(1520.5, 1362.2)', 'divide(81.1, 290.3)', 'multiply(2.0, const_1000), divide(#0, 6.77)', 'subtract(29616, 16117), divide(#0, 16117)', 'add(107.2, 179.1), divide(#0, const_2)', 'multiply(5000, 106.32)', 'subtract(3.16, 5.73), divide(#0, 5.73)', 'subtract(2547, 2061), divide(#0, 2061)', 'subtract(7645, 7412)', 'add(450000, 500000), add(#0, 625000), add(#1, #0), add(#2, 300000)', 'subtract(1802, 1882), divide(#0, 1882), subtract(7%, #1)', 'divide(8346, 65658)', 'divide(23271, 17177)', 'subtract(9105, 9202), divide(#0, 9202)', 'divide(285.7, .76)', 'subtract(4.0, 4.5), divide(#0, 4.5)', 'divide(631, 1313)', 'divide(13670, 2350)', 'divide(const_100, 95), divide(#0, const_100), multiply(60, #1)', 'divide(48, 116)', 'divide(578, 983)', 'subtract(72471, 66977), divide(#0, 66977)', 'divide(40.9, 323.9)', 'subtract(540.2, 485.1), divide(27.7, #0)', 'subtract(162, 100)', 'subtract(51232, 52742)', 'subtract(24906, 33512), divide(#0, 33512)', 'divide(18.4, 22.7)', 'add(38, 34), add(20, #0), divide(#1, const_3)', 'subtract(15.01, 12.04)', 'subtract(32.03, 24.54), divide(#0, 24.54)', 'subtract(298, 91), divide(91, #0)', 'multiply(2200000, 2.2), divide(#0, const_1000000)', 'divide(22, 121)', 'divide(48777, 51417), multiply(#0, const_100)', 'subtract(231.0, 192.2), divide(42.6, #0)', 'divide(199, 2640)', 'greater(45, 25)', 'divide(1300000, 500000)', 'add(15000, 14700), add(#0, 14400), divide(#1, const_3)', 'subtract(134.4, 116.4), divide(#0, 116.4)', 'subtract(1251628, 1177978), divide(#0, 1177978)', 'divide(9379, 4800)', 'divide(16087, 6144)', 'subtract(5.7, 5.2), divide(#0, 5.2)', 'subtract(48, 49)', 'divide(4421, 8940)', 'divide(408424, 417471)', 'subtract(299.3, 310.3), divide(#0, 310.3)', 'divide(45.5, 359.1)', 'divide(4250, 9241)', 'subtract(1197, 1167), subtract(14181, 13833), divide(#0, #1)', 'subtract(.16, 1.94)', 'subtract(160.61, const_100), divide(#0, const_100)', 'add(const_2, const_4), divide(#0, const_2), divide(58.7, #1)', 'divide(1562.1, const_4)', 'subtract(220.72, 176.94), divide(#0, 176.94)', 'divide(12234, 926886)', 'divide(34.0, 60.3)', 'divide(400, 4505)', 'divide(28.5, 39.2)', 'divide(185836, 376336)', 'divide(189.57, 203.07), subtract(const_1, #0), divide(150.27, 157.17), subtract(const_1, #2), subtract(#1, #3)', 'subtract(2111, 1267), divide(#0, 1267)', 'divide(4385.5, 6097.1)', 'divide(19, const_10)', 'subtract(58.7, 57.9), divide(#0, 57.9)', 'subtract(9246, -26074)', 'multiply(4.3, const_1000), divide(450, #0)', 'subtract(13053, 18874)', 'divide(0.3, 1.2)', 'add(143, 31)', 'subtract(2012, 1999)', 'subtract(56523, 54213)', 'divide(2278, 11394)', 'add(116, 278), add(#0, 124), add(#1, 41)', 'subtract(4214.5, 4209.6), divide(#0, 4209.6)', 'divide(9879, 30809)', 'divide(101.7, 482.6)', 'subtract(482, 75)', 'subtract(33.7, 20.0), divide(#0, 20.0)', 'divide(457000, const_5)', 'divide(6406, 42418)', 'add(117, 140), add(#0, 203), add(#1, 263), add(#2, 328)', 'multiply(1060, const_1000), multiply(22, const_1000000), divide(#1, #0)', 'multiply(3176, const_m1), divide(#0, 10379)', 'subtract(40.38, 38.74), divide(#0, 38.74)', 'add(947, 6865), divide(947, #0)', 'subtract(19.4, 20.1), divide(#0, 20.1)', 'subtract(486.9, 466.1), divide(4.5, #0)', 'subtract(1472.6, 301.2)', 'subtract(761.8, 407.5), divide(#0, 407.5)', 'divide(4410, 197709)', 'subtract(94.15, 79.61), divide(#0, 79.61)', 'subtract(265915, 372725), divide(#0, 265915)', 'divide(145900, 220600)', 'subtract(228.3, 237.5), divide(#0, 237.5)', 'subtract(4.19, 3.02), divide(#0, 3.02)', 'add(15.4, 16.2)', 'divide(731336, 33775543)', 'add(65, 69), divide(#0, 691)', 'divide(176138, 1355605)', 'subtract(495, 100), divide(#0, 100)', 'subtract(36.5%, 19.3%)', 'subtract(462, 607), divide(#0, 607)', 'table_max(cumulative foreign currency translation, none)', 'subtract(5.2, 4.1), divide(#0, 5.2)', 'subtract(1542, 1666)', 'subtract(1102, 965), divide(#0, 965)', 'greater(1, 10)', 'subtract(28464, 3823)', 'table_max(beginning balance, none)', 'subtract(-3823, -7199)', 'subtract(3437, 3163), divide(#0, const_5)', 'divide(287, 2357)', 'multiply(4.19, 3.96)', 'divide(736, 935), multiply(#0, const_100)', 'divide(8, 13)', 'multiply(306.7, -8.99)', 'add(const_4, 44)', 'divide(16425602, 32038760)', 'divide(3189, 11482)', 'subtract(4.60, 3.02), divide(#0, 3.02)', 'add(1197607, 1188003), add(#0, 98424)', 'add(573, 443)', 'subtract(440.9, 442.3)', 'subtract(5.3, 4.5)', 'add(3717.0, 231.8), divide(#0, 4038.5)', 'divide(308.3, const_5)', 'subtract(24490, 15386)', 'divide(14084, 15688)', 'multiply(16.5, const_m1), divide(#0, 22.1)', 'add(57.0, 25.6)', 'add(497, 227)', 'subtract(125.50, 101.75), divide(#0, 101.75)', 'add(500, 350), divide(#0, 2248), multiply(#1, const_100)', 'divide(24.7, 1642.1)', 'subtract(572764, 553767), divide(#0, 553767)', 'subtract(2832, 6147), divide(#0, 6147)', 'divide(911.3, 2217.6)', 'divide(11109, 35.4)', 'divide(56, 11)', 'divide(416, 5222)', 'subtract(19.4%, 18.6%)', 'subtract(45, 36), divide(#0, 36)', 'divide(1641, 14235)', 'divide(184300, 550234)', 'greater(359, 275)', 'divide(857454, 1468640)', 'subtract(230, 278), divide(#0, 278)', 'divide(327900, 564700)', 'divide(9746, 9%)', 'multiply(7008, 32%), multiply(7729, 21%), subtract(#0, #1), divide(#2, #1)', 'divide(103698, 11869), multiply(#0, const_100), subtract(#1, const_100)', 'divide(68, 408)', 'subtract(3.6, 2.0), divide(#0, 2.0)', 'divide(63200, 2314)', 'subtract(19.47, 23.93), divide(#0, 23.93)', 'add(33809, 39926), add(#0, 2373), add(#1, 9223)', 'divide(44, 6226)', 'add(264844, 188294), add(144357, #0), divide(144357, #1)', 'divide(1150, 18413)', 'greater(28484, 28886)', 'multiply(10086, 41%)', 'divide(95.3, 312.0)', 'add(204866, 218883), divide(#0, const_2)', 'subtract(4174768, 4325868)', 'subtract(691.3, 1548.2)', 'divide(270, 18851)', 'subtract(3625459, 897367), divide(#0, 897367)', 'divide(const_4, 11)', 'divide(3347676, 3360499)', 'divide(74896, 5594224)', 'subtract(321564, 313183), divide(#0, 313183)', 'divide(6459, 11453)', 'subtract(375.92, 333.07), divide(#0, 333.07)', 'divide(1.6, 1.3)', 'divide(1642.1, 2590.8)', 'subtract(2163.0, 1701.1), divide(#0, 1701.1)', 'divide(5300, 110)', 'divide(1, 5)', 'add(1225, 1001), add(534, #0), divide(#1, const_3)', 'divide(16291, 659000)', 'subtract(2.9, 1.6)', 'divide(1035204, 938087), subtract(#0, const_1)', 'divide(17188, 34356)', 'subtract(377837, 13326), divide(377837, #0), subtract(const_1, #1)', 'subtract(173, 113), divide(#0, 173)', 'divide(2, 11)', 'subtract(16, 5)', 'divide(1050, 2804)', 'divide(500, 350)', 'add(31800, 27600), add(#0, 28000), divide(#1, const_3)', 'divide(80, 10)', 'add(672, 656), add(#0, 621), divide(#1, const_3)', 'divide(211, 2285)', 'divide(395748826, 528)', 'subtract(9.9, 0.5), divide(#0, 0.5)', 'subtract(12416, 7928), divide(#0, 7928)', 'divide(7880, 5%)', 'subtract(36.6%, 42.1%)', 'divide(13940, 59371)', 'divide(35655, 67436)', 'divide(42, 163)', 'divide(2256, 3778)', 'subtract(2989, 911)', 'add(809, 886), divide(#0, const_2), divide(7426, #1)', 'subtract(156.80, const_100), divide(#0, const_100), subtract(208.10, const_100), divide(#2, const_100), subtract(#1, #3)', 'subtract(94.20, const_100), divide(#0, const_100)', 'subtract(28.9, 25.7)', 'subtract(437, const_100)', 'divide(1859, 5849)', 'divide(5335, 37899)', 'table_min(expected volatility, none), table_max(expected volatility, none), subtract(#1, #0)', 'divide(110494, 9038137)', 'subtract(1, 1)', 'subtract(37.8, 25)', 'divide(5943, 9955)', 'subtract(886.2, 1043.7), divide(#0, 1043.7)', 'multiply(93, const_m1), subtract(#0, -121)', 'divide(1127, 7.8%)', 'divide(27000, 828250)', 'add(8482000, 7912000)', 'subtract(108.59, 100.00), divide(#0, 100.00)', 'add(979000, 1540000), add(#0, 1593000), divide(#1, const_3)', 'table_average(balance as of december 31, none)', 'subtract(2500, 1534)', 'subtract(1589, 1511)', 'subtract(49, 28), divide(#0, 28)', 'multiply(400, 3.25%)', 'subtract(217, 100), divide(#0, 100)', 'divide(142, 3408)', 'multiply(15500, 12%)', 'subtract(-29.5, -100.7), divide(#0, 100.7)', 'subtract(11.7%, 19.0%)', 'subtract(275, 317)', 'divide(3369, 3028), subtract(#0, const_1)', 'subtract(229967, 161272), divide(#0, 161272), multiply(#1, const_100)', 'subtract(82.6, 54.3)', 'subtract(53, 70)', 'add(361, 351)', 'divide(7600, 15800)', 'add(8, 2), add(#0, 2), add(#1, 1)', 'subtract(223.79, const_100), divide(#0, const_100), subtract(205.05, const_100), divide(#2, const_100), subtract(#1, #3)', 'subtract(71, 56), divide(#0, 56)', 'subtract(156, 111), divide(#0, 111)', 'add(35, 33), divide(#0, const_2)', 'add(.1, .2), add(#0, .1)', 'subtract(const_4, 2.1)', 'add(15270, 84527), add(20616, 6847), add(#0, #1), divide(6847, #2)', 'divide(41, 499)', 'divide(const_100, 7)', 'add(10700, 31000), add(147500, #0), divide(#1, 466687)', 'add(49, 28), add(#0, 40)', 'subtract(32136, 19900), divide(#0, 19900)', 'subtract(60, 666)', 'divide(16.5, 22.8)', 'subtract(218, 191)', 'subtract(46.4, 43.1), divide(#0, 43.1)', 'divide(3267, 2804901)', 'divide(111, 908)', 'add(1950, 1986)', 'subtract(95.3, 49.5), divide(#0, 49.5)', 'multiply(77509, 23.91), divide(#0, const_1000000)', 'divide(185, 7536)', 'subtract(100, 90)', 'table_average(operating profit, none)', 'subtract(317.2, 293.9), divide(#0, 293.9)', 'add(128, 150), add(#0, 178), add(#1, 258), add(#2, 291), divide(#3, 5)', 'divide(351, 298)', 'divide(205.2, 316.7)', 'subtract(95.11, 62.09), divide(#0, 62.09)', 'subtract(375, 128.0)', 'divide(25.5, 78.3)', 'subtract(4.9, 5.2), divide(#0, 5.2)', 'subtract(2240, 2160)', 'subtract(1732.8, 1662.5), divide(#0, 1662.5)', 'add(6731, 3391)', 'divide(5777, 21885)', 'multiply(65005, 12.78), multiply(36836, 20.97), multiply(20759, 37.25), add(#0, #1), add(#3, #2)', 'divide(126, 96)', 'subtract(3361, 2972), divide(#0, 2972)', 'divide(147.9, 238.8)', 'divide(62600, 0.52)', 'add(1817, 1241)', 'divide(108, 1469)', 'divide(18.8, 4)', 'table_average(corporate, none)', 'divide(21, 156)', 'divide(189, 201), multiply(189, #0)', 'add(58.38, 56.58), divide(#0, const_2)', 'subtract(62.7, 40.1), divide(#0, 40.1)', 'add(492.2, 416.4), add(#0, 386.5), add(#1, const_3), divide(#2, const_2)', 'subtract(117, 41)', 'divide(21963, 20926)', 'add(140.5, 135.1), add(#0, 137.7)', 'subtract(148.10, 136.78), divide(#0, 136.78)', 'subtract(4570, 1290)', 'divide(165, 909)', 'add(1023, 42)', 'add(148000, 213000), add(54208, #0)', 'add(300, 11010)', 'multiply(874306, 26.25), divide(#0, const_1000000)', 'multiply(15563666, 9.70), divide(#0, const_1000000)', 'subtract(141334, 187789)', 'add(516019, 763036), add(#0, 897367)', 'divide(11449, 8505)', 'add(3.2, 2.0)', 'table_sum(cash flows on retained interests, none)', 'add(1.9, 37.7)', 'divide(238.0, 1070.0)', 'subtract(1218947, 376832)', 'add(24, 32), add(#0, 32), divide(#1, const_3)', 'subtract(163607, 156925), divide(#0, 156925)', 'divide(29.0, 40.4)', 'subtract(28.9, 8.1), divide(#0, 8.1)', 'divide(242.5, 886.2)', 'greater(56.5, 54.2)', 'subtract(1134, 1044), divide(#0, 1044)', 'divide(const_6, 1.5)', 'subtract(78, 71), divide(#0, 71)', 'divide(98750, 432000), multiply(#0, const_100)', 'subtract(1230000, 675598)', 'divide(7200, 4100)', 'multiply(168, 338)', 'subtract(51.51, 100), divide(#0, 100)', 'subtract(1279049, 996973)', 'divide(300.8, 76.4), multiply(#0, const_100), subtract(#1, const_100)', 'subtract(247, 212), divide(#0, 212)', 'divide(170.70, 100.00)', 'add(5, 10), add(#0, #0)', 'divide(14200, 2450)', 'subtract(32730, 30790), divide(#0, 30790)', 'subtract(36%, 15)', 'subtract(37, 58)', 'subtract(2063, 604), divide(#0, 604)', 'subtract(73501, 50583), divide(#0, 50583)', 'subtract(2991, 4356)', 'divide(196, 322)', 'divide(1347485, 582173115)', 'divide(15762, 22110)', 'multiply(42, const_m1), subtract(#0, -45)', 'divide(22926, 185178)', 'divide(12508023, 57669746)', 'divide(231, 1059)', 'divide(155, 3437)', 'divide(200, 288)', 'divide(63.2, 11.4)', 'subtract(73597, 71267), divide(#0, 71267)', 'divide(-91.3, 82.5)', 'divide(64.1, 89.7)', 'add(1.61%, 2.14%), divide(#0, const_2)', 'subtract(68, 75)', 'divide(1927, 3992)', 'add(195, 95)', 'divide(855.0, 775.2)', 'divide(858, 581)', 'divide(325, 331)', 'subtract(1100.6, 22.8), divide(#0, 1100.6), subtract(const_1, #1)', 'divide(34, 214)', 'divide(43, 0.29)', 'divide(40.6, 10.8), divide(#0, 10.8)', 'divide(2.5, const_1000)', 'subtract(8367, 8846), divide(#0, 8846)', 'divide(1904, 15235)', 'divide(2577, 15121)', 'divide(28649, 524340)', 'subtract(65.7, 20.0)', 'divide(185, 345)', 'divide(756311, 867558), multiply(#0, const_100)', 'multiply(5148881, 21.96), divide(#0, const_1000000)', 'divide(85, 100)', 'divide(13, 46)', 'subtract(121.48, const_100), divide(#0, const_100)', 'divide(207000, 265000)', 'multiply(3.6, const_1000), divide(#0, 1382)', 'divide(65, const_100), divide(86.9, #0)', 'subtract(2.2, 3.9), divide(#0, 3.9)', 'add(166137, 51232), add(#0, 52742)', 'divide(const_100, 17), multiply(376, #0)', 'divide(19202, 13940)', 'divide(1000, 2400)', 'add(307403, 828084), add(#0, 724899)', 'add(1.3, 1.2)', 'subtract(8.9, 8.3)', 'divide(43.8, 53.4)', 'divide(423897556, 159)', 'multiply(2.5, const_1000), divide(#0, 3710)', 'subtract(9.35, 10.67), divide(#0, 10.67)', 'divide(71000, 436000)', 'subtract(83.0, 59.0), divide(#0, 59.0)', 'add(965, 1134)', 'subtract(180149, 176693), divide(#0, 176693)', 'subtract(25, 3)', 'subtract(110.49, const_100), subtract(156.82, const_100), divide(#0, #1)', 'subtract(45.45, 40.13), divide(#0, 40.13)', 'divide(const_100, 6)', 'divide(228354, 2626154)', 'table_sum(allowance for borrowed funds used during construction, none)', 'divide(7200, 4000)', 'subtract(6.7, 5.8)', 'subtract(463, 348), divide(#0, 348)', 'greater(149, 129)', 'divide(128, 162), divide(#0, 162)', 'divide(210.9, 480.2)', 'divide(154.6, 1735.5)', 'subtract(3.5, 1.2)', 'add(17, 15)', 'subtract(105.45, 100.00)', 'divide(123587, 10592)', 'divide(131762, 2424795)', 'multiply(200, 4.75%)', 'add(119, 96), multiply(#0, const_1000000)', 'add(657, 188), add(5909, 1898), divide(#0, #1)', 'greater(50.50, 90.50)', 'subtract(499, 526)', 'subtract(124, 100), divide(#0, 100)', 'divide(4761, 50181)', 'subtract(62.2, 195.0)', 'divide(68, 0.50)', 'multiply(9164, 21%), multiply(10086, 33%), subtract(#1, #0), divide(#2, #0)', 'add(309000, 64000)', 'divide(134.3, 591.6)', 'subtract(78, 119), divide(#0, 119)', 'add(23, 6), divide(#0, 6)', 'subtract(4054.1, 2455.4), divide(#0, 2455.4)', 'subtract(1289286, 1265843)', 'subtract(1649, 1612), divide(#0, 1612)', 'subtract(3713, 3760)', 'divide(9.8, 7.5), subtract(#0, const_1)', 'multiply(1.9, const_1000), divide(#0, 2940)', 'divide(0.4, 1.9)', 'divide(58.2, 3326.0)', 'subtract(78.53, const_100), divide(#0, const_100)', 'subtract(57.3, 59.7)', 'subtract(5051, 4694)', 'subtract(232, 360)', 'multiply(1.76, const_1000), add(#0, 118)', 'multiply(80%, 10875)', 'subtract(5792, 3516)', 'divide(25978, 283987)', 'subtract(323.9, 197.9)', 'subtract(551539, 807784)', 'divide(51000, 255000)', 'add(0, 0)', 'divide(3534, 45366)', 'divide(35, 74)', 'subtract(58, 31), multiply(#0, const_1000000)', 'table_average(net sales, none)', 'divide(25, const_4)', 'subtract(685.5, 670.0), divide(#0, 670.0)', 'subtract(218, 180)', 'add(111.1, 240.0), divide(#0, 240.0), subtract(#1, const_1)', 'subtract(364, -17)', 'subtract(80.9, 70.1), divide(#0, 70.1)', 'divide(1246, 2404)', 'subtract(150, 20), divide(#0, 150)', 'multiply(78.97, 28)', 'divide(23988, 21963)', 'divide(24, 25)', 'divide(3378, 20807)', 'divide(3248, 11)', 'divide(30, 217)', 'add(247482, 108867), divide(#0, 416956)', 'subtract(381, 509), divide(#0, 509)', 'table_max(carrying value onconsolidated balancesheets, none)', 'subtract(163.63, 126.77)', 'multiply(163.7, const_1000000), multiply(4.3, const_1000000), divide(#0, #1)', 'add(2012, 1219), add(#0, 402)', 'add(7.1, 2.4), divide(#0, const_2)', 'subtract(246.72, const_1000), divide(1000000, 100), subtract(#1, #0)', 'divide(3367111278, 21.16)', 'subtract(28.9%, 27.2%)', 'greater(277.62, 208.05)', 'divide(282, 1941)', 'divide(2.99, 54.12)', 'divide(1867, 1867)', 'subtract(197.58, const_100), divide(#0, const_100), subtract(236.12, const_100), divide(#2, const_100), subtract(#0, #2)', 'greater(1.58, const_1)', 'divide(142, 1038)', 'subtract(44.8%, 36.3%)', 'divide(3471, 135113)', 'multiply(175000, 108.20), divide(#0, const_1000000)', 'add(2634, 2401), add(#0, 477)', 'multiply(2200, 94%)', 'add(87, 165), add(#0, -44), add(#1, const_3), divide(#2, const_2)', 'divide(2150, 2856)', 'subtract(4218000, 4218000)', 'divide(100557, const_6)', 'divide(272, 2404)', 'subtract(673.0, 401.4), divide(#0, 401.4)', 'subtract(254, 100), divide(#0, 100)', 'subtract(215, 211), divide(#0, 211)', 'divide(5800, 31300)', 'subtract(4.77, 5.35)', 'divide(1383346, 1472684)', 'add(94, 89), add(76, #0), add(#1, const_3), divide(#2, const_2)', 'add(516019, 763036), add(#0, 897367), add(3625459, #1), add(579461, #2)', 'divide(42278, 65947)', 'divide(150, 235)', 'divide(350, 62)', 'divide(35066, 71473)', 'divide(900.2, const_5)', 'divide(4000, 5331)', 'multiply(15749, const_3)', 'subtract(2062, 1375)', 'add(947, 6865), divide(6865, #0)', 'table_average(interest rate swaps, none)', 'subtract(279, 100), divide(#0, 100), subtract(180, 100), divide(#2, 100), subtract(#1, #3)', 'divide(3266, 4150)', 'divide(142.4, 26%)', 'divide(15, 2472)', 'divide(0.0675, 0.0425)', 'subtract(10.8, 6.4), divide(#0, 6.4)', 'subtract(245.4, 249.8)', 'subtract(1.146, 1.136)', 'divide(4402, 8940)', 'divide(195.1, 755.1)', 'subtract(996, 751), divide(#0, 751)', 'subtract(48, 42), divide(#0, 42)', 'subtract(19520, 21579), divide(#0, 21579)', 'subtract(201, 100), divide(#0, 100), subtract(210, 100), divide(#2, 100)', 'table_sum(common share repurchases, none)', 'add(43.9, 6.1)', 'subtract(1055.8, 1265.6), divide(#0, 1265.6)', 'subtract(132, 109)', 'table_average(expected volatility, none)', 'subtract(1685.0, 1193.5), divide(#0, 1193.5)', 'divide(0.3845, 0.3677), subtract(#0, const_1)', 'add(1194, 1195), divide(#0, const_2)', 'add(299.6, 62.6), add(5.8, #0)', 'subtract(6318, 6179), divide(#0, 6179)', 'multiply(5.7, 20%)', 'add(315452, 333712), add(40852, #0), divide(#1, const_3)', 'add(566000, 550000)', 'subtract(120997, 124504), divide(#0, 124504)', 'add(74, 61), divide(#0, const_2)', 'multiply(41, 0.11)', 'divide(350, 975)', 'subtract(20435, 18030), divide(#0, 18030)', 'divide(4.3, 1304.4)', 'multiply(70%, 5342)', 'subtract(4.2, 3.2), divide(#0, 3.2)', 'divide(12300, 73200)', 'subtract(const_m1, -3)', 'multiply(12.5, const_1000), divide(#0, 14810)', 'greater(19, 6)', 'divide(316263, 550234)', 'subtract(845, 919), divide(#0, 919)', 'subtract(8.6, 7.3), divide(#0, 8.6)', 'divide(258, 701)', 'add(4.2, 54.3)', 'subtract(90, 99), divide(#0, 99)', 'divide(63863, 56172)', 'divide(2472, 9299)', 'subtract(1.3, 1.7), divide(#0, 1.7)', 'add(17.8, 50), divide(#0, 120)', 'subtract(317.2, 293.9)', 'subtract(94, 287), divide(#0, 287)', 'subtract(109.0, 83.0), divide(#0, 83.0)', 'divide(254, 217)', 'subtract(245.2, 220.5), divide(#0, 220.5)', 'divide(827, 440)', 'subtract(243, 31)', 'multiply(8.6, const_1000), divide(#0, 10430)', 'multiply(50000, 108.20), divide(#0, const_1000000)', 'subtract(192, 180)', 'subtract(1859, 29), divide(129, #0)', 'subtract(245, 172), divide(#0, 172)', 'divide(4.5, 1.4)', 'divide(82653000, 102274000)', 'divide(7, 116)', 'subtract(70, -1)', 'subtract(20.06, 15.88)', 'subtract(47, 52), divide(#0, 52)', 'divide(4493, 34968)', 'divide(631, 240)', 'divide(35, 39)', 'subtract(8897, 4000)', 'add(80.0, 38.0), divide(#0, 20)', 'table_max(dividend yield, none)', 'table_average(alternative investments, none)', 'subtract(165.34, const_100), divide(#0, const_100)', 'subtract(75.9, 74.6), divide(#0, 74.6)', 'greater(6, 10)', 'multiply(15900, 19%)', 'add(1170, 1225), add(1001, #0), add(#1, const_3), divide(#2, const_2)', 'subtract(85, 104), divide(#0, 104)', 'divide(17975, 59359)', 'add(0.9, 0.7), add(#0, 1.3)', 'subtract(22505, 28520), divide(#0, 28520)', 'multiply(const_2, const_1000), divide(#0, 3403)', 'divide(3856, 16745)', 'subtract(404, 477)', 'subtract(4317, 3929), divide(#0, 3929)', 'add(133, 65), add(#0, const_9), divide(65, #1)', 'table_max(beginning allowance balance, none)', 'subtract(164, 62)', 'subtract(70.3, 68.1), divide(#0, 68.1)', 'divide(3575.4, 4220.4)', 'multiply(80.0, const_1000), divide(#0, 192803)', 'divide(68338, 417471)', 'divide(427, 5497)', 'divide(7000, 4300)', 'divide(151.39, 153.72)', 'subtract(270, 308)', 'table_average(foreign exchange, none)', 'add(8352396, 450000), add(#0, 450000), add(#1, 210000)', 'subtract(201, 100), divide(#0, 100)', 'subtract(18.79, 15.19), divide(#0, 15.19)', 'subtract(39, 36)', 'divide(62.8, const_10)', 'subtract(442.8, 499.9), divide(#0, 499.9)', 'add(1847.8, -961.2), add(-851.2, #0)', 'multiply(0.10, const_3), add(#0, 0.09), divide(487, #1)', 'add(6.1, 9.8), add(#0, 21.2), add(#1, const_3), divide(#2, const_2)', 'table_sum(granted, none)', 'subtract(2.58, 5.02), divide(#0, 5.02)', 'subtract(15.1, 2.6)', 'divide(52855, 169514)', 'divide(150000, 250000)', 'add(63, 55)', 'add(31384, 81276), divide(#0, 250273)', 'add(12, -3), divide(#0, 127)', 'subtract(6.5, 4.1)', 'subtract(227400, 87397)', 'divide(7510, 19.6%)', 'table_average(contingent rental, none)', 'divide(3458, 6153)', 'multiply(316.3, 9.32)', 'add(571.1, 1300.4), add(#0, 410.0), add(#1, 195.0)', 'subtract(2272, 5042), divide(#0, 5042)', 'subtract(28.7, 27.3), divide(#0, 27.3)', 'add(15, 6), divide(6, #0)', 'subtract(293.33, 100), divide(#0, 100), subtract(205.14, 100), divide(#2, 100), subtract(#1, #3)', 'subtract(20409, 16453)', 'divide(3930, 7018)', 'subtract(100%, 50%)', 'divide(2.99, 50.80)', 'add(857.3, 395.6)', 'greater(112.64, 118.86)', 'divide(252030, 222088), subtract(#0, const_1)', 'divide(3800, 2)', 'add(500000, 450000)', 'divide(1.4, 2.2)', 'table_average(interest income, none)', 'subtract(431, const_100)', 'subtract(1542, 1469), divide(#0, 1469)', 'divide(3296652, 9699127)', 'add(-17.1, -12.0), add(#0, -7.4), add(#1, 4.6)', 'subtract(3.11, 3.32)', 'divide(26.0, 45.8)', 'divide(36, 2000)', 'add(8000, 260000), add(#0, 32000)', 'multiply(5001, const_100000)', 'subtract(16152, 13295), divide(#0, 13295)', 'divide(1913527, 1432610), divide(#0, 1432610)', 'multiply(4823020, 22.87), divide(#0, const_1000000)', 'divide(90.6, 33.3)', 'subtract(6424582, 619373)', 'multiply(0.09, const_3), add(#0, 0.08), divide(438, #1)', 'add(468.4, 446.3), add(423.8, #0)', 'divide(260000, 109000)', 'add(0.6, 2438.4)', 'subtract(6.87, 2.50), divide(#0, 2.50)', 'add(176457, 93683), add(#0, 123983), add(#1, 102476), add(#2, 527814), subtract(#3, 800102)', 'subtract(33.9, 207.7), divide(#0, 207.7)', 'divide(88.6, 2.1)', 'subtract(60.0, 28.6), divide(28.6, #0)', 'divide(247482, 416956)', 'add(53, 76), add(#0, 50)', 'subtract(37, 6)', 'divide(2167, const_1000), divide(1.06, #0)', 'divide(10.6, 74.9)', 'subtract(61.5, 75.9), divide(#0, 75.9)', 'subtract(5051, 4694), divide(137, #0)', 'divide(-5965, 19520)', 'divide(24471, 30790)', 'add(12.3, 11.0), divide(#0, const_2)', 'add(29.5, 37.8)', 'divide(5342, 6624)', 'table_average(income tax benefit realized, none)', 'subtract(399928, 457027)', 'subtract(7.50, 6.75)', 'subtract(17604, 17213), divide(#0, 17213)', 'divide(5729.2, 9714.1)', 'divide(31781, 67436)', 'subtract(4501, 2111), divide(#0, 2111)', 'divide(7.3, 8.6)', 'table_average(cash conversion cycle, none)', 'subtract(186.20, const_100), divide(#0, const_100), subtract(180.80, const_100), divide(#2, const_100), subtract(#1, #3)', 'divide(5078, 48516)', 'subtract(265.06, const_100), divide(#0, const_100)', 'subtract(8.20, 7.46), divide(#0, 7.46)', 'divide(32238, 85936)', 'table_average(u.k ., none)', 'subtract(1.15%, 1.07%)', 'subtract(1801, 298)', 'subtract(110.14, const_100), divide(#0, const_100)', 'greater(526768, 478269)', 'add(.5, .4)', 'subtract(2.59, 2.36), divide(#0, 2.36)', 'divide(746, 6624)', 'divide(678300, 985174)', 'table_average(trading through telecommunication hubs, none)', 'divide(-4.5, 4.5)', 'greater(18, 22)', 'multiply(1352, 109.49)', 'subtract(1.2, 10.5)', 'greater(72.90, 135.63)', 'add(314, 75)', 'subtract(2314.1, 2311.6)', 'greater(219345, 47927)', 'add(52, 34), add(#0, 16), divide(52, #1)', 'add(2530454, 5923147), divide(2530454, #0)', 'subtract(180.67, const_100), divide(#0, const_100)', 'subtract(6179, 5829), divide(289, #0)', 'divide(912, 25%)', 'add(-254, 273)', 'subtract(477000, 445000)', 'subtract(63.91, 82.95), divide(#0, 82.95)', 'divide(228.3, 227.3), subtract(#0, const_1)', 'subtract(1647, 1119)', 'subtract(275, 317), divide(#0, 317)', 'subtract(191265, 216529), divide(#0, 216529)', 'subtract(175, 100), divide(#0, 100), subtract(127, 100), divide(#2, 100), subtract(#1, #3)', 'divide(183032, 377837)', 'greater(93.73, 87.61)', 'subtract(11, const_9), divide(#0, const_9)', 'divide(8069, 15226)', 'greater(1017, 497)', 'divide(3287769, 3)', 'subtract(1542, 41)', 'subtract(488, 338), divide(#0, 338)', 'divide(12068, 65947)', 'multiply(40815771, 13.59)', 'divide(261.0, 359.1)', 'table_max(debt securities and loans, none)', 'add(324, 297), add(#0, 235), divide(#1, const_3)', 'divide(130, 11453)', 'add(414000, 364000)', 'subtract(979000, 1540000), divide(#0, 1540000)', 'divide(4579, 6825)', 'subtract(184896, 187163), divide(#0, 187163)', 'add(1474, 1780)', 'add(90, 64), divide(#0, const_2)', 'subtract(55, 71)', 'subtract(157.38, const_100), divide(#0, const_100)', 'table_average(operating margin, none), subtract(21.0%, #0)', 'add(25.7, 4.2), subtract(53.5, #0), divide(#1, 1373609)', 'subtract(34.27, 37.59), divide(#0, 37.59)', 'divide(30445, 96838)', 'divide(422208, 706985)', 'divide(5027, 21117)', 'multiply(1395288, 92.02), divide(#0, const_1000000)', 'divide(62, 1496)', 'divide(45.4, 368.8)', 'divide(4138, 9123)', 'subtract(40.1, 30.8)', 'multiply(1415, 25.24)', 'add(34317386, 52359299)', 'divide(576, 5312)', 'divide(2111, 25%)', 'divide(6306, 52083)', 'divide(273761, 2336989)', 'divide(1222, 4033)', 'subtract(152, 102), divide(#0, 102)', 'multiply(5506400, 21.16)', 'greater(93.53, 84.30)', 'subtract(229.4, 177.2), divide(#0, 177.2)', 'subtract(52380, 32136), divide(#0, 32136)', 'multiply(150, 50%)', 'divide(131, 5270)', 'subtract(21, 14), divide(#0, 14)', 'subtract(1790.2, 1707.6), divide(#0, 1707.6)', 'divide(67.3, 379.3)', 'add(10.0, 11.3), add(32.0, #0), divide(#1, const_3)', 'subtract(965, 1134), divide(#0, 1134)', 'divide(75970, 705113)', 'add(34.52, 42.96), add(#0, const_2), divide(#1, const_2)', 'subtract(417, 276)', 'divide(422, 242.5)', 'subtract(28.9, 31.4), divide(#0, 31.4)', 'divide(694, 838)', 'divide(4.7, 150)', 'subtract(58, 51), divide(#0, 51)', 'divide(8461, 15197)', 'add(70.6, 79.4), add(61.2, #0), add(#1, const_3), divide(#2, const_2)', 'table_average(equity securities, none)', 'subtract(4916, 4484), divide(#0, 4484)', 'divide(22.7, 74.9)', 'multiply(762, 42), divide(#0, const_1000)', 'add(2310.2, -4579.6), add(#0, 1780.2)', 'subtract(3992, 41)', 'divide(57.4, 88.1)', 'divide(25655931, 23364494), subtract(#0, const_1)', 'subtract(4443, 6802), divide(#0, 6802)', 'add(1471449, 3578241), divide(1471449, #0)', 'subtract(29.9, 28.1)', 'divide(346.1, 347.2)', 'add(1472.6, 301.2), add(#0, 53.8)', 'subtract(359, 100), divide(#0, 100)', 'divide(7729, 21%)', 'divide(1120, 2142)', 'subtract(1100, 414)', 'divide(852353, 51206)', 'divide(83, 130)', 'divide(519, 415)', 'divide(154300, 867558)', 'subtract(155.99, const_100), divide(#0, const_100), multiply(#1, 1000000)', 'subtract(1622, 1703), divide(#0, 1703)', 'subtract(7690, 5245)', 'divide(7.9, 208.3)', 'subtract(164.15, const_100), divide(#0, const_100)', 'subtract(32, 21), divide(#0, 21)', 'divide(28422, 41029)', 'subtract(18884, 20963), divide(#0, 20963)', 'subtract(475000, 124176)', 'divide(443, 1286)', 'add(1471449, 3578241), divide(3578241, #0)', 'add(62.7, 132.8), divide(62.7, #0)', 'divide(1096, 2623)', 'subtract(6894, 6091)', 'divide(411, 831)', 'divide(1.9, const_6)', 'divide(124000, 6077)', 'subtract(4660, 4963), divide(#0, 4963)', 'subtract(11.7, 10.9), divide(#0, 10.9)', 'subtract(106, 107)', 'multiply(66.34, 1360987)', 'subtract(1662.5, 1129.8), divide(#0, 1129.8)', 'subtract(72.47, 71.46), divide(1.1, 71.46)', 'divide(19, 18884)', 'divide(275305, 252030), subtract(#0, const_1)', 'divide(48000, 390719)', 'subtract(11.3, 6.5)', 'table_average(operating margins, none)', 'divide(3948.2, 116.0)', 'divide(5.7, 8.4)', 'divide(18616, 41685)', 'divide(1890, 1923)', 'subtract(106.9, -29.5), divide(#0, 29.5)', 'subtract(-4063, 3698)', 'divide(221, 3.35)', 'divide(1300, 1710)', 'subtract(4678.2, 4172.0), divide(#0, 4172.0)', 'subtract(368, 100), divide(#0, 100)', 'add(2018, const_5)', 'subtract(50, 27)', 'add(1681, 1649), add(#0, 1612), divide(#1, const_3)', 'divide(439959, 3077509)', 'add(2956907, 2786760), divide(2786760, #0)', 'add(1390, 15244), add(#0, 12807), divide(#1, const_3)', 'subtract(9923563, 12643761), divide(#0, 12643761)', 'divide(const_6, 54.2)', 'divide(1.8, 4.6)', 'subtract(60.05, 55.08)', 'divide(31739, 472429)', 'divide(2047, 752)', 'divide(222302, const_1000)', 'subtract(38.4, 42.7), divide(#0, 42.7)', 'divide(200247, 219345)', 'subtract(57.2, 49.0), divide(#0, 49.0)', 'divide(209895, 472429)', 'divide(25064045, 33746913)', 'subtract(16.00, 11.13), divide(#0, 11.13)', 'divide(83656, 82551), subtract(#0, const_1)', 'add(12356, 9938), add(#0, 10591)', 'subtract(189, 191), divide(#0, 191)', 'divide(404.1, 2320.7)', 'subtract(5.23, 5.84), divide(#0, 5.84)', 'divide(31.5, 34.0)', 'add(57665, 22443), divide(#0, 222851)', 'divide(23600, 118500)', 'add(12228, 2038), divide(159965, #0)', 'multiply(1265, 28.21)', 'subtract(7216, 7073), divide(#0, 7073)', 'divide(5263, 59488)', 'add(1033, 647), divide(#0, const_2)', 'divide(28.6, 2%)', 'subtract(94, 89), divide(#0, 89)', 'divide(17188, 326565)', 'subtract(239.0, 208.3), divide(8.3, #0)', 'divide(151202, 9.4%), multiply(#0, 6.5%)', 'subtract(127, 100), divide(#0, 100)', 'divide(17935, 18413)', 'divide(1227, 2969)', 'subtract(2.36, 1.96), divide(#0, 1.96)', 'subtract(487, 477), divide(#0, 477)', 'table_sum(interest rate swaps, none)', 'subtract(8074, 7680)', 'add(10086, 10014), add(10086, #0), divide(#1, const_3)', 'divide(26042, 32122)', 'subtract(666009, 572764), divide(#0, 572764)', 'subtract(6179, 5829), divide(#0, 5829)', 'subtract(320.0, const_1000000), divide(#0, const_4), divide(#1, 0.21)', 'divide(63.59, 54.36), subtract(#0, const_1)', 'subtract(431, 100), divide(#0, 100)', 'divide(-4, 11)', 'subtract(78.01, const_100), divide(#0, const_100)', 'divide(692, 915)', 'subtract(91.06, const_100), divide(#0, const_100)', 'add(200000, 250000)', 'table_max(interest incurred, none)', 'divide(328500, 9)', 'subtract(657, 335)', 'subtract(const_100, 8)', 'divide(5625, 13502)', 'divide(3635.0, 9017.8)', 'divide(384068, 2231178)', 'add(308.5, 440.4)', 'subtract(302644, 123715), divide(#0, 123715)', 'divide(4920, 2955)', 'divide(73512, 321237)', 'add(2.25%, 7.00%), divide(#0, const_2)', 'subtract(122.9, 2.5%)', 'divide(13831, 15826)', 'greater(177.40, 154.71)', 'add(405, 392), add(#0, 374)', 'divide(6587, 11047)', 'add(10282.8, 1263.3)', 'table_sum(capital lease obligations, none)', 'divide(2235, 5561), divide(1941, 5450), subtract(#0, #1)', 'multiply(22.97, 0.7%)', 'subtract(27.4, 18.6), divide(#0, 18.6)', 'subtract(5.7, 5.7), divide(#0, 5.7)', 'subtract(38.44, 46.53), divide(#0, 46.53)', 'divide(15.0, 24.7)', 'subtract(3867, 3749), divide(#0, 3749)', 'add(132.1, 45.1), add(#0, 15.4)', 'subtract(44.0, 46.7), divide(#0, 46.7)', 'subtract(540.2, 485.1), divide(#0, 485.1)', 'divide(5854, 22078)', 'add(688, 838), add(#0, 605)', 'divide(10592, 33.2%)', 'add(450000, 500000), add(#0, 625000)', 'multiply(10.26, 188)', 'divide(4999, 22078)', 'divide(3.1, const_1000), divide(#0, 15.2)', 'multiply(2.1, const_1000), divide(#0, 5720)', 'subtract(1642.1, 2590.8), divide(#0, 2590.8)', 'subtract(29, 15), multiply(#0, const_1000000)', 'divide(77.0, 312.0)', 'multiply(11.9, const_1000000), divide(3219192, #0)', 'multiply(10705, 178.84), divide(#0, const_1000000)', 'divide(13.9, 3.9)', 'table_max(interest income, none)', 'divide(3.8, 26.0)', 'divide(464, 2668)', 'subtract(25.20, 15.85), divide(#0, 15.85)', 'divide(6241, 6206)', 'divide(6152, 6308), divide(#0, 6308)', 'subtract(13532, 1660)', 'multiply(10, 11)', 'add(63191, 13672), add(69317, #0)', 'subtract(830, 363)', 'subtract(139.82, const_100), divide(#0, const_100), subtract(182.87, const_100), divide(#2, const_100), subtract(#1, #3)', 'subtract(644.2, 626.8), divide(#0, 644.2)', 'divide(2728, 3887)', 'divide(41.7, 27.8)', 'subtract(7834, 7789), divide(#0, 7789)', 'table_max(equity securities, none)', 'divide(912926, const_1000), divide(370, #0)', 'divide(311, 155)', 'divide(-142423, 1934232)', 'multiply(13373, const_1000000), divide(#0, 32094)', 'multiply(7.125%, 500.0)', 'add(491, 217), add(3430, 1587), divide(#0, #1)', 'subtract(978.4, 998.7)', 'subtract(4.23, 4.00), divide(#0, 4.00)', 'subtract(605762, 193101), divide(#0, 193101)', 'subtract(40, 45), divide(#0, 45)', 'divide(204, 1016)', 'add(595, 629)', 'multiply(148011884, 3.64)', 'subtract(639.2, 682.0), divide(#0, 682.0)', 'divide(1429, 42418)', 'divide(29405, 42418)', 'subtract(2.5, 3.2), divide(#0, 3.2)', 'divide(61.4, 67.4)', 'divide(347562, const_1000), subtract(#0, 24.0)', 'divide(176038, 182538)', 'subtract(43.9, 40.5)', 'divide(-22614, 607928)', 'greater(5156, -2208)', 'multiply(182.0, const_1000000), divide(#0, 2126)', 'add(681, 179)', 'subtract(33.2, 25.1)', 'add(135, 137), add(#0, 138), divide(#1, const_3)', 'table_min(revenue, none)', 'subtract(7.5, 6.6)', 'divide(12.2, 6.9), subtract(#0, const_1)', 'divide(253907, 3543016)', 'divide(66.0, 616.4)', 'divide(269, 100864)', 'divide(508, 13219)', 'divide(175, 137), subtract(#0, const_1)', 'divide(94250, 237500)', 'divide(646560, const_1000), add(#0, 183.6)', 'divide(18, 12%)', 'subtract(486.9, 466.1)', 'divide(311, 402)', 'table_average(asset retirement obligations as of january 1, none)', 'divide(35431, 97921)', 'multiply(65468, const_1000000), multiply(15.5, const_1000000), multiply(#1, const_1000), add(#2, #0)', 'divide(2489, 3483)', 'subtract(239.34, const_100), divide(#0, const_100)', 'divide(23756, 24060)', 'multiply(2521605, 43.10)', 'divide(663, 1677)', 'divide(172, 686)', 'subtract(320, 1951), divide(#0, 1951)', 'subtract(2.7, 2.5), divide(#0, 2.5)', 'divide(111.6, 212.1)', 'subtract(189.72, const_100), divide(#0, const_100), subtract(198.09, const_100), divide(#2, const_100), subtract(#1, #3)', 'multiply(4969, 101.39)', 'subtract(227, 34)', 'table_sum(commercial mortgages, none)', 'divide(262, 1313)', 'divide(2131, 6049)', 'divide(1449, 1927)', 'subtract(213.2, 196.2), divide(#0, 213.2), multiply(#1, const_100)', 'multiply(23.5, 8.5%)', 'greater(34, 52)', 'add(390, 339)', 'greater(83.69, 74.86)', 'divide(1196, 13638)', 'subtract(-6980, 18604)', 'divide(493, 59)', 'subtract(5735, 5524), divide(#0, 5524)', 'multiply(1441499, 44.89)', 'add(18, 2)', 'subtract(77, 86), divide(#0, 86)', 'subtract(1623.9, 1500.9)', 'subtract(198.18, 100.0), divide(#0, const_100)', 'subtract(1097, 970)', 'subtract(498.8, 486.9), divide(#0, 486.9)', 'divide(79, 389)', 'subtract(459, 438)', 'divide(79789, const_1000), subtract(#0, 92.3), divide(#1, 92.3)', 'subtract(73.62, 72.81), divide(#0, 72.81)', 'add(66%, 70%), divide(#0, const_2)', 'subtract(2012, 2009)', 'add(2.2, 1.6), add(#0, 1.3), divide(7754, const_1000), divide(#1, #2)', 'divide(771, 1964)', 'divide(85, 195)', 'divide(268.4, 167)', 'divide(8%, const_100), multiply(134935, #0), subtract(134935, #1)', 'divide(72.6, 951.5)', 'divide(13, 24)', 'divide(130, 272)', 'subtract(-31, -34)', 'divide(1216, 1054)', 'divide(255681, 430689)', 'divide(1131677, 7384402)', 'divide(188.4, 2195.1)', 'table_average(tax benefit, none)', 'divide(788500, 908056)', 'divide(15750, 21750)', 'multiply(3, 28.99)', 'add(0.6, 0.8), add(1.3, 0.4), add(#1, #0), divide(1.3, #2)', 'subtract(200, 193), divide(#0, 193)', 'subtract(1802, 1854), divide(#0, 1854)', 'divide(10154, 1500)', 'subtract(3277, 2880), divide(#0, 2880)', 'divide(722890, 1460682)', 'subtract(82.1, 71.3), divide(#0, 71.3)', 'subtract(0.29, 0.25), divide(#0, 0.25)', 'divide(188.81, 122.16)', 'subtract(42, 28), divide(#0, 28)', 'divide(47.1, 61.5)', 'subtract(1837, 1647)', 'divide(31838, 50861)', 'divide(722012, 944372)', 'multiply(17.03, 1416543)', 'divide(571.1, 67.4)', 'table_min(intrinsic value, none)', 'subtract(-435, -794)', 'divide(6, 388)', 'subtract(587, 122)', 'divide(1990, 170)', 'multiply(1263.3, const_m1), divide(#0, 10282.8), multiply(#0, 100%)', 'subtract(108.09, 100), divide(#0, 100)', 'divide(61.0, 153.1)', 'add(176138, 166961), add(#0, 142987), divide(#1, 1355605)', 'divide(1978800, 3620800)', 'divide(130.5, 120.6), subtract(#0, const_1)', 'divide(190.0, 218.6)', 'subtract(5737, 5582), divide(#0, 5582)', 'add(701, 161), divide(#0, 689), multiply(#1, const_100)', 'subtract(4.4, 2.3)', 'divide(29497, 29905)', 'multiply(50.1, const_100), divide(#0, 0.4), divide(#1, const_1000)', 'divide(1300000, 1400000)', 'divide(687376, 600883), multiply(const_100, #0)', 'subtract(20, const_5)', 'subtract(28.9, 27.8), divide(#0, 27.8)', 'subtract(0.1, 0.2)', 'divide(4077, 140342)', 'subtract(47317, 39976)', 'divide(88472, 130377)', 'subtract(35, 34), divide(#0, 34)', 'divide(1.6, 47.2)', 'divide(1242, 1664)', 'subtract(18.7, 21.3)', 'add(4.58, 3.82)', 'table_average(state and local income taxes after federal income tax effects, none)', 'divide(106, 867)', 'divide(514.9, 5245.9)', 'subtract(7585, 9278)', 'add(21.8, 19.4), divide(#0, const_2)', 'subtract(18.5, 1.4), divide(#0, 1.4)', 'subtract(4784, 6061), divide(#0, 6061)', 'divide(50331, 468218)', 'subtract(29.4, 18.9), divide(#0, 18.9)', 'divide(1170, 1807)', 'divide(73, 137)', 'multiply(2.5, const_1000), divide(500.0, #0)', 'subtract(80258, 12807)', 'subtract(89, 601)', 'subtract(155000, 100000), divide(#0, 100000), multiply(#1, const_100)', 'subtract(1639, 1731)', 'subtract(132, 100), divide(#0, 100)', 'divide(1154.2, 2348.5)', 'subtract(774788, 354660)', 'subtract(365.63, 118.21), divide(#0, 118.21)', 'divide(672, 1120)', 'subtract(129.2, 41.9), divide(#0, 129.2)', 'divide(13.4, 19.1)', 'multiply(165306, 27.36), divide(#0, const_1000000)', 'divide(1261265, 2336989)', 'divide(189.57, 100.00), divide(189.57, const_5)', 'subtract(3338, 4273)', 'add(8, 8), divide(#0, const_2)', 'table_average(ending balance, none)', 'subtract(441.9, 435.4), divide(#0, 441.9), multiply(#1, const_100)', 'divide(1973, 9276)', 'subtract(3.27, 2.45)', 'divide(771, 44)', 'divide(160, 345)', 'divide(2986, 11384)', 'subtract(55, 100), divide(#0, 100)', 'subtract(10, 11)', 'divide(14703, 15135)', 'subtract(11.67, 11.92)', 'subtract(57.60, 3.53)', 'subtract(322.4, 326.5)', 'multiply(245.7, 49.9%), multiply(#0, const_1000000)', 'divide(132.9, 946.9)', 'divide(const_3, 19.1)', 'subtract(499, 526), divide(#0, 526)', 'add(1%, 7%)', 'subtract(73.05, const_100), divide(#0, const_100), subtract(176.62, const_100), divide(#2, const_100), subtract(#1, #3)', 'subtract(50.0, 6.1)', 'subtract(20776, 18884), divide(#0, 18884)', 'add(690.6, 262.9)', 'divide(13455, 35603)', 'add(257971, 254575), divide(#0, 3832573)', 'add(const_100, 8%), divide(2.9, #0)', 'divide(1225, 1758)', 'subtract(2.4, 3.4), divide(#0, 3.4)', 'divide(1305, 1859)', 'divide(494788, 309051)', 'subtract(1563, 2446), divide(#0, 2446)', 'divide(131, 617)', 'divide(858, 10.2), multiply(#0, 9), multiply(#1, const_1000000)', 'multiply(const_8, 20), multiply(108, const_7), add(#0, #1)', 'subtract(34.3, 28.4)', 'add(1446, 486), add(#0, 1673), add(#1, const_3), divide(#2, const_2)', 'divide(31, 50)', 'subtract(5263, 4513)', 'divide(2325865, 6678985)', 'subtract(1565518, 1519183)', 'divide(727, 1020)', 'subtract(4.3, 11.0)', 'divide(651.5, 1191.5)', 'add(66, 43)', 'divide(438967, 2548612)', 'divide(600.3, 287.7)', 'divide(142987, 1355605)', 'divide(33, 156)', 'divide(7313, 7216)', 'divide(39820, 118880)', 'divide(0.30, 2.4%)', 'subtract(52, 46), divide(#0, 46)', 'subtract(39573, 20997)', 'subtract(55, 49), divide(#0, 49)', 'table_max(effective tax rate, none)', 'add(1, 2), add(#0, 2), divide(#1, const_2)', 'subtract(321, -737)', 'subtract(209, 33)', 'add(2322450, 2530454), divide(2322450, #0)', 'divide(8.9, 15.3)', 'add(34.2, 1.1)', 'divide(257971, 3832573)', 'subtract(16, 2), divide(#0, 2)', 'multiply(300, 6.5%)', 'divide(136, 13502)', 'subtract(-16349, -486)', 'add(118.1, 120.1)', 'subtract(272.9, 243.0), divide(#0, 243.0)', 'add(319, 289), add(#0, 261)', 'subtract(1976987, 1289286)', 'divide(98.0, 404.4)', 'subtract(7157, 6639)', 'subtract(13.0, 13.9), divide(#0, 13.9)', 'subtract(2665, 2312), divide(#0, 2312)', 'table_min(commissions and fees, none)', 'divide(807, 4130)', 'divide(360, 6836)', 'divide(235.5, 247.1), subtract(#0, const_1)', 'multiply(30, 3.875%)', 'subtract(79.41, 57.92), divide(#0, 57.92)', 'subtract(84676, 65714)', 'subtract(355, 373)', 'add(4.1, 3.4), divide(#0, const_2)', 'divide(417, 3805)', 'divide(12798, 37899)', 'divide(340, 2695)', 'divide(10.2, 10.7), subtract(#0, const_1), multiply(#1, const_100)', 'divide(2553, 2936)', 'subtract(53.56, const_100), divide(#0, const_100)', 'divide(25386, 938555)', 'multiply(2, 7)', 'divide(1103.0, 1552.2)', 'subtract(323606, 214524), divide(#0, 214524)', 'divide(5194, 12604)', 'subtract(280.10, const_100), divide(#0, const_100), subtract(208.14, const_100), divide(#2, const_100), subtract(#1, #3)', 'divide(0.92, const_4), greater(0.24, #0)', 'subtract(213, 166)', 'divide(4891, 25727)', 'subtract(287.8, 299.3), divide(#0, 299.3)', 'subtract(1127, 1651), divide(#0, 1651)', 'add(29, 24), add(#0, 21), divide(#1, const_3)', 'table_min(equity securities, none)', 'add(368, 40)', 'subtract(1266, 1053), divide(#0, 1053)', 'divide(47.6, 278.6)', 'divide(103.8, 224.3)', 'subtract(1762.3, 1509.7)', 'subtract(95, const_4)', 'multiply(2784221, 28.53), divide(#0, const_1000000)', 'divide(5503500, 15957600)', 'subtract(156.7, 363.9), divide(#0, 363.9)', 'subtract(613, 617), divide(#0, 617)', 'subtract(32.9, 38.4), divide(#0, 38.4)', 'multiply(105, const_m1), subtract(#0, const_8)', 'subtract(2438.4, 2408.8)', 'add(14663, 11690)', 'multiply(1647903, 9.5%), subtract(#0, 143966)', 'add(287.9, 1485.7), add(#0, 390.0)', 'subtract(281, 309), divide(#0, 309)', 'subtract(408, 23)', 'divide(121600, 329500)', 'add(25.9, 28.8), add(23.8, #0)', 'add(5931, 1200544), divide(#0, 3798508)', 'divide(7300, 4100)', 'subtract(3460526, 2273356), divide(#0, 2273356)', 'divide(238.4, const_4)', 'divide(746, 8927)', 'subtract(26.0%, 21.0%)', 'divide(78.0, 39)', 'divide(190000, 288000)', 'subtract(37.2, 9.5)', 'subtract(19.3%, 18.6%)', 'divide(267, 2356)', 'subtract(14.7, 11.7), divide(#0, 11.7)', 'subtract(8%, 6%)', 'add(210, 273)', 'subtract(920, 242), divide(87, #0)', 'subtract(25, 28), divide(#0, 28)', 'add(14123, 14953), add(#0, 14362), divide(#1, const_3)', 'divide(49, 34)', 'add(900, 7550), divide(7550, #0)', 'subtract(13632, 13429), divide(#0, 13429)', 'subtract(221.91, const_100), divide(#0, const_100), subtract(228.42, const_100), divide(#2, const_100), subtract(#1, #3)', 'subtract(20823000, 17184000), divide(#0, 17184000), multiply(#1, const_100)', 'divide(-14611, 739187)', 'table_sum(alternative investments, none)', 'divide(208548, 3483072)', 'divide(2620987, 2723347)', 'divide(85.2, 51)', 'subtract(1697.6, 1739.5), divide(#0, 1739.5)', 'subtract(130.69, 100.00)', 'divide(1412, 111149)', 'divide(5.0, 33.8)', 'subtract(2408.8, 2246.1), divide(#0, 2246.1)', 'multiply(29, const_m1), add(#0, -103)', 'subtract(8846, 9381)', 'subtract(55.0, 31.4), divide(#0, 31.4)', 'subtract(3224, 4374)', 'subtract(14215, 10208), divide(#0, 10208)', 'subtract(1347, 1434)', 'add(9.4, 0.6), add(#0, 0.2)', 'divide(3286, 2082)', 'add(409, 813), divide(409, #0)', 'subtract(556, 426)', 'subtract(9.8, 8.0)', 'divide(5, 400)', 'divide(10676, 50205)', 'multiply(24, const_m1), add(#0, 47)', 'table_min(unamortized expense based on current performance levels, none)', 'add(100, 135), add(#0, 114), add(#1, 71), add(#2, 91), add(#3, const_5), divide(#4, const_2)', 'divide(23.0, 59.2)', 'add(424000, 560000)', 'divide(83.1, 23.6)', 'table_sum(pretax income from discontinued operations, none)', 'subtract(8181, 20454), divide(#0, 20454)', 'subtract(33.7, 20.0)', 'multiply(32.8, const_1000), divide(#0, 329500)', 'divide(49282, 100434)', 'subtract(2, -10)', 'add(41.1, 27.3), add(#0, 20.9), add(#1, 17.0), add(#2, 12.0)', 'subtract(1.2, 1.1), multiply(#0, const_1000000), multiply(#1, 56.66)', 'divide(110000, 65000)', 'add(1.8, 7.7), add(#0, 8.8), add(#1, 4.3), add(#2, 2.4)', 'divide(561, 7%)', 'subtract(19.2, 36.6), divide(#0, 36.6)', 'subtract(160.61, const_100), divide(#0, const_100), subtract(180.67, const_100), divide(#2, const_100), subtract(#1, #3)', 'subtract(108249, 65225), divide(#0, 65225)', 'divide(43, 679)', 'subtract(-6234, -9965), divide(#0, 9965)', 'divide(1162635, 1053027), subtract(#0, 1)', 'subtract(150, 130)', 'subtract(7.3, 3.5), divide(#0, 3.5)', 'multiply(1.9, const_1000), divide(#0, 20926)', 'divide(2, 140)', 'divide(12.4, 933.4)', 'subtract(2420, 2340)', 'subtract(20746, 5798)', 'divide(309393, 343752)', 'subtract(15, 9), divide(#0, 9)', 'subtract(1853.2, -1004.9)', 'subtract(31.0, 21.1)', 'subtract(39756386, 38972900), divide(#0, 38972900)', 'divide(25, 0.16)', 'divide(6, 30)', 'subtract(331.43, const_100), divide(#0, const_100)', 'subtract(144, 20244)', 'add(28.9, 30.6), divide(#0, const_2)', 'add(13, 7)', 'divide(78.9, 34.0), multiply(#0, 78.9)', 'subtract(62.05, 47.50)', 'add(0, 0), add(#0, #0), subtract(25, 3), divide(#1, #2)', 'add(15.3, 16.1), divide(#0, const_2), multiply(#1, const_1000000), multiply(#2, const_1000)', 'add(13, const_8), add(#0, const_6)', 'add(416, 320), add(413, #0), add(500, #1), add(#2, const_4), divide(#3, const_2)', 'subtract(-4027, -1280), divide(#0, -1280)', 'divide(8330000, 2.5)', 'divide(1464, 3339)', 'divide(3455737, 3963313)', 'divide(1.3, 13.2)', 'subtract(437, 381)', 'divide(135, 5524)', 'divide(106.13, 572.93)', 'divide(114.6, 138.7)', 'divide(1555, 50315)', 'subtract(61661, 96161)', 'add(198, 3213), divide(#0, 3855)', 'add(279, 320), divide(1760, #0)', 'divide(19169, 22601)', 'divide(2162, 7230)', 'add(592.9, -224.5), add(#0, -1212.3)', 'divide(1555, 949173)', 'subtract(23%, 26%)', 'add(102, 246), add(#0, 1492), add(#1, 287), add(#2, 802)', 'table_max(s&p 500 index, none)', 'subtract(11.22, 100), divide(#0, 100)', 'subtract(33, 23), divide(#0, 23)', 'subtract(342, 243)', 'divide(1802, 2716)', 'divide(11239, 29432)', 'greater(268, 208)', 'subtract(13235, 1502)', 'subtract(156925, 218040), divide(#0, 218040)', 'subtract(183, 123), divide(#0, 123)', 'greater(23542, 3485)', 'subtract(6069, 4195)', 'divide(1491, 1579)', 'subtract(4618, 4589)', 'multiply(22.5, const_1000), divide(#0, 53620)', 'subtract(3679, 2534), divide(#0, 2534)', 'subtract(17.3, 12.8), divide(#0, 12.8)', 'divide(813491, 52359299), multiply(#0, const_100)', 'add(111667, 33809), add(#0, 39926), add(#1, 2373)', 'subtract(6000, 6300), divide(#0, 6300)', 'divide(674, 14682)', 'divide(8.2, 48.5)', 'subtract(1666, 2224), divide(#0, 2224)', 'divide(4.1, 804)', 'divide(6.3, 22.8)', 'subtract(23736, 20743)', 'subtract(5854930, 4266), divide(#0, 5854930), multiply(#1, const_100)', 'divide(3590, 4563)', 'add(467298, 75896), divide(#0, const_1000)', 'add(37375, 23359), add(#0, 5915)', 'subtract(2005, 2004)', 'subtract(1375, 943)', 'subtract(3883230, 3821707)', 'divide(18.1, 83.9)', 'subtract(258.82, const_100), divide(#0, const_100)', 'add(24460, 138959), add(#0, 117990)', 'subtract(27.4, 24.7), divide(#0, 24.7)', 'divide(1733, 170)', 'divide(126.3, 1703.4)', 'subtract(19.7, 9.2)', 'divide(68.37, 333.07)', 'divide(7600, 3600)', 'divide(266, 838)', 'subtract(108, 1688), divide(#0, 1688)', 'divide(214112, 204866), divide(#0, 204866)', 'greater(98, 670)', 'divide(119017, const_1000), subtract(#0, 10.2)', 'greater(10, 2)', 'table_max(gross margin percentage, none)', 'multiply(2.12, const_1000), add(#0, 112)', 'add(443, 360), add(#0, 345), divide(#1, const_3)', 'greater(8.2, 7.4)', 'add(34512, 23228)', 'table_max(crude oil trunk lines, none)', 'divide(838, 2.50)', 'divide(81, 2021)', 'subtract(153.88, const_100)', 'add(32.8, 30.2), add(#0, 30.4)', 'subtract(201, 189), divide(#0, 189)', 'divide(7.4, 26.8)', 'subtract(13.49, 14.11)', 'subtract(689343, 652827), divide(#0, 652827), multiply(#1, const_100)', 'subtract(5.82, 11.59), divide(#0, 11.59)', 'subtract(74, 61)', 'divide(27, 50)', 'divide(11.0, 7.5)', 'divide(1.0, 0.25)', 'greater(298.31, 258.82)', 'subtract(84.53, 73.20), divide(#0, 73.20)', 'subtract(669.5, 76.6), divide(76.6, #0), multiply(#1, const_100)', 'multiply(1.6, 72%)', 'add(351, 813)', 'subtract(99.75, 79.59)', 'subtract(2438.4, 2408.8), divide(#0, 2408.8)', 'divide(98650, 457000)', 'divide(16.3, 304.9)', 'subtract(60, 40)', 'add(49560, 15381)', 'subtract(2480, 2450)', 'divide(166, 103), divide(#0, 166)', 'add(const_9, 27)', 'subtract(37783, 37176), divide(#0, 37176)', 'subtract(137.83, 100.00)', 'subtract(25, 31), divide(#0, 31)', 'greater(180, 120)', 'subtract(55764, 48886), divide(#0, 48886)', 'divide(323670, 9555180)', 'subtract(109795, 104948), divide(#0, 104948)', 'add(26.4, 35.1)', 'divide(10, 1%)', 'subtract(182.87, 173.34), divide(#0, 173.34)', 'divide(220, 285)', 'add(3.82, 3.37), divide(#0, const_2)', 'divide(350161, 295304)', 'subtract(175, 125)', 'divide(431418, 600725)', 'multiply(6180, 17.7%)', 'divide(30.7, 29.6)', 'subtract(2423, 2074), divide(#0, 2074)', 'add(9.4, 8.1), add(#0, 5.4)', 'divide(2075, 10806)', 'add(272.9, 247.0), add(#0, const_2), divide(#1, const_2)', 'divide(2505, 273)', 'divide(177.40, 154.71)', 'divide(62.8, const_5)', 'add(12.1, 27.4), add(15.8, 21.9)', 'subtract(874, 814), divide(#0, 814)', 'add(3.2, 4.9)', 'subtract(3.3, 1.6), divide(#0, 3.3)', 'divide(1.9, 4)', 'subtract(20086, 20704)', 'divide(6.3, const_100)', 'add(54, 26)', 'subtract(322, 323), divide(#0, 323)', 'add(70.1, 52.7), divide(93.0, #0)', 'subtract(32.8, 30.2)', 'subtract(2063, 604)', 'table_average(additions for tax positions of the current year, none)', 'divide(4086, 5614)', 'add(11%, 24%), divide(#0, const_2)', 'divide(51693, 102694)', 'multiply(300, 3.875%)', 'subtract(5951, 5531), divide(#0, 5531)', 'divide(151688, 478339)', 'add(4.5, 4.1), add(#0, 3.4)', 'multiply(4.8, const_1000), divide(#0, 7860)', 'divide(243, 611)', 'divide(8797959, 14156696)', 'divide(63000, 828250)', 'divide(21780, 59488)', 'subtract(1117.9, 1110.6), divide(#0, 1110.6)', 'divide(20.8, 12.1)', 'subtract(2.8, 2.4), divide(#0, 2.4)', 'multiply(const_10, 38), divide(#0, 38)', 'add(334.6, 97.9)', 'add(12, 11)', 'subtract(6169, 6152)', 'subtract(998.7, 1095.9), divide(#0, 1095.9)', 'divide(5264, 4934319)', 'add(3.2, 23.3), add(4.4, #0), divide(#1, const_3)', 'add(6823, 6161), add(#0, 5873), divide(#1, const_3)', 'subtract(-214, -1137)', 'divide(273, 643)', 'divide(4457, 13900)', 'add(5.8, 4.2)', 'divide(317, 1830)', 'subtract(73.18, 65.31), divide(#0, 65.31)', 'subtract(32400, 33300), divide(#0, 33300)', 'add(40, 1), divide(#0, 84)', 'subtract(22956, 22642), divide(#0, 22642)', 'subtract(1.73, 1.42), divide(#0, 1.42)', 'subtract(const_100, 114)', 'subtract(2034, 2000)', 'subtract(59224, 183953)', 'subtract(658, 613), divide(#0, 613)', 'subtract(29905, 32011), divide(#0, 32011)', 'multiply(199796, 60.78), divide(#0, const_1000000)', 'subtract(50856, 18595)', 'divide(12995, 17765)', 'subtract(168, 173)', 'subtract(1061, 836), divide(#0, 836)', 'subtract(861, 388)', 'add(8.3, 12.0), multiply(#0, const_1000000)', 'divide(6263, 16067)', 'add(26.0, 7%)', 'subtract(3854, 3446)', 'subtract(22, 21)', 'divide(9.1, 3.0)', 'divide(19.6, 247.9)', 'divide(31.7, 207.7)', 'subtract(62, 37)', 'divide(460961, 408547)', 'multiply(15370814, 16.10), divide(#0, const_1000000)', 'subtract(1431, 1256), divide(#0, 1256)', 'divide(211, 62)', 'divide(626, 450)', 'subtract(672, 656)', 'add(188.1, 189.4), add(#0, 184.9)', 'add(1955024, 4078093), divide(1955024, #0)', 'subtract(31%, 29%)', 'subtract(1721, 1791)', 'divide(902, 3622)', 'subtract(198, 100), divide(#0, 100)', 'subtract(133.81, const_100), divide(#0, const_100)', 'add(21.85%, 20.43%), divide(#0, const_2)', 'divide(const_100, 10)', 'table_sum(net derivative liabilities under bilateral agreements, none)', 'divide(-312, 50)', 'subtract(223.79, const_100), divide(#0, const_100)', 'divide(1436263, 3347676)', 'divide(10700, 7)', 'add(1491, 3458), divide(#0, 6153), multiply(#1, const_100)', 'subtract(1016, 403)', 'divide(0.6, 96.9)', 'table_max(october 1 2005 to december 31 2005, none)', 'subtract(314.7, 322.4), divide(#0, 322.4)', 'subtract(59.73, 45.20)', 'divide(2380.6, 5807.6)', 'multiply(27.6, const_1000), divide(#0, 329500)', 'divide(590459, 1041861)', 'add(2506, 1923), add(#0, 1379)', 'table_min(beginning balance, none)', 'multiply(5, 1)', 'subtract(3717.0, 5834.6)', 'add(320000, 930006000)', 'subtract(13, 23), divide(#0, 23)', 'subtract(6.8, 4.9)', 'add(17176475, 68211649), divide(68211649, #0)', 'divide(1652, 7614)', 'subtract(24.7, 29.5), divide(#0, 29.5)', 'divide(250, 306)', 'multiply(2.5, const_1000), divide(200, #0)', 'subtract(388, 421), divide(#0, 421)', 'add(268496, 131262)', 'subtract(9.43, 6.65), divide(#0, 6.65)', 'divide(84159, 94417)', 'subtract(const_1, 2%), multiply(#0, 2150)', 'multiply(226493, 63), divide(#0, const_1000000)', 'multiply(3.5, const_1000), divide(#0, 6040)', 'multiply(70.00, 2089300)', 'divide(384, 476)', 'divide(400, 900)', 'divide(400.0, 1060.2)', 'add(118741000, 113956000), add(#0, 109644000), divide(#1, const_3)', 'subtract(89564, 83656)', 'divide(1.2, 0.3)', 'divide(6919, 40415)', 'divide(6947, 9325)', 'divide(1375, 3189)', 'subtract(39, 37)', 'table_average(operating loss, none)', 'table_sum(total operating revenues, none), multiply(#0, const_1000000)', 'divide(455, 20049)', 'subtract(17227, 15395), divide(#0, 15395)', 'add(923, 1051), divide(1051, #0)', 'multiply(20.8, const_1000), divide(#0, 124000)', 'add(27, 2), divide(#0, 84)', 'subtract(34, 16), divide(#0, 34)', 'divide(1.3, 2.5)', 'subtract(602.08, const_100), divide(#0, const_100)', 'divide(419.5, 6506.9)', 'divide(10.5, 70.3)', 'divide(35, 235)', 'subtract(2169720, 125700)', 'subtract(13.0, 13.9)', 'add(3.65, 5.49)', 'divide(141.8, 123.7), subtract(#0, const_1)', 'subtract(243, 111), divide(#0, 111)', 'subtract(8246, 972), subtract(8654, 972), subtract(#0, #1), divide(#2, #1)', 'subtract(7.89, 9.09), divide(#0, 9.09)', 'add(567000, 105000)', 'divide(33, 126)', 'divide(11827, 33039)', 'divide(27456, 28484)', 'add(14, 35), add(#0, 5), add(#1, 2)', 'subtract(183.29, const_100), subtract(216.39, const_100), subtract(#1, #0)', 'divide(64571, 35450)', 'add(36%, 21%), add(#0, 22%), divide(#1, const_3)', 'multiply(10014, 27%), multiply(9037, 26%), subtract(#0, #1), divide(#2, #1)', 'divide(12.3, 933.4)', 'divide(50.7, 60.3)', 'greater(487, 322)', 'divide(102.5, 175)', 'divide(3.3, 3.6)', 'divide(78, 464)', 'subtract(6241, 5960), divide(#0, 5960)', 'divide(238, 6179)', 'divide(454, 3410)', 'add(const_1, 2.0%), exp(#0, 7), multiply(397, #1)', 'subtract(20.9, 20.2), divide(#0, 20.2), subtract(21.3, 20.9), divide(#2, 20.9)', 'subtract(142.72, const_100), divide(#0, const_100), subtract(253.33, const_100), divide(#2, const_100), subtract(#1, #3)', 'add(190000, 479000)', 'subtract(12962, 11367), divide(#0, 11367)', 'subtract(1.55, -3.02)', 'divide(20.5, 63.9)', 'greater(296, 89)', 'subtract(16285.1, 7291.4), divide(#0, 16285.1)', 'subtract(15.91, 13.78), divide(#0, 13.78)', 'subtract(68, 94), divide(#0, 94)', 'divide(140.5, 1890.1)', 'subtract(10.9, 10.8), multiply(#0, const_100)', 'multiply(633, 27.55)', 'subtract(28.33, 18.75), divide(#0, 18.75)', 'divide(5.8, 12.5)', 'add(17, 15), add(12, 11), add(6, 80), add(#0, #1), add(#3, #2)', 'subtract(2062, 1375), divide(#0, 1375)', 'multiply(1118051, 24.27)', 'subtract(213, const_100)', 'add(161272, 229967), add(#0, 212958), divide(#1, const_3)', 'subtract(3.82, 3.16), divide(#0, 3.16)', 'divide(43, 12)', 'subtract(36%, 21%)', 'divide(7.2, 41.2)', 'subtract(311, 301), divide(#0, 301)', 'divide(91000, 66000)', 'subtract(3498, 1590), add(#0, const_5), divide(#1, const_2)', 'subtract(23794, 4279), divide(#0, 4279)', 'add(118, 145), add(#0, 88), divide(#1, const_3)', 'divide(136800, 147664)', 'subtract(-8535, -9559), divide(#0, -9559)', 'divide(38384, 61342)', 'divide(140, 49)', 'subtract(271, 310), divide(#0, 310)', 'subtract(346, 270), divide(#0, 270)', 'subtract(1667.2, 1642.1)', 'add(46903, 803728)', 'subtract(279, 100), divide(#0, 100)', 'add(1.8, 2.8), add(#0, 4.8), divide(#1, const_3)', 'greater(1807885, 1718403)', 'subtract(111.26, 79.51), divide(#0, 79.51)', 'divide(807, 43)', 'divide(1546, 8793)', 'divide(2.2, 166.9)', 'subtract(86.93, const_100), divide(1000000, const_100), multiply(#1, #0)', 'greater(103, 106)', 'subtract(6.8, 11.0)', 'divide(36.5, 44.5)', 'subtract(3716, 996), divide(#0, 996)', 'subtract(1412, 1374)', 'add(7540, 5943), add(#0, 188294), add(#1, 22278)', 'add(482000, 309000)', 'add(750, 292), divide(#0, 1055)', 'divide(212, 1188)', 'divide(46984, 172095)', 'subtract(187, 37), divide(#0, 37)', 'subtract(230, 284), divide(#0, 284)', 'divide(104.3, 591.6)', 'add(314.3, 75.0)', 'subtract(110, const_5)', 'subtract(189, 167), divide(#0, 167)', 'subtract(348, 352), divide(#0, 352)', 'subtract(1151, 868), divide(#0, 868)', 'divide(110, 61)', 'divide(691, 334)', 'divide(8475, 22110)', 'subtract(37.4, const_1000000), divide(#0, 628000)', 'add(110, 98)', 'subtract(1466, 971), divide(#0, 1466)', 'add(11869, 11144), add(#0, 21796), divide(#1, const_3)', 'divide(319.10, 199.95)', 'divide(753798, 739187)', 'table_max(2015, none)', 'subtract(137.83, const_100), divide(#0, const_100)', 'subtract(14711, 3789), multiply(#0, const_1000)', 'subtract(121, 113), divide(#0, 113)', 'add(17, const_2)', 'subtract(16, 13), divide(#0, 13)', 'divide(9.6, 53.4)', 'subtract(137, 52), divide(#0, 137), multiply(#1, 100)', 'divide(1, 59%)', 'subtract(65005, 36836), divide(#0, 36836)', 'subtract(188, 98), divide(#0, 98)', 'subtract(111667, 2373), divide(#0, 2373)', 'table_max(balance at january 1, none)', 'subtract(501.4, const_100), divide(#0, const_100), subtract(198.4, const_100), divide(#2, const_100)', 'divide(5381, 41431)', 'divide(5943, 15415)', 'add(6180, 7510), add(#0, 7456)', 'divide(6.3, 3%)', 'subtract(4244.0, 4214.5)', 'subtract(6272, 5949)', 'divide(2356, 3749)', 'add(1298.9, 755.1), subtract(2420.9, #0), divide(#1, 2420.9)', 'subtract(16.15, 1.00)', 'divide(203244, 558138), multiply(#0, const_100)', 'subtract(9271, 7062)', 'add(243040, 245769), add(248251, #0), add(258787, #1), divide(#2, const_4)', 'table_average(settlements, none)', 'divide(15322, 38891)', 'divide(378841, 1672866)', 'divide(5.8, 22.7)', 'add(22.5, 1.2), add(#0, 175.1)', 'divide(253, 10000)', 'subtract(1136, 1104)', 'table_min(changes in fair value of derivatives, none)', 'divide(20, 948)', 'divide(2707, 40782)', 'greater(4.70, 4.50)', 'subtract(1187.4, 1113.2), divide(#0, 1113.2)', 'table_max(other current assets, none)', 'subtract(2554.7, 1649.1), subtract(#0, 1359.8)', 'divide(1045, const_5)', 'divide(4105, 5222)', 'subtract(258.8, 22.6)', 'subtract(37788, 5942)', 'divide(2143, 6192)', 'subtract(9074, 21820)', 'subtract(47705, 60093)', 'multiply(2665462, 20.99)', 'add(47, 54), add(#0, 24)', 'divide(34888, const_1000)', 'add(267, 42), divide(#0, const_2)', 'subtract(13%, 9%)', 'add(244.5, 523.8), add(#0, 338.5), add(#1, 0.9), add(#2, 0.9), add(#3, 1327.6)', 'subtract(831.2, 598.4)', 'divide(195, 1095.9)', 'subtract(5145, 3779)', 'add(26, 16)', 'subtract(45366, 47369), divide(#0, 47369)', 'subtract(303.1, 314.7), divide(#0, 314.7)', 'subtract(1420, 510), divide(#0, 510)', 'divide(62801, 41834)', 'subtract(16152, 13295)', 'divide(43.6, 96.9)', 'divide(600, 365)', 'divide(280064, 67973)', 'divide(5540000, 18800000)', 'divide(289, 5829)', 'multiply(2059, const_m1), divide(#0, 21579)', 'subtract(22503, 6154)', 'subtract(21.4%, 19.2%)', 'subtract(87.32, 104.12), divide(#0, 104.12)', 'table_average(tier 1 capital, none)', 'subtract(22974, 19667)', 'multiply(10000, 18.705)', 'add(23.1, 23.7)', 'divide(100.2, 345.6)', 'subtract(1.6, 1.4)', 'divide(118560581, 16.91)', 'multiply(11695, const_1000000), divide(#0, 93453)', 'subtract(991.1, 942.1), divide(#0, 942.1)', 'divide(75.0, 72.7)', 'divide(7698, 16088)', 'add(194.0, 56.3), add(#0, 53.8), add(#1, 301.2), add(#2, 1472.6), add(#3, const_5), divide(#4, const_2)', 'subtract(2500, 1534), divide(#0, 1534)', 'divide(610, const_1000), subtract(2.4, #0)', 'divide(544, const_9)', 'divide(6306, const_1000), subtract(#0, 6.7), divide(#1, 6.7)', 'divide(28649, 0.55)', 'divide(30.2, 11), multiply(#0, const_1000000)', 'divide(40187, 59658)', 'divide(48000, 86000)', 'divide(1823, 74)', 'divide(341, 12226)', 'divide(4.5, 9.4)', 'divide(372863, 506032)', 'table_sum(net interest income, none)', 'add(2.2, 24.8), divide(#0, 34.6)', 'multiply(900, 0.25%), multiply(#0, const_1000000)', 'subtract(126.72, 113.16), divide(#0, 113.16)', 'subtract(4214.5, 4209.6)', 'add(156.7, 363.9), divide(156.7, #0)', 'multiply(1.29, const_1000), subtract(#0, 324)', 'table_max(gross margin, none)', 'subtract(128, 95.3)', 'subtract(1252.3, 1216.7), divide(#0, 1216.7)', 'divide(23750, 47358)', 'divide(13566, 22944)', 'add(10.5, 3.3)', 'subtract(1720, 1400), divide(#0, 1400)', 'divide(1191867, 1994797)', 'add(20.5, 20.7), divide(#0, const_2)', 'divide(1590873, 151202)', 'add(60.68, 63.25), divide(#0, const_2)', 'subtract(1110.6, 1074.5)', 'add(257, 24), add(264, 48), subtract(#0, #1)', 'subtract(2169720, 632100)', 'subtract(271, 200)', 'add(338.5, 247.4), add(#0, 173.6)', 'divide(29.5, 37.8)', 'subtract(498.8, 486.9)', 'subtract(338, 271), divide(#0, 271)', 'add(19.8, 12.4)', 'divide(11754222, 40815771)', 'subtract(24.41, 12.75)', 'divide(15780, 5792)', 'divide(4214600, 6903188)', 'multiply(7008, 57%)', 'divide(900, 400)', 'add(1361, 1195), divide(#0, const_2)', 'divide(3590, 1062)', 'divide(2372.1, 5625.6)', 'subtract(2034, 2015)', 'table_average(total tdrs, none)', 'subtract(229.3, const_100), subtract(198.2, const_100), divide(#0, #1)', 'add(6.2, 6.8)', 'multiply(2.8, const_1000), divide(#0, 5680)', 'divide(3873, 6097)', 'add(195.0, 410.0)', 'subtract(82.42, 79.10)', 'subtract(21, 1)', 'subtract(21.6, 11.3)', 'subtract(44903, 681)', 'divide(50, 150)', 'table_max(total other income and expense, none)', 'divide(334.2, 226.2)', 'divide(500, 14)', 'divide(47800, 73200)', 'subtract(46.3, 59.0), divide(#0, 59.0)', 'divide(3483, 4719)', 'subtract(2.9, 3.6), divide(#0, 3.6)', 'subtract(662272, 666009), divide(#0, 666009)', 'add(73, 89), divide(#0, const_2)', 'subtract(3365, 3579), divide(#0, 3579)', 'subtract(211, 327), divide(#0, 327)', 'subtract(2012, 2006)', 'divide(16990, 92440)', 'multiply(924, 104.02)', 'multiply(11.6, const_1000), divide(#0, 13280)', 'divide(const_100, 9)', 'divide(20404, 46505)', 'subtract(3.22, 3.12), divide(105, #0), multiply(#1, const_1000000)', 'divide(22372, 32100)', 'add(5171000, 7779000)', 'divide(320, 2640)', 'subtract(359.8, 540.1), divide(#0, 540.1)', 'divide(135.2, 95.7), subtract(#0, const_1)', 'divide(3770, 22278)', 'divide(6989, 13058)', 'divide(975, 6175)', 'divide(116, 225)', 'divide(4941, 347976)', 'multiply(16%, 15600)', 'subtract(164.2, 189.6), divide(#0, 189.6)', 'subtract(879, const_7)', 'divide(497.0, 6.8)', 'divide(14.8, 39.4)', 'subtract(14663, 11690), divide(#0, 11690)', 'subtract(100, 10)', 'subtract(const_100, 14), divide(#0, const_100), multiply(#1, 8.25)', 'table_average(research and development, none)', 'subtract(40.5, 39.4)', 'divide(619373, 1954928)', 'divide(64, 238), multiply(#0, const_100)', 'subtract(567048, 395155), divide(#0, 395155)', 'add(327.11, 365.63), divide(#0, const_2)', 'subtract(2640, 2179), divide(#0, 2179)', 'subtract(1735.5, 96.9)', 'divide(7.8, 7.6)', 'divide(138386, 3486855)', 'add(1563, 2446), divide(9938, #0)', 'subtract(179, 129)', 'subtract(31674085, 29191247)', 'subtract(9879, 7126), divide(#0, 7126)', 'divide(838.9, 6452.5)', 'divide(245513385, 959868396)', 'table_average(return on invested capital, none)', 'divide(392500, 670000)', 'divide(3453, 118880)', 'greater(1922, 253)', 'subtract(339, 283), divide(#0, 283)', 'divide(4492.1, 19637.5)', 'subtract(1115, 1401), divide(#0, 1401)', 'divide(22832, const_1000), subtract(#0, 2.5)', 'table_sum(transmission and distribution, none)', 'subtract(20.74, 18.89), divide(#0, 20.74), multiply(#1, const_100)', 'add(15, -12315)', 'multiply(0.2275, const_4), divide(#0, 14.30)', 'greater(693.60, 118.95)', 'divide(3946111, 3608527)', 'add(1197607, 1188003), add(#0, 98424), divide(1188003, #1)', 'divide(1460, 5%)', 'subtract(39.03, 29.65)', 'divide(873, 15473)', 'divide(13566, 14156696), multiply(#0, const_100)', 'subtract(30%, 24%)', 'table_sum(debt securities and loans, none)', 'table_max(interest rate hedges, none)', 'divide(5859, 46505)', 'divide(30.5, 1.7)', 'divide(625884, 5587388)', 'divide(1139.2, 38.4)', 'subtract(const_100, 11), subtract(const_100, 9), subtract(#1, #0)', 'divide(19766, 18182)', 'add(459188, 439959), divide(#0, 3077509)', 'table_sum(intermodal, none), table_sum(total freight revenues, none), divide(#0, #1)', 'subtract(254579, 538903)', 'divide(26.5, 34.1)', 'add(51512, 51160), divide(#0, const_2)', 'divide(285.7, 9362.2)', 'divide(10081, 22278)', 'add(65, 65), add(65, 64), add(57, 641), add(#0, #1), add(#3, #2)', 'subtract(8.25, 8.25)', 'divide(142423, 1791809)', 'subtract(19700, 18600), divide(#0, 18600)', 'divide(10.1, const_100), divide(46.2, #0)', 'subtract(9091, 844)', 'add(10.3, 6.2), add(#0, 2.5)', 'table_sum(17695228, 963202), add(#0, 155213)', 'add(2956907, 2786760), divide(2956907, #0)', 'subtract(1736, 404)', 'subtract(600, 100), multiply(#0, const_1000000)', 'subtract(5.9%, 6.1%)', 'subtract(5960, 8091), divide(#0, 8091)', 'divide(10.9, 71.4)', 'subtract(83, 78), divide(#0, 78)', 'divide(64.3, 64.8)', 'subtract(4244.0, 4214.5), divide(#0, 4214.5)', 'multiply(300, 5.40%)', 'add(759, 808), add(#0, 874), divide(#1, const_3)', 'divide(9299, 2472)', 'subtract(7.2, 6.3)', 'divide(17027, 12%)', 'subtract(2021, 2251), divide(#0, 2251)', 'divide(71.5, 76.4)', 'add(-58, 199), add(#0, -2), add(#1, 1)', 'subtract(28.9, 30.6), divide(#0, 30.6), multiply(#1, const_100)', 'divide(187, 13337)', 'subtract(29.19, 27.89), divide(#0, 27.89)', 'divide(951, 4830)', 'divide(36.9, 218.6)', 'divide(1685.0, 16285.1)', 'subtract(237.5, 245.4), divide(#0, 245.4)', 'subtract(5469, 6175), divide(#0, 6175)', 'divide(5951, 17027)', 'add(11816000, 6399000), subtract(21300000, #0)', 'subtract(80.8, 70.3), divide(#0, 80.8)', 'add(6510, 92116), add(#0, 21315)', 'subtract(2836, 1829), divide(#0, 1829)', 'subtract(31.3, 31.2)', 'subtract(127.44, 100.00)', 'divide(290, 1941)', 'subtract(5949, 5666)', 'subtract(27.32, 30.51), divide(#0, 30.51)', 'table_average(u.s ., none)', 'divide(684, 1020)', 'divide(282, 1070)', 'table_max(common share repurchases, none)', 'subtract(151, 100)', 'multiply(18.84, 2972951)', 'multiply(269196, const_1000), divide(#0, 1.20), divide(#1, const_1000000)', 'add(626.8, 35.1), divide(35.1, #0)', 'add(2811, 524)', 'subtract(293.33, 100), divide(#0, 100)', 'divide(153.9, 4385.5)', 'divide(2592, 6271)', 'subtract(6, 2)', 'divide(156.6, 273.8)', 'add(95, 116), add(#0, 127), add(#1, 174)', 'add(50, 25), add(#0, 20)', 'multiply(10676, 104.10), divide(#0, const_1000000)', 'subtract(19.2, 16.2), divide(#0, 16.2)', 'divide(9029, 59658)', 'add(10697.7, 60.1)', 'divide(124, 273)', 'add(33712, 49387), add(#0, 9181), divide(#1, const_3)', 'add(62.2, 195.0), add(#0, 410.0)', 'divide(29772, 35858)', 'divide(179.0, 98.9)', 'greater(2.28, 1.24)', 'add(0, 40), divide(#0, const_2)', 'add(911, 1534)', 'subtract(157.38, const_100), divide(#0, const_100), subtract(108.59, const_100), divide(#2, const_100), subtract(#1, #3)', 'add(300.0, 300.0)', 'subtract(485.5, 516.9)', 'add(385.47, 208.14), add(#0, 238.77), divide(#1, const_3)', 'divide(79.0, 65.8)', 'subtract(200, 892)', 'multiply(1.08, const_1000)', 'subtract(11.7, 8.2), divide(#0, 8.2)', 'divide(const_3, 84)', 'divide(17188, 360940)', 'subtract(227.0, 144.9), divide(#0, 144.9)', 'subtract(21808, 19018), divide(#0, 19018)', 'subtract(3827, 786)', 'add(1424356, 4281952), divide(1424356, #0)', 'subtract(414067, 411814), divide(#0, 411814)', 'subtract(6152, 6158)', 'divide(17632, 88472)', 'multiply(2.6, const_1000), divide(#0, 6205)', 'add(54, -27)', 'subtract(29669000, 29570000)', 'add(87, 41), add(21, #0), divide(34, #1)', 'subtract(221.91, const_100), subtract(228.09, const_100), subtract(#0, #1)', 'divide(16.5, 10.9)', 'add(506032, 30251), add(#0, 16354), add(#1, 4926)', 'subtract(1466, 971)', 'subtract(18.9, 7.4)', 'add(41, 42.5), add(#0, 38.9)', 'subtract(259.88, const_100), divide(#0, const_100), subtract(136.56, const_100), divide(#2, const_100), subtract(#1, #3)', 'divide(28000, 155000)', 'divide(236931, 1349500)', 'multiply(2049255, 47.72), multiply(1441499, 44.89), subtract(#1, #0), divide(#2, #0)', 'multiply(700, 32)', 'add(169.5, 9.9), add(#0, 6.8)', 'subtract(6154, 2815)', 'add(8466000, 7995000)', 'subtract(317.5, 363.1), divide(#0, 363.1)', 'add(-58, 199)', 'divide(192, 1038)', 'divide(211.9, 242.2)', 'divide(5100, 2243)', 'greater(40000, 210000)', 'subtract(395, 405), divide(#0, 405)', 'divide(89, 2470)', 'subtract(436, 180)', 'table_max(equity, none)', 'add(112, 16), add(#0, 11), add(#1, 16)', 'subtract(3.1, 2.1)', 'add(72, 78), add(#0, 119)', 'subtract(9091, 844), subtract(13462, 906), subtract(#1, #0), divide(#2, #0)', 'subtract(1664, 403), divide(#0, 403)', 'add(1.81, 1.42), divide(662, const_1000), add(#0, #1), divide(1.42, #2)', 'subtract(2009, 2006)', 'add(6.5, 3.5), divide(3.5, #0)', 'divide(const_100, 20)', 'add(25.3, 18.4), multiply(#0, const_1000000)', 'divide(58.4, 122.5)', 'subtract(2.35, 1.71), divide(#0, 1.71)', 'subtract(18.5, 10.2)', 'subtract(64, 14)', 'divide(32086, 6678985)', 'add(75, 37), add(13, #0)', 'multiply(13804709, 115.33)', 'subtract(604, 540), divide(#0, 540)', 'divide(64.1, 56.5)', 'subtract(157, 144), divide(#0, 144)', 'subtract(2074, 1622), divide(#0, 1622)', 'divide(329, 920)', 'greater(623, 1059)', 'subtract(937, 734), divide(#0, 734)', 'divide(33755, 34055)', 'subtract(359, 100), divide(#0, 100), subtract(192, 100), divide(#2, 100), subtract(#1, #3)', 'divide(4578, 6581)', 'add(7157, 6639), divide(#0, const_2)', 'subtract(308.5, 279.6), divide(#0, 279.6)', 'divide(5679, 5204), multiply(#0, 5679)', 'divide(188449, const_3)', 'subtract(378, 326), divide(#0, 326)', 'subtract(68.1, 67.8)', 'subtract(9, 7), divide(#0, 7), multiply(#1, const_100)', 'divide(19.8, 8.2), multiply(#0, const_100), subtract(#1, const_100)', 'subtract(617, 393), divide(#0, 393)', 'divide(108867, 416956)', 'divide(2.7, 32.1)', 'divide(2206476, 3486855)', 'add(46903, 763322), divide(46903, #0)', 'subtract(28929, 28179)', 'subtract(265.06, const_100), divide(#0, const_100), subtract(198.18, const_100), divide(#2, const_100), subtract(#1, #3)', 'subtract(22.0, 20.9), divide(#0, 20.9), multiply(#1, const_100)', 'add(6.9, 7.1), add(5.6, #0)', 'divide(13, 160)', 'divide(228, 100), divide(#0, 100)', 'add(59224, 669)', 'subtract(1770, 1702)', 'divide(493349, 992178)', 'divide(136.1, 175.4)', 'subtract(11.0, 4.3)', 'divide(const_100, 8)', 'divide(1.8, 32)', 'multiply(2.5, const_1000), divide(#0, 11453)', 'divide(12.48, 5.64)', 'subtract(7.2, const_6)', 'subtract(349.4, 324.8), divide(#0, 324.8)', 'subtract(283.6, 235.7)', 'divide(11853, 20941)', 'subtract(1056, 1049)', 'divide(81.1, 209.2)', 'subtract(12.32, 10.34), divide(#0, 10.34)', 'divide(2471, 1218947)', 'divide(398, 2036)', 'subtract(20.5, 21.5), divide(#0, 21.5)', 'add(3.63, 3.38), divide(856, const_1000), divide(#0, #1), divide(3.38, #2)', 'subtract(16, 14), divide(#0, 14)', 'subtract(204866, 218883), divide(#0, 218883)', 'subtract(77.97, 52.13), divide(#0, 52.13)', 'divide(1923, 2693)', 'divide(984, 25636)', 'multiply(const_10, const_2), add(#0, 1), divide(25, const_2), multiply(#2, #1)', 'divide(3500, const_100000)', 'subtract(359, -88), divide(#0, 88)', 'divide(70.36, 127.85)', 'subtract(529, 546)', 'subtract(285.81, const_100), divide(#0, const_100)', 'subtract(6.8, 4.1), divide(#0, 6.8)', 'subtract(const_1, 0.8)', 'divide(323, 713)', 'divide(616000, 395000)', 'divide(33.4, 95.3)', 'divide(4309, 7041)', 'add(const_9, 13), add(#0, const_8)', 'divide(7844, 20807)', 'divide(4033, 6175)', 'add(26.1, 26.2), add(#0, 25.2), divide(#1, 3)', 'subtract(699, 759), divide(#0, 759)', 'subtract(3633, 75)', 'subtract(129.5, 135.2)', 'subtract(3.57, 4.11)', 'subtract(21.9, 20.5), divide(#0, 20.5)', 'subtract(1110.1, 1130.7), divide(#0, 1130.7)', 'divide(112, 61)', 'divide(14840, 207666)', 'multiply(1.4, const_1000), divide(#0, 7426)', 'table_min(grant date fair value per share, none)', 'divide(7510, 19.7%)', 'subtract(-1.3, 23.8)', 'multiply(20000, 50.50)', 'divide(31.5, 19.2)', 'add(6393, 4175), add(848, #0)', 'subtract(187, 100), divide(#0, 100)', 'subtract(998.7, 978.4), divide(11.5, #0)', 'divide(7.5, 14.7)', 'subtract(206588, 181001), divide(#0, 181001)', 'divide(26009, 31838)', 'add(120, 201)', 'divide(34.6, 1.4)', 'subtract(65565, 88617), divide(#0, 88617)', 'divide(176000, const_7)', 'divide(147.4, 701.4)', 'subtract(20997, 39573)', 'subtract(493000, 425000), divide(#0, 425000)', 'subtract(2.35, 2.01), divide(#0, 2.01)', 'divide(246615, 834902)', 'subtract(29497, 29905)', 'subtract(407, 258), divide(#0, 407), multiply(#1, const_100)', 'divide(97, 116)', 'subtract(11.7, 8.2)', 'subtract(39892, 26643), divide(#0, 26643)', 'subtract(156.80, const_100), divide(#0, const_100)', 'subtract(418.67, const_100), subtract(171.91, const_100), divide(#0, const_100), divide(#1, const_100), subtract(#2, #3)', 'divide(105, 76.2), subtract(#0, const_1)', 'subtract(134.97, const_100), divide(#0, const_100), multiply(#1, const_1)', 'subtract(8250, 7238), divide(#0, 7238)', 'add(0.3, 0.2), add(#0, 0.2)', 'divide(62, 211)', 'divide(769, 935)', 'subtract(1559231, 1820578), divide(#0, 1820578)', 'subtract(8.5, 52.3), divide(#0, 52.3)', 'table_min(icbc, none)', 'divide(29.6, 78.3)', 'divide(1751, 73.47)', 'divide(200, 892)', 'divide(208, 2270)', 'divide(225116, 354660)', 'multiply(76.36, 410783)', 'subtract(100, 77)', 'subtract(3680, 1016)', 'table_min(foreign currency translation, none)', 'add(8, 14)', 'divide(14.1, const_6)', 'table_average(fourth quarter, none)', 'subtract(15.3%, 14.6%)', 'multiply(1647, 63.49), multiply(1837, 69.84), subtract(#1, #0)', 'multiply(119373, 54.24)', 'add(1084934, 968162)', 'subtract(1195, 1194), add(1195, #0), multiply(#1, const_1000000)', 'subtract(627444, 635092), divide(#0, 635092)', 'divide(38.6, 60.5)', 'divide(88, 93)', 'add(3946111, 3608527), divide(3946111, #0)', 'subtract(293.64, const_100), subtract(586.91, 293.64), divide(#1, 293.64), subtract(#0, #2)', 'subtract(41.4, 37.1), divide(#0, 37.1)', 'subtract(348, 100)', 'subtract(1018894, 985174), divide(#0, 985174)', 'divide(193.4, 1993.7)', 'divide(195, 426)', 'divide(35341, 26996)', 'divide(78, 17362)', 'subtract(18.2, 1.2), divide(#0, 18.2)', 'subtract(118, -33), subtract(#0, -33)', 'add(82.7, 224.1), add(#0, 229.8)', 'add(359, 156), add(2649, 1079), divide(#0, #1)', 'add(3.6, 1.7)', 'greater(313, 472)', 'subtract(2.7, 3.3), divide(#0, 3.3)', 'multiply(12.59, 114)', 'subtract(54, 47)', 'subtract(138, const_100), divide(#0, const_100)', 'add(846, 1507), divide(#0, 13058)', 'subtract(19000000, 15000000), divide(#0, 15000000)', 'table_max(cash instruments, none)', 'divide(6226, 21.6%)', 'subtract(1130.7, 1110.1), divide(440.2, #0)', 'subtract(117, 917), divide(#0, 917)', 'subtract(3698, -2908)', 'divide(56, const_4)', 'table_max(accounts receivable net, none)', 'divide(64564, 317742)', 'add(1623.5, 1129.8), add(1732.8, 1662.5), divide(#0, #1), multiply(#2, const_100)', 'subtract(689, 701), divide(#0, 701)', 'subtract(13, 19)', 'add(71000, 63000), add(#0, 666000)', 'divide(1970, 12880)', 'divide(200, 298)', 'divide(73, 306)', 'subtract(109737, 115919), divide(#0, 115919)', 'divide(6, 9)', 'add(15, 14), add(12, 9), add(#0, #1), add(8, 65), add(#2, #3)', 'subtract(327.11, const_100), divide(#0, const_100)', 'divide(const_2, 278)', 'add(105967, -86179)', 'subtract(13555, 2979)', 'greater(8.7, 9.5)', 'divide(5311, 12747)', 'add(62.2, 195.0)', 'divide(1009, 6192)', 'divide(2750.1, 10697.7)', 'divide(72740, 573225)', 'subtract(31.62, 26.35), divide(#0, 31.62)', 'add(1.39, 1.99), divide(#0, const_2)', 'add(49, 28), add(#0, 40), subtract(#1, 22)', 'divide(12, 136)', 'subtract(4009641, 4120030)', 'subtract(35764, 22176), divide(#0, 22176)', 'subtract(104520, 125385), divide(#0, 125385)', 'subtract(47.9, 65.8), divide(#0, 65.8)', 'greater(948, 597)', 'divide(323, 7.8)', 'add(24.0, 10.2)', 'add(6295, 8570), add(#0, const_2), divide(#1, const_2)', 'add(1410, 1264), add(#0, 1078), divide(#1, const_3)', 'subtract(13532, 12803), divide(#0, 12803)', 'divide(842, 18851)', 'divide(28.6, 54.4)', 'subtract(13.71, 7.81)', 'divide(1219, 2852)', 'divide(501000, 395000)', 'divide(1499500, 1739338)', 'divide(203244, 3508789)', 'subtract(29822, 21895), divide(#0, 21895)', 'divide(67973, 573225)', 'subtract(const_100, 4), divide(#0, const_100), divide(2.3, #1)', 'subtract(476, 433), divide(#0, 433)', 'subtract(95.7, 96.0), divide(#0, 96.0), multiply(#1, const_100)', 'subtract(3.03, 3.73), divide(#0, 3.73)', 'divide(1877, 4987)', 'divide(124.3, 110.8), subtract(#0, const_1)', 'subtract(117, 41), divide(#0, 117)', 'table_max(annual operating cash flow, none)', 'subtract(2030, 1960)', 'subtract(42.9, 5.7), divide(#0, 42.9), multiply(#1, const_100)', 'subtract(21, 13)', 'multiply(3824, 23.30), multiply(1750, 23.77), subtract(#0, #1)', 'add(72, 64)', 'divide(23, 1352)', 'subtract(266, 100), divide(1000000, 100), multiply(#1, #0)', 'subtract(2330, 1560), divide(#0, 1560)', 'add(2.4, 2.5), divide(2.4, #0)', 'subtract(620, 326), divide(#0, 620)', 'subtract(93192, 10258), divide(#0, 10258)', 'subtract(const_100, 23%), multiply(205, #0)', 'subtract(332.5, 344.4)', 'divide(101870, 4989244)', 'divide(608, 8211)', 'multiply(400, 3.25%), multiply(400, 2.00%), add(#1, #0)', 'subtract(3534, 3475), divide(#0, 3475)', 'table_max(performance plans, none)', 'add(1818716, -1345412), add(#0, -230786)', 'greater(8, 1)', 'divide(238, 836)', 'subtract(929.8, 755.3), divide(#0, 755.3)', 'subtract(7.2%, 11.5%)', 'subtract(251.44, 142.11)', 'subtract(120, 100), divide(#0, 100), subtract(120, 100), divide(#2, 100), subtract(#3, #3)', 'divide(9083, 3854)', 'divide(9413, 20.01), divide(8249, 9.48), subtract(#1, #0)', 'subtract(132000, 95000), divide(#0, 95000)', 'subtract(55, 42)', 'divide(2186889, 5032914)', 'divide(480278, 395007), subtract(#0, const_1)', 'subtract(198.03, 139.36), divide(#0, 139.36)', 'subtract(510.8, 1691.5), divide(#0, 1691.5)', 'subtract(12529.6, 10603.4), divide(#0, 10603.4)', 'divide(252029, 246800)', 'subtract(201.3, 174.7)', 'subtract(292, 570)', 'subtract(177.01, 174.56), divide(#0, 174.56)', 'add(2907.3, 320.1), divide(58.2, #0)', 'divide(61, 529)', 'subtract(285, 190)', 'divide(720, 879)', 'divide(2481, 61306)', 'divide(1685.0, 1193.5), subtract(#0, const_1)', 'subtract(65, 65)', 'divide(56, 2237)', 'divide(128, 12747)', 'divide(739, 4742)', 'add(143, 31), add(1772, 352), divide(#0, #1)', 'subtract(512.2, 661.3), divide(#0, 661.3)', 'divide(740.7, 6415.2)', 'divide(39, 126)', 'subtract(-8535, -9559)', 'subtract(89, 85), divide(#0, 89)', 'divide(7700, 591200)', 'multiply(0.6, const_1000000), divide(169037, #0)', 'divide(7037, 365421)', 'add(27, 158), divide(27, #0)', 'divide(93.2, 94.4)', 'divide(6.3, 7.3)', 'divide(61.0, 231.6)', 'subtract(28.2, 22.0)', 'add(132.1, 330.0)', 'subtract(275, 681), divide(#0, 681)', 'divide(18.6, 51)', 'divide(15.0, 61.2)', 'divide(10241, 7037)', 'multiply(400.0, 7.25%)', 'divide(16965, 31953)', 'subtract(195407396, 186386197)', 'add(16960, 0), add(#0, 0), divide(#1, const_3)', 'subtract(9.09, 6.79), divide(#0, 6.79)', 'subtract(4.920, 3.553), divide(#0, 3.553)', 'divide(201, 571)', 'subtract(1802, 1854)', 'subtract(149, 51)', 'subtract(34.5, 26.4), divide(#0, 26.4)', 'divide(23.6, 83.9)', 'divide(22.6, 50)', 'subtract(3476, 4443), divide(#0, 4443)', 'divide(32, 113)', 'divide(49.8, 394.8)', 'subtract(4096, 3851), divide(#0, 3851)', 'multiply(120.3, const_1000), divide(#0, 192803)', 'divide(60249, 248504)', 'multiply(18.3, const_1000000), multiply(7.8, const_1000000), multiply(#1, const_1000), subtract(#2, #0)', 'subtract(33.5, 57.2)', 'subtract(220.5, 186.4), divide(#0, 186.4)', 'subtract(2668, 1229)', 'subtract(4.5%, 4%)', 'divide(168872, 85008)', 'divide(157.0, 152.4), subtract(#0, const_1), divide(55.6, 53.9), subtract(#2, const_1), subtract(#3, #1)', 'divide(1667, 7041)', 'divide(280.1, 2.6)', 'subtract(2.4, 1.6)', 'subtract(3.08, 3.68), divide(#0, 3.68)', 'divide(535, 194)', 'greater(177.40, 164.15)', 'subtract(38.40, 47.62)', 'divide(153.3, 701.4)', 'subtract(153, 100), divide(#0, 100)', 'multiply(90%, 5591)', 'subtract(774788, 556186), divide(#0, 556186)', 'subtract(301.2, 53.8), divide(#0, 53.8)', 'divide(399165, 3995600)', 'subtract(19924, 7367), divide(7367, #0)', 'subtract(11.92%, 7.12%)', 'subtract(69.8, 35.3), divide(#0, 35.3)', 'divide(56, 141)', 'add(424.7, 29.8)', 'divide(1059, 1754)', 'subtract(16.1, 29.7)', 'subtract(728, 627), divide(#0, 728)', 'subtract(1033, 647), divide(#0, 1033), multiply(#1, const_100)', 'divide(52, 108)', 'divide(564700, 16.4)', 'divide(15, 42)', 'multiply(400, 6.65%), greater(#0, 5)', 'divide(3075, 15553)', 'divide(1663, 7035)', 'divide(102360, 2723347)', 'add(9640, 8700), divide(#0, 2)', 'divide(54757, 207666)', 'table_sum(total freight revenues, none), table_sum(industrial products, none), divide(#1, #0)', 'subtract(16.9, 5.8)', 'add(172.8, 158.7), add(#0, 145.8), divide(#1, const_3)', 'add(61.9, 48.3), add(#0, 45.5), divide(#1, const_3)', 'add(13.9, 12.8), add(#0, 12.2)', 'add(47, 32)', 'add(650.1, 649.6), add(#0, 728.3), add(#1, const_3), divide(#2, const_2)', 'divide(2911, 22278)', 'add(1509.7, 156.1), subtract(#0, 1100.6), divide(#1, #0)', 'add(52742, 2218)', 'subtract(18900, 17400), divide(#0, 17400)', 'add(4541, 5548)', 'divide(3841008, 4704612)', 'subtract(2560, 2480)', 'multiply(24, 15)', 'multiply(329897, 6.2%)', 'subtract(30.7, 33.2), divide(#0, 33.2)', 'add(72, 64), divide(64, #0)', 'divide(230, 2685)', 'divide(512, 2834)', 'divide(15.8, 24.3)', 'divide(40, 81)', 'divide(98900, 118500)', 'divide(305, 689)', 'add(10, 133.0)', 'multiply(3534, 11.39)', 'divide(49, 12)', 'subtract(346.1, 347.2), divide(#0, 347.2)', 'add(830, 2512)', 'divide(12.0, 54.4)', 'subtract(115.21, const_100), divide(1000000, const_100), multiply(#1, #0)', 'subtract(298.31, const_100), divide(#0, const_100)', 'subtract(const_9, 13), divide(#0, const_9)', 'multiply(1739338, 49.59)', 'subtract(1372.5, 1285.6)', 'add(104520, 125385), add(5474988, 4368874), divide(#0, #1)', 'subtract(2732, 100)', 'subtract(71.5, 67.6)', 'divide(48109, 102148)', 'divide(189596, 281053)', 'add(14215, 15794), add(#0, 442), add(#1, 4737)', 'divide(449.0, 651.5)', 'subtract(22878, 29497), divide(#0, 29497)', 'subtract(1252.3, 1216.7), divide(31.0, #0)', 'subtract(621, 656), divide(#0, 656)', 'subtract(147, 100), divide(#0, 100), multiply(#1, 10)', 'divide(82, 7)', 'add(87, 165), subtract(#0, 44)', 'add(2022, 23), add(#0, 23)', 'subtract(176.0, 188.7)', 'subtract(62.10, 40.13), divide(#0, 40.13)', 'add(301.2, 1472.6), divide(#0, 1800.2)', 'subtract(40.1, 99.1), divide(#0, 99.1)', 'subtract(1400020, 1249904)', 'subtract(343, 462), divide(#0, 462)', 'divide(3.2, 16.1)', 'add(29045044, 12181214), add(#0, 435259)', 'divide(1882226, 9878673)', 'divide(9212, 1514308)', 'subtract(159641, 151981), divide(#0, 151981)', 'divide(4685, 14181)', 'subtract(80, 281), divide(#0, 281)', 'subtract(226, 188)', 'subtract(405, 374), divide(#0, 374)', 'greater(24, 17)', 'divide(15370814, 15953695)', 'subtract(14950, 14326)', 'add(0.6, 4.1), divide(#0, 22.7)', 'subtract(116.1, 100.2), divide(#0, 100.2)', 'subtract(5363, 7983), divide(#0, 7983)', 'subtract(7153, 7579), divide(#0, 7579)', 'divide(45649, 53320)', 'add(1.1, 6.8), divide(#0, const_2)', 'subtract(155596, 187072), divide(#0, 187072)', 'subtract(14151, 7012), divide(#0, 7012), multiply(#1, const_100)', 'multiply(1.6, 47.34)', 'multiply(1.8, const_1000), add(#0, 900), divide(#1, const_1000)', 'table_sum(amounts written off, none)', 'subtract(136098, 160468), divide(#0, 160468)', 'divide(68, 116)', 'subtract(70, 68)', 'divide(154, 10349)', 'subtract(64%, 64%)', 'divide(3939, 4012)', 'add(301.2, 53.8)', 'greater(280, 464)', 'subtract(210.5, 153.1), divide(#0, 153.1)', 'divide(40412, 79054)', 'multiply(13394736, 11.38)', 'divide(125, 728)', 'divide(82, 107), divide(85, 82), add(#0, #1), divide(#2, const_2)', 'divide(2008.2, 2175.1)', 'subtract(331, 168), divide(#0, 168)', 'subtract(76, const_8)', 'subtract(3916.4, 4114.6), divide(#0, 4114.6)', 'add(28.1, 29.6)', 'add(15, const_6)', 'divide(2698, 47.59)', 'subtract(2505, 314), subtract(#0, 229)', 'subtract(23.93, 22.78), divide(#0, 22.78)', 'subtract(2529, 1825), divide(#0, 1825)', 'divide(1379, 5830)', 'divide(2594, 15721)', 'divide(27, 506)', 'subtract(7463, 6930), divide(#0, 6930)', 'subtract(147.2, 5.4), add(147.2, #0), add(#1, 126.6)', 'divide(1815800, 2799700)', 'multiply(2721405, 20.77), divide(#0, const_1000000)', 'table_average(end of year, none)', 'multiply(3493426, 43.30), divide(#0, const_1000000)', 'divide(23, 127)', 'subtract(7, 1)', 'subtract(2310.2, 1931.2)', 'multiply(10.5, const_1000), divide(#0, 318477)', 'divide(57669746, const_1000000), multiply(#0, 143.70)', 'multiply(const_4, const_1000), divide(#0, 6630)', 'subtract(31, 21)', 'divide(92116, 53292)', 'multiply(23.53, 8.101%)', 'subtract(608, 324)', 'divide(10406, 2909)', 'table_average(operating income, none)', 'subtract(71.5, 67.6), divide(#0, 67.6)', 'subtract(246.4, 237.0), divide(#0, 237.0)', 'subtract(278, 140), divide(#0, 140)', 'subtract(12, 21), divide(#0, 21)', 'divide(31036, 248504)', 'subtract(14953, 14362), divide(#0, 14362)', 'divide(1.2, 2.5)', 'divide(26, 95)', 'subtract(42, 2)', 'subtract(224.3, 127.1), divide(#0, 127.1)', 'subtract(133.79, 119.43)', 'subtract(263, 203)', 'divide(1451, 926886)', 'divide(1999, 162)', 'divide(776360, 10459418)', 'subtract(83, 59), divide(#0, 59)', 'subtract(377, 243), divide(#0, 243)', 'subtract(119.89, const_100), divide(#0, const_100)', 'divide(5863, 689343)', 'divide(1400000, 57)', 'divide(169, 359)', 'multiply(1.3, const_1000), add(200, 300), add(#0, #1)', 'subtract(4333146, 4285284)', 'subtract(437, 100), divide(#0, 100), subtract(214, 100), divide(#2, 100), subtract(#1, #3)', 'divide(15, 75)', 'divide(11536, 207666)', 'divide(18, 5)', 'divide(12.9, 19.4)', 'subtract(10595, 25930)', 'divide(472, 2037)', 'divide(79.7, 135.9)', 'divide(18.6, 26.0)', 'divide(35.3, const_5)', 'subtract(54, 270)', 'add(2536, 1995), add(#0, 1107)', 'subtract(200.32, 188.69), divide(#0, 188.69)', 'table_min(held for investment, none)', 'add(32, 29)', 'divide(287, 1.1)', 'divide(147.9, const_1000), greater(#0, 37692)', 'divide(16.9, 5.8)', 'table_average(extensions and discoveries, none)', 'multiply(2088, 31.10)', 'subtract(301.2, 53.8)', 'divide(79057, 54764), subtract(#0, 1)', 'subtract(189.72, const_100), divide(#0, const_100)', 'divide(70, 30)', 'subtract(94.15, 73.18)', 'divide(18073, 20776)', 'subtract(107, 66), subtract(2224, 1666), greater(#0, #1)', 'add(2, 10)', 'subtract(160468, 163607), divide(#0, 163607)', 'subtract(48.6, 52.1), divide(#0, 52.1)', 'divide(2291520, 3084370)', 'divide(54213, 15322)', 'divide(1001789, 2548612)', 'divide(747, 810)', 'subtract(21200, 19700), divide(#0, 19700)', 'divide(27.4, 1667.2)', 'divide(0.8, 4)', 'subtract(4.94, 5.58), divide(#0, 5.58)', 'divide(66.10, 122.15)', 'add(9074, 21820), add(66149, #0), add(60093, #1), add(#2, const_4), divide(#3, const_2)', 'subtract(5524, 4969), divide(236, #0)', 'add(488, 368)', 'divide(154, 5829)', 'subtract(4273, 6392), divide(#0, 6392)', 'divide(173.0, 224.5)', 'subtract(2014, 2010)', 'subtract(1540000, 1593000), divide(#0, 1593000)', 'divide(98, 168)', 'divide(1002437, 1349500)', 'subtract(3338, 4273), divide(#0, 4273)', 'greater(1188, 1704)', 'subtract(3824, 1750), divide(#0, 3824), multiply(#1, const_100)', 'add(301.2, 53.8), add(#0, 56.3), add(#1, 194.0), add(#2, 410.0)', 'divide(2.52, 43.29)', 'subtract(57.9, 58.7), divide(#0, 58.7)', 'subtract(1.8, 6.1), subtract(#0, 6.1)', 'add(23250000, 3487500)', 'subtract(81.76, 100), divide(#0, 100)', 'divide(41, 80)', 'subtract(6683, 5003), divide(#0, 5003)', 'subtract(214, 152)', 'multiply(10.3, const_1000000), divide(#0, 257), subtract(#1, 34630)', 'subtract(1907, 1664), divide(#0, 1664)', 'subtract(26.4, 14.6), divide(#0, 14.6)', 'divide(461, 3043)', 'divide(3139, 2641), subtract(#0, const_1), divide(91, 77), subtract(#2, const_1), subtract(#1, #3)', 'subtract(190.81, 176.96), divide(#0, 176.96)', 'add(19400, 2500), add(#0, 1100), add(#1, 200), divide(19400, #2)', 'divide(18, 14), subtract(#0, const_1)', 'subtract(764, 679)', 'table_max(tier 2 capital, none)', 'subtract(219, 100), divide(#0, 100), subtract(152, 100), divide(#2, 100), subtract(#1, #3)', 'subtract(219, 100), divide(#0, 100)', 'subtract(7.4, 9.3), divide(#0, 9.3)', 'divide(50, 1839)', 'table_average(shares issuable under incentive stock plans, none)', 'divide(677, 2713)', 'divide(2881, 4130)', 'add(495, 320), divide(340, #0)', 'subtract(2612, 3303), divide(#0, 3303)', 'subtract(75.4, 67.3), divide(#0, 67.3)', 'subtract(7147, 7153), divide(#0, 7153)', 'divide(124.3, 701.4)', 'multiply(500, 7.125%)', 'subtract(195.75, const_100), divide(#0, const_100)', 'subtract(119, 102), divide(#0, 102)', 'add(2, 3), divide(#0, 93)', 'multiply(6.0, const_1000000), divide(#0, 30)', 'divide(47760, 350161)', 'divide(8028, 24412)', 'subtract(779, 82)', 'subtract(14268.8, 14169.7)', 'multiply(2441, 94%)', 'divide(9127, 51004)', 'divide(533397, 54191)', 'divide(5712, 26799)', 'divide(126190, 2182419)', 'subtract(669.5, 592.9), divide(#0, 592.9)', 'subtract(242.50, const_100), divide(#0, const_100)', 'multiply(2195, 2%), multiply(#0, const_1000000)', 'divide(419988395, 623)', 'divide(1790.2, 18289.0)', 'add(87, 156), add(#0, 111), add(#1, 50)', 'divide(96838, 127283)', 'subtract(19900, 8859)', 'divide(3459751, 4736263)', 'divide(9751, 10659)', 'subtract(67.1, 64.8), divide(#0, 64.8)', 'add(420, -79), add(#0, -114)', 'multiply(1.9, const_1000), divide(#0, 5031)', 'add(16, 21), add(#0, 8), multiply(#1, const_1000000)', 'add(1.8, 7.7), add(#0, 8.8), add(#1, 4.3), add(#2, 2.4), divide(8.8, #3)', 'divide(21400, 5400)', 'greater(505, 324)', 'divide(489, 6359)', 'multiply(8816, 83%)', 'divide(79664, 103369)', 'divide(98650, 33)', 'divide(46000, 248100)', 'subtract(9665, 13750)', 'subtract(2019, 2017)', 'add(6.60, 0.95)', 'multiply(186, const_1000), multiply(#0, 63.10)', 'subtract(14.83, 13.42), divide(#0, 13.42)', 'table_average(current portion, none)', 'subtract(96.54, 74.86), divide(#0, 74.86)', 'subtract(28, 19), divide(#0, 19)', 'divide(34000, const_10), divide(#0, const_4)', 'subtract(2.10, 1.60)', 'subtract(11, 7), divide(#0, 7)', 'subtract(222.8, 242.2), divide(#0, 242.2)', 'subtract(33429, 33429)', 'subtract(130.80, const_100), subtract(106.89, const_100), divide(#0, const_100), divide(#1, const_100), subtract(#2, #3)', 'divide(13720, 22805)', 'divide(49959, 204395)', 'subtract(3.28, 2.13)', 'subtract(120.40, 106.20), divide(#0, 106.20)', 'multiply(1.5, const_1000000), divide(473245, #0)', 'subtract(230667, 208836)', 'divide(5605, 47358)', 'divide(229, 3081)', 'subtract(9.31, 8.42), multiply(#0, const_1000)', 'subtract(175, 100), divide(#0, 100)', 'table_average(net earnings, none)', 'subtract(1451, -1970)', 'add(const_1, 3.75%), exp(#0, const_6), multiply(18.47, #1)', 'divide(9683058, 776360)', 'subtract(136.26, 115.06), divide(#0, 115.06)', 'multiply(4500000, 20.69)', 'divide(457, 23582)', 'subtract(217.4, 216.1), divide(#0, 216.1)', 'subtract(237.5, 245.4)', 'divide(4195.7, 15843.6)', 'divide(51637, 392640)', 'subtract(3.5, 2.1)', 'add(421, 388), divide(#0, const_2)', 'divide(9683058, 10459418)', 'subtract(8166, 10327), divide(#0, 10327)', 'greater(7, 1)', 'subtract(9381, 9921), divide(#0, 9921)', 'divide(25394, 32960)', 'table_average(accumulated depreciation depletion and amortization, none)', 'multiply(0.21, const_4), divide(320, #0)', 'divide(40291, 165959)', 'divide(31.2, 238.5)', 'divide(22.7, 515.6)', 'subtract(-6826, -4190)', 'divide(350, 160)', 'subtract(193.4, 172.8), divide(#0, 172.8)', 'divide(182.87, 73.05)', 'add(82, 70)', 'divide(573, 1286)', 'multiply(13.0, const_1000000), divide(#0, 37.85)', 'divide(18513, 19915)', 'subtract(1699, 1630), divide(#0, 1630)', 'subtract(94.4, 31.3)', 'subtract(6423, 1194)', 'subtract(6147, 6241), divide(#0, 6241)', 'subtract(244.5, 0.9), divide(#0, 244.5)', 'subtract(611.9, 23.2)', 'divide(855.5, 900.0)', 'subtract(418, 100), divide(#0, 100)', 'subtract(2472, 2196), divide(#0, 2196)', 'subtract(8.20, 7.46)', 'table_average(accruals for product warranties, none)', 'subtract(19, 17), divide(#0, 17)', 'divide(650, 1.4)', 'subtract(36616, 32730), divide(#0, 32730)', 'subtract(38.3, 45.3), divide(#0, 45.3)', 'multiply(2621050, 27.24), divide(#0, const_1000000)', 'subtract(1318, 1109), divide(#0, 1109)', 'add(1107, 1463), add(#0, 792)', 'divide(37, 70)', 'add(53, 44), add(#0, 10)', 'subtract(1230000, 205004)', 'divide(719, 4835)', 'subtract(700000000, 290000000)', 'table_average(net change for the year, none)', 'multiply(7927210, 34.92)', 'table_average(incentive fees, none)', 'divide(115444, 3361225)', 'divide(316.7, 881.8)', 'subtract(-377, 1451)', 'divide(27729, 317105)', 'divide(6418, 7.28)', 'subtract(225000, 240000), divide(#0, 240000)', 'divide(29822, 100430)', 'add(3946111, 3608527)', 'subtract(108.50, const_100), divide(#0, const_100)', 'add(181001, 174247), add(169438, #0), divide(#1, const_3), subtract(#2, 174247)', 'divide(8, const_100), multiply(#0, 1.54)', 'subtract(3220.9, 3231.6), divide(#0, 3231.6)', 'subtract(22, 14)', 'add(200, 456), add(#0, 275), add(#1, 711), add(#2, 320), add(#3, 4438)', 'divide(26000, 118500)', 'add(4.04, 2.72), divide(#0, const_2)', 'add(327.1, 327.9), divide(#0, const_2)', 'add(42905, 35614), add(31467, #0), add(#1, const_3), divide(#2, const_2)', 'subtract(365251, 324590), divide(#0, 324590)', 'subtract(60.2, 51.6)', 'divide(2212, 803511)', 'add(11.5, 10.8), divide(#0, const_2)', 'divide(4.1, 6.8)', 'divide(33584, 65348)', 'add(907, -2740)', 'divide(22, 157)', 'subtract(626.8, 644.2), divide(#0, 644.2)', 'divide(1818841, 500097)', 'divide(217, 249)', 'divide(40.5, 95.4)', 'add(66, 1666)', 'greater(387, 9230)', 'subtract(6656.0, 6224.3), divide(#0, 6224.3)', 'subtract(189.72, const_100), subtract(192.80, const_100), divide(#0, const_100), subtract(#1, const_100), subtract(#0, #1)', 'subtract(74, 86), divide(#0, 86)', 'subtract(287, 689), divide(#0, 689)', 'add(29.8, -193.4), add(#0, -0.6), add(#1, -164.8)', 'subtract(2972, 2017), divide(#0, 2017)', 'divide(5193185, const_1000), divide(2340.5, #0)', 'subtract(1074.5, 1110.6), divide(11.8, #0)', 'subtract(22878, 29497)', 'add(2.10, 2.86)', 'divide(115.18, 100), divide(113.68, 100), subtract(#0, const_1), subtract(#1, const_1), add(#2, #3), divide(#4, const_2)', 'subtract(2438.4, 69.0)', 'subtract(55843, 69526)', 'divide(1438.9, 1562.1)', 'add(512.8, 881.8), add(#0, 565.1), divide(#1, const_3)', 'subtract(286.8, 290.6), divide(#0, 290.6)', 'divide(171.8, 169.6), subtract(#0, const_1)', 'add(52, 111), add(#0, 31)', 'subtract(137222, 76615)', 'subtract(2500, 2232), divide(#0, 2500)', 'divide(203298, 650942)', 'greater(52074, 295902)', 'divide(4267375081, 18.84)', 'subtract(5836, 5531), divide(#0, 5531)', 'subtract(25930, 644)', 'divide(199, 1285)', 'subtract(2183, 1303), divide(#0, 1303)', 'subtract(1.58, 1.40), divide(#0, 1.40)', 'add(119, 63)', 'add(7426, 7834), add(7789, #0), add(#1, const_3), divide(#2, const_2)', 'subtract(1612, 1699), divide(#0, 1699)', 'add(12337000, 13397000)', 'subtract(380, 29), divide(#0, 29)', 'divide(const_3, 14)', 'add(1863097, 65516126)', 'divide(26.0, 324.9)', 'subtract(825000, 979000), divide(#0, 979000)', 'multiply(const_2, const_1000), divide(#0, 3170)', 'divide(7526, 32960)', 'divide(284, 2921)', 'divide(9804, 16067)', 'subtract(3.52, 8.87), divide(#0, 8.87)', 'subtract(1.2, 1.3), divide(#0, 1.3)', 'divide(5, 39)', 'table_average(expected dividend yield, none)', 'add(247.8, 2210.5)', 'divide(115.80, 100), subtract(115.80, 100), divide(155.58, 100), subtract(155.58, 100), subtract(#3, #1)', 'divide(26.0, 30)', 'multiply(334, 32.03)', 'table_max(ending allowance balance, none)', 'subtract(1294, 436), divide(#0, 1294)', 'subtract(528, 359), divide(#0, 359)', 'divide(4447, 12426)', 'divide(74, 64), subtract(#0, const_1)', 'add(1.7, 1.3), divide(#0, const_2)', 'subtract(295, 22)', 'subtract(const_100, 25), divide(3.88, #0)', 'multiply(141.94, 145300)', 'subtract(0.455, 0.415)', 'subtract(19753, 17604), divide(#0, 17604)', 'add(7958, 8347), add(#0, 8161), add(#1, const_3), divide(#2, const_2)', 'divide(1279, 2232)', 'divide(667644, 2660485)', 'divide(8.3, 48.2)', 'divide(113.5, 130.2)', 'subtract(121.4, 39.0), divide(#0, 39.0)', 'subtract(8918, 2668), divide(#0, 2668)', 'divide(162153, 3613429)', 'divide(856, 1542)', 'subtract(8.1, const_1000), divide(#0, 736.0)', 'divide(101.7, 154.3)', 'subtract(17.10, 14.29)', 'multiply(22068, const_m1), subtract(#0, 306)', 'divide(6586.9, 10697.7)', 'divide(273, 1964)', 'divide(26.7, 273.8)', 'divide(1.5, 7.7)', 'divide(534, 1859)', 'multiply(3.6, const_1000), add(#0, 4241), add(#1, 2441)', 'greater(55.04, 135.63)', 'multiply(518, 39), divide(#0, const_1000)', 'add(31.3, 2.9), subtract(#0, 27.3)', 'divide(28205, 74814)', 'subtract(51.74, 37.84), divide(#0, 37.84)', 'subtract(43, 45), divide(#0, 45)', 'divide(3171, 18124)', 'subtract(1751, 177)', 'subtract(1314, 1194), divide(#0, 1194)', 'subtract(11766, 80258), divide(#0, 80258)', 'divide(291256, 340317)', 'subtract(975, 615), divide(#0, 975)', 'add(19.3, 14.4), add(#0, 8.5), divide(#1, const_3)', 'add(2334, 1839), add(#0, const_2), divide(#1, const_2)', 'subtract(0.0675, 0.0425)', 'add(110, 290), multiply(#0, const_1000000)', 'subtract(21.1, 29.8), divide(#0, 29.8)', 'subtract(434, 459)', 'divide(34.2, 6.2)', 'subtract(206, const_100), divide(#0, const_100)', 'divide(3768, 15415)', 'add(1800.2, 1472.6), add(301.2, #0), add(#1, 53.8), add(#2, 56.3)', 'subtract(30608, 33820), divide(#0, 33820)', 'subtract(120, 100), divide(#0, 100), subtract(117, 100), divide(#2, 100), subtract(#1, #3)', 'table_average(operating margin, none), table_min(operating margin, none), subtract(#0, #1)', 'divide(8064, 65348)', 'divide(3.6, 3.1)', 'divide(628000, 152000)', 'divide(912360, 2723347)', 'subtract(53.5, 55.6), divide(#0, 55.6)', 'divide(275.1, 197.4), subtract(#0, const_1)', 'subtract(18.6, 12.2), divide(#0, 12.2)', 'divide(35, 357)', 'subtract(358.1, 45.7), divide(#0, 358.1)', 'subtract(4197, 4028), divide(#0, 4028)', 'divide(477, 4066)', 'divide(0.09, 62.92), divide(0.07, 69.23), subtract(#0, #1)', 'add(37, 52), add(#0, 10)', 'multiply(1204, 128.43)', 'divide(4400, 6846)', 'subtract(4.5, 1), divide(1, #0)', 'divide(17, 546)', 'subtract(14.7, 11.7)', 'subtract(1095.9, 998.7), divide(#0, 998.7)', 'divide(4530, 5567)', 'divide(288.4, 103.9)', 'subtract(533000, 825000), divide(#0, 825000)', 'subtract(102, 100), divide(#0, 100)', 'divide(2989, 15721)', 'add(41, 2), add(#0, 11), add(#1, 26), divide(#2, 83)', 'subtract(200.10, 181.06), divide(#0, 181.06)', 'divide(3352, 1622)', 'subtract(26.7, 30.5), divide(#0, 30.5)', 'greater(1657, 796)', 'divide(6099, 10000)', 'divide(2749, 642)', 'multiply(208, 93%)', 'subtract(6423, 6305), divide(#0, 6305)', 'divide(3.5, 98.9)', 'subtract(112, 100)', 'divide(1014621, 209902)', 'add(27.3, 12.6), add(#0, 8.5), divide(#1, const_3)', 'subtract(16, 2)', 'divide(27.5, 651.5)', 'subtract(4.476, 1.623), divide(#0, 1.623)', 'divide(985.0, 2130.6)', 'subtract(5.89, 2.14)', 'subtract(2000, 193), divide(#0, 193)', 'add(26%, 29%), divide(#0, const_2)', 'subtract(696.3, 701.2), divide(#0, 701.2)', 'subtract(6061, 4711), divide(#0, 4711)', 'add(192.3, 20.6), add(#0, 37.4), add(109.3, #1)', 'subtract(5.74, 5.27), divide(#0, 5.27)', 'subtract(571, 395), divide(#0, 395)', 'add(324, 374), add(#0, 475)', 'divide(3929, 6826)', 'subtract(97.04, const_100), divide(#0, const_100)', 'subtract(3929, 5634), divide(#0, 5634)', 'add(const_2, const_1)', 'divide(575400, 591200)', 'divide(71.9, 231.6)', 'add(1415, 3149), add(#0, 2536)', 'subtract(1800.2, 1472.6), divide(#0, 1472.6)', 'subtract(459.67, const_100), divide(#0, const_100)', 'subtract(106, 60)', 'divide(12169, 61325)', 'subtract(503, 450), divide(#0, 450)', 'add(15, 4)', 'subtract(22062, 20132), divide(#0, 20132)', 'divide(108261, 103698), subtract(#0, const_1)', 'add(6, 4)', 'divide(572, 1586)', 'divide(122963, 186792)', 'subtract(140, const_100), divide(#0, const_100)', 'divide(const_100, 6%), multiply(590, #0)', 'add(1520.5, 1362.2), divide(#0, const_2)', 'table_sum(removal costs recovered through rates, none)', 'divide(1119600, 3005500)', 'divide(2245, 2277)', 'divide(71, 787)', 'divide(4377, 11047)', 'divide(269, 1087)', 'table_sum(2020, none)', 'divide(1.40, 1.11)', 'subtract(247.0, 272.9), divide(#0, 272.9)', 'subtract(227.0, 144.9)', 'multiply(4250646, 19.84), divide(#0, const_1000000)', 'divide(7.8, 6.6)', 'subtract(27999, 42112), divide(#0, 42112)', 'add(403.1, 31.2), multiply(#0, const_1000000)', 'divide(1977, 11199)', 'divide(272014, 4275397)', 'multiply(38.44, 395748826)', 'divide(683200, 668123)', 'divide(2.6, 2251.2)', 'add(957, 196)', 'subtract(1807, 1595), divide(#0, 1595)', 'subtract(13.42, 13.64), divide(#0, 13.64)', 'divide(832, 13165)', 'subtract(1469, 1542), divide(#0, 1542)', 'divide(3.1, 3.3)', 'subtract(29, 13)', 'divide(10509, 58370)', 'divide(1529.8, 703.0)', 'divide(1548.2, 880.8)', 'subtract(1.96, 1.74), divide(#0, 1.74)', 'divide(43348, 49084)', 'divide(696007, 1018894)', 'subtract(143, 100), divide(#0, 100)', 'divide(17248, 18069)', 'divide(1616, 12307)', 'subtract(1149.8, 1110.1), divide(#0, 1110.1)', 'subtract(245, 167), multiply(#0, const_1000)', 'subtract(80210, 60125)', 'add(1800, 890), add(#0, 215)', 'add(268496, 131262), add(#0, 195082)', 'subtract(33.0, 31.6), divide(#0, 31.6)', 'add(19, 26)', 'greater(21, 19)', 'add(417, 817), multiply(13.8, const_1000), divide(#1, #0)', 'divide(2301.6, 10772.0)', 'subtract(249.5, 221.9), divide(#0, 221.9)', 'divide(1923, 10089)', 'divide(189, 25636)', 'multiply(7963, 36%), multiply(10014, 27%), subtract(#0, #1)', 'divide(-16.5, 22.1)', 'subtract(29, 15)', 'greater(78, 102)', 'multiply(842445, 93.38), divide(#0, const_1000000)', 'subtract(16.6%, 17.2%)', 'subtract(195276, 182268), divide(#0, 182268)', 'divide(842445, 3110706)', 'divide(116.1, 1993.7)', 'divide(410.3, 283.4)', 'subtract(403, 411), divide(#0, 411)', 'multiply(225.0, 7.50%)', 'divide(690, 1416)', 'divide(267, 188), multiply(#0, 267)', 'divide(218, 2640)', 'subtract(245.3, 203.5), divide(#0, 203.5)', 'subtract(3457, 2880), divide(#0, 3457), multiply(#1, const_100)', 'subtract(148.18, const_100), divide(#0, const_100), subtract(165.84, const_100), divide(#2, const_100), subtract(#1, #3)', 'add(7187, 890)', 'subtract(1185, 980), divide(#0, 980)', 'greater(3.27, 2.45)', 'subtract(3.15, 2.99), divide(#0, 2.99), subtract(2.99, 2.52), divide(#2, 2.52), add(#1, #3), divide(#4, const_2)', 'multiply(92.0, const_1000000), divide(#0, 1.58)', 'subtract(62.09, 99.75), divide(#0, 99.75)', 'subtract(50.6%, 49.3%)', 'table_average(class a common stock, none)', 'subtract(54, 60)', 'divide(0.4, 2%), subtract(#0, 0.4)', 'add(11173, 22503), add(6154, 2815), divide(#0, #1), subtract(#2, const_1)', 'subtract(978, 1185), divide(#0, 1185)', 'divide(3.1, 7.2)', 'subtract(13165, 13136)', 'divide(23.6, 4)', 'add(150, 20)', 'subtract(155, -700)', 'subtract(7073, 3835), divide(#0, 3835)', 'divide(1557, 35%)', 'subtract(247.0, 272.9), divide(-16.9, #0)', 'add(444500, 105800)', 'subtract(920, 1510)', 'divide(29136, 133106)', 'add(11595, 2330), add(#0, 4910), add(#1, 6535)', 'add(18, 13), subtract(#0, 2)', 'greater(-108716, 146579)', 'table_min(2017, none)', 'add(277500, 1364500), divide(#0, const_2)', 'add(1.9, 4.0), add(#0, 3.5), divide(#1, const_3)', 'subtract(4.3, 4.4), divide(#0, 4.4)', 'table_min(total capital, none)', 'table_max(accretable yield percentage, none)', 'subtract(696.3, 701.2)', 'multiply(196462, 283)', 'divide(8518, 10601), multiply(#0, 8518)', 'subtract(239.0, 208.3), divide(#0, 208.3)', 'subtract(29432, 22110), divide(#0, 22110)', 'subtract(28520, 11482), divide(#0, 11482)', 'subtract(35.4, 14.8)', 'subtract(36, 1), multiply(#0, const_1000000)', 'multiply(15000, 90.50)', 'multiply(31, const_1000000), divide(#0, 1350000)', 'subtract(8, 6), divide(#0, 6)', 'divide(590, 1176)', 'divide(745, 14953)', 'subtract(2.14, 1), add(#0, 2.18), add(#1, 2.23), divide(#2, const_3)', 'divide(43438, 48516)', 'divide(80.0, 38.0)', 'divide(25181, 108052)', 'divide(2163.0, 2841.0)', 'add(5923147, 2530454)', 'subtract(5465, 4772), divide(#0, 4772)', 'subtract(90, 58), divide(#0, 58)', 'divide(13, 9)', 'add(953, 960), add(#0, 1049)', 'divide(114, 1.9)', 'multiply(3946111, 34.67), divide(#0, const_1000000000)', 'subtract(217.6, 214.5), divide(#0, 214.5)', 'subtract(7304, 7216), divide(#0, 7216)', 'add(13925, 7397)', 'divide(3597, 15517)', 'divide(264.0, 260.0)', 'subtract(8890, 7690)', 'subtract(230, 278)', 'subtract(319.10, const_100), divide(#0, const_100), subtract(199.95, const_100), divide(#2, const_100), subtract(#1, #3)', 'subtract(3609, 4036), divide(#0, 4036)', 'add(188038, 214112), divide(188038, #0), multiply(const_100, #1)', 'subtract(2023, 2008), divide(1057.9, #0)', 'divide(826.5, 10772.0)', 'divide(48.3, 47.3), subtract(#0, const_1)', 'add(3149, 2536), add(#0, 1995)', 'divide(13240, 1960)', 'greater(81.42, 83.27)', 'subtract(7.8, 7.6), divide(#0, 7.6)', 'divide(290, 1623)', 'divide(27990000, 35000000)', 'divide(25513, 21548), subtract(#0, const_1)', 'subtract(14151, 295)', 'divide(976, 13128)', 'multiply(146.25, 5.748%)', 'divide(2521605, const_3)', 'divide(19604, 78975)', 'divide(142, 627)', 'subtract(602.0, 133.5)', 'multiply(1.1, const_1000), divide(#0, 6205)', 'multiply(2.2, const_1000000), divide(666415, #0)', 'subtract(24539, 12536), divide(#0, 12536), multiply(#1, const_100)', 'subtract(25038, 24241), divide(#0, 24241)', 'add(16.5, 18.0)', 'subtract(41, 117)', 'add(279, 320)', 'greater(267.8, 30.9)', 'divide(695.8, 310.4)', 'greater(72, 49)', 'divide(38.74, 35.21), divide(#0, 35.21)', 'divide(137858, 321237)', 'divide(1127051, 7384402)', 'subtract(183.6, 178.3), divide(#0, 178.3)', 'divide(195.5, 13.6), divide(#0, const_4)', 'divide(100000, 25000)', 'subtract(257, 212), add(257, #0)', 'divide(180.0, 2408.8)', 'add(34.2, 6.2), divide(#0, const_2)', 'subtract(1377, 2658)', 'divide(35341, 26996), subtract(#0, const_1)', 'table_average(interest expense, none)', 'add(6401, 8425)', 'subtract(501.4, const_100), divide(#0, const_100), subtract(204.1, const_100), divide(#2, const_100), subtract(#1, #3)', 'divide(2322925, const_3)', 'divide(156.7, 218.6)', 'divide(1784, 2400)', 'subtract(195, 116)', 'add(612.1, 564.2), divide(#0, 1586.2)', 'add(900, 1560), add(#0, 190), add(#1, 5800)', 'subtract(303.1, 314.7)', 'add(15636, 14710)', 'subtract(43.1, 41.3), divide(#0, 41.3)', 'subtract(2.39, 0.04)', 'divide(134, 355)', 'divide(const_4, 13.0)', 'subtract(15852, 13717)', 'divide(3163, 3437)', 'add(25, 25), add(25, 10), add(#0, #1), divide(#2, const_4)', 'subtract(268, const_100)', 'divide(3.3, 2.6)', 'subtract(75.4, 67.3)', 'divide(151.59, 178.29)', 'divide(582.9, 611.9)', 'divide(16785, 17263)', 'subtract(33809, 39926), divide(#0, 39926)', 'subtract(270, 165), divide(#0, 165)', 'greater(877.3, 385.8)', 'divide(222360, 944372)', 'subtract(15.70, 10.70), divide(#0, 10.70)', 'subtract(156508, 108249), divide(#0, 108249)', 'subtract(153.88, const_100), subtract(140.25, const_100), divide(#0, const_100), divide(#1, const_100), subtract(#2, #3)', 'subtract(const_2, 1.6)', 'subtract(70.08, const_100), divide(#0, const_100)', 'subtract(4.2, 2.3)', 'subtract(407, 100), divide(#0, 100)', 'subtract(1514308, 1522461), divide(#0, 1522461)', 'divide(-235, 31066)', 'multiply(const_2, const_1000), divide(#0, 3435)', 'subtract(16926, 12501)', 'table_max(gasoline, none)', 'divide(200, 389)', 'multiply(23, const_m1), greater(#0, -25)', 'divide(5548.9, 1228.3)', 'divide(230604932, 743)', 'multiply(161903, 27.57), divide(#0, const_1000000)', 'subtract(2899, 1447), divide(#0, 2899)', 'subtract(139.82, 147.04), divide(#0, 147.04)', 'divide(136, 130)', 'divide(11420, 417471)', 'divide(const_1, const_1), subtract(#0, 26%)', 'subtract(284, 188), divide(#0, 188)', 'divide(786, 3827)', 'add(3.4, 0.6), add(#0, 2.3), divide(#1, const_3)', 'subtract(231.0, 192.2), divide(#0, 192.2)', 'divide(403, 782)', 'subtract(11.09, 12.14), divide(#0, 12.14)', 'subtract(19900, 8859), divide(#0, 8859)', 'subtract(229.59, 100), divide(#0, 100), subtract(225.85, 100), divide(#2, 100), subtract(#1, #3)', 'subtract(5.7, 3.2)', 'divide(2.3, 13.6)', 'add(96.1, 139.6), add(#0, 61.1), divide(#1, const_3)', 'add(44, 57), add(#0, 69)', 'add(3.9, 1.5)', 'subtract(19315, 13931), divide(#0, 13931)', 'subtract(21, 18), divide(#0, 18)', 'greater(148, 91)', 'divide(260000, 100595)', 'subtract(196462, 116677), divide(#0, 116677)', 'subtract(51011, 24490), divide(#0, 24490)', 'add(794, 717), add(#0, 645)', 'add(20.2, 20.6)', 'divide(40327, 372320)', 'divide(6.9, 21.1)', 'subtract(52.4%, 46.4%)', 'subtract(13203, 12297), divide(#0, 12297)', 'divide(96, 1266)', 'subtract(8, 1.43), divide(#0, 8)', 'divide(5503, 32100)', 'subtract(10000, 178)', 'add(122.6, 107.8), add(#0, 53.6)', 'divide(34317386, 34929886)', 'divide(1783, const_1000), divide(1.7, #0)', 'add(17, 15), add(12, 11), add(6, 80), add(#0, #1), add(#3, 80)', 'divide(62.6, 90.5)', 'divide(-31.3, -187.4)', 'add(5457, 1916), add(498, 168), divide(#1, #0)', 'multiply(3.5, const_1000), divide(251, #0)', 'add(10, 7), divide(#0, const_2)', 'subtract(.3, .4)', 'subtract(511.4, 450.5), divide(#0, 450.5)', 'subtract(4.60, 4.19), divide(#0, 4.19)', 'divide(45.7, 75.5)', 'divide(3.1, 22.7)', 'divide(7185, 26187)', 'divide(98, 495)', 'divide(162531, 0.75)', 'multiply(const_1000000, 3.4), multiply(14.83, #0)', 'subtract(3.28, 2.13), divide(#0, 2.13)', 'divide(.7, 4.6)', 'multiply(3188, 43.46), multiply(2698, 47.59), subtract(#1, #0), divide(#2, #0)', 'divide(1725, 1922)', 'divide(100.4, 231.6)', 'subtract(219.46, 174.28), divide(#0, 174.28)', 'greater(77000, 11000)', 'subtract(1.3, 26.8)', 'divide(13106, 34504)', 'multiply(200, 3.605%), divide(#0, const_4)', 'divide(162, 195)', 'subtract(53%, 54%)', 'subtract(369, 100), divide(#0, 100)', 'subtract(25, 10)', 'add(9896, 7510), add(#0, 6180)', 'divide(47040, 3107)', 'multiply(1410, 86.53)', 'subtract(6224.3, 6178.8), divide(#0, 6178.8)', 'subtract(38493, 37022), divide(#0, 37022)', 'divide(191, 691)', 'divide(15, 71.5)', 'multiply(53222745, 22.31)', 'subtract(943, 971)', 'subtract(174.62, 171.58)', 'add(40260, 40585), add(#0, 37350), add(#1, const_3), divide(#2, const_2)', 'divide(5777, 5882)', 'greater(-29.6, -42.2)', 'subtract(3823, 2915)', 'divide(4698, 5495)', 'divide(98650, 425000)', 'divide(1508, 15376)', 'divide(22883, 67446)', 'divide(2273, 2454)', 'divide(1791.8, 142.4)', 'add(4800, 3500), add(#0, 3500)', 'subtract(3.7, 3.2), divide(#0, 3.2)', 'divide(538, 2823)', 'subtract(344000, 43000), divide(#0, 43000)', 'add(103369, 118180), divide(#0, const_2)', 'divide(6094, 15376)', 'subtract(6169, 6152), divide(#0, 6152)', 'subtract(862, 106)', 'subtract(36, 17), divide(#0, 17)', 'divide(34356, 326565)', 'divide(10981, 13165)', 'divide(192.3, 109.3)', 'subtract(16606, 15720)', 'greater(1137.4, 1030.7)', 'table_max(adjusted ebitda, none)', 'subtract(57152, 53722), divide(#0, 53722)', 'subtract(364.3, 160.0), divide(#0, 160.0)', 'subtract(214, 100)', 'subtract(116.00, const_100), divide(#0, const_100)', 'multiply(6570132, 28), divide(#0, const_1000000)', 'divide(4443, 7457)', 'subtract(215.0, 235.5), divide(#0, 235.5)', 'subtract(31.81, 29.19), divide(#0, 29.19)', 'add(16, 2)', 'multiply(const_1, const_1000), subtract(#0, 100)', 'subtract(80.6, 86.6), divide(#0, 86.6)', 'subtract(18289.0, 16285.1)', 'subtract(129, 106)', 'divide(3280, 3324), divide(1807, 1510), greater(#0, #1)', 'divide(115, 86)', 'subtract(155, 343), divide(#0, 343)', 'divide(1978, 14479)', 'divide(6907, 21056)', 'subtract(224.24, const_100), subtract(144.11, const_100), subtract(#0, #1)', 'divide(19345, 24060)', 'subtract(72.90, const_100), divide(#0, const_100)', 'add(4373840, 782699)', 'divide(21253, 59371)', 'multiply(520000, const_1000), divide(#0, 32.26%)', 'subtract(18.65, 15.10)', 'subtract(27.4, 18.9)', 'greater(21, const_1)', 'subtract(2012, 2010)', 'subtract(379, 420), divide(#0, 420)', 'table_average(effects of foreign operations including foreign tax credits, none)', 'subtract(717, 488)', 'divide(197.5, 87.4)', 'divide(77, 2641)', 'divide(17.4, 25.8)', 'divide(2078, 10089)', 'subtract(7200, 6966), divide(#0, 6966)', 'subtract(3.2, 2.7), divide(#0, 2.7)', 'divide(640, 2021)', 'subtract(137.1, 111.3)', 'subtract(6.7, 3.3), divide(#0, 3.3)', 'add(39, 40), divide(#0, const_2)', 'subtract(655.6, 41.4), divide(41.4, #0)', 'divide(35.7, 278.6)', 'divide(38280, 94234)', 'subtract(247, 202), divide(#0, 202)', 'divide(16.8, 17.0)', 'subtract(3.24, 3.29), divide(#0, 3.29)', 'add(14, 14), add(#0, 13), divide(#1, const_3)', 'subtract(9.26, 100), divide(#0, 100), subtract(102.15, 100), divide(#2, 100), subtract(#1, #3)', 'subtract(237.0, 168.7), divide(#0, 168.7)', 'table_sum(total, none), divide(3652, #0)', 'subtract(225.0, 221.7), divide(#0, 221.7)', 'divide(3840126, 49592091)', 'subtract(18413, 10295)', 'subtract(-50, -31)', 'subtract(5524, 4969), divide(40, #0)', 'subtract(60, 18)', 'subtract(52, 50)', 'divide(5902, 9943)', 'multiply(292.3, 7.24)', 'add(1338, 2048), add(#0, 2024), divide(#1, const_3)', 'subtract(-3.02, 2.81)', 'greater(185, 41)', 'multiply(125823, .42)', 'multiply(11.04, 3425742)', 'subtract(49, 50)', 'multiply(6.6, const_1000), divide(4051, #0)', 'divide(4658, 22974)', 'add(4.4, 4.1), add(2.4, 1.8), add(#0, #1), divide(4.4, #2)', 'subtract(3, 3)', 'divide(1511, 1732)', 'add(881.8, -196.2), add(#0, -1004.9)', 'subtract(6.2, 1.7), divide(#0, 1.7)', 'add(46.7, 81.2)', 'divide(2800, 5891)', 'greater(3273, 2789)', 'subtract(552, 707), divide(#0, 707)', 'add(15, const_1)', 'divide(24.7, 26.4)', 'divide(23087, 151026)', 'divide(295226, 392640)', 'subtract(129.5, 135.2), divide(#0, 135.2)', 'subtract(2.6, 3.2), divide(#0, 3.2)', 'divide(6550, 24453)', 'add(11.2, 45.1)', 'subtract(1420831, 58343)', 'divide(165000, 260000)', 'divide(16.3, const_3)', 'subtract(75.95, const_100), divide(#0, const_100)', 'divide(80410000, 101731000)', 'divide(371100, 11.7%)', 'add(7583, 4891)', 'subtract(114, 56), divide(#0, 56)', 'divide(116, 161)', 'add(0.10, 0.10), add(#0, 0.10), add(#1, #0)', 'add(7, 10), divide(#0, const_2)', 'subtract(5742, 5363), divide(#0, 5363)', 'divide(252, 1020)', 'subtract(55, 57)', 'divide(180000, 1360000)', 'divide(4.8, 35.6)', 'subtract(14151, 7012)', 'add(316263, 184300), divide(#0, 550234)', 'subtract(1.5, 3.6), divide(#0, 3.6)', 'divide(340, 17%)', 'divide(12678, 25042)', 'subtract(1469, 1542)', 'subtract(185.25, const_100), divide(#0, const_100), subtract(180.75, const_100), divide(#2, const_100), subtract(#1, #3)', 'subtract(36%, 28%), multiply(#0, const_1000)', 'divide(1.90, 1.49), subtract(#0, const_1)', 'subtract(747, -517)', 'multiply(1955024, 36.06)', 'multiply(1410, 86.53), multiply(1455, 66.42), subtract(#0, #1)', 'subtract(24.5, 4.6)', 'subtract(0.07, 0.19), divide(#0, 0.19)', 'add(1233672, 4903018), divide(4903018, #0)', 'divide(49061, 340317)', 'divide(853493, 1063927)', 'add(4658, 22974), divide(4658, #0)', 'add(12723, 14215), add(#0, 15794), add(#1, 442)', 'subtract(37529, 18595), divide(#0, 18595)', 'add(15, 15)', 'subtract(53620, 42915), divide(#0, 42915)', 'multiply(4.7, const_1000), divide(3794, #0)', 'subtract(403.7, 389.2)', 'subtract(1086, 823)', 'greater(112.64, 91.35)', 'divide(120357, 5193185)', 'add(47, 14)', 'divide(21.5, 71.4)', 'subtract(67.16, 59.65), divide(#0, 59.65)', 'divide(46.2, 80.6)', 'subtract(137.75, const_100), divide(#0, const_100)', 'add(76, -3)', 'add(11173, 22503), add(#0, 6154), add(2815, #1)', 'divide(23600, 26000)', 'subtract(19766, 18182)', 'subtract(8994, 8564), divide(#0, 8564)', 'subtract(434.4, 404.2), divide(#0, 404.2)', 'add(1772, 352), divide(1772, #0)', 'subtract(23.50, 19.47)', 'divide(7645, 14055)', 'add(2.25, 2.05)', 'subtract(103.73, const_100), divide(#0, const_100)', 'add(3.4, 2.1), add(#0, 1.8), add(88.6, 195.1), add(#2, 93.0), divide(#3, #1)', 'add(4, 4), add(#0, 6), add(#1, 3), add(#2, 6), add(#3, 3)', 'add(56, 5)', 'add(8700, 9230), add(#0, const_2), divide(#1, const_2)', 'subtract(1074.5, 1110.6), divide(#0, 1110.6)', 'subtract(35.8, 33.0), divide(#0, 33.0)', 'divide(84751, 114251)', 'subtract(29010, 34366), divide(#0, 34366)', 'divide(49, 126)', 'divide(309, 3498)', 'divide(3717.0, 4038.5)', 'divide(1209, 4774)', 'greater(44376, 5548)', 'divide(2055, 5986)', 'divide(5616, 7614)', 'subtract(95, 85), add(#0, 95)', 'divide(4.9, 6%)', 'table_max(rent expense, none)', 'divide(33117, 2336989)', 'divide(2979, 13555)', 'subtract(74%, 61%)', 'divide(4504, 10625)', 'divide(1.076, const_5)', 'divide(850, 750)', 'subtract(14.30, 14.55), divide(#0, 14.55)', 'subtract(29, 17)', 'divide(6.1, 5.6), subtract(#0, const_1)', 'add(399165, 3995600), divide(3995600, #0)', 'subtract(17.9, 7.2)', 'divide(14435, 65759)', 'divide(6626, 35)', 'subtract(2560.5, 2438.4)', 'divide(145.5, 179.7)', 'subtract(110.57, const_100), subtract(131.59, const_100), divide(#0, const_100), divide(#1, const_100)', 'subtract(4630, 4525), divide(#0, 4525)', 'multiply(75, const_1000000), divide(#0, 165)', 'add(597213410, 100000000), add(#0, 2462927), add(#1, 109786590)', 'divide(24704, 25636)', 'subtract(991.1, 942.1)', 'multiply(11.4, const_1000000), multiply(3158226, #0)', 'subtract(7457, 7463), divide(#0, 7463)', 'subtract(40, 15), divide(#0, 15)', 'divide(54.2, 56.5)', 'divide(9.2, 35.3)', 'subtract(49%, 450)', 'divide(149.83, 100), subtract(#0, const_1), divide(109.83, 100), subtract(#2, const_1), subtract(#1, #3)', 'divide(104.10, 98.18), subtract(#0, const_1)', 'divide(36.9, 41.1)', 'add(7963, 10086), add(10014, #0), add(#1, const_3), divide(#2, const_2)', 'add(12, 41), add(#0, 100), add(#1, 17)', 'subtract(-9559, -9402)', 'subtract(24.0, 26.7), divide(#0, 26.7)', 'add(1.93, 1.91), add(#0, 1.89), divide(#1, const_3)', 'add(5.7, 3.1), subtract(19.8, #0)', 'subtract(300, 247), divide(#0, 247)', 'subtract(498.8, 486.9), divide(const_6, #0)', 'multiply(202, 50.34)', 'subtract(73, 9)', 'subtract(24, 77)', 'subtract(61%, 63%)', 'add(23, 76), add(#0, 20)', 'subtract(2110, 2030)', 'divide(2948, 2199)', 'divide(54.4, 4%), add(#0, 54.4)', 'subtract(1863870, 2043158)', 'subtract(7794, 2668)', 'divide(1739, 1632)', 'divide(1300000, 61)', 'add(15.8, 10.2)', 'subtract(15.8, 10.2), divide(#0, 10.2)', 'subtract(390.0, 35.0)', 'divide(2878, 830)', 'divide(3824, 5574)', 'add(399165, 3995600), divide(399165, #0)', 'add(3, -24)', 'add(1.4, 1.2)', 'subtract(6175, 4637), divide(#0, 4637)', 'divide(1146, 6161)', 'divide(458, 1762)', 'subtract(19097, 25544), divide(#0, 25544)', 'subtract(43593, 2241)', 'subtract(19.60, 21.51), divide(#0, 21.51)', 'add(2420.9, -1298.9), add(#0, -755.1)', 'multiply(const_3, 0.30)', 'subtract(16.5, 2.7)', 'subtract(195.80, 100), divide(#0, 100), multiply(#1, const_1)', 'add(22.1, 63.4), divide(22.1, #0)', 'add(67.1, 119.0), divide(67.1, #0)', 'divide(1723139, 4250646)', 'add(173006, 34908), divide(#0, 206852)', 'subtract(-308, -435)', 'divide(15, 8)', 'multiply(638.0, const_1000000), divide(#0, 647168)', 'subtract(2340, 2260)', 'divide(250000, 3482713)', 'add(416, 320), add(#0, 413), add(#1, 500), add(#2, 3525)', 'add(905, 737), add(#0, 645), divide(#1, const_3)', 'subtract(208, 100), divide(#0, 100)', 'subtract(25.9, 32.3)', 'add(4658, 22974)', 'subtract(247.9, 255.9), divide(#0, 255.9)', 'subtract(2308609, 2043158), divide(#0, 2043158)', 'multiply(18, 3%)', 'add(const_4, const_3), divide(#0, const_2)', 'subtract(2291520, 1762150), divide(#0, 1762150)', 'subtract(1033, 933)', 'divide(556, 7035)', 'subtract(164, 189), divide(#0, 189)', 'divide(960, 7850)', 'divide(235395, 1076738)', 'subtract(164, 218), divide(#0, 218)', 'subtract(13, 15), divide(#0, 15)', 'subtract(17, 23)', 'subtract(7525, 7344), divide(#0, 7344)', 'subtract(57110, 50843)', 'subtract(6.6, 6.3), divide(#0, 6.3)', 'subtract(83, 249), divide(#0, 249)', 'add(2140511, 1126378), divide(#0, 2)', 'add(5.48, 6.21)', 'subtract(440000, 267000)', 'add(1977, 1977), add(#0, 1977)', 'divide(5.13, const_100), multiply(#0, 257812)', 'subtract(41029, 28422), divide(#0, 41029)', 'subtract(214, 167)', 'divide(844, 25%)', 'subtract(171807, 164502)', 'divide(1045, 8793)', 'divide(2.1, 23.0)', 'divide(1379180, 2784221)', 'add(15235, 7%)', 'multiply(1.2, const_1000000), divide(#0, 4000), multiply(230, const_10), greater(#1, #2)', 'divide(6039.0, 9017.8)', 'multiply(359, const_1000), greater(#0, 55999)', 'divide(34, const_100), subtract(const_1, #0), multiply(4.33, #1)', 'divide(529, 10981)', 'subtract(1.93, 1.91), divide(#0, 1.91)', 'subtract(1039, 695), divide(#0, 695)', 'subtract(6392, 4821), multiply(#0, const_1000000)', 'divide(23.4, const_6)', 'divide(2368, 1622)', 'add(7189652, 2223245), divide(7189652, #0)', 'divide(314269, 705113)', 'multiply(72, const_2)', 'divide(5118, 22078)', 'divide(443, 7384)', 'add(44, 44), add(#0, 48), divide(#1, const_3)', 'greater(252, 163)', 'divide(140.2, 67.4)', 'divide(71.4, 141.1)', 'add(120424, 97948), add(#0, 90507), add(#1, 42915), add(#2, const_4), divide(#3, const_2)', 'subtract(296.19, 100.00)', 'add(572079, 599497)', 'subtract(5305732, 4873429)', 'multiply(47.34, 0.7%)', 'add(144.9, 4.3)', 'add(1955024, 4078093), divide(4078093, #0)', 'divide(2670859, const_5)', 'divide(83, 1586)', 'subtract(128, 86)', 'add(16, 13)', 'divide(4928, 12226)', 'add(15, 14), add(12, 9), add(#1, #0), add(8, 65), add(#2, #3)', 'subtract(110.4, 113.1), divide(#0, 113.1)', 'divide(14.0, 123587)', 'add(7322000, 9379000)', 'add(27729, 45161), divide(#0, 317105)', 'divide(105, 5882)', 'divide(42.2, 110.9)', 'multiply(const_5, const_1000), divide(#0, 7670)', 'divide(20, 1666)', 'divide(3, 16)', 'add(450000, 500000)', 'divide(20, 18)', 'divide(50.2, 34.5)', 'subtract(10379, 21579), divide(#0, 21579)', 'divide(466, 644)', 'multiply(32.65, 41)', 'divide(2765, 4932)', 'subtract(7757, 7457), divide(#0, 7457)', 'divide(10543, 83)', 'subtract(1890.1, 140.5)', 'add(307403, 828084), divide(#0, const_1000)', 'divide(2244, 14755)', 'divide(const_100, 3)', 'subtract(690.6, 262.9)', 'subtract(49.0, 26.6), divide(#0, 26.6)', 'subtract(1552, 1318), divide(#0, 1318)', 'subtract(171.8, 176.0)', 'subtract(19, 26), divide(#0, 26)', 'divide(2.7, 9.4)', 'subtract(4195, 5469)', 'divide(38, 126)', 'subtract(3231.6, 3067.8), divide(#0, 3067.8)', 'multiply(1606, 37.25), multiply(1754, 22.72), subtract(#0, #1)', 'table_sum(domestic, none)', 'subtract(2182419, 1941055), divide(#0, 1941055)', 'divide(1.2, 30.9)', 'table_min(legal expense, none)', 'subtract(188, 456), divide(#0, 456)', 'subtract(6.8, 4.5), divide(#0, 4.5), multiply(#1, const_100)', 'divide(25.8, 16.0)', 'divide(6485, 21513)', 'subtract(24006, 19315), divide(#0, 19315)', 'add(17.4, 204.9), divide(17.4, #0)', 'divide(30774, const_1000), subtract(#0, 43), divide(#1, 43)', 'subtract(189.5, 90.7)', 'subtract(213, 66)', 'subtract(1149.8, 1110.1), divide(26.7, #0)', 'subtract(50, 4.02%)', 'multiply(8093, 27%), multiply(5400, 13%), subtract(#0, #1), divide(#2, #1)', 'divide(56, 200)', 'divide(126, 335)', 'add(195.0, 410.0), add(#0, 1300.4)', 'subtract(448, 234), divide(#0, 234)', 'add(.5, .4), divide(#0, const_2)', 'divide(5986, 1526)', 'divide(24.0, 10.2)', 'subtract(267748, 225170), divide(#0, 225170)', 'divide(151, 211)', 'divide(19.8, 135.2)', 'add(27.4, 24.7), divide(#0, const_2)', 'divide(const_10, 281)', 'divide(650, 3.5%)', 'divide(694, 2251)', 'add(272.9, 243.0)', 'greater(277.62, 230.72)', 'divide(292, 2173)', 'divide(593, 298), subtract(#0, const_1)', 'subtract(129.77, 94.20), divide(#0, 94.20)', 'add(418, 100), add(#0, 24), add(#1, const_3), divide(#2, const_2)', 'divide(811, 1330)', 'add(4070, 200)', 'add(2, 2), add(#0, 2), add(#1, 2)', 'subtract(18.71, 70.36), divide(#0, 70.36)', 'subtract(148, 100), divide(#0, 100)', 'add(1633, 10595), add(#0, 25930)', 'divide(459188, 3077509)', 'subtract(43.1, 41.3)', 'divide(239, 3523)', 'add(669.5, -200.8), add(#0, -343.9)', 'add(5, 10), divide(#0, const_2)', 'subtract(4, 132)', 'divide(1119, 2351)', 'subtract(21.16, 16.28), divide(#0, 16.28)', 'divide(1397, 2227)', 'divide(34, 781)', 'multiply(2.8, const_1000), divide(#0, 6215)', 'subtract(2083, 5233), divide(#0, 5233)', 'subtract(229.3, const_100), divide(#0, const_100)', 'subtract(87.2%, 84.5%)', 'divide(1027840, 4934319)', 'divide(const_100, 28), multiply(#0, 840)', 'multiply(3.4, const_1000), divide(#0, 6810)', 'subtract(53620, 42915)', 'subtract(12.3, 6.8), divide(#0, 6.8)', 'subtract(1739.5, 1868.7), divide(#0, 1868.7)', 'divide(42.6, 1.9)', 'add(165211, 316839), divide(618679, #0)', 'subtract(186.20, const_100), divide(#0, const_100)', 'add(6423, 6305), add(#0, 6197), divide(#1, const_3)', 'subtract(297.44, 100.00)', 'greater(8.9, 7.3)', 'divide(3170, 3341)', 'add(120, 201), multiply(#0, const_1000000)', 'add(86, 166), divide(#0, 306)', 'greater(63.4, 30.9)', 'divide(1.9, 1.8)', 'add(3136.6, 1351.0), add(824.8, 726.6), add(6039.0, 205.2), add(#2, #0), add(#1, #3)', 'add(8.5, 7.4), subtract(#0, #0)', 'divide(110000, 45000)', 'add(65, 43865), add(#0, 665), add(#1, 715)', 'table_max(inventory, none)', 'subtract(1.2, 10.5), divide(#0, 10.5)', 'subtract(22181, 19201), divide(#0, 19201)', 'multiply(6800, 90%), multiply(6596, 90%), subtract(#0, #1)', 'subtract(705.4, 696.3), divide(#0, 696.3)', 'subtract(148.18, const_100), divide(#0, const_100)', 'add(58000, 80000), add(#0, 108000)', 'add(159, 226)', 'divide(31.1, 41.4)', 'divide(264, 1839)', 'multiply(3.5, const_1000), divide(#0, 6530)', 'subtract(6.0, 4.5), divide(#0, 4.5)', 'divide(33584, 48407), subtract(const_1, #0)', 'subtract(40.2, 35.8)', 'subtract(29454, 5859)', 'greater(72.38, 187.47)', 'subtract(18161, 9889)', 'subtract(1100.6, 791.0), divide(#0, 1100.6), multiply(#1, const_100)', 'subtract(2014, 2012)', 'subtract(20823000, 17184000), divide(#0, 17184000)', 'subtract(118.8, 188.1), divide(#0, 188.1)', 'divide(34, 129)', 'divide(64000, 390719)', 'subtract(189.72, const_100), subtract(198.09, const_100), divide(#0, const_100), divide(#1, const_100), subtract(#2, #3)', 'subtract(13.1, 12.8)', 'divide(3743, 3514), subtract(#0, const_1), multiply(#1, const_100)', 'add(182, 17), add(838, #0), divide(#0, #1)', 'divide(119017, 23582)', 'greater(2005, 2008)', 'subtract(267.8, 265.1), divide(#0, 265.1)', 'subtract(66977, 63262)', 'add(46, 46), add(17, #0), add(18, #1), add(16, #2), add(#3, const_5), divide(#4, const_2)', 'subtract(66107, 67187)', 'divide(const_3, 261)', 'add(140, 405)', 'subtract(80, 100), divide(#0, 100)', 'add(3.37, 3.00), divide(#0, const_2)', 'subtract(221.91, const_100), divide(#0, const_100)', 'divide(309, 98)', 'divide(562, 5737)', 'divide(35.4, 88.0)', 'divide(1633, 10595)', 'divide(4078, 21240)', 'subtract(127.1, 148.9), divide(#0, 148.9)', 'divide(14415, 64571)', 'divide(-177.0, -187.4)', 'subtract(510, 1813), divide(#0, 1813)', 'subtract(-16550, -16611)', 'subtract(170.70, 100.00)', 'subtract(2.62, 2.28), divide(#0, 2.28)', 'subtract(66.38, 58.52), divide(#0, 58.52)', 'subtract(12.18, 12.09)', 'subtract(267, 193), divide(#0, 193)', 'add(427.4, 264.8), add(162.1, #0), add(#1, const_3), divide(#2, const_2)', 'divide(200265, 20.8)', 'subtract(388, 405)', 'divide(38, 160)', 'add(9265, -17677), add(#0, -370)', 'add(26.5, 22.9), add(#0, 2.5), add(#1, 1.4)', 'divide(17290, 31852)', 'subtract(4211, 3785), divide(#0, 3785)', 'multiply(const_9, const_1000), divide(#0, 9.2)', 'divide(1994, 3579)', 'multiply(175, 6.5%), greater(#0, 16)', 'greater(250, 9230)', 'divide(292, 83)', 'divide(66847, 1000000)', 'multiply(90%, 320)', 'add(180.0, 39.5), subtract(2408.8, #0)', 'divide(138449, 90637)', 'subtract(1.7, 1.3), divide(#0, 1.3)', 'add(470, const_1000), divide(const_1000, #0)', 'subtract(67187, 63002)', 'divide(362.4, 20.3)', 'divide(3318, 7304)', 'add(213, 166)', 'divide(17, 42)', 'subtract(486.9, 466.1), divide(#0, 466.1)', 'subtract(22110, 21808), divide(#0, 21808)', 'subtract(74, 86)', 'divide(314, 835)', 'subtract(9669, 10580)', 'subtract(64772, 57369), divide(#0, 57369)', 'divide(94250, 143400)', 'divide(6319, 246798)', 'multiply(28, const_m1), divide(#0, 191)', 'subtract(57761, 20098), divide(#0, 20098)', 'divide(265.9, 345.6)', 'subtract(952711, 1438471)', 'add(23, 23), add(#0, 22)', 'add(42.0, 44.0), divide(#0, const_3), multiply(#1, 2.0%), multiply(#2, const_100000)', 'divide(4349, 8793)', 'divide(645, 4987)', 'divide(-343, 14950)', 'divide(89, 78), multiply(#0, 13)', 'subtract(9858000, 9877000)', 'divide(1152.1, 23.4)', 'subtract(42.3, 38.0)', 'subtract(29497, 29905), divide(#0, 29905)', 'subtract(108.91, const_100), divide(#0, const_100)', 'subtract(131, 239)', 'subtract(50856, 37529), divide(#0, 37529)', 'subtract(617, 476), divide(#0, 476)', 'subtract(21%, 26%)', 'divide(5690, 13337)', 'subtract(24000, 6542), divide(#0, 24000), multiply(#1, const_100)', 'subtract(320078, 302341), divide(#0, 302341)', 'subtract(36.6, 42.1)', 'divide(103890, 350161)', 'divide(25.6, 30)', 'divide(19.7, 51.2)', 'subtract(868, 641), divide(#0, 641)', 'divide(15, 350)', 'multiply(2.7, const_1000), divide(#0, 6230)', 'subtract(20404, 2250), divide(#0, 20404)', 'add(793, 643)', 'divide(21.7, 14.5)', 'divide(const_100, 26), multiply(182, #0)', 'divide(292, 1055)', 'divide(1978, 80823)', 'subtract(140160, 126067), divide(#0, 126067)', 'divide(540294, 2626154)', 'divide(337100, 1460682)', 'divide(670000, 18.5%)', 'divide(1633, 2852)', 'subtract(78, 83)', 'subtract(10993, 12775), divide(#0, 12775)', 'divide(160, 500)', 'divide(43, 10592)', 'add(287.9, 1485.7)', 'add(16, 17), add(#0, const_9)', 'subtract(86, 85), divide(#0, 85)', 'subtract(10.7, 10.1)', 'divide(4197, 2728), subtract(#0, const_1)', 'divide(531, 3609)', 'divide(1245, 65947)', 'subtract(360, 21)', 'multiply(2%, 121)', 'greater(24, 38)', 'add(227, 170), add(#0, 120)', 'subtract(89, 73), divide(#0, 89), multiply(#1, const_100)', 'subtract(2289, 2289)', 'subtract(1731, 25)', 'divide(2544, 7754)', 'divide(151, 227)', 'subtract(187, const_100)', 'subtract(37.1, 31.1), divide(#0, 31.1)', 'divide(27.1, 82.7)', 'divide(292209, 326565)', 'divide(34708, 32306), subtract(#0, const_1)', 'table_average(credit risk, none), table_average(market risk, none), greater(#0, #1)', 'divide(3374.2, 4579.6)', 'divide(221, const_1000000), subtract(3.35, #0)', 'subtract(1069, 973), divide(#0, 973)', 'subtract(62.10, 45.45), divide(#0, 45.45)', 'add(2674, 2352), add(380, 322), add(#0, #1)', 'subtract(9, 18), divide(#0, 18)', 'multiply(2.0, const_m1), subtract(#0, 919)', 'subtract(78.54, 41.03), divide(#0, 41.03)', 'divide(8.4, 15.5)', 'subtract(2356, 1994), divide(#0, 1994)', 'divide(3027, 59227)', 'greater(10, 18)', 'table_average(oil sands mining, none)', 'divide(21688, 33256)', 'subtract(1737059, 1941055)', 'table_max(argentina, none)', 'divide(3.2, 546.1)', 'multiply(24980, 24.54)', 'subtract(77.7, 0.1)', 'divide(323.6, 616.4)', 'subtract(512, 100), divide(#0, 100)', 'divide(0.4, 6.3)', 'add(769.3, 706.7)', 'divide(102.5, const_4)', 'divide(1163, 110), subtract(#0, const_1)', 'add(26, -22), add(#0, -6)', 'subtract(187, 157), divide(#0, 157)', 'add(148.8, 160.3)', 'add(const_7, 108), add(20, const_8), add(#0, #1)', 'subtract(16117, 8940), divide(#0, 8940)', 'divide(3781, 5436)', 'add(70, 5), add(#0, 1), add(#1, 8)', 'subtract(22.0, 21.3), divide(#0, 21.3)', 'add(307403, 828084), add(#0, 724899), divide(#1, const_1000)', 'subtract(54.69, 50.33), divide(#0, 50.33)', 'subtract(21.4, 11.7), divide(#0, 11.7)', 'divide(570, 2856)', 'multiply(544, 47)', 'divide(774209, 1197607)', 'add(14.5, 8.8), add(#0, 8.0), add(#1, 8.3), add(#2, 7.8), subtract(#3, 36.7)', 'divide(19936, 19858), divide(19736, 26439), divide(#0, #1), subtract(#2, const_1)', 'divide(180, 350)', 'add(3.6, 3.9), divide(#0, const_2)', 'divide(118.8, 500.7)', 'subtract(9495246, 9169822), divide(#0, 9169822)', 'add(120424, 97948), add(#0, 90507)', 'subtract(144, 83)', 'divide(277, 275), subtract(#0, 1)', 'add(1751, 177)', 'divide(35516, 12)', 'subtract(118741000, 113956000), divide(#0, 113956000)', 'subtract(453257, 364221), divide(#0, 364221)', 'subtract(21.4, 15.1), divide(#0, 15.1)', 'divide(25000, 828250)', 'add(4338589, 1396612)', 'subtract(102.10, const_100), divide(#0, const_100)', 'subtract(182268, 167470), divide(#0, 167470)', 'divide(3831636, 9555180)', 'subtract(242.50, const_100), divide(#0, const_100), subtract(219.65, const_100), divide(#2, const_100), subtract(#1, #3)', 'table_min(revenues applicable to discontinued operations, none)', 'subtract(15780, 15415), divide(#0, 15415)', 'divide(127.7, 1586.2)', 'divide(102, 1016)', 'greater(0.0675, 0.0425)', 'multiply(10014, 52%)', 'subtract(7132, 7443), divide(#0, 533)', 'divide(23311, 923225)', 'add(0.4, 1.7), add(#0, 5.7)', 'divide(2.3, 57.5)', 'divide(1.00, .76), divide(#0, .76)', 'subtract(69.01, const_100), divide(#0, const_100)', 'subtract(3.89, 2.33), divide(#0, 2.33)', 'divide(1733, 1990)', 'divide(62934, 64964)', 'divide(403, 682)', 'divide(173, 1425)', 'divide(65.0, 150.0)', 'divide(37.7, 933.6)', 'subtract(22471, 20624)', 'subtract(36, 28), divide(#0, 28)', 'subtract(137582, 143746), divide(#0, 143746)', 'divide(622, 425)', 'multiply(1.6, const_1000), divide(80.0, #0)', 'subtract(54.8, 55.8), divide(#0, 55.8)', 'subtract(1582.3, 1747.4), divide(#0, 1582.3)', 'divide(18176, 36732)', 'subtract(364.3, 332.5), divide(#0, 332.5)', 'add(2.3, 2.1), add(#0, 2.2), divide(#1, const_3)', 'divide(3122, 3827)', 'divide(124176, 5167643)', 'subtract(47%, 46%)', 'divide(54, 259)', 'table_max(beginning outstanding balance, none)', 'divide(6.1, 7.7)', 'subtract(482, 75), divide(#0, 75)', 'divide(9856, 20133)', 'table_sum(citigroup parent company, none)', 'divide(7, 36)', 'divide(1145, 2873)', 'divide(150, 84)', 'subtract(1358, 1431), divide(#0, 1431)', 'subtract(7964, 5577), divide(#0, 5577)', 'divide(4.1, 4.6)', 'subtract(149.4, 134.4), divide(#0, 134.4)', 'subtract(4478, 5080), divide(#0, 5080), multiply(#1, const_100)', 'divide(12300, 47327)', 'divide(236.31, 187.19)', 'divide(4.4, 2.9), add(1.9, #0), divide(#1, const_3)', 'subtract(357050, 324502), divide(#0, 324502)', 'add(41, 52.4), divide(#0, const_2)', 'divide(25587, 181001)', 'subtract(3365687, 1599695)', 'divide(1733, 199)', 'divide(995, 1762)', 'subtract(60, 66)', 'divide(26629, 54935)', 'add(500, 750), divide(#0, 12042), multiply(#1, const_100)', 'divide(1015, 10630)', 'subtract(19.47, 23.93)', 'divide(16151, 56523)', 'divide(22686, const_5)', 'divide(438, 3410)', 'subtract(22974, 19667), divide(#0, 19667)', 'divide(3.6, 1.5)', 'subtract(238.3, 189.5)', 'subtract(2826, 1695), divide(#0, 1695)', 'divide(483578, 1513972)', 'subtract(2832, 2665), divide(#0, 2665)', 'divide(879, 1447)', 'table_average(equity as adjusted, none)', 'subtract(156.7, 363.9)', 'add(853.5, 4.9%)', 'subtract(32524, 32379), divide(#0, 32379)', 'add(2956907, 2786760)', 'divide(256917, 371999)', 'subtract(217.49, 228.88), divide(#0, 228.88)', 'multiply(9.6, 5.3%)', 'add(51869, 694066)', 'subtract(11.7, 0.7)', 'divide(280064, 573225)', 'divide(31, 191)', 'table_min(decreases related to expiration of statute of limitations, none)', 'subtract(8203, 3716), divide(#0, 3716)', 'divide(1131677, 1127051), divide(#0, 7384402)', 'subtract(118, 102), divide(#0, 102)', 'subtract(695, 1717), divide(#0, 1717)', 'multiply(1032717, 11.19), divide(#0, const_1000000)', 'add(16, 16), add(#0, 16)', 'divide(8611, 10806)', 'divide(1606, 2096)', 'divide(19557, const_1000), divide(2.2, #0)', 'divide(1624, 2832)', 'subtract(31, -285)', 'divide(225, 986), divide(224, 983), subtract(#0, #1)', 'subtract(121, 61), divide(#0, 61)', 'subtract(6.32, 2.23), divide(#0, 2.23)', 'subtract(285, 190), divide(#0, 190)', 'add(2.60, 2.55), add(#0, 2.25)', 'add(40627, 35341), add(26996, #0), divide(#1, const_3)', 'subtract(2, -6)', 'divide(28.4, -27.5)', 'divide(5413606, 6704679), multiply(#0, const_100)', 'divide(475, 388), subtract(#0, const_1)', 'divide(870, 2173)', 'divide(1.8, 1.2)', 'table_sum(net capital expenditures, none)', 'subtract(18.80, 14.82), divide(#0, 14.82)', 'subtract(5.2, 4.7), divide(#0, 4.7)', 'divide(41431, 44301)', 'subtract(15688, 14663), divide(#0, 14663)', 'subtract(1542, 1666), divide(#0, 1666)', 'subtract(807, 3804), divide(#0, 3804)', 'divide(2131, 4546)', 'divide(485, 535)', 'divide(202, 129)', 'divide(73.8, 68.1)', 'subtract(31.4, 28.9)', 'greater(659, 944)', 'subtract(140.54, 130.29), divide(#0, 130.29)', 'subtract(252, 163)', 'divide(36, 126)', 'multiply(15, 20)', 'add(2989, 267)', 'divide(721, 550)', 'subtract(13.2, 11.7), divide(#0, 11.7)', 'subtract(185.25, const_100), divide(#0, const_100)', 'divide(617039, 2093683)', 'divide(2.1, 3.4)', 'multiply(1.5, const_1000), multiply(#0, 4.02%)', 'multiply(4.15, const_1000), subtract(#0, 359.8), divide(#1, 359.8)', 'subtract(1825, 1266), divide(#0, 1266)', 'subtract(991.1, 942.1), divide(37.5, #0)', 'divide(-10.0, 5.5)', 'divide(20.7, 5.6)', 'add(366, 17)', 'add(17362, 41463), add(28859, #0), add(15991, #1), add(#2, const_4)', 'subtract(304714, 128721), divide(#0, 128721)', 'subtract(29%, 10)', 'divide(208, 2471)', 'divide(4.54, 61.13)', 'subtract(100, 100), divide(#0, 100)', 'divide(140, 464)', 'divide(11.9, 20)', 'subtract(32.5, 34.2), divide(#0, 34.2)', 'subtract(604, 540)', 'divide(7.05, 6.32), divide(#0, 6.32)', 'divide(1565518, 1519183)', 'subtract(1751, 177), divide(177, #0)', 'divide(52253, 204395)', 'divide(7729, 1213)', 'add(1, 2), subtract(#0, 2)', 'divide(111, 29)', 'divide(298.31, 258.82)', 'subtract(0.3, 0.2), divide(#0, 0.3)', 'subtract(29905, 32011)', 'divide(457, 1316)', 'subtract(4331309, 4283467)', 'greater(124, 32)', 'divide(572079, 1171576)', 'divide(70, 350)', 'divide(168872, 253880)', 'divide(895, 4935)', 'subtract(205.20, 137.75), divide(#0, 137.75)', 'subtract(31561, 26302), divide(#0, 26302)', 'divide(94.2, 304.9)', 'subtract(5.46, 1.16)', 'add(1955024, 4078093)', 'add(19686, 6%)', 'multiply(2786760, 35.01)', 'add(6, 10), divide(#0, const_2)', 'subtract(2005, 2000)', 'table_average(operating margin, none)', 'divide(480, 2605)', 'add(610, 613)', 'add(282.2, 127.7)', 'subtract(29%, 31%), subtract(18, 16), subtract(#1, #0)', 'subtract(17.9, 18.1), subtract(17.9, #0)', 'subtract(235, 835)', 'divide(18, 16)', 'subtract(269, 265)', 'add(60, 54), add(#0, 40)', 'subtract(135.2, 95.7), divide(27.4, #0)', 'subtract(580, 540), divide(#0, 540)', 'table_average(income from cash and cash investments, none)', 'subtract(-1367, -1460), divide(#0, -1460)', 'divide(644.2, 37.9)', 'subtract(10.8, const_2)', 'subtract(220, 188), divide(#0, 188)', 'divide(710, 84)', 'multiply(1.8, const_1000), add(#0, 900), add(#1, 67)', 'add(9.4, 2.7)', 'subtract(236, 255)', 'divide(1953, 1059)', 'subtract(118251, 65565), divide(#0, 65565)', 'divide(213247004, 238435208)', 'divide(2131, 4443)', 'divide(49415, 119144)', 'subtract(const_1, 11%), divide(1.7, #0), subtract(#1, 1.7)', 'subtract(16.8, 21.3)', 'subtract(5807.6, 5625.6), divide(#0, 5625.6)', 'subtract(3.15, 4.51), divide(#0, 4.51)', 'subtract(198.18, const_100), divide(#0, const_100), multiply(#1, const_100)', 'divide(23216, 861395)', 'divide(754.3, 1070.0)', 'divide(225, 393)', 'divide(772, 180), multiply(#0, const_100), subtract(#1, const_100)', 'subtract(135, 124), divide(#0, 124)', 'divide(387, 2695)', 'add(19604, 14435), divide(#0, const_2)', 'subtract(1.8, 1.3)', 'divide(892, 19)', 'add(7, -1), add(#0, -1), add(#1, -101)', 'divide(15562, 133106)', 'divide(24668, 92440)', 'divide(82767, 1380573)', 'subtract(102.53, const_100), divide(#0, const_100)', 'divide(79, 478)', 'divide(600000, 8)', 'table_min(inventory, none)', 'multiply(306, 25.04)', 'add(1054, 1216), add(#0, 1219), add(#1, 2566), divide(#2, const_4)', 'subtract(169.61, 163.63), divide(#0, 163.63), subtract(144.41, 169.61), add(#1, #2), divide(#3, const_2)', 'subtract(245.0, 300.8), divide(#0, 300.8)', 'subtract(506032, 372863), divide(#0, 372863)', 'subtract(1415, 1188)', 'subtract(195.75, const_100), divide(#0, const_100), subtract(213.49, const_100), divide(#2, const_100), subtract(#1, #3)', 'subtract(201, -377)', 'divide(112000, 468218)', 'subtract(1854, 1802), divide(58, #0)', 'add(309, 324)', 'subtract(75, 77), add(#0, 77)', 'divide(115.6, 38.9)', 'subtract(122.64, const_100), divide(#0, const_100), subtract(182.85, const_100), divide(#2, const_100), subtract(#1, #3)', 'subtract(34.6, 30.4), divide(#0, 30.4)', 'subtract(32.1, 13.9)', 'subtract(23773, 29010), divide(#0, 29010)', 'subtract(15.30, 17.08)', 'subtract(1.91, 1.89), divide(#0, 1.89)', 'subtract(1204, 1189), divide(#0, 1204)', 'divide(1664, 315)', 'add(8181, 20454)', 'subtract(38280, 35066), subtract(#0, 35066)', 'subtract(324, 71)', 'subtract(2441, 593)', 'add(166, 464)', 'divide(0.9, 1.5)', 'subtract(8.6, 6.1), divide(#0, 6.1)', 'subtract(-5761, -6091), divide(#0, -6091)', 'subtract(1148, 462)', 'divide(16965, const_1000)', 'subtract(1011, 815), divide(#0, 815)', 'subtract(0.7, 0.6), divide(#0, 0.6)', 'multiply(33.12, 18698)', 'add(2.4, 2.0), add(#0, 1.9), divide(#1, const_3)', 'divide(5802673, 6885020)', 'subtract(18595, 10159), divide(#0, 10159)', 'table_average(revisions of previous quantity estimates, none)', 'divide(18, const_8)', 'add(18, -17)', 'subtract(75, 77)', 'add(49.80, 45.19)', 'divide(11782, 3939)', 'subtract(2.39, 2.10), divide(#0, 2.10)', 'add(1424356, 4281952), divide(4281952, #0)', 'divide(426.2, 1579.6)', 'subtract(18.7, 21.3), divide(#0, 21.3)', 'divide(178, 1725)', 'divide(1649, 1612), divide(#0, 1612)', 'multiply(34317386, 16.11)', 'divide(8.8, 790)', 'subtract(643, 987), divide(#0, 987)', 'greater(241, 85)', 'divide(16.2, 689.3), multiply(#0, const_100)', 'divide(200, 3000)', 'add(1570, 1745), add(#0, 1800)', 'divide(9.7, 24.7)', 'add(11, 1)', 'multiply(603, 11%)', 'divide(108000, 102), divide(156000, 117), subtract(#1, #0)', 'divide(105.7, 7.7)', 'add(247, 3)', 'divide(76.4, 90.2)', 'add(20.1, 11.0), subtract(20.1, 11.0)', 'add(19.8, 5.7), divide(5.7, #0)', 'divide(65.7, 126.9), multiply(#0, const_100)', 'subtract(101.88, 93.21), divide(#0, 93.21)', 'subtract(111.31, 79.77), divide(#0, 79.77)', 'divide(863604, 4704612)', 'divide(40627, 35341)', 'subtract(2885.6, 2790.0), divide(#0, 2790.0)', 'divide(17274, const_1000), subtract(#0, 16), divide(#1, 16)', 'divide(1.1, 790)', 'subtract(156, 126), divide(#0, 126)', 'subtract(6169, 6152), divide(#0, const_2)', 'subtract(42.0, 40.0), divide(#0, 40.0)', 'add(1570, 1745), add(#0, 1800), add(#1, 1905)', 'add(6.8, 11.0), add(11.1, #0), divide(#1, const_3)', 'subtract(17, 19)', 'divide(10848, 15517)', 'divide(62600, 1472400)', 'divide(28046, 1225797)', 'multiply(2.36%, 2180592)', 'divide(19215, 61342)', 'subtract(31.1, 41.4)', 'multiply(423897556, 87.32)', 'divide(430, 524)', 'subtract(8793, 1045)', 'greater(5, 3)', 'subtract(14, 4)', 'subtract(110.57, const_100), divide(#0, const_100)', 'add(12.4, 19.8), add(#0, 4.7)', 'greater(93.73, 111.99)', 'subtract(288.4, 103.9)', 'subtract(3750, 2860), divide(#0, 2860)', 'add(27, -70)', 'subtract(143, 124), divide(#0, 124)', 'divide(478269, 778320)', 'divide(77.2, 1552.2)', 'subtract(205181, 115419), divide(#0, 115419)', 'divide(1169, 1053), divide(#0, 1053)', 'subtract(21, 19), divide(#0, 21), multiply(#1, const_100)', 'subtract(7680, 8074), divide(#0, 8074)', 'subtract(25.4, 15.6), divide(#0, 15.6), multiply(#1, const_100)', 'divide(19.0, 516.9)', 'divide(456.6, 511.9)', 'multiply(177724, const_4)', 'divide(1599.8, 14354.0)', 'multiply(0.10, const_4), divide(487, #0)', 'add(3018, 2666), add(#0, 3174), divide(#1, const_3)', 'divide(661, 4002)', 'divide(662.3, 7.3)', 'divide(15415, 5943)', 'subtract(320, 279)', 'divide(456.6, 4220.4)', 'divide(43, const_7)', 'add(66847, 0.6), add(#0, 0.8), add(#1, 1.3)', 'divide(2352443, 9038137)', 'subtract(171.40, 100), divide(1000000, 100), multiply(#1, #0)', 'subtract(183.9, 59.2)', 'divide(522, 30%)', 'subtract(9.26, 100), divide(#0, 100)', 'add(136, 828), divide(#0, 1672)', 'divide(const_100, 35), multiply(#0, 86.8)', 'subtract(2.34%, 2.05%)', 'subtract(14215, 12723)', 'divide(443, 3108)', 'add(2.4, 2.5), add(#0, 2.5)', 'add(2530454, 5923147), divide(5923147, #0)', 'divide(1994.2, const_4)', 'divide(43, 156)', 'divide(81.4, 214.5)', 'divide(1150219, 6643762)', 'divide(309, 495)', 'subtract(22.8, 21.9)', 'divide(25000, 156000)', 'add(22.1, 24.0), add(#0, 28.8), divide(#1, const_3)', 'subtract(656, 672), divide(#0, 672)', 'divide(116, 782), divide(406, 1168), subtract(#1, #0)', 'add(59.73, 45.20), add(#0, const_2), divide(#1, const_2)', 'divide(-2128, 98966)', 'subtract(14239, 10222), divide(#0, 10222)', 'divide(18181, 27090)', 'divide(2165, 6825)', 'divide(48, 10349)', 'subtract(39926, 2373)', 'divide(75, 92)', 'subtract(226.3%, 3.1%)', 'add(381, 210)', 'divide(277947, 1725000)', 'subtract(1.48, 1.00), divide(#0, 1.00)', 'multiply(10, 10)', 'subtract(15780, 16366), divide(#0, 16366)', 'add(43, 34), add(#0, 44), divide(#1, const_3)', 'subtract(2773, 4867), multiply(#0, const_1000000)', 'divide(83, 1%)', 'divide(0.95, 6.60)', 'greater(2.1, 3.0)', 'divide(40, 259)', 'add(1055, 5001)', 'divide(597, 553), multiply(#0, 597)', 'add(54, 114), subtract(#0, 23)', 'divide(834, 97)', 'divide(4709, 21513)', 'add(41.31, 43.84), add(#0, 45.45), add(#1, 46.53), divide(#2, const_4)', 'divide(1864, 128)', 'add(35.8, 33.0)', 'multiply(9.6, 6.1%), multiply(#0, const_1000)', 'subtract(347, 328), divide(#0, 328)', 'subtract(8246, 972), divide(#0, 8246)', 'subtract(1110.6, 1074.5), divide(#0, 1074.5)', 'add(252, 192), add(#0, 3), add(159, 244), add(#2, 8), subtract(#1, #3)', 'divide(396000, 146000)', 'divide(40, 32960)', 'divide(371, 1586)', 'divide(745, 699)', 'subtract(14.0, 12.3), divide(#0, 12.3)', 'add(20926, 12%)', 'subtract(135, 143)', 'subtract(9123, 9241), divide(#0, 9241)', 'subtract(52.4, 32.1), subtract(#0, 32.1)', 'divide(771, 17)', 'subtract(70, 292)', 'subtract(234, 203), divide(#0, 203)', 'multiply(7927210, 34.92), divide(#0, const_1000000)', 'subtract(15281, 6683), divide(#0, 6683)', 'divide(10.26, 1.26), multiply(#0, 10.26)', 'add(7351, -5934), add(#0, 167)', 'subtract(21.4, 0.9), divide(#0, 0.9)', 'divide(3579, 12208)', 'subtract(1690.3, 1100.6)', 'add(960, 7850), divide(7850, #0)', 'divide(1.3, 1.5)', 'subtract(2668, 1229), divide(#0, 1229)', 'divide(105, 5310)', 'divide(8, 34)', 'divide(7600, 4300)', 'divide(87, 4.1%)', 'multiply(375, 3.0%), divide(#0, const_2)', 'multiply(3.2, const_1000), divide(#0, 62)', 'multiply(11877706, 16.91), divide(#0, const_1000000)', 'subtract(20406, 24412), divide(#0, 24412)', 'divide(1.1, 1.4)', 'subtract(402, 392), divide(#0, 392)', 'add(21317, 108571), divide(#0, 20589)', 'multiply(186724, const_1000), divide(#0, 0.62), divide(#1, const_1000000)', 'greater(3, 7)', 'add(201, 189), add(#0, 191)', 'add(20, 31), add(59, #0), divide(#1, const_3)', 'add(24.7, 16.4), subtract(24.7, 16.4)', 'divide(2246.4, 5807.6)', 'subtract(7073, 7216), divide(#0, 7216)', 'divide(57939, 9495246)', 'subtract(11901, 1038)', 'add(17.8, 50), divide(#0, 200)', 'subtract(3245, 2658), divide(2658, #0)', 'divide(4356, 86643)', 'divide(119, 975)', 'greater(38, 47)', 'subtract(130.80, const_100), subtract(150.33, const_100), divide(#0, const_100), divide(#1, const_100), subtract(#2, #3)', 'subtract(785495, 1002437), divide(#0, 1002437)', 'divide(3856, 16745), multiply(#0, const_100)', 'subtract(2634, 3896)', 'multiply(2891719, 44.16), divide(#0, const_1000000)', 'subtract(25.22, 21.00)', 'subtract(2258.8, 864.8), subtract(#0, 860.2)', 'subtract(924, 1096)', 'subtract(41.39, 35.92), divide(#0, 35.92)', 'divide(169.7, 38.3)', 'divide(const_4, 12)', 'add(64, 245)', 'divide(16.1, 5.8)', 'add(4096, 146)', 'subtract(20941, 20304), divide(#0, 20304)', 'divide(1643000, 3451600)', 'subtract(364.3, 332.5)', 'subtract(271, 81)', 'divide(1, 150)', 'add(414000, 364000), divide(#0, const_2)', 'divide(5834, 14673)', 'subtract(59.2, 183.9)', 'greater(4, 5)', 'multiply(75%, 6%), multiply(50%, 6%), subtract(#0, #1)', 'subtract(951479, 1157111)', 'multiply(6.7, const_1000)', 'add(19400, 2500), add(#0, 1100), add(#1, 200)', 'divide(51172, 23)', 'subtract(116.62, 100), subtract(107.65, 100), subtract(105.45, 100), add(#0, #1), add(#2, #3)', 'divide(185, 1768)', 'multiply(145300, 141.94)', 'divide(393, 1.2)', 'divide(132, 97)', 'divide(13, 22)', 'add(7.6, 2.7), add(#0, #0)', 'subtract(4.4, 2.2)', 'subtract(3.2%, 2.5%)', 'divide(78, 10625)', 'greater(8.7%, 9.5%)', 'add(const_2, 2.18)', 'divide(617, 1425)', 'subtract(52.4, 38.8)', 'subtract(14215, 15794), divide(#0, 15794)', 'add(-111, 119)', 'subtract(5051, 4694), divide(#0, 4694)', 'subtract(128, 95.3), divide(#0, 128)', 'divide(21, 78)', 'divide(929142, 1061523)', 'subtract(2.35, 2.06)', 'add(141728743, 297976), add(#0, 156165)', 'multiply(95800, const_1000), divide(#0, 49.90%)', 'multiply(1415, const_1000), multiply(#0, 25.24), divide(#1, const_1000000)', 'divide(513, 4414)', 'divide(84676, 65714)', 'table_sum(revisions of previous quantity estimates, none), table_sum(accretion of discount, none), greater(#0, #1)', 'divide(29, 1859)', 'multiply(3.0, const_1000), add(#0, 7215)', 'subtract(51.51, 100), divide(#0, 100), subtract(111.89, 100), divide(#2, 100), subtract(#1, #3)', 'table_max(fixed income currency and commodities client execution, none)', 'divide(0, 1000000)', 'divide(157, 120), multiply(#0, 157)', 'divide(958, 5400)', 'divide(28473, 67252)', 'subtract(34.2, 33.4), divide(#0, 33.4)', 'subtract(1110.6, 1117.9), divide(13.6, #0)', 'subtract(5495, 4449), divide(#0, 4449)', 'divide(50.6, 5.9)', 'add(133, 65), add(#0, const_9), divide(133, #1)', 'subtract(60%, 42%)', 'subtract(72.67, 16.66)', 'subtract(93, 100), divide(#0, 100)', 'table_average(reserve adjustments net, none)', 'subtract(60093, 47705), divide(#0, 47705)', 'subtract(128.98, 100), divide(#0, 100), subtract(108.38, 100), divide(#2, 100), subtract(#3, #1)', 'subtract(36%, 14%)', 'divide(4930, 5223)', 'divide(35.9, 41.1)', 'divide(30.1, 4.3)', 'divide(22.6, 1149.8)', 'subtract(281.27, 238.04)', 'multiply(6.1, const_1000), divide(#0, 560.3)', 'divide(11695, 21688)', 'divide(612.1, 1586.2)', 'add(71063, 21604), add(82, #0), divide(21604, #1)', 'multiply(88, const_2)', 'divide(309, 8906)', 'subtract(2560.5, 2438.4), divide(#0, 2438.4)', 'add(62, 1218)', 'subtract(364221, 225104), divide(#0, 225104)', 'subtract(5666, 5283)', 'subtract(3245, 2658)', 'subtract(103369, 79664)', 'divide(658, 1155)', 'subtract(2723872, 1502747), divide(#0, 1502747)', 'divide(4064795, 12224395)', 'add(4105, 400)', 'subtract(20227000, 16586000), divide(#0, 16586000)', 'divide(const_1, 2.4), subtract(const_1, #0)', 'divide(665, 65)', 'subtract(1110.6, 1117.9), divide(#0, 1117.9)', 'subtract(88.54, const_100), divide(#0, const_100)', 'divide(11, 4)', 'divide(48, 29)', 'divide(106214, 2101046)', 'subtract(9, 3), divide(#0, 3)', 'multiply(4.3, const_1000), greater(7385, #0)', 'add(19097, 25544), divide(#0, const_2)', 'divide(3848, 11248)', 'subtract(314.7, 322.4)', 'divide(1321, 5890)', 'subtract(409201, 264844)', 'subtract(257541, 282041)', 'subtract(60.2, 51.6), divide(#0, 51.6)', 'divide(1011, 18.8%)', 'add(9, 78), divide(78, #0), multiply(#1, const_100)', 'multiply(22, const_1000000), divide(#0, 1.3)', 'subtract(105, const_100)', 'multiply(450, const_1000000), multiply(#0, 6.625%)', 'subtract(111.65, 79.51), divide(#0, 79.51)', 'subtract(9640, 8700)', 'subtract(1252.3, 1216.7)', 'divide(310, 558)', 'subtract(280.10, const_100), divide(#0, const_100)', 'divide(6113, 37692)', 'subtract(121, 155), divide(#0, 155)', 'subtract(73, 36), divide(#0, 36)', 'divide(28, 39)', 'table_max(first quarter, none)', 'subtract(10.1, 5.7), divide(#0, 5.7)', 'subtract(150000, 142000)', 'subtract(1582.3, 1632.2), divide(#0, 1632.2)', 'divide(24.5, 11.3)', 'divide(22878, 29497)', 'subtract(21, const_8), divide(#0, const_8)', 'subtract(227, 100), divide(#0, 100)', 'divide(2471, 4147)', 'divide(15.2, 1026.4)', 'divide(1310, 5342)', 'divide(2727, 56.7)', 'subtract(1375, 943), divide(#0, 943)', 'add(45, 15), add(85, 85), add(#1, 75), divide(#2, #0)', 'subtract(72, 78), divide(#0, 78)', 'divide(47, 130)', 'divide(52, 225)', 'add(1338, 599)', 'divide(256.9, 324.9)', 'divide(953, 15121)', 'subtract(3636, 1474), divide(#0, 1474), multiply(#1, const_100)', 'subtract(71, 74), divide(#0, 74)', 'divide(149, 273)', 'subtract(27.5, 28.9), divide(#0, 28.9)', 'divide(66847, 66511), subtract(#0, const_1)', 'multiply(4.4, const_1000), divide(#0, 6700)', 'subtract(44, 48), divide(#0, 48)', 'multiply(const_6, const_1000), divide(#0, 22553)', 'add(41, 26), divide(#0, const_2)', 'subtract(230, 140), divide(#0, 140)', 'divide(66809, 118880)', 'subtract(189.19, 100)', 'divide(615875, 6643762)', 'divide(56, 571)', 'divide(436, 1188)', 'multiply(269, 43560), divide(#0, const_100000)', 'add(14.2, 14.9), add(#0, 15.1)', 'subtract(7.05, 6.32), divide(#0, 6.32)', 'divide(83382, 249038)', 'multiply(345.0, 3.00%)', 'subtract(1018.5, 907.0), subtract(1033.9, 792.9), greater(#0, #1)', 'divide(78, 25%), multiply(#0, const_1000000)', 'divide(1061, 1572)', 'divide(153, 65)', 'divide(120, 6097)', 'subtract(161, const_100)', 'subtract(110.57, const_100), subtract(111.99, const_100), divide(#0, const_100), divide(#1, const_100), subtract(#2, #3)', 'subtract(499, const_8)', 'subtract(2175.1, 2008.2)', 'divide(185.4, 268.8)', 'subtract(326, 155), divide(#0, 326)', 'divide(127100, 2957300)', 'subtract(2411, 2387), divide(#0, 2387)', 'subtract(257.8, 221.9)', 'divide(1881992, 5148881), multiply(#0, const_100)', 'add(5.7, 6.4)', 'subtract(9640, 8700), divide(#0, 8700)', 'subtract(13.9, 8.5)', 'subtract(183.1, 61.3)', 'subtract(554.9, 555.3)', 'subtract(437, 100), divide(#0, 100)', 'table_max(change in unrealized gain/loss on derivative instruments, none)', 'subtract(13.4, 12.2)', 'subtract(32073, 30608), divide(#0, 30608)', 'divide(20, 191)', 'subtract(13053, 18874), divide(#0, 18874)', 'divide(544629, 2458777)', 'multiply(11.7, const_1000000), divide(#0, 817749)', 'divide(198.18, 165.34)', 'divide(31, 46)', 'subtract(52253, 13750), divide(#0, 13750)', 'divide(94, 101)', 'multiply(0.82, 20)', 'subtract(226815, 218019), divide(#0, 226815)', 'subtract(1.80, 1.78), divide(#0, 1.78)', 'divide(80, 250)', 'subtract(113956000, 109644000), divide(#0, 109644000)', 'subtract(1636526, 1642438), divide(#0, 1642438)', 'add(10.4, 80.6), divide(#0, const_2)', 'subtract(267000, 57000)', 'add(39, 37), divide(#0, const_2)', 'divide(825.0, 951.5)', 'add(80.8, 82.8), subtract(#0, 55.5)', 'subtract(133, 56)', 'divide(761, 6612)', 'subtract(22471, 20624), divide(#0, 20624)', 'add(3387, -11)', 'subtract(294, 100), divide(#0, 100)', 'add(-2.5, -5.1), add(#0, -8.1)', 'subtract(273, 255), divide(#0, 255)', 'add(3734, 2059), add(#0, 5965), divide(#1, const_3)', 'divide(45, 129)', 'subtract(318477, 307833), divide(#0, 307833)', 'subtract(3361225, 77622), subtract(#0, 115444)', 'subtract(416.6, 510.8), divide(#0, 510.8)', 'add(1208860, 814114)', 'divide(40, const_100), add(#0, 9.95)', 'divide(182800, 248100)', 'subtract(1854, 1802), divide(20, #0)', 'subtract(381, 68.13), divide(#0, const_1000)', 'divide(10288, 37415)', 'divide(175.4, 136.1)', 'divide(39500, 220600)', 'add(75000, 74000), add(#0, 73000)', 'add(163.7, 385.1)', 'subtract(2856, 2040), divide(#0, 2040)', 'table_max(2019, none)', 'subtract(10108, 8851)', 'subtract(176.08, const_100), subtract(248.92, const_100), divide(#0, const_100), divide(#1, const_100), subtract(#2, #3)', 'divide(129660, 151710), multiply(#0, const_100)', 'subtract(755.3, 703.0), divide(#0, 703.0)', 'add(100, 13)', 'divide(669, 2021)', 'greater(1042, 12542)', 'subtract(105, 100), divide(#0, 100)', 'add(512.8, -263.9), divide(#0, -666.4)', 'subtract(1606, 37.25)', 'divide(1178, 25727)', 'divide(185.04, 128.90)', 'add(4800, 6000), add(#0, 6300), divide(#1, const_3)', 'multiply(9.2, 6.2%)', 'add(63.25, 54.59)', 'subtract(1520.5, 47.1)', 'table_sum(commissions and fees, none)', 'add(19.4, 20.1), divide(#0, const_2)', 'subtract(2807, 2841), divide(#0, 2841)', 'add(16079, 3453), add(#0, 399), add(#1, 66809), divide(#2, 118880)', 'subtract(450.5, 506.7), divide(#0, 506.7)', 'divide(33, 5), multiply(#0, const_100), subtract(#1, const_100)', 'divide(22764, 29614)', 'divide(51.8, 54.0)', 'divide(7282, 329897)', 'subtract(87.45, 69.71), divide(#0, 69.71)', 'divide(1733, 18413)', 'add(8.8, 6.6), add(#0, 3.0), add(#1, 1.8), add(#2, 1.1), divide(#3, const_4)', 'subtract(47, 41)', 'divide(7385, 6823), multiply(#0, 6823), multiply(#1, const_1000000)', 'subtract(195.75, 100.00), divide(#0, 100.00)', 'subtract(407, 100), divide(#0, 100), subtract(207, 100), divide(#2, 100), subtract(#1, #3)', 'divide(294741, 441100)', 'divide(44, 71)', 'subtract(83, 17), add(#0, 191)', 'add(1474, 893), add(#0, 10639), divide(#1, const_3)', 'add(96, 1), divide(27, #0)', 'table_sum(17695228, 963202), add(#0, 155213), divide(17695228, #1)', 'divide(144.58, 125.92), divide(#0, 125.92)', 'subtract(0.3, 0.1)', 'subtract(5.28, 3.79), divide(#0, 3.79)', 'subtract(306870, 337226), divide(#0, 337226)', 'multiply(90%, 73.62)', 'subtract(852.0, 735.1)', 'subtract(530.5, 120.4), divide(#0, 120.4)', 'divide(3245, 14235)', 'add(128, 108), add(112, #0), divide(#1, const_3)', 'subtract(2.25, 2.2), divide(#0, 2.2)', 'subtract(108.38, 100), divide(#0, 100)', 'divide(0.1, 10.3)', 'subtract(140, 100)', 'divide(5.1, 19.2)', 'add(1610.3, 1612.9), add(1762.3, 1722.2), divide(#0, #1), multiply(#2, const_100)', 'subtract(5.27, 4.58)', 'divide(1279, 21963)', 'divide(63, 1370)', 'subtract(198, 123), divide(#0, 123)', 'table_average(expected annual dividend yield, none)', 'subtract(5.7, 3.2), subtract(#0, 10.7)', 'subtract(1864, 128)', 'subtract(429.22, 307.61), divide(#0, 307.61)', 'add(9, 46), divide(7, #0)', 'subtract(1524, 1313), divide(#0, 1313)', 'table_sum(total, none)', 'subtract(229.3, const_100), divide(#0, const_100), subtract(198.2, const_100), divide(#2, const_100), subtract(#1, #3)', 'subtract(79.0, 70.1)', 'divide(-133.9, 33.2)', 'subtract(4685, 5063), divide(#0, 5063)', 'subtract(27%, 28%)', 'subtract(1434, 1434)', 'add(164, 103), divide(#0, const_2)', 'divide(682, 555), subtract(#0, const_1)', 'subtract(55, 138), divide(#0, 138)', 'subtract(96, 19), divide(#0, 19)', 'multiply(4852978, 26.69)', 'divide(586, 6109)', 'subtract(113047, 101438), divide(#0, 101438)', 'divide(345, 3189)', 'divide(40, 2.5)', 'subtract(187.74, 176.96), divide(#0, 176.96)', 'divide(2.3, 7)', 'add(711, 106), multiply(#0, const_1000000)', 'subtract(1786.2, 2163.0)', 'divide(595, const_5)', 'add(0.07, 0.09)', 'subtract(125, 80)', 'subtract(65.2, 61.8), divide(#0, 61.8)', 'divide(1791.8, 1934.2)', 'subtract(27, 0)', 'subtract(14055, 14800), divide(#0, 14800)', 'add(6.21, 8.38), divide(#0, const_2)', 'subtract(0.25, 0.17), multiply(#0, const_4)', 'add(8, 95), add(#0, 116), add(#1, const_3), divide(#2, const_2)', 'divide(0.50, 1.90)', 'subtract(23.1, 32.1)', 'add(7603, -6327), add(#0, -980), add(#1, 353)', 'divide(57152, 28887)', 'subtract(5.9, 5.6), divide(#0, 5.6)', 'add(77.3, 79.3), add(#0, 81.5)', 'table_average(weighted average common shares outstanding for dilutedcomputations, none)', 'add(25, 46), divide(#0, 46)', 'divide(657, 15121)', 'subtract(4.40, 2.84), divide(#0, 2.84)', 'divide(3174, 17118)', 'divide(24.1, 78.3)', 'add(33.2, 21.3), add(#0, 1.9), add(#1, 2.0)', 'divide(14631, 22078)', 'multiply(92.7, const_m1), add(#0, 73.4), divide(#0, 19.5)', 'divide(6.3, 5.5)', 'divide(917.9, const_5), divide(332.3, const_5), subtract(#0, #1)', 'multiply(1432610, 57), multiply(1913527, 54), subtract(#1, #0), divide(#2, #0)', 'subtract(145, 100), divide(#0, 100)', 'divide(2160, 13670)', 'divide(443, 701)', 'multiply(75354, 34.16)', 'subtract(7.1, 7.7), divide(#0, 7.7)', 'subtract(22.91, 21.68), divide(#0, 21.68)', 'add(399165, 3995600)', 'divide(39.8, 172.8)', 'add(20000, 15000), divide(#0, const_2)', 'subtract(2815, 1072)', 'divide(979, 1058)', 'divide(36.1, 30.7)', 'divide(4067, 12042)', 'table_max(derivatives, none)', 'divide(41.0, 135.2)', 'subtract(122.64, const_100), divide(#0, const_100)', 'table_min(inventories, none)', 'subtract(75.95, const_100), divide(#0, const_100), subtract(102.11, const_100), divide(#2, const_100), subtract(#1, #3)', 'subtract(92.3, 84.9), divide(#0, 84.9)', 'add(const_1, 2.75%), exp(#0, const_10), multiply(400.0, #1)', 'subtract(93.99, 85.98)', 'greater(8.00, 8.25)', 'subtract(100, 94), divide(#0, 94)', 'subtract(13.9, 12.2), divide(#0, 12.2)', 'divide(0.02, 3.98)', 'divide(138, 84.8)', 'divide(5.1, 10.3)', 'subtract(10646, 8166), divide(#0, 8166)', 'add(1308, 75), add(#0, 1414)', 'subtract(336, 185), divide(#0, 185)', 'divide(185.9, 1074.1)', 'divide(917.9, const_5), divide(#0, 157.4), subtract(#1, const_1)', 'divide(40.0, 12.0)', 'divide(1659.9, 2320.7)', 'subtract(4, 121)', 'add(30, 14)', 'divide(1855, 4721)', 'divide(164800, 192580)', 'divide(25000, 20%)', 'divide(10410, 37899)', 'divide(54857, 350161)', 'multiply(15800, 18%)', 'subtract(39, 37), divide(#0, 37)', 'multiply(100, const_2)', 'multiply(4261200, 37.60), divide(#0, const_1000000)', 'subtract(276.9, 221.9), divide(#0, 221.9)', 'subtract(1.39, 0.07)', 'multiply(50.33, 4999)', 'subtract(2408.8, 2246.1)', 'divide(797, 37)', 'subtract(70, 68), divide(#0, 68)', 'subtract(8211, 31780), divide(#0, 31780)', 'subtract(-36.0, 32.1)', 'divide(21, 124)', 'divide(323, 1700)', 'subtract(67.8, 55.0)', 'subtract(176.08, const_100), subtract(208.14, const_100), divide(#0, const_100), divide(#1, const_100), subtract(#2, #3)', 'add(250, 375)', 'subtract(10%, 7.00%)', 'subtract(17280, 21796), divide(#0, 21796)', 'divide(9699127, 35686529)', 'subtract(292.3, 272.4)', 'divide(810, 470)', 'subtract(1141879, 450094), divide(#0, 450094)', 'divide(530, 830)', 'add(52, 39), divide(#0, 39)', 'subtract(140, 140)', 'subtract(759, 808), divide(#0, 808)', 'subtract(94.1, 6.2)', 'subtract(197.58, const_100), divide(#0, const_100), subtract(253.22, const_100), divide(#2, const_100), subtract(#1, #3)', 'divide(69.6, 242.9)', 'divide(10014, 27%)', 'divide(6272, 64078)', 'subtract(2015, 2011)', 'multiply(259.1, const_1000), divide(#0, 2458777)', 'subtract(28649, 15100)', 'divide(3228557, 5518236)', 'divide(1301119, 7095691)', 'greater(9, 10)', 'subtract(139.55, 119.89), divide(#0, 119.89)', 'add(128.02, 100.00)', 'subtract(-974, 862)', 'subtract(321237, 137858)', 'divide(2.10, const_100), multiply(#0, 590)', 'divide(300.9, 4.4)', 'subtract(822, 391)', 'subtract(41, 28)', 'subtract(2013, 2008), subtract(204.63, const_100), divide(#1, #0)', 'table_max(health plan, none)', 'divide(2392, 5891)', 'add(6.2, 6.2), add(#0, 6.2), add(#1, 6.2)', 'subtract(229.4, 219.1), divide(#0, 219.1)', 'subtract(-4190, -3604)', 'divide(770, 903)', 'divide(4813, 44620)', 'add(140.5, 135.1), add(137.7, #0), divide(#1, const_3)', 'divide(437, 2590)', 'divide(86.8, 508)', 'divide(236000, 132000)', 'add(39586, 42905), add(#0, 35614), add(#1, const_3), divide(#2, const_2)', 'divide(544, 515)', 'subtract(3.884, 3.573), divide(#0, 3.573)', 'divide(193101, 3347676)', 'table_min(july 1 2005 to september 30 2005, none)', 'subtract(27.9, 26.9), add(24.7, #0)', 'subtract(61342, 57152), divide(#0, 57152)', 'subtract(1.6, const_1)', 'subtract(9.50, 2.72)', 'divide(1136975, 9519081)', 'divide(23579, 572764)', 'divide(75.0, 200.0)', 'subtract(527.37, 387.22)', 'subtract(57.6, 52.3), divide(#0, 52.3)', 'subtract(2704.1, 2327.6), divide(#0, 2327.6)', 'divide(351.3, 114.0)', 'subtract(284.5, 287.8), divide(#0, 287.8)', 'divide(282, 1964)', 'add(12723, 14215)', 'divide(1.4, 42.4)', 'divide(447746261, 959868396)', 'divide(155.3, 336.1)', 'divide(1.8, 0.2)', 'subtract(120, 66.9)', 'subtract(115, 83), divide(#0, 83)', 'divide(599497, 1171576)', 'divide(5.13, const_100), multiply(#0, 17188)', 'subtract(11.8, 9.6), divide(#0, 9.6)', 'divide(77, 809)', 'multiply(166.7, const_2)', 'divide(4017, 12307)', 'divide(498, 1401)', 'divide(19.4, 23.7)', 'subtract(62.8, 65.6), divide(#0, 65.6)', 'subtract(3361225, 77622)', 'divide(68.4, 1.8)', 'divide(740, 39.8)', 'greater(4.55, 4.52)', 'subtract(1425, 1170), divide(#0, 1170)', 'subtract(57, 41)', 'add(2.6, 122.0), add(#0, 292.3), add(#1, 47.2)', 'add(7526, 25394), add(#0, 40), divide(#1, const_3)', 'subtract(326, 337), divide(#0, 337)', 'subtract(709, 1232), divide(#0, 1232)', 'divide(69, 1378)', 'table_min(gross margin percentage, none)', 'subtract(139.82, const_100), divide(#0, const_100)', 'divide(10278, 65348)', 'divide(107, 72), subtract(#0, const_1)', 'subtract(5.9, 5.2), divide(#0, 5.2)', 'divide(240, 183), subtract(#0, const_1)', 'subtract(213, 166), divide(#0, 166)', 'divide(46.6, 17.5)', 'multiply(2564.4, const_1000000), divide(#0, 3158226)', 'add(147, 150)', 'subtract(24, 73)', 'add(293, 84), add(#0, 30)', 'subtract(1360987, 450000)', 'divide(869, 16151)', 'subtract(24, 15), divide(#0, 15)', 'add(6, 9), divide(#0, const_2)', 'divide(164, 62)', 'divide(3531.4, 5245.9)', 'multiply(5342, 75%)', 'subtract(62%, 61%)', 'subtract(8.25%, 4.50%)', 'divide(1767.5, 2455.4)', 'subtract(1.3, 5.6), divide(#0, 5.6)', 'divide(1783, const_1000), divide(#0, 2.2)', 'divide(1152, const_1000), subtract(#0, 1.4)', 'subtract(110.57, const_100), divide(#0, const_100), subtract(111.99, const_100), divide(#2, const_100), subtract(#1, #3)', 'subtract(15.2, 5.5), divide(#0, 5.5)', 'add(467298, 75896), add(#0, 199539), divide(#1, const_1000)', 'greater(602, 45)', 'subtract(4649, 4590), divide(#0, 4590)', 'divide(88.9, 98.9)', 'subtract(2356, 1972), divide(#0, 1972)', 'divide(139, 322)', 'subtract(32.7, 49.1), divide(#0, 49.1)', 'subtract(9.60, 2.30)', 'add(60.68, 63.25), add(#0, 54.59), divide(#1, const_3)', 'multiply(const_1000, 1.6), subtract(365, #0), divide(#1, #0)', 'subtract(7343, 32), subtract(#0, 6380)', 'subtract(691.3, 639.0), divide(#0, 639.0)', 'divide(const_6, 388)', 'divide(28.7, 297.8)', 'divide(3, 1)', 'subtract(192563, 92729)', 'subtract(181, 100), divide(const_1, const_5), subtract(#1, const_1), exp(#0, #2), subtract(#3, const_1)', 'multiply(1962213, 27.29), divide(#0, const_1000000)', 'add(343, 462), add(#0, 607), divide(#1, 3)', 'subtract(63%, 64%)', 'divide(796.9, 5483)', 'add(33, 31), add(#0, 14), divide(#1, const_3)', 'subtract(11700, 10800), divide(#0, 10800)', 'subtract(7035, 4304)', 'subtract(7132, 7443), divide(#0, 7443)', 'add(872.7, 737.9), add(40.7, 1076.7), divide(#0, #1)', 'divide(5473, 19182)', 'add(244, 249), add(#0, 309)', 'divide(609, 5566)', 'multiply(1.3, 4.625%), multiply(#0, const_1000)', 'divide(24.4, 54.4)', 'divide(1813994, 5518236)', 'greater(401.4, 558.8)', 'divide(744, 6271)', 'subtract(2285, 1652), divide(#0, 2285)', 'subtract(160, 157), divide(#0, 157)', 'divide(2922, 66)', 'divide(14698, 34888)', 'divide(1357, 14682)', 'add(20997, 66044)', 'subtract(998.7, 978.4), divide(#0, 978.4)', 'add(2059, 5965), add(#0, 3176)', 'table_sum(income before income taxes, none), table_sum(net sales, none), divide(#0, #1)', 'divide(205.4, 20)', 'divide(70.0, 229.6)', 'divide(10630, 12604)', 'divide(28, 1294)', 'divide(1586, 2036)', 'divide(238035, 3832573)', 'multiply(446600000, 42.77)', 'multiply(3.6, const_1000000), divide(#0, 2.1)', 'subtract(105, 40), divide(#0, 40)', 'subtract(2.3, 2.0)', 'multiply(209.5, const_1000000)', 'divide(219, 143), subtract(#0, const_1)', 'divide(21675, 860165)', 'divide(800, 657)', 'multiply(2921, 4%)', 'multiply(64.2, const_1000000), divide(#0, 188)', 'divide(267.1, 394.8)', 'subtract(23461, 20941), divide(#0, 20941)', 'subtract(645, 713), divide(#0, 713)', 'table_sum(accumulated other comprehensive loss, none)', 'divide(1808.2, 13469.3)', 'add(5.74, 7.83), divide(#0, const_2), divide(#1, const_100), multiply(#2, 79.9)', 'multiply(10705, 178.84)', 'divide(18683, 54533)', 'divide(48161, 133106)', 'multiply(280, 43560), multiply(7041, const_1000), add(#0, #1)', 'divide(1635, 1997)', 'subtract(413.4, 416.3)', 'add(205.4, 55.5), divide(#0, 20)', 'subtract(66.91, const_100), divide(#0, const_100)', 'subtract(1018.5, 907.0), divide(#0, 907.0)', 'add(28.6, 0.5)', 'subtract(3.9, 3.4)', 'divide(224, 5)', 'add(29010, 7119), add(#0, 25920)', 'subtract(4963, 2462), divide(#0, 2462)', 'divide(2030, 64964)', 'multiply(1765510, 34.92), divide(#0, const_1000000)', 'add(1233672, 4903018), divide(1233672, #0)', 'multiply(419988395, 40.38)', 'subtract(149432, 125664), divide(#0, 125664)', 'subtract(7256, 8367), divide(#0, 8367)', 'divide(100.54, 51.17)', 'subtract(229.59, 100), divide(#0, 100)', 'divide(456, 275)', 'subtract(1033, 647)', 'divide(20, 250)', 'divide(39067, 248504)', 'divide(526, 4921)', 'subtract(32.29, 31.81), divide(#0, 31.81)', 'divide(115, 285)', 'greater(100, 525)', 'greater(494, 324)', 'subtract(133.19, 122.81), divide(#0, 122.81)', 'multiply(6000000, 1.1468)', 'divide(184000, 371100)', 'add(8763, 2332), add(26711, #0), add(21079, #1), divide(#2, 57536)', 'divide(559.3, 19637.5)', 'subtract(148848, 136098), divide(#0, 136098)', 'divide(126488, 858543)', 'subtract(465.8, 82.8), divide(82.8, #0)', 'divide(842059, 1055917)', 'divide(1679.7, 945.6)', 'divide(52, 94)', 'subtract(944372, 1076738), divide(#0, 1076738)', 'subtract(128, 85)', 'add(1472.6, 301.2)', 'table_sum(beginning balance, none)', 'subtract(3142, 2917), divide(#0, 2917)', 'divide(8093, 5400)', 'divide(41.8, 228.8), multiply(#0, const_100)', 'subtract(34.7, 26.9)', 'multiply(18.80, 43071613), divide(#0, const_1000000)', 'add(1792000, 1732000)', 'subtract(9683058, 78.07)', 'subtract(23, 21), divide(#0, 21), multiply(#1, const_100)', 'divide(2518, 338)', 'subtract(20.1, 22.8), divide(#0, 22.8)', 'divide(1697, 16088)', 'subtract(const_8, const_4)', 'subtract(3.94, 3.92)', 'subtract(7762, -1697)', 'subtract(2320, 2240)', 'divide(246.7, 6097.1)', 'divide(0.7, 9.1)', 'subtract(87.4%, 86.2%)', 'subtract(1327974, 1251628), divide(#0, 1251628)', 'greater(22, 2)', 'multiply(3784508, 40.64), divide(#0, const_1000000)', 'add(3.7, 4.7), add(#0, 4.1), divide(#1, const_3)', 'divide(225.9, 2187.1)', 'divide(1290, 63014)', 'subtract(49, 30)', 'divide(28500, const_3)', 'subtract(1110.1, 1130.7)', 'divide(1940, 1291), subtract(#0, const_1)', 'add(17176475, 68211649), divide(17176475, #0)', 'divide(538479, 3607539)', 'table_min(allowance for other funds used during construction, none)', 'subtract(446.4, 403.7)', 'subtract(709, 845), divide(#0, 845)', 'multiply(5802673, 85.82), divide(#0, const_1000000)', 'subtract(959.2, 991.1), divide(-12.0, #0)', 'subtract(695.8, 310.4)', 'divide(48, 126)', 'subtract(0.8, 5.1)', 'subtract(703, 164)', 'divide(0.8, const_10)', 'add(670, 545)', 'subtract(348, 352)', 'add(5518, 732)', 'multiply(5943, 2)', 'divide(24658363, 380)', 'divide(264844, 409201)', 'divide(325, 2655)', 'subtract(62.15, 59.29)', 'add(432, 893)', 'divide(720, 161)', 'subtract(1014, 928)', 'add(1555, 28179), divide(1555, #0)', 'subtract(6, 5)', 'divide(600883, 329493)', 'subtract(181, 100), divide(1000000, 100), multiply(#1, #0)', 'multiply(12678, const_1000000), divide(#0, 36800)', 'divide(2381, 1072)', 'subtract(1639757, 1581297), divide(#0, 1581297)', 'add(22%, 27%), divide(#0, const_2)', 'table_average(pension expense, none)', 'divide(10255, 600725)', 'divide(182.0, 2126)', 'divide(2573, 4080)', 'subtract(1291500, 213707)', 'subtract(25.4, 15.6), divide(#0, 15.6)', 'subtract(47, 54), divide(#0, 54)', 'table_max(debt, none)', 'divide(23, 163)', 'divide(305619, 332612)', 'divide(3.6, const_5)', 'divide(2.25, 1.0)', 'multiply(1.1, const_1000), divide(#0, 5720)', 'subtract(46.24, 36.53), divide(#0, 36.53)', 'subtract(978.4, 998.7), divide(#0, 998.7)', 'add(2911, 42.0)', 'subtract(2.80, 2.38), divide(#0, 2.38)', 'divide(1601, 35%)', 'add(18289.0, 16285.1), add(#0, const_2), divide(#1, const_2)', 'add(92, 116), add(#0, 118), divide(#1, const_3)', 'subtract(1117.9, 1110.6)', 'add(379, 433), divide(379, #0), multiply(#1, const_100)', 'multiply(2.4, const_1000000), divide(#0, 7470)', 'divide(5271, 45821)', 'divide(1.8, 299.1)', 'subtract(63.59, 54.36), divide(#0, 54.36)', 'subtract(556, 426), divide(#0, 426)', 'multiply(2101604, 2.25%)', 'table_min(accounts receivable net, none)', 'subtract(230, 284)', 'add(1.58, 1.40), add(1.30, #0), add(#1, const_3), divide(#2, const_2)', 'divide(19.0, 75.3)', 'subtract(189.19, 100), divide(1, const_4), subtract(#1, 1), exp(#0, #2), subtract(#3, 1)', 'subtract(3086, 2923), divide(#0, 2923)', 'divide(115.80, 100), subtract(115.80, 100)', 'subtract(30824, 18178), divide(#0, 18178)', 'subtract(601, 990)', 'multiply(2055, 37%)', 'divide(11647, 20304)', 'subtract(20628, 18733), divide(#0, 18733)', 'add(1890.1, 1735.5)', 'multiply(2140511, 20.54), divide(#0, const_1000000)', 'subtract(100.2, 117.0), divide(#0, 117.0)', 'subtract(525, 593), divide(#0, 593)', 'subtract(1230000, 286424)', 'subtract(43, 33)', 'multiply(468128, 59.25), divide(#0, const_1000000)', 'add(484, 249), add(3725, 1927), divide(#0, #1)', 'multiply(40, const_1000000), divide(13804709, #0)', 'multiply(33035204, 100.24)', 'divide(1020, 134245)', 'divide(4000, 10831)', 'divide(7322, 15151)', 'subtract(175, 219), divide(#0, 219)', 'subtract(183.1, 267.1)', 'divide(233, 631)', 'subtract(3.47, 5.95), divide(#0, 5.95)', 'table_average(gasoline, none)', 'multiply(3680103, 179.32)', 'multiply(31.3, const_m1), subtract(#0, 121.5)', 'subtract(4014, 4105)', 'add(2.5, 2.7), add(#0, 2.4), add(1.7, #1)', 'subtract(9.6, 8.7), divide(#0, 8.7)', 'multiply(const_10000, 18.705)', 'subtract(18719, 17554)', 'subtract(319.10, const_100), divide(#0, const_100), subtract(180.75, const_100), divide(#2, const_100), subtract(#1, #3)', 'divide(17338, 108052)', 'subtract(9362.2, 9244.9), divide(#0, 9244.9)', 'add(1211, 524), divide(524, #0)', 'divide(96.9, 1735.5)', 'subtract(267.1, 339.9)', 'subtract(8.00%, 4.70%)', 'subtract(30.4, 27.6), divide(#0, 27.6)', 'subtract(208, 74), divide(#0, 74)', 'divide(874306, 2836519)', 'divide(133.5, 281.9)', 'add(192.3, 20.6), add(#0, 37.4), add(#1, 109.3)', 'divide(18086, 31561)', 'subtract(2015, 2000)', 'subtract(135.2, 95.7), divide(#0, 95.7)', 'subtract(6817, 6423), divide(#0, 6423)', 'divide(2, 36)', 'greater(265, 269)', 'subtract(7.84, 7.18), divide(#0, 7.18)', 'subtract(99.59, const_100), divide(#0, const_100), subtract(const_100, #1), multiply(100000, #2)', 'subtract(474.52, 100), subtract(269.45, 100), subtract(#0, #1)', 'subtract(-3.23, 2.43)', 'add(21, 14)', 'subtract(215.0, 227.3), divide(#0, 227.3)', 'divide(1063175, 5193185)', 'multiply(16000, 20%)', 'divide(264, 451)', 'subtract(35, 33)', 'add(145.5, 319.2), divide(319.2, #0)', 'add(53, 11)', 'divide(844, 936), add(#0, 1065), divide(#1, const_3)', 'subtract(1520.5, 1362.2), divide(#0, 1362.2)', 'subtract(57.89, 50.12)', 'divide(309000, 73000)', 'add(10282.8, 1263.3), divide(1263.3, #0)', 'divide(48, 156)', 'divide(375, 1352)', 'divide(18, 935)', 'divide(13.9, 29.3)', 'divide(400, 600)', 'divide(250000, 250000)', 'subtract(45296, 41895), divide(#0, 41895)', 'divide(2378.5, 13106.9)', 'table_sum(2019, none)', 'subtract(21.5, 9.0)', 'subtract(20.6, 26.9)', 'divide(5854930, 6685940)', 'subtract(32136, 19900)', 'multiply(5202219, 17.00)', 'divide(57312, 65658), subtract(const_1, #0)', 'subtract(440.9, 442.3), divide(7.5, #0)', 'subtract(998.7, 1095.9)', 'add(2200, 1647), multiply(#0, const_100), divide(#1, 70)', 'greater(83616, 65752)', 'divide(1447053, 283638)', 'subtract(156.89, const_100), divide(#0, const_100)', 'subtract(const_100, 5), multiply(#0, 18.12), divide(#1, const_100)', 'subtract(123715, 71336), divide(#0, 71336)', 'subtract(4.2, 218.8)', 'divide(1590, 3498)', 'subtract(10750000, 9931000)', 'divide(136, 163)', 'add(88.0, 110.9)', 'divide(2937, 3258)', 'add(1.5, 0.5), divide(0.7, #0), divide(#1, const_3)', 'divide(172, 1.16)', 'greater(106, 78)', 'greater(40, 24)', 'divide(1.1, 39%)', 'subtract(1502, 1577), divide(#0, 1577)', 'divide(3100, 10)', 'divide(919, 1573)', 'multiply(1424356, 33.90)', 'subtract(488, 338)', 'subtract(73.05, const_100), divide(#0, const_100)', 'subtract(16285.1, 14171.8), divide(#0, 14171.8)', 'divide(203.07, 167.49)', 'subtract(68, 83), divide(#0, 83)', 'divide(578, 1013)', 'multiply(250, 2.625%)', 'subtract(27920, 27489)', 'subtract(4.61, 4.84), divide(#0, 4.84)', 'subtract(5272, 4570), divide(#0, 4570)', 'add(92, 4), add(#0, 1), add(#1, 3)', 'subtract(17970, 16283)', 'divide(1.97, 2.16)', 'multiply(1.25, const_1000), divide(707, #0)', 'subtract(116, -54)', 'add(185, 35), divide(#0, const_2)', 'divide(92, 126)', 'subtract(391, 409), divide(#0, 409)', 'add(54000, 70000), add(49000, #0), add(#1, const_3), divide(#2, const_2)', 'subtract(const_100, 31.45), divide(#0, const_100)', 'subtract(813, 1240), divide(#0, 1240)', 'divide(178835, 914372)', 'divide(37415, const_5)', 'divide(271, 6205)', 'divide(3608, 14181)', 'subtract(1741, 1441), divide(#0, 1441)', 'add(67, 5), add(#0, 1), add(#1, 12)', 'add(1.5, 1.3), add(#0, 1.3)', 'subtract(570, 596)', 'divide(3408467, 12508023)', 'subtract(2043158, 1863870), divide(#0, 1863870)', 'subtract(11.6, 8.6), divide(#0, 8.6)', 'divide(23.4, 122.6)', 'divide(122, 179)', 'subtract(1558881, 419295), divide(#0, 419295)', 'divide(3534, 14517)', 'subtract(5117774, 2878673)', 'divide(9309, 17063)', 'divide(1271, 16069)', 'subtract(10.34, 12.32), divide(#0, 12.32)', 'divide(149432, 395007)', 'subtract(71.34, 54.12), divide(#0, 54.12)', 'subtract(57.4, 46.2), divide(#0, 57.4)', 'subtract(146.49, const_100)', 'subtract(213.14, const_100), subtract(150.51, const_100), subtract(#0, #1)', 'subtract(249, 233)', 'divide(4278.5, 125.0)', 'subtract(6144, 4894), divide(#0, 4894)', 'divide(9076, 11453)', 'add(3430, 1587), divide(3430, #0)', 'subtract(316, 322), divide(#0, 322)', 'subtract(5873, 4105)', 'divide(659631, 2139728)', 'subtract(871, 407)', 'divide(163, 10)', 'subtract(38, 34), divide(#0, 34)', 'subtract(677, 595), divide(#0, 595)', 'subtract(226, 113)', 'divide(7288, 9282)', 'subtract(5940, 6144), divide(#0, 6144)', 'subtract(613, 311), divide(#0, 613)', 'subtract(171.91, const_100)', 'add(-799, -4123), add(#0, 10919)', 'subtract(3.5, 3.0), divide(#0, 3.0)', 'add(3, 2), add(#0, 2)', 'subtract(1901, 1888), divide(#0, 1888)', 'subtract(8890, 761)', 'subtract(87, 68), divide(#0, 68)', 'divide(5.0, 1.5)', 'subtract(2880, 2595), divide(#0, 2595)', 'subtract(89, 83), divide(#0, 83)', 'divide(23, 79)', 'divide(34, 6630)', 'multiply(488622, 88.51)', 'divide(61, 935)', 'divide(600, 2938)', 'subtract(14239, 5241), divide(#0, 5241)', 'add(24087, 5572), subtract(24708, #0)', 'divide(3716, 13058)', 'divide(555, 8927)', 'subtract(185836, 183032), divide(#0, 183032)', 'divide(448, 610)', 'divide(126067, 225170)', 'subtract(18161, 9889), divide(#0, 9889)', 'subtract(1223, 2211)', 'divide(22290, 1471449)', 'divide(3005225, 9555180)', 'divide(5, 8)', 'add(34.7, 36.7), add(32.3, #0)', 'divide(45, 116)', 'subtract(2.4, 349), divide(349, #0)', 'subtract(834, 964)', 'subtract(971, 101)', 'subtract(-116, 36)', 'divide(636, 6700)', 'subtract(189, 201)', 'subtract(7008414, 2412467)', 'subtract(2.1, 2.2), divide(#0, 2.2)', 'subtract(41428, 41301), divide(#0, 41301)', 'divide(183, 2465)', 'divide(60578, 55688)', 'divide(38, 1120)', 'subtract(89, 78), divide(#0, 78)', 'divide(163, 3710)', 'divide(3.9, 6.0)', 'add(const_100, 5.9%), divide(1.4, #0)', 'divide(2718319, 9555180)', 'subtract(2162, 2253), divide(#0, 2253)', 'subtract(13.2, 13.1), divide(#0, 13.1)', 'subtract(1415, 699)', 'divide(600, 2732)', 'subtract(395240, 359829), divide(#0, 359829)', 'divide(3983, 13895)', 'divide(40, 10)', 'subtract(416.3, 413.4), divide(#0, 416.3)', 'divide(3539, 15235)', 'subtract(136, 110), divide(#0, 110)', 'subtract(2.12, 2.03)', 'divide(178.9, 37)', 'table_average(industry segment operating profits, none)', 'subtract(464, 472)', 'add(3430, 1587), divide(1587, #0)', 'divide(5728, 8927)', 'subtract(73, 36)', 'subtract(12.2, 12.5), divide(#0, 12.5)', 'divide(13, 26)', 'add(624, 686), add(#0, 747), divide(#1, const_3)', 'subtract(631, 619), divide(#0, 619)', 'divide(3810, 17118)', 'divide(706, 8906)', 'subtract(14143, 17970)', 'divide(700, 4960)', 'add(27.4, 18.6), add(#0, 12.2), add(#1, const_3), divide(#2, const_2)', 'add(110.4, 113.1), divide(#0, const_2)', 'subtract(113.52, const_100)', 'divide(264, 4170)', 'divide(41811, 96068)', 'divide(161, 3435)', 'add(602, 544), add(#0, 481), divide(#1, const_3)', 'subtract(735643, 728979)', 'divide(642, 1598)', 'subtract(97000, 36000)', 'divide(570, 5312)', 'divide(6766, 50861)', 'divide(1066, 13280)', 'divide(761, 867)', 'subtract(3234, 4070), divide(#0, 4070)', 'add(2, 2), add(#0, 1)', 'subtract(3460, 3153), divide(#0, 3153)', 'add(33712, 49387), add(#0, 9181)', 'divide(1147, 10430)', 'divide(268, 3170)', 'divide(3166, 18508)', 'divide(582, 4716)', 'divide(436, 548)', 'divide(728979, 593706), subtract(#0, const_1)', 'add(78, 87), add(#0, 38)', 'subtract(281.24, const_100)', 'subtract(36, -28)', 'subtract(4.27, 3.49)', 'divide(3104, 12908)', 'divide(6000, 21750)', 'subtract(235, 182)', 'multiply(3188, 43.46)', 'divide(16069, 16965)', 'subtract(5245, 374)', 'divide(140160, 267748)', 'add(2.31%, 1.75%), add(#0, 1.70%), add(#1, const_3), divide(#2, const_2)', 'divide(1800, 2732)', 'divide(-3789, 18500)', 'subtract(178, 165)', 'divide(2.5, 24)', 'divide(2787108, 7751987)', 'divide(45, 79)', 'subtract(1750, 1631), divide(#0, 1631)', 'add(700, 4960)', 'add(194.6, const_100)', 'divide(200, 400)', 'subtract(1917, 1415)', 'add(160000, 80000), add(#0, 70000), add(#1, 67000)', 'subtract(-36, -116)', 'subtract(825, 487), divide(#0, 487)', 'add(2649, 1079), divide(2649, #0)', 'subtract(65.33, 100), divide(#0, 100)', 'multiply(250.0, const_3), add(84.8, #0)', 'divide(57761, 91359)', 'add(89, 601), add(990, #0), add(#1, const_3), divide(#2, const_2)', 'divide(83, 118)', 'subtract(16890, 4590), divide(#0, 16890)', 'add(2.2, 1.2), divide(#0, const_2)', 'divide(1061, 836), subtract(#0, const_1)', 'add(17, 4), divide(#0, const_2)', 'add(766, 709), add(600, #0), divide(#1, const_3)', 'divide(14, 6)', 'add(5000000, 80068)', 'subtract(10831, 10038), divide(#0, 10038)', 'subtract(441, 451)', 'subtract(50.80, 43.29), divide(#0, 43.29)', 'divide(1333, 6823)', 'subtract(226, 151)', 'divide(11233, 14544)', 'subtract(3.75, 3.71), divide(#0, 3.75)', 'add(4241, 2441), divide(2441, #0)', 'add(3725, 1927), divide(3725, #0)', 'divide(600, 2749)', 'subtract(4.8, 5.0)', 'subtract(27.3, 23.5)', 'add(15398, 35708), add(#0, 20310)', 'subtract(2, 20)', 'divide(840, 7170)', 'subtract(20, 15), divide(#0, 15)', 'divide(205, 100)', 'subtract(163, 169)', 'divide(11, 129)', 'divide(476, 985)', 'add(3000, 4400), add(7700, #0)', 'subtract(81.21, 77.15), divide(#0, 77.15)', 'subtract(145, 88)', 'subtract(505, 509), divide(#0, 509)', 'divide(650, 2472)', 'add(896, 770), add(#0, 852), divide(#1, const_3)', 'divide(1854, 8290)', 'add(212702, 202537), add(#0, 193299)', 'subtract(108, 1688)', 'subtract(-54, -114)', 'add(2.0, 2.0), add(#0, 2.5), add(#1, const_3), divide(#2, const_2)', 'subtract(357, 339)', 'subtract(964, 895)', 'add(400, 400), add(410, #0)', 'divide(28, 417)', 'divide(4127, 23988)', 'multiply(1.1, const_1000), divide(#0, 3.3)', 'add(514000, 81000), add(#0, 70000), add(#1, 69000)', 'subtract(91.67, 35.01)', 'add(40.9, 33.7), add(#0, 32.8), divide(#1, const_3)', 'add(3710, 73)', 'subtract(618, 631), divide(#0, 631)', 'add(16965, 14143), add(#0, 17970), divide(#1, const_3)', 'add(154, 168), add(185, #0)', 'subtract(1186, 153), divide(#0, 153)', 'add(215000, 67000)', 'subtract(4.27, 3.49), divide(#0, 3.49)', 'subtract(14134, 10288), divide(#0, 14134)', 'add(5909, 1898), divide(1898, #0)', 'subtract(4570, 4664), divide(#0, 4664)', 'subtract(4126, 4197), divide(#0, 4197)', 'add(6.3, 5.2), add(#0, 3.9)', 'subtract(36, 52)', 'subtract(37.98, 100), divide(#0, 100)', 'add(5909, 1898), divide(5909, #0)', 'subtract(57265, 33201)', 'table_max(reductions for tax positions of prior years, none)', 'divide(5.2, 5.3)', 'divide(872, 6215)', 'divide(9126, 10799)', 'divide(35708, 15398)', 'divide(18508, 19557)', 'subtract(487, 516), divide(#0, 516)', 'subtract(509, 479), divide(#0, 479)', 'divide(344000, 43000)', 'divide(3165, 3523)', 'subtract(2308609, 1941055), divide(#0, 1941055)', 'subtract(18161, 195)', 'subtract(30, 0)', 'divide(1986078, 2626154)', 'subtract(2.25, 2.22), divide(#0, 2.25)', 'add(114000, 4472), add(37180, 81234), add(85963, #1), divide(#0, #2)', 'divide(44, 300)', 'add(300, 247), add(212, #0)', 'divide(3578241, 1471449)', 'subtract(1258, 1354)', 'divide(22, 12)', 'subtract(2085, 1382), divide(#0, 1382)', 'divide(36841, 249440)', 'subtract(21871, 12322), divide(#0, 21871), subtract(12322, 9078), divide(#2, 12322), add(#3, #1), divide(#4, const_2)', 'subtract(2200000, 2000)', 'divide(5303, 1833), subtract(#0, const_1)', 'divide(25.1, 17.5)', 'multiply(2, const_1000), divide(422, #0)', 'divide(1800, 2749)', 'table_max(operating profit, none), table_average(operating profit, none), subtract(#0, #1)', 'subtract(137.91, 34.60)', 'subtract(2894, 2492)', 'subtract(96.5, 4.7), divide(#0, 4.7)', 'divide(2441, 25763)', 'divide(1068414, 2139728)', 'divide(0.1, const_2)', 'subtract(376, 363), divide(#0, 363)', 'divide(636, 8906)', 'divide(6424582, 13949545)', 'subtract(78599, 57265)', 'divide(1151, 3188)', 'subtract(1888, 2078), divide(#0, 2078)', 'divide(1233672, 4903018)', 'subtract(1700, 1741), divide(#0, 1741)', 'table_max(operating profit, none)', 'subtract(1504, 2085), divide(#0, 2085)', 'subtract(157, 100)', 'divide(57.10, 4.74)', 'add(468, 723), add(#0, 690), add(#1, const_3), divide(#2, const_2)', 'subtract(4457, 4526)', 'divide(812, 789)', 'subtract(2403, 3677), divide(#0, 3677)', 'add(20.80, 21.40), add(#0, 22.90), add(#1, const_3), divide(#2, const_2)', 'add(11984, 10764), add(#0, 13900), divide(#1, const_3)', 'divide(80, 260)', 'subtract(2595, 2257), divide(#0, 2257)', 'subtract(-28, -422)', 'subtract(1310, 1345), divide(#0, 1345)', 'divide(6943, 51172)', 'subtract(199, 100), subtract(181, 100), subtract(#0, #1)', 'subtract(22, 13), divide(#0, 13)', 'add(5457, 1916), divide(1916, #0)', 'add(663, -1269), add(1215, #0)', 'divide(464, 7280)', 'divide(33633, 55719)', 'table_average(global cellulose fibers, none)', 'divide(87, 13)', 'subtract(142, 134), divide(#0, 134)', 'divide(750, 353)', 'add(1762, -578), add(#0, -4363)', 'subtract(10222, 14239), divide(#0, 14239)', 'divide(21, 126)', 'add(65, 5), add(#0, 1), add(#1, 11)', 'divide(777, 5275)', 'divide(3007951, 12508023)', 'divide(187, 1155)', 'divide(256172, 1828519)', 'subtract(4063, 4457)', 'divide(6, 89)', 'subtract(245.3, 203.5), divide(#0, 245.3)', 'divide(3978, 21963)', 'divide(5204, 21240)', 'subtract(515, 825), divide(#0, 825)', 'subtract(54.722, 45.462)', 'subtract(187799, 58440), divide(#0, 58440)', 'subtract(619, 639), divide(#0, 639)', 'add(5.5, 1.2), add(#0, 1.6)', 'add(1.6, 53.7)', 'subtract(376336, 377837), divide(#0, 377837)', 'divide(2281986, 20)', 'subtract(9877000, 25654000)', 'subtract(2.6, 2.6), divide(#0, 2.6)', 'subtract(4664, 4474), divide(#0, 4474)', 'divide(1105389, 6678985)', 'add(2.7, 46.2)', 'multiply(700.0, 4.750%)', 'subtract(59, 55), divide(#0, 55)', 'subtract(249, 233), divide(#0, 233)', 'divide(539, 354)', 'subtract(102, 90), divide(#0, 90)', 'divide(124, 181)', 'add(29535, 26674), add(#0, 3392), divide(#1, const_3)', 'divide(244, 1134)', 'subtract(18447, 9889), divide(#0, 9889)', 'divide(205838, 4120030)', 'divide(1700, 2472)', 'divide(1510, 18508)', 'add(514000, 81000), add(#0, 69000)', 'divide(1405535, 4934319)', 'divide(2005, 13833)', 'subtract(82, 107), divide(#0, 107)', 'divide(3685, 19837)', 'subtract(5.7, 6.2)', 'divide(2344, 7344)', 'divide(4.3, 19.1)', 'divide(2102, 13373)', 'subtract(1.8, 1.3), divide(#0, 1.3)', 'subtract(201, 228)', 'subtract(167, 231), divide(#0, 231)', 'subtract(5.2, 4.8)', 'subtract(199466, 149432), divide(#0, 149432)', 'divide(427, 853)', 'divide(33, 36)', 'divide(98, 143)', 'multiply(700.0, 4.750%), add(#0, 700.0)', 'subtract(92.3, 58.8), divide(#0, 58.8)', 'subtract(111, 89), divide(#0, 89)', 'subtract(6161, 5873)', 'divide(4241, 25763)', 'subtract(13, 16), divide(#0, 16)', 'subtract(34, 20), divide(#0, 20)', 'add(250, 133), add(168, #0)', 'divide(3043, 1355), multiply(#0, const_100)', 'subtract(108, 112)', 'add(134.5, 114.1), add(130.1, #0)', 'add(691, 687), add(665, #0), add(#1, const_3), divide(#2, const_2)', 'add(20.5, 11.7), add(21.5, 10.9), add(22.6, 13.9), add(#2, #0), add(#1, #3)', 'add(215, 231), add(205, #0)', 'multiply(14.8, 12%)', 'subtract(186, 177), divide(#0, 177)', 'divide(1082, 2030)', 'add(24087, 29554), subtract(24708, #0)', 'subtract(118, 145)', 'subtract(595, 528), divide(#0, 528)', 'divide(131, 90)', 'subtract(212, 189), divide(#0, 189)', 'divide(0.4, 2.5)', 'add(1464, 1096), add(943, #0), add(#1, const_3), divide(#2, const_2)', 'divide(2981, 11894)', 'subtract(9858000, 25661000)', 'subtract(17118, 16069), divide(#0, 17118), multiply(#1, const_100)', 'divide(2.16, 2.49)', 'subtract(110.41, const_100)', 'divide(545, 75)', 'divide(33249, 158489)', 'subtract(682, const_1000)', 'divide(246, 171)', 'divide(279, 180)', 'subtract(54.12, 43.64), divide(#0, 43.64)', 'divide(111408, 341214)', 'divide(67, 51)', 'add(const_100, 4.9%), divide(853.5, #0)', 'divide(896, 6989)', 'add(3624, 3297), add(2122, #0), add(#1, const_3), divide(#2, const_2)', 'subtract(4070, 3277), divide(#0, 3277)', 'add(5.6, 5.4), add(#0, 4.5)', 'add(12.20, 10.00), add(11.19, #0), add(#1, 12.05), add(#2, const_4), divide(#3, const_2)', 'add(1.25, 178.5), divide(178.5, #0)', 'subtract(1.1, 830), divide(#0, 830)', 'add(1.8, 4.6)', 'subtract(257, 212)', 'subtract(228, 102), divide(#0, 102)', 'subtract(1975971, 1976987), divide(#0, 1976987)', 'subtract(395007, 376336), divide(#0, 376336)', 'divide(2494, 17118)', 'divide(3494, 19686)', 'subtract(10038, 9983), divide(#0, 9983)', 'subtract(130.6, 23.4)', 'divide(525, 4528)', 'divide(1.05, 3.2)', 'subtract(29164, 13295), divide(#0, 13295)', 'multiply(3180678, 46.27)', 'add(2074, 1622), add(1703, #0)', 'divide(2744, 3832)', 'subtract(196545, 176675), divide(#0, 176675)', 'subtract(214, 178)', 'subtract(1833, 205)', 'add(const_1, 1.2), divide(#0, 1.7), divide(#1, const_3)', 'divide(3.7, 32)', 'subtract(3.71, 3.85)', 'subtract(4105, 3204)', 'divide(9715, 34804)', 'multiply(134, 10.88), divide(#0, const_1000)', 'divide(543, 6612)', 'divide(21, 8)', 'subtract(217, 908)', 'add(174, 352), add(#0, 112), add(#1, const_3), divide(#2, const_2)', 'divide(166, 306)', 'divide(1564, 38201)', 'divide(1877330, 7751987)', 'add(9978, 11212), subtract(#0, 526)', 'subtract(2.29, 1.75), divide(#0, 1.75)', 'subtract(3.71, 3.85), divide(#0, 3.85)', 'divide(239, 229)', 'subtract(1382, 1917)', 'subtract(2.6, 2.2), divide(#0, 2.2)', 'divide(84, 33)', 'divide(26629, 41811)', 'divide(2053, 22553)', 'subtract(121.41, const_100)', 'subtract(11400, 10500), divide(#0, 10500)', 'subtract(13.1, 12.8), divide(#0, 12.8)', 'divide(1879, 7525)', 'subtract(1211, 1062), divide(#0, 1062)', 'divide(1.7, 10.3)', 'subtract(596, 570)', 'add(2423, 2074), add(1622, #0), add(#1, const_3), divide(#2, const_2)', 'table_average(interest expense net, none)', 'multiply(2.7, 36.11)', 'add(-94, 60)', 'divide(7754, 17063)', 'add(8.3, 15.9), divide(#0, const_2)', 'add(62.3, 68.9)', 'divide(172, 2685)', 'subtract(6894, 6091), divide(#0, 6091)', 'add(380, 375), add(#0, 345), add(#1, const_3), divide(#2, const_2)', 'subtract(914372, 752706), divide(#0, 752706)', 'subtract(6810, 474), subtract(5680, 1091), subtract(#0, #1)', 'divide(591, 86)', 'subtract(135, 142), divide(#0, 142)', 'divide(73, 22)', 'divide(614, 3622)', 'divide(2.1, 175.1)', 'divide(12, 30)', 'add(3725, 1927), divide(1927, #0)', 'subtract(472, 473)', 'subtract(1688, 1732)', 'subtract(38201, 36637)', 'divide(3134, 15486)', 'add(5.9, 5.2), add(#0, 7.1)', 'divide(29838, 119144)', 'divide(781, 5354)', 'subtract(466, 476), divide(#0, 476)', 'divide(9090, 50861)', 'divide(489, 4528)', 'subtract(112, 54)', 'subtract(180.91, 100), divide(#0, 100)', 'subtract(317, 290), divide(#0, 317), multiply(#1, const_100)', 'multiply(4857, const_2), subtract(#0, 3805), subtract(#1, 1052), divide(#2, 1052)', 'subtract(98387, 90893), divide(#0, 90893)', 'divide(227400, 87397)', 'divide(7012, 51439)', 'subtract(244.64, 228.88), subtract(256.69, 196.06), divide(#0, 228.88), divide(#1, 196.06), subtract(#3, #2)', 'divide(3625, 18601)', 'divide(25998, 52835)', 'divide(31.2, 18)', 'subtract(813, 1240)', 'divide(6.147, 54.722)', 'add(5457, 1916), divide(5457, #0)', 'divide(2143, 14181)', 'subtract(136.26, 100), divide(#0, 100)', 'divide(488, 5312)', 'add(4590, 16890), add(4649, 4590), divide(#0, #1)', 'subtract(13.4, 12.2), divide(#0, 12.2)', 'subtract(37, 41), divide(#0, 41)', 'add(23.1, 24.1), add(26.3, 33.3), add(29.8, 26.5), add(#2, #0), add(#3, #1)', 'divide(7028, 1539)', 'divide(19796011, 255)', 'subtract(2220, 2544), divide(#0, 2544)', 'subtract(21.4, 10.9), divide(#0, 10.9), subtract(21.9, 21.5), divide(#2, 21.5), subtract(#1, #3)', 'divide(775, 6.4)', 'subtract(451, 453)', 'subtract(95, 90), divide(#0, 90)', 'add(3286, 3080), add(#0, 3352), divide(#1, const_3)', 'divide(1785, 1612)', 'subtract(85, 82), divide(#0, 82)', 'divide(107.3, 257.6)', 'add(2649, 1079), divide(1079, #0)', 'subtract(1436, 1310), divide(#0, 1310)', 'divide(5679, 22832)', 'subtract(1419, 1258)', 'add(1.6, 53.7), divide(1.6, #0)', 'add(2.0, 2.0), add(#0, 2.0), add(#1, const_3), divide(#2, const_2)', 'divide(1900, 2938)', 'subtract(2.3, 2.1), divide(#0, 2.1)', 'divide(4528, 25096)', 'divide(9046, 50753)', 'divide(5.2, 11.5)', 'divide(339, 367)', 'subtract(244323, 240479), divide(#0, 244323)', 'divide(12, 126)', 'subtract(631, 637), divide(#0, 637)', 'subtract(323, 326), divide(#0, 326)', 'subtract(476, 483), divide(#0, 483)', 'divide(99782, 2626154)', 'divide(444, 3855)', 'add(67, 6), add(#0, 1), add(#1, 15)', 'divide(274, 72)', 'divide(59, 453)', 'subtract(189, 201), divide(#0, 201)', 'multiply(2556557, 2182419), divide(#0, 2182419)', 'subtract(31376, 22825), divide(#0, 22825)', 'subtract(89, 93)', 'subtract(2713, 2470), divide(#0, 2470)', 'subtract(2253, 524), divide(#0, 524)', 'divide(599, 6230)', 'add(781, 776), divide(#0, 5354)', 'divide(6.2, 1.4)', 'subtract(4972, 4410)', 'divide(18, 126)', 'divide(2901167, 9699127)', 'Subtract', 'Compositional', 'None', 'Addition', 'Division', 'Multiplication', 'Subtraction']\n"
     ]
    }
   ],
   "source": [
    "unique_reason_types = combined_df['operation'].dropna().unique().tolist()\n",
    "print(unique_reason_types)"
   ]
  },
  {
   "cell_type": "code",
   "execution_count": null,
   "metadata": {},
   "outputs": [],
   "source": [
    "pd.reset_option(\"display.max_rows\")\n",
    "pd.reset_option(\"display.max_columns\")\n",
    "pd.reset_option(\"display.width\")\n",
    "pd.reset_option(\"display.max_colwidth\")"
   ]
  },
  {
   "cell_type": "code",
   "execution_count": null,
   "metadata": {},
   "outputs": [
    {
     "data": {
      "text/html": [
       "<div>\n",
       "<style scoped>\n",
       "    .dataframe tbody tr th:only-of-type {\n",
       "        vertical-align: middle;\n",
       "    }\n",
       "\n",
       "    .dataframe tbody tr th {\n",
       "        vertical-align: top;\n",
       "    }\n",
       "\n",
       "    .dataframe thead th {\n",
       "        text-align: right;\n",
       "    }\n",
       "</style>\n",
       "<table border=\"1\" class=\"dataframe\">\n",
       "  <thead>\n",
       "    <tr style=\"text-align: right;\">\n",
       "      <th></th>\n",
       "      <th>ID</th>\n",
       "      <th>question</th>\n",
       "      <th>answer</th>\n",
       "      <th>context</th>\n",
       "      <th>gold_context</th>\n",
       "      <th>operation</th>\n",
       "      <th>source</th>\n",
       "    </tr>\n",
       "  </thead>\n",
       "  <tbody>\n",
       "    <tr>\n",
       "      <th>11507</th>\n",
       "      <td>9826209b</td>\n",
       "      <td>Cboe's earnings impact from market data vs reg...</td>\n",
       "      <td>The data provided shows that Cboe Global Marke...</td>\n",
       "      <td>[North\\n\\n\\n\\n\\n\\n\\n\\n\\n\\n\\nCorporate\\n\\n\\n\\n\\...</td>\n",
       "      <td></td>\n",
       "      <td>None</td>\n",
       "      <td>FinDER</td>\n",
       "    </tr>\n",
       "    <tr>\n",
       "      <th>11508</th>\n",
       "      <td>30eb0cd9</td>\n",
       "      <td>Cboe’s repurchase costs &amp; the impact of its au...</td>\n",
       "      <td>The available data on share repurchase activit...</td>\n",
       "      <td>[In 2011, the Board of Directors approved an i...</td>\n",
       "      <td></td>\n",
       "      <td>None</td>\n",
       "      <td>FinDER</td>\n",
       "    </tr>\n",
       "    <tr>\n",
       "      <th>11509</th>\n",
       "      <td>1a4cebce</td>\n",
       "      <td>Cboe's operational stability, governance in cy...</td>\n",
       "      <td>Cboe Global Markets Inc.'s multi-layered cyber...</td>\n",
       "      <td>[We maintain policies, procedures and controls...</td>\n",
       "      <td></td>\n",
       "      <td>None</td>\n",
       "      <td>FinDER</td>\n",
       "    </tr>\n",
       "    <tr>\n",
       "      <th>11510</th>\n",
       "      <td>dd6f1e96</td>\n",
       "      <td>Fee model of Cboe incentivizes order flow liqu...</td>\n",
       "      <td>The provided text indicates that Cboe Global M...</td>\n",
       "      <td>[Competition\\n\\nThe industry in which we opera...</td>\n",
       "      <td></td>\n",
       "      <td>None</td>\n",
       "      <td>FinDER</td>\n",
       "    </tr>\n",
       "    <tr>\n",
       "      <th>11511</th>\n",
       "      <td>a8300795</td>\n",
       "      <td>Cboe's legal proceedings and loss accrual crit...</td>\n",
       "      <td>Cboe Global Markets Inc. categorizes its legal...</td>\n",
       "      <td>[Legal Proceedings\\n\\nAs of December 31, 2023,...</td>\n",
       "      <td></td>\n",
       "      <td>None</td>\n",
       "      <td>FinDER</td>\n",
       "    </tr>\n",
       "  </tbody>\n",
       "</table>\n",
       "</div>"
      ],
      "text/plain": [
       "             ID                                           question  \\\n",
       "11507  9826209b  Cboe's earnings impact from market data vs reg...   \n",
       "11508  30eb0cd9  Cboe’s repurchase costs & the impact of its au...   \n",
       "11509  1a4cebce  Cboe's operational stability, governance in cy...   \n",
       "11510  dd6f1e96  Fee model of Cboe incentivizes order flow liqu...   \n",
       "11511  a8300795  Cboe's legal proceedings and loss accrual crit...   \n",
       "\n",
       "                                                  answer  \\\n",
       "11507  The data provided shows that Cboe Global Marke...   \n",
       "11508  The available data on share repurchase activit...   \n",
       "11509  Cboe Global Markets Inc.'s multi-layered cyber...   \n",
       "11510  The provided text indicates that Cboe Global M...   \n",
       "11511  Cboe Global Markets Inc. categorizes its legal...   \n",
       "\n",
       "                                                 context gold_context  \\\n",
       "11507  [North\\n\\n\\n\\n\\n\\n\\n\\n\\n\\n\\nCorporate\\n\\n\\n\\n\\...                \n",
       "11508  [In 2011, the Board of Directors approved an i...                \n",
       "11509  [We maintain policies, procedures and controls...                \n",
       "11510  [Competition\\n\\nThe industry in which we opera...                \n",
       "11511  [Legal Proceedings\\n\\nAs of December 31, 2023,...                \n",
       "\n",
       "      operation  source  \n",
       "11507      None  FinDER  \n",
       "11508      None  FinDER  \n",
       "11509      None  FinDER  \n",
       "11510      None  FinDER  \n",
       "11511      None  FinDER  "
      ]
     },
     "execution_count": 94,
     "metadata": {},
     "output_type": "execute_result"
    }
   ],
   "source": [
    "df_reason_none = combined_df[combined_df['operation']==\"None\"]\n",
    "\n",
    "df_reason_none.head()"
   ]
  },
  {
   "cell_type": "code",
   "execution_count": 95,
   "metadata": {},
   "outputs": [
    {
     "name": "stdout",
     "output_type": "stream",
     "text": [
      "Minimum context size: 1\n",
      "Maximum context size: 16334\n"
     ]
    }
   ],
   "source": [
    "# Calculate the length of context_text for each row\n",
    "context_lengths = combined_df['context'].apply(len)\n",
    "\n",
    "# Find the minimum and maximum\n",
    "min_context = context_lengths.min()\n",
    "max_context = context_lengths.max()\n",
    "\n",
    "print(f\"Minimum context size: {min_context}\")\n",
    "print(f\"Maximum context size: {max_context}\")"
   ]
  },
  {
   "cell_type": "code",
   "execution_count": 96,
   "metadata": {},
   "outputs": [
    {
     "data": {
      "image/png": "[encoded data removed]",
      "text/plain": [
       "<Figure size 800x400 with 1 Axes>"
      ]
     },
     "metadata": {},
     "output_type": "display_data"
    }
   ],
   "source": [
    "# Calculate the length of context_text for each row\n",
    "context_lengths = combined_df['context'].apply(len)\n",
    "\n",
    "plt.figure(figsize=(8, 4))\n",
    "plt.hist(context_lengths, bins=50, edgecolor='black')\n",
    "plt.xlabel(\"Context length (number of segments in context_text)\")\n",
    "plt.ylabel(\"Number of samples\")\n",
    "plt.title(\"Distribution of context_text length in dataset\")\n",
    "plt.show()"
   ]
  },
  {
   "cell_type": "code",
   "execution_count": 97,
   "metadata": {},
   "outputs": [
    {
     "name": "stdout",
     "output_type": "stream",
     "text": [
      "             ID                                           question  \\\n",
      "11505  b33fcee7  Delta in CBOE Data & Access Solutions rev from...   \n",
      "11506  b8a1383c  CBOE CBA expiring may impact union representat...   \n",
      "11507  9826209b  Cboe's earnings impact from market data vs reg...   \n",
      "11508  30eb0cd9  Cboe’s repurchase costs & the impact of its au...   \n",
      "11509  1a4cebce  Cboe's operational stability, governance in cy...   \n",
      "\n",
      "                                                 context  \n",
      "11505  [Cboe Global Markets, Inc. and Subsidiaries\\n\\...  \n",
      "11506  [Employees\\n\\nAs of December 31, 2023, we empl...  \n",
      "11507  [North\\n\\n\\n\\n\\n\\n\\n\\n\\n\\n\\nCorporate\\n\\n\\n\\n\\...  \n",
      "11508  [In 2011, the Board of Directors approved an i...  \n",
      "11509  [We maintain policies, procedures and controls...  \n"
     ]
    }
   ],
   "source": [
    "# Filter rows where context length is 1\n",
    "short_context_df = combined_df[combined_df[\"context\"].apply(len) == 1]\n",
    "\n",
    "print(short_context_df.head(5)[[\"ID\", \"question\", \"context\"]])"
   ]
  },
  {
   "cell_type": "code",
   "execution_count": 98,
   "metadata": {},
   "outputs": [
    {
     "name": "stdout",
     "output_type": "stream",
     "text": [
      "(77, 2)\n"
     ]
    },
    {
     "data": {
      "text/html": [
       "<div>\n",
       "<style scoped>\n",
       "    .dataframe tbody tr th:only-of-type {\n",
       "        vertical-align: middle;\n",
       "    }\n",
       "\n",
       "    .dataframe tbody tr th {\n",
       "        vertical-align: top;\n",
       "    }\n",
       "\n",
       "    .dataframe thead th {\n",
       "        text-align: right;\n",
       "    }\n",
       "</style>\n",
       "<table border=\"1\" class=\"dataframe\">\n",
       "  <thead>\n",
       "    <tr style=\"text-align: right;\">\n",
       "      <th></th>\n",
       "      <th>question</th>\n",
       "      <th>answer</th>\n",
       "    </tr>\n",
       "  </thead>\n",
       "  <tbody>\n",
       "    <tr>\n",
       "      <th>21</th>\n",
       "      <td>what was the net notional amounts of purchases...</td>\n",
       "      <td>7</td>\n",
       "    </tr>\n",
       "    <tr>\n",
       "      <th>140</th>\n",
       "      <td>how much of the oil production is estimated to...</td>\n",
       "      <td>3</td>\n",
       "    </tr>\n",
       "    <tr>\n",
       "      <th>316</th>\n",
       "      <td>what was the ratio of the increase in the oper...</td>\n",
       "      <td>8</td>\n",
       "    </tr>\n",
       "    <tr>\n",
       "      <th>338</th>\n",
       "      <td>what is the liability for interest and penalti...</td>\n",
       "      <td>0</td>\n",
       "    </tr>\n",
       "    <tr>\n",
       "      <th>342</th>\n",
       "      <td>for 2001 what was the net change in aoci in mi...</td>\n",
       "      <td>2</td>\n",
       "    </tr>\n",
       "  </tbody>\n",
       "</table>\n",
       "</div>"
      ],
      "text/plain": [
       "                                              question answer\n",
       "21   what was the net notional amounts of purchases...      7\n",
       "140  how much of the oil production is estimated to...      3\n",
       "316  what was the ratio of the increase in the oper...      8\n",
       "338  what is the liability for interest and penalti...      0\n",
       "342  for 2001 what was the net change in aoci in mi...      2"
      ]
     },
     "execution_count": 98,
     "metadata": {},
     "output_type": "execute_result"
    }
   ],
   "source": [
    "# Calculate the length of each answer\n",
    "answer_lengths = combined_df['answer'].apply(lambda x: len(str(x)) if x is not None else 0)\n",
    "\n",
    "# Find the minimum answer length\n",
    "min_length = answer_lengths.min()\n",
    "\n",
    "# Filter the DataFrame for samples with the shortest answer\n",
    "shortest_answers_df = combined_df[answer_lengths == min_length]\n",
    "\n",
    "print(shortest_answers_df[['question', 'answer']].shape)\n",
    "shortest_answers_df[['question', 'answer']].head(5)"
   ]
  },
  {
   "cell_type": "code",
   "execution_count": 99,
   "metadata": {},
   "outputs": [
    {
     "name": "stdout",
     "output_type": "stream",
     "text": [
      "Number of samples with empty answers: 0\n"
     ]
    }
   ],
   "source": [
    "empty_answer_count = combined_df['answer'].apply(lambda x: x is None or (isinstance(x, str) and x.strip() == \"\")).sum()\n",
    "print(f\"Number of samples with empty answers: {empty_answer_count}\")"
   ]
  },
  {
   "cell_type": "code",
   "execution_count": 100,
   "metadata": {},
   "outputs": [
    {
     "data": {
      "text/plain": [
       "(17201, 7)"
      ]
     },
     "execution_count": 100,
     "metadata": {},
     "output_type": "execute_result"
    }
   ],
   "source": [
    "combined_df.shape"
   ]
  },
  {
   "cell_type": "code",
   "execution_count": 101,
   "metadata": {},
   "outputs": [
    {
     "name": "stdout",
     "output_type": "stream",
     "text": [
      "Number of samples with empty questions: 0\n"
     ]
    }
   ],
   "source": [
    "empty_question_count = combined_df['question'].apply(lambda x: x is None or (isinstance(x, str) and x.strip() == \"\")).sum()\n",
    "print(f\"Number of samples with empty questions: {empty_question_count}\")"
   ]
  },
  {
   "cell_type": "code",
   "execution_count": 103,
   "metadata": {},
   "outputs": [
    {
     "name": "stdout",
     "output_type": "stream",
     "text": [
      "source\n",
      "FinQA        6203\n",
      "FinDER       5696\n",
      "ConvFinQA    5302\n",
      "Name: count, dtype: int64\n"
     ]
    }
   ],
   "source": [
    "# number of samples per source\n",
    "print(combined_df['source'].value_counts())"
   ]
  },
  {
   "cell_type": "code",
   "execution_count": 122,
   "metadata": {},
   "outputs": [
    {
     "name": "stdout",
     "output_type": "stream",
     "text": [
      "Context Word Count Summary:\n",
      "count    17201.000000\n",
      "mean       597.092495\n",
      "std        368.435665\n",
      "min          1.000000\n",
      "25%        323.000000\n",
      "50%        612.000000\n",
      "75%        784.000000\n",
      "max       5263.000000\n",
      "Name: context_word_count, dtype: float64\n"
     ]
    },
    {
     "data": {
      "image/png": "[encoded data removed]",
      "text/plain": [
       "<Figure size 640x480 with 1 Axes>"
      ]
     },
     "metadata": {},
     "output_type": "display_data"
    }
   ],
   "source": [
    "# Compute word count of the gold_context\n",
    "combined_df['context_word_count'] = combined_df['context'].apply(lambda x: len(str(x).split()))\n",
    "\n",
    "\n",
    "print(\"Context Word Count Summary:\")\n",
    "print(combined_df['context_word_count'].describe())\n",
    "\n",
    "plt.hist(combined_df['context_word_count'], bins=30)\n",
    "plt.xlabel(\"Number of Words in gold_context\")\n",
    "plt.ylabel(\"Frequency\")\n",
    "plt.title(\"Distribution of gold_context Lengths (Word Count)\")\n",
    "plt.grid(True)\n",
    "plt.show()"
   ]
  },
  {
   "cell_type": "code",
   "execution_count": 123,
   "metadata": {},
   "outputs": [],
   "source": [
    "def check_short_gold_context(df, context_col=\"context_word_count\", source_col=\"source\", min_words=5):\n",
    "    \"\"\"\n",
    "    Checks for non-FinDER samples that have gold_context shorter than `min_words`.\n",
    "\n",
    "    Args:\n",
    "        df (pd.DataFrame): merged dataframe.\n",
    "        context_col (str): Column with word count of gold_context.\n",
    "        source_col (str): Column indicating the source dataset.\n",
    "        min_words (int): Threshold below which lengths are flagged.\n",
    "\n",
    "    Returns:\n",
    "        pd.DataFrame: Subset of suspicious rows.\n",
    "    \"\"\"\n",
    "    if context_col not in df.columns or source_col not in df.columns:\n",
    "        raise ValueError(f\"Columns '{context_col}' and/or '{source_col}' not found in dataframe.\")\n",
    "\n",
    "    # Ensure numeric for context lengths\n",
    "    df[context_col] = pd.to_numeric(df[context_col], errors=\"coerce\")\n",
    "\n",
    "    # Identify suspicious rows (non-FinDER with length < min_words)\n",
    "    suspicious = df[(df[source_col].str.lower() != \"finder\") & (df[context_col] < min_words)]\n",
    "\n",
    "    print(f\"Total suspicious samples: {len(suspicious)}\")\n",
    "    if len(suspicious) > 0:\n",
    "        print(\"Examples:\")\n",
    "        display(suspicious.head(10))\n",
    "\n",
    "    return suspicious\n"
   ]
  },
  {
   "cell_type": "code",
   "execution_count": 124,
   "metadata": {},
   "outputs": [
    {
     "name": "stdout",
     "output_type": "stream",
     "text": [
      "Total suspicious samples: 0\n"
     ]
    }
   ],
   "source": [
    "# Check for contexts shorter than 5 words (except FinDER, which has no gold_context)\n",
    "affected_rows = check_short_gold_context(combined_df, context_col=\"context_word_count\", source_col=\"source\", min_words=5)\n"
   ]
  },
  {
   "cell_type": "code",
   "execution_count": null,
   "metadata": {},
   "outputs": [],
   "source": [
    "# Save Merged DF\n",
    "combined_df.to_json(\"data/data_processed/merged_dataset.json\", orient=\"records\", lines=True)"
   ]
  },
  {
   "cell_type": "markdown",
   "metadata": {},
   "source": [
    "## 3. Splitting the dataset\n",
    "To assess the retrievers performance on task that highlight different aspects of a retriever we are performing label-stratified hierarchical splitting. This preserves the statistical power tor per-category metrics while guaranteeing no lexical overlap that ouwld inflate retrieval accuracy. <br>\n",
    "\n",
    "We define the following task-based labels to characterize the retrieval demands: <br>\n",
    "- Lookup - targets retrieval precision, requiring direct fact retrieval from a single passage \n",
    "- Complex query - it assess the retrievers performance on vague or ambiguous queries \n",
    "- Multi-turn - Measures contextual understanding, evaluting how well the retriever incoporates dialogue history in conversational settings \n",
    "\n",
    "In addition to these primary categories, we also consider whether a question requires numerical reasoning with more than one input. This flag allows us to isolate retrieval performance in settings where agggregated or compositional evidence is required. This aspect however will not be used controlling the split but for the subsequent evaluation. <br>\n",
    "\n",
    "Together, this labeling and splitting strategy ensures coverage across a meaningful spectrum of QA difficulty, grounded in the practical demands of financial document question answering. Stratified splitting ensures that each subset (train/test) reflects this diversity and preevnt data leakage. "
   ]
  },
  {
   "cell_type": "code",
   "execution_count": null,
   "metadata": {},
   "outputs": [
    {
     "name": "stderr",
     "output_type": "stream",
     "text": [
      "/var/folders/dn/6ts4tw3s5_771t7m76_gjlq40000gn/T/ipykernel_43948/372705307.py:31: UserWarning: This pattern is interpreted as a regular expression, and has match groups. To actually get the groups, use str.extract.\n",
      "  needs_numeric = op_series.str.lower().str.contains(OPS_REGEX)\n"
     ]
    },
    {
     "name": "stdout",
     "output_type": "stream",
     "text": [
      "Train: 5836 | Test: 5710 | Val: 0 | Unused remainder: 5655\n",
      "No group overlap across splits.\n",
      "\n",
      "Label distribution (proportions):\n",
      "                overall    train\n",
      "strat_label                     \n",
      "complex|num=1  0.674147  0.68026\n",
      "lookup|num=0   0.325853  0.31974\n",
      "                overall      test\n",
      "strat_label                      \n",
      "complex|num=1  0.674147  0.670403\n",
      "lookup|num=0   0.325853  0.329597\n"
     ]
    }
   ],
   "source": [
    "import re\n",
    "from sklearn.model_selection import StratifiedGroupKFold, GroupShuffleSplit\n",
    "\n",
    "# ---------- 0) Ensure required columns exist ----------\n",
    "df = combined_df.copy()\n",
    "\n",
    "if 'group_id' not in df.columns:\n",
    "    for cand in ['filename', 'ID', 'doc_id']:\n",
    "        if cand in df.columns:\n",
    "            df['group_id'] = df[cand].astype(str)\n",
    "            break\n",
    "    else:\n",
    "        raise ValueError(\"Need a 'group_id' (e.g., filename/ID) to prevent leakage.\")\n",
    "\n",
    "# ---------- 1) Build task_label and needs_numeric from 'operation' ----------\n",
    "# Normalize operation to string\n",
    "op_series = df.get('operation', pd.Series(\"\", index=df.index)).fillna(\"\").astype(str).str.strip()\n",
    "\n",
    "# definition of what counts as a numeric/compositional operation\n",
    "OPS_REGEX = re.compile(\n",
    "    r'\\b(add|plus|sum|total|subtract|minu?s|difference|minus|'\n",
    "    r'multipl(y|ication)|product|times|divide|division|ratio|avg|average|mean|median|'\n",
    "    r'max|min|greater\\s*than|less\\s*than|>=|<=|==|!=|and|or|count|percent|percentage)\\b'\n",
    ")\n",
    "\n",
    "# Heuristic 1: any arithmetic/logical op present → needs_numeric=1\n",
    "needs_numeric = op_series.str.lower().str.contains(OPS_REGEX)\n",
    "\n",
    "# Heuristic 2: multiple-step programs (comma-separated ops like \"op1(...), op2(...)\" or many '#k' refs)\n",
    "multi_steps = (\n",
    "    op_series.str.count(r'\\)\\s*,\\s*\\w+\\(') > 0  # op(...), op2(...)\n",
    ") | (\n",
    "    op_series.str.count(r'#\\d+') >= 2          # references to multiple intermediate results\n",
    ")\n",
    "\n",
    "needs_numeric = (needs_numeric | multi_steps).astype(int)\n",
    "\n",
    "# task_label: complex if needs_numeric else lookup\n",
    "df['needs_numeric'] = needs_numeric\n",
    "df['task_label'] = np.where(df['needs_numeric'].eq(1), 'complex', 'lookup')\n",
    "\n",
    "# ---------- 2) Build stratification label ----------\n",
    "df['strat_label'] = df['task_label'].astype(str) + \"|num=\" + df['needs_numeric'].astype(int).astype(str)\n",
    "\n",
    "# ---------- 3) Splitter helper ----------\n",
    "def stratified_group_split_once(X, y, groups, test_size=0.1, random_state=42):\n",
    "    n = len(X)\n",
    "    n_splits = max(2, int(round(1 / max(test_size, 1e-6))))\n",
    "    try:\n",
    "        sgkf = StratifiedGroupKFold(n_splits=n_splits, shuffle=True, random_state=random_state)\n",
    "        best_te, best_gap = None, 1e9\n",
    "        for tr, te in sgkf.split(X, y, groups):\n",
    "            gap = abs(len(te)/n - test_size)\n",
    "            if gap < best_gap:\n",
    "                best_te, best_gap = te, gap\n",
    "        mask = np.zeros(n, dtype=bool)\n",
    "        mask[best_te] = True\n",
    "        return mask\n",
    "    except Exception:\n",
    "        # Fallback: label-wise GroupShuffleSplit\n",
    "        rng = np.random.RandomState(random_state)\n",
    "        mask = np.zeros(n, dtype=bool)\n",
    "        y = np.asarray(y)\n",
    "        for lbl in np.unique(y):\n",
    "            sel = (y == lbl)\n",
    "            idx_lbl = np.flatnonzero(sel)\n",
    "            groups_lbl = groups[sel]\n",
    "            gss = GroupShuffleSplit(n_splits=1, test_size=test_size, random_state=rng.randint(0, 1_000_000))\n",
    "            _, te = next(gss.split(np.zeros(sel.sum()), groups=groups_lbl))\n",
    "            mask[idx_lbl[te]] = True\n",
    "        return mask\n",
    "\n",
    "# ---------- 4) Size: Train df, Test df  ----------\n",
    "TRAIN_FRAC = 0.70   \n",
    "TEST_FRAC  = 0.30   \n",
    "VAL_FRAC   = 0.00   \n",
    "\n",
    "RANDOM_STATE_TEST  = 42\n",
    "RANDOM_STATE_TRAIN = 123\n",
    "RANDOM_STATE_VAL   = 777\n",
    "\n",
    "# ---------- 5) TEST ----------\n",
    "X = df.index.to_numpy()\n",
    "y = df['strat_label'].to_numpy()\n",
    "g = df['group_id'].to_numpy()\n",
    "\n",
    "mask_test = stratified_group_split_once(X, y, g, test_size=TEST_FRAC, random_state=RANDOM_STATE_TEST)\n",
    "test_df   = df.loc[mask_test].copy()\n",
    "rest_df   = df.loc[~mask_test].copy()\n",
    "\n",
    "# ---------- 6) TRAIN ----------\n",
    "train_size_within_rest = TRAIN_FRAC / max(1 - TEST_FRAC, 1e-9)\n",
    "train_size_within_rest = min(max(train_size_within_rest, 0.0), 1.0)\n",
    "\n",
    "Xr, yr, gr = rest_df.index.to_numpy(), rest_df['strat_label'].to_numpy(), rest_df['group_id'].to_numpy()\n",
    "mask_train = stratified_group_split_once(Xr, yr, gr, test_size=train_size_within_rest, random_state=RANDOM_STATE_TRAIN)\n",
    "train_df = rest_df.loc[mask_train].copy()\n",
    "pool_df  = rest_df.loc[~mask_train].copy()\n",
    "\n",
    "# ---------- 7) In case VAL is needed ----------\n",
    "if VAL_FRAC > 0:\n",
    "    val_size_within_pool = VAL_FRAC / max(1 - TEST_FRAC - TRAIN_FRAC, 1e-9)\n",
    "    val_size_within_pool = min(max(val_size_within_pool, 0.0), 1.0)\n",
    "    Xp, yp, gp = pool_df.index.to_numpy(), pool_df['strat_label'].to_numpy(), pool_df['group_id'].to_numpy()\n",
    "    mask_val = stratified_group_split_once(Xp, yp, gp, test_size=val_size_within_pool, random_state=RANDOM_STATE_VAL)\n",
    "    val_df  = pool_df.loc[mask_val].copy()\n",
    "    hold_df = pool_df.loc[~mask_val].copy()\n",
    "else:\n",
    "    val_df  = df.iloc[0:0].copy()\n",
    "    hold_df = pool_df\n",
    "\n",
    "print(f\"Train: {len(train_df)} | Test: {len(test_df)} | Val: {len(val_df)} | Unused remainder: {len(hold_df)}\")\n",
    "\n",
    "# ---------- 8) Final checks ----------\n",
    "def check_group_leakage(parts, group_col='group_id'):\n",
    "    sets = {n: set(p[group_col]) for n, p in parts.items() if len(p)}\n",
    "    names = list(sets.keys())\n",
    "    for i in range(len(names)):\n",
    "        for j in range(i+1, len(names)):\n",
    "            a, b = names[i], names[j]\n",
    "            overlap = sets[a] & sets[b]\n",
    "            assert not overlap, f\"Group leakage between {a} and {b}: e.g., {list(overlap)[:5]}\"\n",
    "    print(\"No group overlap across splits.\")\n",
    "\n",
    "def check_label_balance(df_all, parts, label_col='strat_label'):\n",
    "    base = df_all[label_col].value_counts(normalize=True).rename('overall')\n",
    "    print(\"\\nLabel distribution (proportions):\")\n",
    "    for name, part in parts.items():\n",
    "        if len(part):\n",
    "            dist = part[label_col].value_counts(normalize=True).rename(name)\n",
    "            print(pd.concat([base, dist], axis=1).fillna(0).sort_index())\n",
    "\n",
    "check_group_leakage({'train': train_df, 'test': test_df, 'val': val_df}, 'group_id')\n",
    "check_label_balance(df, {'train': train_df, 'test': test_df, 'val': val_df}, 'strat_label')"
   ]
  },
  {
   "cell_type": "code",
   "execution_count": 111,
   "metadata": {},
   "outputs": [
    {
     "name": "stdout",
     "output_type": "stream",
     "text": [
      "Train: 5836, Val: 0, Test: 5710\n"
     ]
    }
   ],
   "source": [
    "print(f\"Train: {len(train_df)}, Val: {len(val_df)}, Test: {len(test_df)}\")"
   ]
  },
  {
   "cell_type": "code",
   "execution_count": 112,
   "metadata": {},
   "outputs": [
    {
     "name": "stdout",
     "output_type": "stream",
     "text": [
      "Train split distribution:\n",
      "source\n",
      "FinQA        0.360007\n",
      "FinDER       0.325565\n",
      "ConvFinQA    0.314428\n",
      "Name: proportion, dtype: float64\n",
      "source\n",
      "FinQA        2101\n",
      "FinDER       1900\n",
      "ConvFinQA    1835\n",
      "Name: count, dtype: int64\n",
      "\n",
      "Test split distribution:\n",
      "source\n",
      "FinQA        0.355342\n",
      "FinDER       0.332750\n",
      "ConvFinQA    0.311909\n",
      "Name: proportion, dtype: float64\n",
      "source\n",
      "FinQA        2029\n",
      "FinDER       1900\n",
      "ConvFinQA    1781\n",
      "Name: count, dtype: int64\n"
     ]
    }
   ],
   "source": [
    "print(\"Train split distribution:\")\n",
    "print(train_df['source'].value_counts(normalize=True))  \n",
    "print(train_df['source'].value_counts())               \n",
    "\n",
    "print(\"\\nTest split distribution:\")\n",
    "print(test_df['source'].value_counts(normalize=True))\n",
    "print(test_df['source'].value_counts())"
   ]
  },
  {
   "cell_type": "code",
   "execution_count": null,
   "metadata": {},
   "outputs": [],
   "source": [
    "train_df.to_json(\"data/data_processed/Train_Val_Test/df_train.json\", orient=\"records\")\n",
    "test_df.to_json(\"data/data_processed/Train_Val_Test/df_test.json\", orient=\"records\")"
   ]
  },
  {
   "cell_type": "code",
   "execution_count": null,
   "metadata": {},
   "outputs": [
    {
     "data": {
      "text/html": [
       "<div>\n",
       "<style scoped>\n",
       "    .dataframe tbody tr th:only-of-type {\n",
       "        vertical-align: middle;\n",
       "    }\n",
       "\n",
       "    .dataframe tbody tr th {\n",
       "        vertical-align: top;\n",
       "    }\n",
       "\n",
       "    .dataframe thead th {\n",
       "        text-align: right;\n",
       "    }\n",
       "</style>\n",
       "<table border=\"1\" class=\"dataframe\">\n",
       "  <thead>\n",
       "    <tr style=\"text-align: right;\">\n",
       "      <th></th>\n",
       "      <th>ID</th>\n",
       "      <th>question</th>\n",
       "      <th>answer</th>\n",
       "      <th>context</th>\n",
       "      <th>gold_context</th>\n",
       "      <th>operation</th>\n",
       "      <th>source</th>\n",
       "      <th>needs_numeric</th>\n",
       "      <th>group_id</th>\n",
       "      <th>task_label</th>\n",
       "      <th>strat_label</th>\n",
       "    </tr>\n",
       "  </thead>\n",
       "  <tbody>\n",
       "    <tr>\n",
       "      <th>0</th>\n",
       "      <td>AMT/2012/page_121.pdf</td>\n",
       "      <td>for acquired customer-related and network loca...</td>\n",
       "      <td>7.4</td>\n",
       "      <td>['american tower corporation and subsidiaries ...</td>\n",
       "      <td>{'text_0': 'american tower corporation and sub...</td>\n",
       "      <td>add(75.0, 72.7), divide(#0, 20)</td>\n",
       "      <td>FinQA</td>\n",
       "      <td>1</td>\n",
       "      <td>AMT/2012/page_121.pdf</td>\n",
       "      <td>complex</td>\n",
       "      <td>complex|num=1</td>\n",
       "    </tr>\n",
       "    <tr>\n",
       "      <th>1</th>\n",
       "      <td>GS/2014/page_47.pdf</td>\n",
       "      <td>in 2013 what percentage of total net revenues ...</td>\n",
       "      <td>28%</td>\n",
       "      <td>['management 2019s discussion and analysis inv...</td>\n",
       "      <td>{'table_2': '$ in millions the debt securities...</td>\n",
       "      <td>divide(1947, 7018)</td>\n",
       "      <td>FinQA</td>\n",
       "      <td>1</td>\n",
       "      <td>GS/2014/page_47.pdf</td>\n",
       "      <td>complex</td>\n",
       "      <td>complex|num=1</td>\n",
       "    </tr>\n",
       "    <tr>\n",
       "      <th>2</th>\n",
       "      <td>AAL/2014/page_89.pdf</td>\n",
       "      <td>what percentage of total reorganization items ...</td>\n",
       "      <td>65.6%</td>\n",
       "      <td>['table of contents interest expense , net of ...</td>\n",
       "      <td>{'table_1': 'the labor-related deemed claim ( ...</td>\n",
       "      <td>divide(1733, 2640)</td>\n",
       "      <td>FinQA</td>\n",
       "      <td>1</td>\n",
       "      <td>AAL/2014/page_89.pdf</td>\n",
       "      <td>complex</td>\n",
       "      <td>complex|num=1</td>\n",
       "    </tr>\n",
       "    <tr>\n",
       "      <th>3</th>\n",
       "      <td>GS/2014/page_134.pdf</td>\n",
       "      <td>in millions between 2014 and 2013 , what was t...</td>\n",
       "      <td>13588</td>\n",
       "      <td>['notes to consolidated financial statements d...</td>\n",
       "      <td>{'table_1': '$ in millions the net derivative ...</td>\n",
       "      <td>subtract(35764, 22176)</td>\n",
       "      <td>FinQA</td>\n",
       "      <td>1</td>\n",
       "      <td>GS/2014/page_134.pdf</td>\n",
       "      <td>complex</td>\n",
       "      <td>complex|num=1</td>\n",
       "    </tr>\n",
       "    <tr>\n",
       "      <th>4</th>\n",
       "      <td>STT/2012/page_42.pdf</td>\n",
       "      <td>what is the cumulative total shareholder retur...</td>\n",
       "      <td>56%</td>\n",
       "      <td>[\"shareholder return performance presentation ...</td>\n",
       "      <td>{'table_1': 'the state street corporation of 2...</td>\n",
       "      <td>divide(61, 109)</td>\n",
       "      <td>FinQA</td>\n",
       "      <td>1</td>\n",
       "      <td>STT/2012/page_42.pdf</td>\n",
       "      <td>complex</td>\n",
       "      <td>complex|num=1</td>\n",
       "    </tr>\n",
       "  </tbody>\n",
       "</table>\n",
       "</div>"
      ],
      "text/plain": [
       "                      ID                                           question  \\\n",
       "0  AMT/2012/page_121.pdf  for acquired customer-related and network loca...   \n",
       "1    GS/2014/page_47.pdf  in 2013 what percentage of total net revenues ...   \n",
       "2   AAL/2014/page_89.pdf  what percentage of total reorganization items ...   \n",
       "3   GS/2014/page_134.pdf  in millions between 2014 and 2013 , what was t...   \n",
       "4   STT/2012/page_42.pdf  what is the cumulative total shareholder retur...   \n",
       "\n",
       "  answer                                            context  \\\n",
       "0    7.4  ['american tower corporation and subsidiaries ...   \n",
       "1    28%  ['management 2019s discussion and analysis inv...   \n",
       "2  65.6%  ['table of contents interest expense , net of ...   \n",
       "3  13588  ['notes to consolidated financial statements d...   \n",
       "4    56%  [\"shareholder return performance presentation ...   \n",
       "\n",
       "                                        gold_context  \\\n",
       "0  {'text_0': 'american tower corporation and sub...   \n",
       "1  {'table_2': '$ in millions the debt securities...   \n",
       "2  {'table_1': 'the labor-related deemed claim ( ...   \n",
       "3  {'table_1': '$ in millions the net derivative ...   \n",
       "4  {'table_1': 'the state street corporation of 2...   \n",
       "\n",
       "                         operation source  needs_numeric  \\\n",
       "0  add(75.0, 72.7), divide(#0, 20)  FinQA              1   \n",
       "1               divide(1947, 7018)  FinQA              1   \n",
       "2               divide(1733, 2640)  FinQA              1   \n",
       "3           subtract(35764, 22176)  FinQA              1   \n",
       "4                  divide(61, 109)  FinQA              1   \n",
       "\n",
       "                group_id task_label    strat_label  \n",
       "0  AMT/2012/page_121.pdf    complex  complex|num=1  \n",
       "1    GS/2014/page_47.pdf    complex  complex|num=1  \n",
       "2   AAL/2014/page_89.pdf    complex  complex|num=1  \n",
       "3   GS/2014/page_134.pdf    complex  complex|num=1  \n",
       "4   STT/2012/page_42.pdf    complex  complex|num=1  "
      ]
     },
     "execution_count": 114,
     "metadata": {},
     "output_type": "execute_result"
    }
   ],
   "source": [
    "train_df = pd.DataFrame(json.load(open(\"data/data_processed/Train_Val_Test/df_train.json\")))\n",
    "train_df.head()"
   ]
  }
 ],
 "metadata": {
  "kernelspec": {
   "display_name": "venv (3.9.6)",
   "language": "python",
   "name": "python3"
  },
  "language_info": {
   "codemirror_mode": {
    "name": "ipython",
    "version": 3
   },
   "file_extension": ".py",
   "mimetype": "text/x-python",
   "name": "python",
   "nbconvert_exporter": "python",
   "pygments_lexer": "ipython3",
   "version": "3.9.6"
  }
 },
 "nbformat": 4,
 "nbformat_minor": 2
}
