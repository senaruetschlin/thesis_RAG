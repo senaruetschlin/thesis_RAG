{
 "cells": [
  {
   "cell_type": "markdown",
   "metadata": {},
   "source": [
    "## **Dataset Exploration***\n",
    "In the following we will analyse the dataset used for our research. This allows proper pre-processing and a sound research design enabling meaningful insights. \n",
    "The primary aim is to understand the structure of each dataset, which allows us to unify them to construct the final dataset, and to analyze the data distribution and characteristics, which enables efficient sampling. \n",
    "\n",
    "The dataset used for our research are: FinQA, ConFinQA, and FinDER.\n"
   ]
  },
  {
   "cell_type": "code",
   "execution_count": 1,
   "metadata": {},
   "outputs": [],
   "source": [
    "# import all relevant libraries\n",
    "import json\n",
    "import random\n",
    "import os\n",
    "import pandas as pd"
   ]
  },
  {
   "cell_type": "markdown",
   "metadata": {},
   "source": [
    "### **1. First Dataset Insepection**\n",
    "\n",
    "**Load and Inspect the Samples**"
   ]
  },
  {
   "cell_type": "code",
   "execution_count": 2,
   "metadata": {},
   "outputs": [],
   "source": [
    "# Import necessary libraries\n",
    "import sys\n",
    "sys.path.append('../src')\n",
    "import json\n",
    "from pathlib import Path\n",
    "# For better display in notebooks\n",
    "import pandas as pd\n",
    "pd.set_option('display.max_columns', None)\n",
    "pd.set_option('display.max_colwidth', None)"
   ]
  },
  {
   "cell_type": "markdown",
   "metadata": {},
   "source": [
    "#### FinQA"
   ]
  },
  {
   "cell_type": "code",
   "execution_count": 3,
   "metadata": {},
   "outputs": [
    {
     "name": "stdout",
     "output_type": "stream",
     "text": [
      "Loaded 6251 training examples\n",
      "Data type: <class 'list'>\n"
     ]
    }
   ],
   "source": [
    "import json\n",
    "from pathlib import Path\n",
    "\n",
    "finQA_train_file = Path(\"/Users/christel/Desktop/Thesis/thesis_repo/data/FinQA-main/dataset/train.json\")\n",
    "with open(finQA_train_file, 'r') as f:\n",
    "    finQA_train_data = json.load(f)\n",
    "\n",
    "print(f\"Loaded {len(finQA_train_data)} training examples\")\n",
    "print(f\"Data type: {type(finQA_train_data)}\")"
   ]
  },
  {
   "cell_type": "code",
   "execution_count": 4,
   "metadata": {},
   "outputs": [
    {
     "name": "stdout",
     "output_type": "stream",
     "text": [
      "Sample type: <class 'dict'>\n",
      "Sample keys: ['pre_text', 'post_text', 'filename', 'table_ori', 'table', 'qa', 'id', 'table_retrieved', 'text_retrieved', 'table_retrieved_all', 'text_retrieved_all']\n",
      "Number of keys: 11\n"
     ]
    }
   ],
   "source": [
    "# Inspect the structure of the first sample\n",
    "finQA_first_sample = finQA_train_data[0]\n",
    "print(f\"Sample type: {type(finQA_first_sample)}\")\n",
    "print(f\"Sample keys: {list(finQA_first_sample.keys())}\")\n",
    "print(f\"Number of keys: {len(finQA_first_sample.keys())}\")"
   ]
  },
  {
   "cell_type": "code",
   "execution_count": 5,
   "metadata": {},
   "outputs": [
    {
     "name": "stdout",
     "output_type": "stream",
     "text": [
      "{'pre_text': ['interest rate to a variable interest rate based on the three-month libor plus 2.05% ( 2.05 % ) ( 2.34% ( 2.34 % ) as of october 31 , 2009 ) .', 'if libor changes by 100 basis points , our annual interest expense would change by $ 3.8 million .', 'foreign currency exposure as more fully described in note 2i .', 'in the notes to consolidated financial statements contained in item 8 of this annual report on form 10-k , we regularly hedge our non-u.s .', 'dollar-based exposures by entering into forward foreign currency exchange contracts .', 'the terms of these contracts are for periods matching the duration of the underlying exposure and generally range from one month to twelve months .', 'currently , our largest foreign currency exposure is the euro , primarily because our european operations have the highest proportion of our local currency denominated expenses .', 'relative to foreign currency exposures existing at october 31 , 2009 and november 1 , 2008 , a 10% ( 10 % ) unfavorable movement in foreign currency exchange rates over the course of the year would not expose us to significant losses in earnings or cash flows because we hedge a high proportion of our year-end exposures against fluctuations in foreign currency exchange rates .', 'the market risk associated with our derivative instruments results from currency exchange rate or interest rate movements that are expected to offset the market risk of the underlying transactions , assets and liabilities being hedged .', 'the counterparties to the agreements relating to our foreign exchange instruments consist of a number of major international financial institutions with high credit ratings .', 'we do not believe that there is significant risk of nonperformance by these counterparties because we continually monitor the credit ratings of such counterparties .', 'while the contract or notional amounts of derivative financial instruments provide one measure of the volume of these transactions , they do not represent the amount of our exposure to credit risk .', 'the amounts potentially subject to credit risk ( arising from the possible inability of counterparties to meet the terms of their contracts ) are generally limited to the amounts , if any , by which the counterparties 2019 obligations under the contracts exceed our obligations to the counterparties .', 'the following table illustrates the effect that a 10% ( 10 % ) unfavorable or favorable movement in foreign currency exchange rates , relative to the u.s .', 'dollar , would have on the fair value of our forward exchange contracts as of october 31 , 2009 and november 1 , 2008: .'], 'post_text': ['fair value of forward exchange contracts after a 10% ( 10 % ) unfavorable movement in foreign currency exchange rates asset ( liability ) .', '.', '.', '.', '.', '.', '.', '.', '.', '$ 20132 $ ( 9457 ) fair value of forward exchange contracts after a 10% ( 10 % ) favorable movement in foreign currency exchange rates liability .', '.', '.', '.', '.', '.', '.', '.', '.', '.', '.', '.', '.', '.', '.', '.', '.', '.', '.', '.', '.', '.', '$ ( 6781 ) $ ( 38294 ) the calculation assumes that each exchange rate would change in the same direction relative to the u.s .', 'dollar .', 'in addition to the direct effects of changes in exchange rates , such changes typically affect the volume of sales or the foreign currency sales price as competitors 2019 products become more or less attractive .', 'our sensitivity analysis of the effects of changes in foreign currency exchange rates does not factor in a potential change in sales levels or local currency selling prices. .'], 'filename': 'ADI/2009/page_49.pdf', 'table_ori': [['', 'October 31, 2009', 'November 1, 2008'], ['Fair value of forward exchange contracts asset (liability)', '$6,427', '$(23,158)'], ['Fair value of forward exchange contracts after a 10% unfavorable movement in foreign currency exchange rates asset (liability)', '$20,132', '$(9,457)'], ['Fair value of forward exchange contracts after a 10% favorable movement in foreign currency exchange rates liability', '$(6,781)', '$(38,294)']], 'table': [['', 'october 31 2009', 'november 1 2008'], ['fair value of forward exchange contracts asset ( liability )', '$ 6427', '$ -23158 ( 23158 )'], ['fair value of forward exchange contracts after a 10% ( 10 % ) unfavorable movement in foreign currency exchange rates asset ( liability )', '$ 20132', '$ -9457 ( 9457 )'], ['fair value of forward exchange contracts after a 10% ( 10 % ) favorable movement in foreign currency exchange rates liability', '$ -6781 ( 6781 )', '$ -38294 ( 38294 )']], 'qa': {'question': 'what is the the interest expense in 2009?', 'answer': '380', 'explanation': '', 'ann_table_rows': [], 'ann_text_rows': [1], 'steps': [{'op': 'divide1-1', 'arg1': '100', 'arg2': '100', 'res': '1%'}, {'op': 'divide1-2', 'arg1': '3.8', 'arg2': '#0', 'res': '380'}], 'program': 'divide(100, 100), divide(3.8, #0)', 'gold_inds': {'text_1': 'if libor changes by 100 basis points , our annual interest expense would change by $ 3.8 million .'}, 'exe_ans': 3.8, 'tfidftopn': {'text_14': 'dollar , would have on the fair value of our forward exchange contracts as of october 31 , 2009 and november 1 , 2008: .', 'text_0': 'interest rate to a variable interest rate based on the three-month libor plus 2.05% ( 2.05 % ) ( 2.34% ( 2.34 % ) as of october 31 , 2009 ) .'}, 'program_re': 'divide(3.8, divide(100, 100))', 'model_input': [['text_0', 'interest rate to a variable interest rate based on the three-month libor plus 2.05% ( 2.05 % ) ( 2.34% ( 2.34 % ) as of october 31 , 2009 ) .'], ['text_1', 'if libor changes by 100 basis points , our annual interest expense would change by $ 3.8 million .'], ['text_14', 'dollar , would have on the fair value of our forward exchange contracts as of october 31 , 2009 and november 1 , 2008: .']]}, 'id': 'ADI/2009/page_49.pdf-1', 'table_retrieved': [{'score': -0.6207679510116577, 'ind': 'table_1'}, {'score': -0.8948984742164612, 'ind': 'table_2'}], 'text_retrieved': [{'score': 1.251369595527649, 'ind': 'text_1'}, {'score': 0.6589734554290771, 'ind': 'text_0'}, {'score': -0.1914736032485962, 'ind': 'text_14'}], 'table_retrieved_all': [{'score': -0.6207679510116577, 'ind': 'table_1'}, {'score': -0.8948984742164612, 'ind': 'table_2'}, {'score': -1.2129878997802734, 'ind': 'table_3'}, {'score': -2.9782934188842773, 'ind': 'table_0'}], 'text_retrieved_all': [{'score': 1.251369595527649, 'ind': 'text_1'}, {'score': 0.6589734554290771, 'ind': 'text_0'}, {'score': -0.1914736032485962, 'ind': 'text_14'}, {'score': -1.0945320129394531, 'ind': 'text_47'}, {'score': -1.4916260242462158, 'ind': 'text_24'}, {'score': -1.5615578889846802, 'ind': 'text_12'}, {'score': -1.572263479232788, 'ind': 'text_15'}, {'score': -1.6337369680404663, 'ind': 'text_5'}, {'score': -1.678298830986023, 'ind': 'text_3'}, {'score': -1.6905218362808228, 'ind': 'text_6'}, {'score': -1.9114893674850464, 'ind': 'text_46'}, {'score': -1.914547324180603, 'ind': 'text_7'}, {'score': -1.955027461051941, 'ind': 'text_8'}, {'score': -2.0304598808288574, 'ind': 'text_49'}, {'score': -2.0383174419403076, 'ind': 'text_13'}, {'score': -2.112241268157959, 'ind': 'text_10'}, {'score': -2.1439552307128906, 'ind': 'text_11'}, {'score': -2.2258567810058594, 'ind': 'text_4'}, {'score': -2.409395694732666, 'ind': 'text_48'}, {'score': -2.6092159748077393, 'ind': 'text_9'}, {'score': -2.6313436031341553, 'ind': 'text_2'}, {'score': -2.932347536087036, 'ind': 'text_16'}, {'score': -2.932347536087036, 'ind': 'text_17'}, {'score': -2.932347536087036, 'ind': 'text_18'}, {'score': -2.932347536087036, 'ind': 'text_19'}, {'score': -2.932347536087036, 'ind': 'text_20'}, {'score': -2.932347536087036, 'ind': 'text_21'}, {'score': -2.932347536087036, 'ind': 'text_22'}, {'score': -2.932347536087036, 'ind': 'text_23'}, {'score': -2.932347536087036, 'ind': 'text_25'}, {'score': -2.932347536087036, 'ind': 'text_26'}, {'score': -2.932347536087036, 'ind': 'text_27'}, {'score': -2.932347536087036, 'ind': 'text_28'}, {'score': -2.932347536087036, 'ind': 'text_29'}, {'score': -2.932347536087036, 'ind': 'text_30'}, {'score': -2.932347536087036, 'ind': 'text_31'}, {'score': -2.932347536087036, 'ind': 'text_32'}, {'score': -2.932347536087036, 'ind': 'text_33'}, {'score': -2.932347536087036, 'ind': 'text_34'}, {'score': -2.932347536087036, 'ind': 'text_35'}, {'score': -2.932347536087036, 'ind': 'text_36'}, {'score': -2.932347536087036, 'ind': 'text_37'}, {'score': -2.932347536087036, 'ind': 'text_38'}, {'score': -2.932347536087036, 'ind': 'text_39'}, {'score': -2.932347536087036, 'ind': 'text_40'}, {'score': -2.932347536087036, 'ind': 'text_41'}, {'score': -2.932347536087036, 'ind': 'text_42'}, {'score': -2.932347536087036, 'ind': 'text_43'}, {'score': -2.932347536087036, 'ind': 'text_44'}, {'score': -2.932347536087036, 'ind': 'text_45'}]}\n"
     ]
    }
   ],
   "source": [
    "print(finQA_first_sample)"
   ]
  },
  {
   "cell_type": "code",
   "execution_count": 6,
   "metadata": {},
   "outputs": [
    {
     "name": "stdout",
     "output_type": "stream",
     "text": [
      "\n",
      "📋 pre_text:\n",
      "   Type: list (length: 15)\n",
      "   First item type: <class 'str'>\n",
      "\n",
      "📋 post_text:\n",
      "   Type: list (length: 35)\n",
      "   First item type: <class 'str'>\n",
      "\n",
      "📋 filename:\n",
      "   Type: string (length: 20)\n",
      "   Preview: ADI/2009/page_49.pdf\n",
      "\n",
      "📋 table_ori:\n",
      "   Type: list (length: 4)\n",
      "   First item type: <class 'list'>\n",
      "\n",
      "📋 table:\n",
      "   Type: list (length: 4)\n",
      "   First item type: <class 'list'>\n",
      "\n",
      "📋 qa:\n",
      "   Type: dict (keys: ['question', 'answer', 'explanation', 'ann_table_rows', 'ann_text_rows', 'steps', 'program', 'gold_inds', 'exe_ans', 'tfidftopn', 'program_re', 'model_input'])\n",
      "\n",
      "📋 id:\n",
      "   Type: string (length: 22)\n",
      "   Preview: ADI/2009/page_49.pdf-1\n",
      "\n",
      "📋 table_retrieved:\n",
      "   Type: list (length: 2)\n",
      "   First item type: <class 'dict'>\n",
      "   First item keys: ['score', 'ind']\n",
      "\n",
      "📋 text_retrieved:\n",
      "   Type: list (length: 3)\n",
      "   First item type: <class 'dict'>\n",
      "   First item keys: ['score', 'ind']\n",
      "\n",
      "📋 table_retrieved_all:\n",
      "   Type: list (length: 4)\n",
      "   First item type: <class 'dict'>\n",
      "   First item keys: ['score', 'ind']\n",
      "\n",
      "📋 text_retrieved_all:\n",
      "   Type: list (length: 50)\n",
      "   First item type: <class 'dict'>\n",
      "   First item keys: ['score', 'ind']\n"
     ]
    }
   ],
   "source": [
    "# Detailed inspection of the first sample\n",
    "for key, value in finQA_first_sample.items():\n",
    "    print(f\"\\n📋 {key}:\")\n",
    "    if isinstance(value, str):\n",
    "        print(f\"   Type: string (length: {len(value)})\")\n",
    "        print(f\"   Preview: {value[:100]}{'...' if len(value) > 100 else ''}\")\n",
    "    elif isinstance(value, list):\n",
    "        print(f\"   Type: list (length: {len(value)})\")\n",
    "        if len(value) > 0:\n",
    "            print(f\"   First item type: {type(value[0])}\")\n",
    "            if isinstance(value[0], dict):\n",
    "                print(f\"   First item keys: {list(value[0].keys())}\")\n",
    "    elif isinstance(value, dict):\n",
    "        print(f\"   Type: dict (keys: {list(value.keys())})\")\n",
    "    else:\n",
    "        print(f\"   Type: {type(value)}\")\n",
    "        print(f\"   Value: {value}\")"
   ]
  },
  {
   "cell_type": "markdown",
   "metadata": {},
   "source": [
    "**FinQA: Each training example is a dictionary with 11 keys:** <br>\n",
    "\"pre_text\": the texts before the table; <br>\n",
    "\"post_text\": the text after the table;<br>\n",
    "\"filename\": name of the pdf file <br>\n",
    "\"table_ori\": The original version of the table, as extracted from the document, before any preprocessing or normalization.<br>\n",
    "\"table\": the table;<br>\n",
    "\"qa\": {<br>\n",
    "  \"question\": the question;<br>\n",
    "  \"answer\": The final numeric/textual answer to the question.<br>\n",
    "  \"explenation\": Optional human-written explanation for the answer (often empty in FinQA)<br>\n",
    "  \"ann_table_rows\": Indices of table rows that are annotated as relevant (if the answer comes from a table).<br>\n",
    "  \"ann_text_rows\": Indices of relevant text passages (e.g., [1] refers to text_1) from model_input.<br>\n",
    "  \"steps\" (\"op\": operation, \"arg1; arg2\": operands; \"res\": result of the operation:  The symbolic execution steps used to compute the answer.<br>\n",
    "  \"program\": the reasoning program;<br>\n",
    "  \"gold_inds\": the gold supporting facts;<br>\n",
    "  \"exe_ans\": the gold execution result;<br>\n",
    "  \"tfidftopn\": Top-n retrieved text chunks using TF-IDF baseline.<br>\n",
    "  \"program_re\": the reasoning program in nested format;<br>\n",
    "  \"model_input\": A list of text chunks (tuples of text ID and content) used as input to the model.<br>\n",
    "}<br>\n",
    "\"id\": unique example id. <br>\n",
    "\"table_retrieved\": A list of tables retrieved by a retriever model (e.g., BM25, DPR), each with a similarity score and ind (identifier).<br>\n",
    "\"text_retrieved\": A list of retrieved text passages (usually from pre_text + post_text), sorted by similarity score.<br>\n",
    "\"table_retrieved_all\": A complete list of table candidates along with their retrieval scores.<br>\n",
    "\"text_retrieved_all\": All candidate text chunks (with scores), potentially from the whole document, ranked by relevance.<br>"
   ]
  },
  {
   "cell_type": "markdown",
   "metadata": {},
   "source": [
    "#### ConvFinQA"
   ]
  },
  {
   "cell_type": "code",
   "execution_count": 7,
   "metadata": {},
   "outputs": [
    {
     "name": "stdout",
     "output_type": "stream",
     "text": [
      "['.DS_Store', 'LICENSE', 'code', 'README.md', 'data']\n"
     ]
    }
   ],
   "source": [
    "print(os.listdir(\"/Users/christel/Desktop/Thesis/thesis_repo/data/ConvFinQA-main\"))"
   ]
  },
  {
   "cell_type": "code",
   "execution_count": 8,
   "metadata": {},
   "outputs": [
    {
     "name": "stdout",
     "output_type": "stream",
     "text": [
      "Loaded 11104 training examples\n",
      "Data type: <class 'list'>\n"
     ]
    }
   ],
   "source": [
    "ConvfinQA_turn_train_file = Path(\"/Users/christel/Desktop/Thesis/thesis_repo/data/ConvFinQA-main/data/train_turn.json\")\n",
    "with open(ConvfinQA_turn_train_file, 'r') as f:\n",
    "    ConvfinQA_turn_train_data = json.load(f)\n",
    "\n",
    "print(f\"Loaded {len(ConvfinQA_turn_train_data)} training examples\")\n",
    "print(f\"Data type: {type(ConvfinQA_turn_train_data)}\")"
   ]
  },
  {
   "cell_type": "code",
   "execution_count": 9,
   "metadata": {},
   "outputs": [
    {
     "name": "stdout",
     "output_type": "stream",
     "text": [
      "Loaded 3037 training examples\n",
      "Data type: <class 'list'>\n"
     ]
    }
   ],
   "source": [
    "ConvfinQA_train_file = Path(\"/Users/christel/Desktop/Thesis/thesis_repo/data/ConvFinQA-main/data/train.json\")\n",
    "with open(ConvfinQA_train_file, 'r') as f:\n",
    "    ConvfinQA_train_data = json.load(f)\n",
    "\n",
    "print(f\"Loaded {len(ConvfinQA_train_data)} training examples\")\n",
    "print(f\"Data type: {type(ConvfinQA_train_data)}\")"
   ]
  },
  {
   "cell_type": "code",
   "execution_count": 10,
   "metadata": {},
   "outputs": [
    {
     "name": "stdout",
     "output_type": "stream",
     "text": [
      "\n",
      "Sample 0: Dialogue length = 4\n",
      "['what is the net cash from operating activities in 2009?', 'what about in 2008?', 'what is the difference?', 'what percentage change does this represent?']\n",
      "\n",
      "Sample 1: Dialogue length = 4\n",
      "['what is the net cash from operating activities in 2009?', 'what about in 2008?', 'what is the difference?', 'what percentage change does this represent?']\n",
      "\n",
      "Sample 2: Dialogue length = 4\n",
      "['what is the net cash from operating activities in 2009?', 'what about in 2008?', 'what is the difference?', 'what percentage change does this represent?']\n",
      "\n",
      "Sample 3: Dialogue length = 4\n",
      "['what is the net cash from operating activities in 2009?', 'what about in 2008?', 'what is the difference?', 'what percentage change does this represent?']\n",
      "\n",
      "Sample 4: Dialogue length = 4\n",
      "['what were revenues in 2008?', 'what were they in 2007?', 'what was the net change?', 'what is the percent change?']\n"
     ]
    }
   ],
   "source": [
    "for i, sample in enumerate(ConvfinQA_turn_train_data[:5]):\n",
    "    dialogue = sample.get(\"annotation\", {}).get(\"dialogue_break\", [])\n",
    "    print(f\"\\nSample {i}: Dialogue length = {len(dialogue)}\")\n",
    "    print(dialogue)\n"
   ]
  },
  {
   "cell_type": "code",
   "execution_count": 11,
   "metadata": {},
   "outputs": [
    {
     "name": "stdout",
     "output_type": "stream",
     "text": [
      "\n",
      "Sample 0: Dialogue length = 4\n",
      "['what is the net cash from operating activities in 2009?', 'what about in 2008?', 'what is the difference?', 'what percentage change does this represent?']\n",
      "\n",
      "Sample 1: Dialogue length = 4\n",
      "['what were revenues in 2008?', 'what were they in 2007?', 'what was the net change?', 'what is the percent change?']\n",
      "\n",
      "Sample 2: Dialogue length = 4\n",
      "['what was the total of net sales in 2001?', 'and what was that in 2000?', 'what was, then, the change in the total of net sales over the year?', 'and how much does this change represent in relation to that total in 2000, in percentage?']\n",
      "\n",
      "Sample 3: Dialogue length = 6\n",
      "['what was the change in the performance of the united parcel service inc . from 2004 to 2009?', 'and how much does this change represent in relation to that performance in 2004, in percentage?', 'what was the performance value of the s&p 500 index in 2009?', 'what was, then, the change in that performance from 2004 to 2009?', 'and how much does this change represent in relation to that performance in 2004, in percentage?', 'what is, then, the difference between the percent representation of the united parcel service inc . and the s&p 500 index?']\n",
      "\n",
      "Sample 4: Dialogue length = 7\n",
      "['what was the fluctuation of the performance price of the ups from 2004 to 2006?', 'and how much does this fluctuation represent in relation to that price in 2004?', 'and from this year to 2009, what was the fluctuation for that stock?', 'what is this fluctuation as a percentage of the 2004 price?', 'and for the s&p 500 index price, what was the fluctuation in those five years?', 'and what percentage does this fluctuation represent in relation to the 2004 price of this stock?', 'what is, then, the difference between the ups percentage and this s&p 500 index one, for this five year period?']\n"
     ]
    }
   ],
   "source": [
    "for i, sample in enumerate(ConvfinQA_train_data[:5]):\n",
    "    dialogue = sample.get(\"annotation\", {}).get(\"dialogue_break\", [])\n",
    "    print(f\"\\nSample {i}: Dialogue length = {len(dialogue)}\")\n",
    "    print(dialogue)"
   ]
  },
  {
   "cell_type": "markdown",
   "metadata": {},
   "source": [
    "**train.json (Conversation-Level Format):** <br>\n",
    "Each entry in this file represents a full multi-turn dialogue between a user and a system. It contains multiple interrelated QA pairs (dialogue_break) that often require the model to reason across dialogue history. This format is ideal for training and evaluating systems designed to handle conversational memory and context-aware reasoning.<br>\n",
    "**train_turn.json (Turn-Level Format):**<br>\n",
    "This version contains individual QA pairs, each treated as an independent training instance. While each turn includes metadata about the full dialogue (e.g., dialogue_break, turn_program), the structure is flattened to focus on single-turn question answering. It aligns closely with traditional QA datasets like FinQA and FinDER.<br>\n",
    "\n",
    "\n",
    "The evaluation requires a unified dataset format that:<br>\n",
    "\n",
    "- Ensures consistency across multiple QA datasets (FinQA, FinDER, ConvFinQA),\n",
    "- Supports scalable benchmarking without additional engineering overhead,\n",
    "- Enables clean input-output tracking across different RAG pipelines.<br>\n",
    "\n",
    "The turn-level format (train_turn.json) satisfies these requirements by providing structurally uniform, self-contained QA pairs that are directly comparable to FinQA and FinDER. This consistency allows for streamlined preprocessing, batching, and evaluation across all models and datasets.<br>\n",
    "\n",
    "Additionally, using the turn-level format avoids the added complexity of reconstructing dialogue context or implementing query-rewriting logic—an important consideration given the limited timeline of the project.<br>\n",
    "\n",
    "To still account for conversational realism, a small subset of context-dependent examples from train.json may be used in a complementary analysis, providing qualitative insights into retriever performance under dialogue-aware conditions.<br>"
   ]
  },
  {
   "cell_type": "code",
   "execution_count": 12,
   "metadata": {},
   "outputs": [
    {
     "name": "stdout",
     "output_type": "stream",
     "text": [
      "Sample type: <class 'dict'>\n",
      "Sample keys: ['pre_text', 'post_text', 'filename', 'table_ori', 'table', 'qa', 'id', 'annotation']\n",
      "Number of keys: 8\n"
     ]
    }
   ],
   "source": [
    "# Inspect the structure of the first sample\n",
    "ConvfinQA_first_sample = ConvfinQA_turn_train_data[0]\n",
    "print(f\"Sample type: {type(ConvfinQA_first_sample)}\")\n",
    "print(f\"Sample keys: {list(ConvfinQA_first_sample.keys())}\")\n",
    "print(f\"Number of keys: {len(ConvfinQA_first_sample.keys())}\")"
   ]
  },
  {
   "cell_type": "code",
   "execution_count": 13,
   "metadata": {},
   "outputs": [
    {
     "name": "stdout",
     "output_type": "stream",
     "text": [
      "{'pre_text': ['26 | 2009 annual report in fiscal 2008 , revenues in the credit union systems and services business segment increased 14% ( 14 % ) from fiscal 2007 .', 'all revenue components within the segment experienced growth during fiscal 2008 .', 'license revenue generated the largest dollar growth in revenue as episys ae , our flagship core processing system aimed at larger credit unions , experienced strong sales throughout the year .', 'support and service revenue , which is the largest component of total revenues for the credit union segment , experienced 34 percent growth in eft support and 10 percent growth in in-house support .', 'gross profit in this business segment increased $ 9344 in fiscal 2008 compared to fiscal 2007 , due primarily to the increase in license revenue , which carries the highest margins .', 'liquidity and capital resources we have historically generated positive cash flow from operations and have generally used funds generated from operations and short-term borrowings on our revolving credit facility to meet capital requirements .', 'we expect this trend to continue in the future .', 'the company 2019s cash and cash equivalents increased to $ 118251 at june 30 , 2009 from $ 65565 at june 30 , 2008 .', 'the following table summarizes net cash from operating activities in the statement of cash flows : 2009 2008 2007 .'], 'post_text': ['year ended june 30 , cash provided by operations increased $ 25587 to $ 206588 for the fiscal year ended june 30 , 2009 as compared to $ 181001 for the fiscal year ended june 30 , 2008 .', 'this increase is primarily attributable to a decrease in receivables compared to the same period a year ago of $ 21214 .', 'this decrease is largely the result of fiscal 2010 annual software maintenance billings being provided to customers earlier than in the prior year , which allowed more cash to be collected before the end of the fiscal year than in previous years .', 'further , we collected more cash overall related to revenues that will be recognized in subsequent periods in the current year than in fiscal 2008 .', 'cash used in investing activities for the fiscal year ended june 2009 was $ 59227 and includes $ 3027 in contingent consideration paid on prior years 2019 acquisitions .', 'cash used in investing activities for the fiscal year ended june 2008 was $ 102148 and includes payments for acquisitions of $ 48109 , plus $ 1215 in contingent consideration paid on prior years 2019 acquisitions .', 'capital expenditures for fiscal 2009 were $ 31562 compared to $ 31105 for fiscal 2008 .', 'cash used for software development in fiscal 2009 was $ 24684 compared to $ 23736 during the prior year .', 'net cash used in financing activities for the current fiscal year was $ 94675 and includes the repurchase of 3106 shares of our common stock for $ 58405 , the payment of dividends of $ 26903 and $ 13489 net repayment on our revolving credit facilities .', 'cash used in financing activities was partially offset by proceeds of $ 3773 from the exercise of stock options and the sale of common stock ( through the employee stock purchase plan ) and $ 348 excess tax benefits from stock option exercises .', 'during fiscal 2008 , net cash used in financing activities for the fiscal year was $ 101905 and includes the repurchase of 4200 shares of our common stock for $ 100996 , the payment of dividends of $ 24683 and $ 429 net repayment on our revolving credit facilities .', 'cash used in financing activities was partially offset by proceeds of $ 20394 from the exercise of stock options and the sale of common stock and $ 3809 excess tax benefits from stock option exercises .', 'beginning during fiscal 2008 , us financial markets and many of the largest us financial institutions have been shaken by negative developments in the home mortgage industry and the mortgage markets , and particularly the markets for subprime mortgage-backed securities .', 'since that time , these and other such developments have resulted in a broad , global economic downturn .', 'while we , as is the case with most companies , have experienced the effects of this downturn , we have not experienced any significant issues with our current collection efforts , and we believe that any future impact to our liquidity will be minimized by cash generated by recurring sources of revenue and due to our access to available lines of credit. .'], 'filename': 'JKHY/2009/page_28.pdf', 'table_ori': [['', 'Year ended June 30, 2009'], ['2008', '2007'], ['Net income', '$103,102', '$104,222', '$104,681'], ['Non-cash expenses', '74,397', '70,420', '56,348'], ['Change in receivables', '21,214', '(2,913)', '(28,853)'], ['Change in deferred revenue', '21,943', '5,100', '24,576'], ['Change in other assets and liabilities', '(14,068)', '4,172', '17,495'], ['Net cash from operating activities', '$206,588', '$181,001', '$174,247']], 'table': [['2008', 'year ended june 30 2009 2008', 'year ended june 30 2009 2008', 'year ended june 30 2009'], ['net income', '$ 103102', '$ 104222', '$ 104681'], ['non-cash expenses', '74397', '70420', '56348'], ['change in receivables', '21214', '-2913 ( 2913 )', '-28853 ( 28853 )'], ['change in deferred revenue', '21943', '5100', '24576'], ['change in other assets and liabilities', '-14068 ( 14068 )', '4172', '17495'], ['net cash from operating activities', '$ 206588', '$ 181001', '$ 174247']], 'qa': {'question': 'what was the percentage change in the net cash from operating activities from 2008 to 2009', 'answer': '14.1%', 'explanation': '', 'ann_table_rows': [6], 'ann_text_rows': [], 'steps': [{'op': 'minus2-1', 'arg1': '206588', 'arg2': '181001', 'res': '25587'}, {'op': 'divide2-2', 'arg1': '#0', 'arg2': '181001', 'res': '14.1%'}], 'program': 'subtract(206588, 181001), divide(#0, 181001)', 'gold_inds': {'table_6': '2008 the net cash from operating activities of year ended june 30 2009 2008 is $ 206588 ; the net cash from operating activities of year ended june 30 2009 2008 is $ 181001 ; the net cash from operating activities of year ended june 30 2009 is $ 174247 ;'}, 'exe_ans': 0.14136, 'program_re': 'divide(subtract(206588, 181001), 181001)'}, 'id': 'Single_JKHY/2009/page_28.pdf-3_0', 'annotation': {'amt_table': \"<table class='wikitable'><tr><td>1</td><td>2008</td><td>year ended june 30 2009 2008</td><td>year ended june 30 2009 2008</td><td>year ended june 30 2009</td></tr><tr><td>2</td><td>net income</td><td>$ 103102</td><td>$ 104222</td><td>$ 104681</td></tr><tr><td>3</td><td>non-cash expenses</td><td>74397</td><td>70420</td><td>56348</td></tr><tr><td>4</td><td>change in receivables</td><td>21214</td><td>-2913 ( 2913 )</td><td>-28853 ( 28853 )</td></tr><tr><td>5</td><td>change in deferred revenue</td><td>21943</td><td>5100</td><td>24576</td></tr><tr><td>6</td><td>change in other assets and liabilities</td><td>-14068 ( 14068 )</td><td>4172</td><td>17495</td></tr><tr><td>7</td><td>net cash from operating activities</td><td>$ 206588</td><td>$ 181001</td><td>$ 174247</td></tr></table>\", 'amt_pre_text': '26 | 2009 annual report in fiscal 2008 , revenues in the credit union systems and services business segment increased 14% ( 14 % ) from fiscal 2007 . all revenue components within the segment experienced growth during fiscal 2008 . license revenue generated the largest dollar growth in revenue as episys ae , our flagship core processing system aimed at larger credit unions , experienced strong sales throughout the year . support and service revenue , which is the largest component of total revenues for the credit union segment , experienced 34 percent growth in eft support and 10 percent growth in in-house support . gross profit in this business segment increased $ 9344 in fiscal 2008 compared to fiscal 2007 , due primarily to the increase in license revenue , which carries the highest margins . liquidity and capital resources we have historically generated positive cash flow from operations and have generally used funds generated from operations and short-term borrowings on our revolving credit facility to meet capital requirements . we expect this trend to continue in the future . the company 2019s cash and cash equivalents increased to $ 118251 at june 30 , 2009 from $ 65565 at june 30 , 2008 . the following table summarizes net cash from operating activities in the statement of cash flows : 2009 2008 2007 .', 'amt_post_text': 'year ended june 30 , cash provided by operations increased $ 25587 to $ 206588 for the fiscal year ended june 30 , 2009 as compared to $ 181001 for the fiscal year ended june 30 , 2008 . this increase is primarily attributable to a decrease in receivables compared to the same period a year ago of $ 21214 . this decrease is largely the result of fiscal 2010 annual software maintenance billings being provided to customers earlier than in the prior year , which allowed more cash to be collected before the end of the fiscal year than in previous years . further , we collected more cash overall related to revenues that will be recognized in subsequent periods in the current year than in fiscal 2008 . cash used in investing activities for the fiscal year ended june 2009 was $ 59227 and includes $ 3027 in contingent consideration paid on prior years 2019 acquisitions . cash used in investing activities for the fiscal year ended june 2008 was $ 102148 and includes payments for acquisitions of $ 48109 , plus $ 1215 in contingent consideration paid on prior years 2019 acquisitions . capital expenditures for fiscal 2009 were $ 31562 compared to $ 31105 for fiscal 2008 . cash used for software development in fiscal 2009 was $ 24684 compared to $ 23736 during the prior year . net cash used in financing activities for the current fiscal year was $ 94675 and includes the repurchase of 3106 shares of our common stock for $ 58405 , the payment of dividends of $ 26903 and $ 13489 net repayment on our revolving credit facilities . cash used in financing activities was partially offset by proceeds of $ 3773 from the exercise of stock options and the sale of common stock ( through the employee stock purchase plan ) and $ 348 excess tax benefits from stock option exercises . during fiscal 2008 , net cash used in financing activities for the fiscal year was $ 101905 and includes the repurchase of 4200 shares of our common stock for $ 100996 , the payment of dividends of $ 24683 and $ 429 net repayment on our revolving credit facilities . cash used in financing activities was partially offset by proceeds of $ 20394 from the exercise of stock options and the sale of common stock and $ 3809 excess tax benefits from stock option exercises . beginning during fiscal 2008 , us financial markets and many of the largest us financial institutions have been shaken by negative developments in the home mortgage industry and the mortgage markets , and particularly the markets for subprime mortgage-backed securities . since that time , these and other such developments have resulted in a broad , global economic downturn . while we , as is the case with most companies , have experienced the effects of this downturn , we have not experienced any significant issues with our current collection efforts , and we believe that any future impact to our liquidity will be minimized by cash generated by recurring sources of revenue and due to our access to available lines of credit. .', 'original_program': 'subtract(206588, 181001), divide(A0, 181001)', 'step_list': ['Ask for number 206588', 'Ask for number 181001', 'subtract(206588, 181001)', 'divide(A0, 181001)'], 'answer_list': ['206588', '181001', 'A0', 'A1'], 'dialogue_break': ['what is the net cash from operating activities in 2009?', 'what about in 2008?', 'what is the difference?', 'what percentage change does this represent?'], 'turn_program_ori': ['206588', '181001', 'subtract(206588, 181001)', 'subtract(206588, 181001), divide(#0, 181001)'], 'dialogue_break_ori': ['what is the net cash from operating activities in 2009?', 'what about in 2008?', 'what is the difference?', 'what percentage change does this represent?'], 'turn_program': ['206588', '181001', 'subtract(206588, 181001)', 'subtract(206588, 181001), divide(#0, 181001)'], 'qa_split': [0, 0, 0, 0], 'exe_ans_list': [206588.0, 181001.0, 25587.0, 0.14136], 'cur_program': '206588', 'cur_dial': ['what is the net cash from operating activities in 2009?'], 'exe_ans': 206588.0, 'cur_type': 'number_turn', 'turn_ind': 0, 'gold_ind': {'table_6': '2008 the net cash from operating activities of year ended june 30 2009 2008 is $ 206588 ; the net cash from operating activities of year ended june 30 2009 2008 is $ 181001 ; the net cash from operating activities of year ended june 30 2009 is $ 174247 ;'}}}\n"
     ]
    }
   ],
   "source": [
    "print(ConvfinQA_first_sample)"
   ]
  },
  {
   "cell_type": "code",
   "execution_count": 14,
   "metadata": {},
   "outputs": [
    {
     "name": "stdout",
     "output_type": "stream",
     "text": [
      "\n",
      "📋 pre_text:\n",
      "   Type: list (length: 9)\n",
      "   First item type: <class 'str'>\n",
      "\n",
      "📋 post_text:\n",
      "   Type: list (length: 15)\n",
      "   First item type: <class 'str'>\n",
      "\n",
      "📋 filename:\n",
      "   Type: string (length: 21)\n",
      "   Preview: JKHY/2009/page_28.pdf\n",
      "\n",
      "📋 table_ori:\n",
      "   Type: list (length: 8)\n",
      "   First item type: <class 'list'>\n",
      "\n",
      "📋 table:\n",
      "   Type: list (length: 7)\n",
      "   First item type: <class 'list'>\n",
      "\n",
      "📋 qa:\n",
      "   Type: dict (keys: ['question', 'answer', 'explanation', 'ann_table_rows', 'ann_text_rows', 'steps', 'program', 'gold_inds', 'exe_ans', 'program_re'])\n",
      "\n",
      "📋 id:\n",
      "   Type: string (length: 32)\n",
      "   Preview: Single_JKHY/2009/page_28.pdf-3_0\n",
      "\n",
      "📋 annotation:\n",
      "   Type: dict (keys: ['amt_table', 'amt_pre_text', 'amt_post_text', 'original_program', 'step_list', 'answer_list', 'dialogue_break', 'turn_program_ori', 'dialogue_break_ori', 'turn_program', 'qa_split', 'exe_ans_list', 'cur_program', 'cur_dial', 'exe_ans', 'cur_type', 'turn_ind', 'gold_ind'])\n"
     ]
    }
   ],
   "source": [
    "# Detailed inspection of the first sample\n",
    "for key, value in ConvfinQA_first_sample.items():\n",
    "    print(f\"\\n📋 {key}:\")\n",
    "    if isinstance(value, str):\n",
    "        print(f\"   Type: string (length: {len(value)})\")\n",
    "        print(f\"   Preview: {value[:100]}{'...' if len(value) > 100 else ''}\")\n",
    "    elif isinstance(value, list):\n",
    "        print(f\"   Type: list (length: {len(value)})\")\n",
    "        if len(value) > 0:\n",
    "            print(f\"   First item type: {type(value[0])}\")\n",
    "            if isinstance(value[0], dict):\n",
    "                print(f\"   First item keys: {list(value[0].keys())}\")\n",
    "    elif isinstance(value, dict):\n",
    "        print(f\"   Type: dict (keys: {list(value.keys())})\")\n",
    "    else:\n",
    "        print(f\"   Type: {type(value)}\")\n",
    "        print(f\"   Value: {value}\")"
   ]
  },
  {
   "cell_type": "markdown",
   "metadata": {},
   "source": [
    "**ConvFinQA: Each training example is a dictionary with 8 keys:** <br>\n",
    "\"pre_text\": the texts before the table; <br>\n",
    "\"post_text\": the text after the table;<br>\n",
    "\"filename\": name of the pdf file <br>\n",
    "\"table_ori\": The original version of the table, as extracted from the document, before any preprocessing or normalization.<br>\n",
    "\"table\": the table;<br>\n",
    "\"qa\": {<br>\n",
    "  \"question\": the question;<br>\n",
    "  \"answer\": The final numeric/textual answer to the question.<br>\n",
    "  \"ann_table_rows\": Indices of table rows that are annotated as relevant (if the answer comes from a table).<br>\n",
    "  \"ann_text_rows\": Indices of relevant text passages (e.g., [1] refers to text_1) from model_input.<br>\n",
    "  \"steps\" (\"op\": operation, \"arg1; arg2\": operands; \"res\": result of the operation:  The symbolic execution steps used to compute the answer.<br>\n",
    "  \"program\": the reasoning program;<br>\n",
    "  \"gold_inds\": the gold supporting facts;<br>\n",
    "  \"exe_ans\": the execution results of each question turn. ;<br>\n",
    "}<br>\n",
    "\"id\": unique example id. <br>\n",
    "\"annotation\": {<br>\n",
    "  \"original_program\": original FinQA question;<br>\n",
    "  \"dialogue_break\": the conversation, as a list of question turns. <br>\n",
    "  \"turn_program\": the ground truth program for each question, corresponding to the list in \"dialogue_break\".<br>\n",
    "  \"cur_pogram\":Current program for this turn.<br>\n",
    "  \"cur_dial\":Current dialogue turn.<br>\n",
    "  \"gold_ind\": Highlighted content for evidence.<br>\n",
    "  \"turn_ind\": Index of this turn in the full dialogue.<br>\n",
    "  \"exe_ans_list\": the execution results of each question turn. <br>\n",
    "}<br>"
   ]
  },
  {
   "cell_type": "markdown",
   "metadata": {},
   "source": [
    "#### FinDER"
   ]
  },
  {
   "cell_type": "code",
   "execution_count": 15,
   "metadata": {},
   "outputs": [
    {
     "name": "stdout",
     "output_type": "stream",
     "text": [
      "Loaded 5703 training examples\n",
      "Data type: <class 'list'>\n"
     ]
    }
   ],
   "source": [
    "import json\n",
    "from pathlib import Path\n",
    "\n",
    "finder_train_file = Path(\"/Users/christel/Desktop/Thesis/thesis_repo/data/FinDER/train.jsonl\")\n",
    "finder_train_data = []\n",
    "with open(finder_train_file, 'r') as f:\n",
    "    for line in f:\n",
    "        finder_train_data.append(json.loads(line))\n",
    "\n",
    "print(f\"Loaded {len(finder_train_data)} training examples\")\n",
    "print(f\"Data type: {type(finder_train_data)}\")"
   ]
  },
  {
   "cell_type": "code",
   "execution_count": 16,
   "metadata": {},
   "outputs": [
    {
     "name": "stdout",
     "output_type": "stream",
     "text": [
      "Sample type: <class 'dict'>\n",
      "Sample keys: ['_id', 'text', 'reasoning', 'category', 'references', 'answer', 'type']\n",
      "Number of keys: 7\n"
     ]
    }
   ],
   "source": [
    "# Inspect the structure of the first sample\n",
    "finder_first_sample = finder_train_data[0]\n",
    "print(f\"Sample type: {type(finder_first_sample)}\")\n",
    "print(f\"Sample keys: {list(finder_first_sample.keys())}\")\n",
    "print(f\"Number of keys: {len(finder_first_sample.keys())}\")"
   ]
  },
  {
   "cell_type": "code",
   "execution_count": 17,
   "metadata": {},
   "outputs": [
    {
     "name": "stdout",
     "output_type": "stream",
     "text": [
      "{'_id': 'b33fcee7', 'text': 'Delta in CBOE Data & Access Solutions rev from 2021-23.', 'reasoning': True, 'category': 'Financials', 'references': ['Cboe Global Markets, Inc. and Subsidiaries\\n\\nConsolidated Statements of Income\\n\\nYears ended December 31, 2023, 2022, and 2021\\n\\n(In millions, except per share data)\\n\\n\\n\\n\\n\\n\\n\\n\\n\\n\\n\\n\\n\\n\\n    \\n\\n2023\\n\\n    \\n\\n2022\\n\\n    \\n\\n2021\\n\\n \\n\\nRevenues:\\n\\n\\n\\n\\n\\n\\n\\n\\n\\n\\n\\nCash and spot markets\\n\\n\\n$\\n\\n1,445.1\\n\\n\\n$\\n\\n1,777.6\\n\\n\\n$\\n\\n1,660.5\\n\\n\\nData and access solutions\\n\\n\\n\\n539.2\\n\\n\\n\\n497.0\\n\\n\\n\\n427.7\\n\\n\\nDerivatives markets\\n\\n\\n \\n\\n1,789.2\\n\\n\\n \\n\\n1,683.9\\n\\n\\n \\n\\n1,406.6\\n\\n\\nTotal revenues\\n\\n\\n \\n\\n3,773.5\\n\\n\\n \\n\\n3,958.5\\n\\n\\n \\n\\n3,494.8\\n\\n\\nCost of revenues:\\n\\n\\n\\n\\n\\n\\n\\n\\n\\n\\n\\n  Liquidity payments\\n\\n\\n \\n\\n1,385.8\\n\\n\\n \\n\\n1,670.2\\n\\n\\n \\n\\n1,650.7\\n\\n\\n  Routing and clearing\\n\\n\\n\\n79.1\\n\\n\\n\\n83.2\\n\\n\\n\\n87.8\\n\\n\\n  Section 31 fees\\n\\n\\n\\n185.7\\n\\n\\n\\n329.8\\n\\n\\n\\n179.6\\n\\n\\n  Royalty fees and other cost of revenues\\n\\n\\n \\n\\n204.9\\n\\n\\n \\n\\n133.6\\n\\n\\n \\n\\n100.6\\n\\n\\nTotal cost of revenues\\n\\n\\n \\n\\n1,855.5\\n\\n\\n \\n\\n2,216.8\\n\\n\\n \\n\\n2,018.7\\n\\n\\nRevenues less cost of revenues\\n\\n\\n \\n\\n1,918.0\\n\\n\\n \\n\\n1,741.7\\n\\n\\n \\n\\n1,476.1\\n\\n\\nOperating expenses:\\n\\n\\n\\n\\n\\n\\n\\n\\n\\n\\n\\n  Compensation and benefits\\n\\n\\n \\n\\n425.8\\n\\n\\n \\n\\n363.0\\n\\n\\n \\n\\n288.5\\n\\n\\n  Depreciation and amortization\\n\\n\\n \\n\\n158.0\\n\\n\\n \\n\\n166.8\\n\\n\\n \\n\\n167.4\\n\\n\\n  Technology support services\\n\\n\\n \\n\\n99.7\\n\\n\\n \\n\\n77.7\\n\\n\\n \\n\\n66.7\\n\\n\\n  Professional fees and outside services\\n\\n\\n \\n\\n92.0\\n\\n\\n \\n\\n89.0\\n\\n\\n \\n\\n83.7\\n\\n\\n  Travel and promotional expenses\\n\\n\\n \\n\\n37.6\\n\\n\\n \\n\\n23.7\\n\\n\\n \\n\\n9.7\\n\\n\\n  Facilities costs\\n\\n\\n \\n\\n25.7\\n\\n\\n \\n\\n25.1\\n\\n\\n \\n\\n22.2\\n\\n\\n  Acquisition-related costs\\n\\n\\n \\n\\n7.4\\n\\n\\n \\n\\n19.9\\n\\n\\n \\n\\n15.6\\n\\n\\n  Goodwill impairment\\n\\n\\n\\n—\\n\\n\\n\\n460.9\\n\\n\\n\\n—\\n\\n\\n  Other expenses\\n\\n\\n\\n13.9\\n\\n\\n\\n26.0\\n\\n\\n\\n16.4\\n\\n\\nTotal operating expenses\\n\\n\\n \\n\\n860.1\\n\\n\\n \\n\\n1,252.1\\n\\n\\n \\n\\n670.2\\n\\n\\nOperating income\\n\\n\\n \\n\\n1,057.9\\n\\n\\n \\n\\n489.6\\n\\n\\n \\n\\n805.9\\n\\n\\nNon-operating (expenses) income:\\n\\n\\n\\n\\n\\n\\n\\n\\n\\n\\n\\nInterest expense\\n\\n\\n \\n\\n(62.4)\\n\\n\\n\\n(60.0)\\n\\n\\n\\n(48.0)\\n\\n\\nInterest income\\n\\n\\n\\n12.0\\n\\n\\n\\n3.6\\n\\n\\n\\n0.6\\n\\n\\nEarnings in investments\\n\\n\\n\\n39.5\\n\\n\\n\\n7.2\\n\\n\\n\\n1.0\\n\\n\\nOther income (expense), net\\n\\n\\n \\n\\n0.6\\n\\n\\n \\n\\n(7.5)\\n\\n\\n \\n\\n(3.4)\\n\\n\\nIncome before income tax provision\\n\\n\\n \\n\\n1,047.6\\n\\n\\n \\n\\n432.9\\n\\n\\n \\n\\n756.1\\n\\n\\nIncome tax provision\\n\\n\\n \\n\\n286.2\\n\\n\\n \\n\\n197.9\\n\\n\\n \\n\\n227.1\\n\\n\\nNet income\\n\\n\\n\\n761.4\\n\\n\\n\\n235.0\\n\\n\\n\\n529.0\\n\\n\\nNet income allocated to participating securities\\n\\n\\n\\n(3.9)\\n\\n\\n\\n(0.9)\\n\\n\\n\\n(1.7)\\n\\n\\nNet income allocated to common stockholders\\n\\n\\n$\\n\\n757.5\\n\\n\\n$\\n\\n234.1\\n\\n\\n$\\n\\n527.3\\n\\n\\nBasic earnings per share\\n\\n\\n$\\n\\n7.16\\n\\n\\n$\\n\\n2.20\\n\\n\\n$\\n\\n4.93\\n\\n\\nDiluted earnings per share\\n\\n\\n$\\n\\n7.13\\n\\n\\n$\\n\\n2.19\\n\\n\\n$\\n\\n4.92\\n\\n\\n\\n\\n\\n\\n\\n\\n\\n\\n\\n\\n\\nBasic weighted average shares outstanding\\n\\n\\n\\n105.8\\n\\n\\n\\n106.3\\n\\n\\n\\n107.0\\n\\n\\nDiluted weighted average shares outstanding\\n\\n\\n\\n106.2\\n\\n\\n\\n106.7\\n\\n\\n\\n107.2'], 'answer': 'The Data and Access Solutions revenue increased by $111.5 million from 2021 to 2023, calculated as 539.2 million minus 427.7 million.', 'type': 'Subtract'}\n"
     ]
    }
   ],
   "source": [
    "print(finder_train_data[0])"
   ]
  },
  {
   "cell_type": "code",
   "execution_count": 18,
   "metadata": {},
   "outputs": [
    {
     "name": "stdout",
     "output_type": "stream",
     "text": [
      "\n",
      "📋 _id:\n",
      "   Type: string (length: 8)\n",
      "   Preview: b33fcee7\n",
      "\n",
      "📋 text:\n",
      "   Type: string (length: 55)\n",
      "   Preview: Delta in CBOE Data & Access Solutions rev from 2021-23.\n",
      "\n",
      "📋 reasoning:\n",
      "   Type: <class 'bool'>\n",
      "   Value: True\n",
      "\n",
      "📋 category:\n",
      "   Type: string (length: 10)\n",
      "   Preview: Financials\n",
      "\n",
      "📋 references:\n",
      "   Type: list (length: 1)\n",
      "   First item type: <class 'str'>\n",
      "\n",
      "📋 answer:\n",
      "   Type: string (length: 133)\n",
      "   Preview: The Data and Access Solutions revenue increased by $111.5 million from 2021 to 2023, calculated as 5...\n",
      "\n",
      "📋 type:\n",
      "   Type: string (length: 8)\n",
      "   Preview: Subtract\n"
     ]
    }
   ],
   "source": [
    "# Detailed inspection of the first sample\n",
    "for key, value in finder_first_sample.items():\n",
    "    print(f\"\\n📋 {key}:\")\n",
    "    if isinstance(value, str):\n",
    "        print(f\"   Type: string (length: {len(value)})\")\n",
    "        print(f\"   Preview: {value[:100]}{'...' if len(value) > 100 else ''}\")\n",
    "    elif isinstance(value, list):\n",
    "        print(f\"   Type: list (length: {len(value)})\")\n",
    "        if len(value) > 0:\n",
    "            print(f\"   First item type: {type(value[0])}\")\n",
    "            if isinstance(value[0], dict):\n",
    "                print(f\"   First item keys: {list(value[0].keys())}\")\n",
    "    elif isinstance(value, dict):\n",
    "        print(f\"   Type: dict (keys: {list(value.keys())})\")\n",
    "    else:\n",
    "        print(f\"   Type: {type(value)}\")\n",
    "        print(f\"   Value: {value}\")"
   ]
  },
  {
   "cell_type": "markdown",
   "metadata": {},
   "source": [
    "**FinDER: Each training example is a dictionary with 7 keys:** <br>\n",
    "\"id\": unique identifier.<br>\n",
    "\"text\": query that the model is expected to answer.<br>\n",
    "\"reasoning\": ndicates whether the question requires reasoning (e.g. logical inference, arithmetic operations) rather than simple lookup. true = reasoning required.<br>\n",
    "\"category\": The semantic category of the question (e.g., Financials, Company overview, Footnotes, etc.).<br>\n",
    "\"references\": The source text passages (e.g., extracted from tables or footnotes) that the model should consider when answering the question. <br>\n",
    "\"answer\": The reference answer that the model should produce.<br>\n",
    "\"types\": Indicates the type of reasoning required to arrive at the answer. <br>"
   ]
  },
  {
   "cell_type": "markdown",
   "metadata": {},
   "source": [
    "\n",
    "### **2. Construct the final dataset**<br>\n",
    "Since the original datasets are of varying structures we will in the following create a canonical schema to avoid confounds and log identical signals across runs. It'll contain only the fields that are relevant for retrieval, answer checking , and analysis. The goal is to construct a dataset where each row can be fed straight into the each of the RAG models with no dataset-specific branches. <br>\n",
    "\n",
    "\n",
    "\n",
    "The final dataset has the following structure: <br>\n",
    "\n",
    "{\n",
    "  \"qid\"          : \"string\",     // dataset-prefix + original id <br>\n",
    "  \"dataset\"      : \"FinQA | ConvFinQA | FinDER\",<br>\n",
    "  \"question\"     : \"string\",<br>\n",
    "  \"answer\"       : \"string\",     // canonicalised (see §4)<br>\n",
    "  \"context_text\" : [\"string\"],   // list of text passages (sentences or 100-token chunks)<br>\n",
    "  \"context_table\": [[\"string\"]], // normalised table (may be [])<br>\n",
    "  \"reasoning\"    : true|false,   // FinDER field → others: len(steps)>1<br>\n",
    "  \"reason_type\"  : \"string|null\",// FinDER.type or Conv/FinQA program tag<br>\n",
    "  \"gold_text_id\" : [\"string\"],   // evidence indices, empty if not provided<br>\n",
    "  \"gold_table_row\":[int],        // ^ <br>\n",
    "  \"meta\"         : { ... }       // any extra fields you still need<br>\n",
    "}"
   ]
  },
  {
   "cell_type": "markdown",
   "metadata": {},
   "source": [
    "#### **2.1 Normalize datasets**\n",
    "\n",
    "2.1.1 FinQA\n",
    "\n",
    "We sentence-split each pre_text/post_text, then concatenate adjacent sentences until the segment is ≤ 100 BPE tokens. This follows best practice in prior RAG work (Lewis 2020; Izacard 2021) and balances retrieval precision with embedding quality."
   ]
  },
  {
   "cell_type": "code",
   "execution_count": 19,
   "metadata": {},
   "outputs": [],
   "source": [
    "# pre-process finqa with the function in data_utils.py\n",
    "\n",
    "import json\n",
    "import random\n",
    "from pathlib import Path\n",
    "from data_utils import preprocess_finqa_dataset\n",
    "\n",
    "\n"
   ]
  },
  {
   "cell_type": "code",
   "execution_count": 20,
   "metadata": {},
   "outputs": [
    {
     "name": "stdout",
     "output_type": "stream",
     "text": [
      "Successfully processed 6251 FinQA samples\n",
      "Sample structure: ['qid', 'dataset', 'question', 'answer', 'context_text', 'context_table', 'reasoning', 'reason_type', 'gold_text_id', 'gold_table_row', 'meta']\n",
      "\n",
      "📊 First processed sample:\n",
      "  qid: FinQA_ADI/2009/page_49.pdf-1\n",
      "  dataset: FinQA\n",
      "  question: what is the the interest expense in 2009?\n",
      "  answer: 380\n",
      "  context_text: 8 text segments\n",
      "    First segment: interest rate to a variable interest rate based on the three-month libor plus 2.05% ( 2.05 % ) ( 2.3...\n",
      "  context_table: 4 table rows\n",
      "  reasoning: True\n",
      "  reason_type: divide1-1\n",
      "  gold_text_id: ['text_1']\n",
      "  gold_table_row: []\n",
      "  meta: ['tfidftopn', 'table_retrieved', 'text_retrieved']\n",
      "\n",
      "📈 Dataset Statistics:\n",
      "  Total samples: 6251\n",
      "  Reasoning samples: 2534 (40.5%)\n",
      "  Non-reasoning samples: 3717\n",
      "\n",
      "🔍 Reason Type Distribution:\n",
      "  divide1-1: 1264 samples\n",
      "  minus1-1: 1236 samples\n",
      "  minus2-1: 1148 samples\n",
      "  divide2-1: 1042 samples\n",
      "  add1-1: 463 samples\n",
      "  add2-1: 414 samples\n",
      "  multiply1-1: 179 samples\n",
      "  multiply2-1: 171 samples\n",
      "  compare_larger2-1: 57 samples\n",
      "  compare_larger1-1: 53 samples\n"
     ]
    }
   ],
   "source": [
    "# pre-process the finqa dataset\n",
    "finqa_processed = preprocess_finqa_dataset(finQA_train_data)\n",
    "\n",
    "# Analysis of the processed data\n",
    "print(f\"Successfully processed {len(finqa_processed)} FinQA samples\")\n",
    "print(f\"Sample structure: {list(finqa_processed[0].keys())}\")\n",
    "\n",
    "# Show first processed sample\n",
    "print(\"\\n📊 First processed sample:\")\n",
    "first_processed = finqa_processed[0]\n",
    "for key, value in first_processed.items():\n",
    "    if key == 'context_text':\n",
    "        print(f\"  {key}: {len(value)} text segments\")\n",
    "        print(f\"    First segment: {value[0][:100]}...\")\n",
    "    elif key == 'context_table':\n",
    "        print(f\"  {key}: {len(value)} table rows\")\n",
    "    elif key == 'meta':\n",
    "        print(f\"  {key}: {list(value.keys())}\")\n",
    "    else:\n",
    "        print(f\"  {key}: {value}\")\n",
    "\n",
    "# Dataset statistics\n",
    "reasoning_count = sum(1 for sample in finqa_processed if sample['reasoning'])\n",
    "print(f\"\\n📈 Dataset Statistics:\")\n",
    "print(f\"  Total samples: {len(finqa_processed)}\")\n",
    "print(f\"  Reasoning samples: {reasoning_count} ({reasoning_count/len(finqa_processed)*100:.1f}%)\")\n",
    "print(f\"  Non-reasoning samples: {len(finqa_processed) - reasoning_count}\")\n",
    "\n",
    "# Reason type distribution\n",
    "reason_types = {}\n",
    "for sample in finqa_processed:\n",
    "    reason_type = sample.get('reason_type')\n",
    "    if reason_type:\n",
    "        reason_types[reason_type] = reason_types.get(reason_type, 0) + 1\n",
    "\n",
    "print(f\"\\n🔍 Reason Type Distribution:\")\n",
    "for reason_type, count in sorted(reason_types.items(), key=lambda x: x[1], reverse=True)[:10]:\n",
    "    print(f\"  {reason_type}: {count} samples\")"
   ]
  },
  {
   "cell_type": "code",
   "execution_count": 21,
   "metadata": {},
   "outputs": [],
   "source": [
    "from data_utils import preprocess_convinqa_dataset_simple"
   ]
  },
  {
   "cell_type": "code",
   "execution_count": 22,
   "metadata": {},
   "outputs": [
    {
     "name": "stdout",
     "output_type": "stream",
     "text": [
      "3642\n"
     ]
    }
   ],
   "source": [
    "# count samples without qa\n",
    "count = 0\n",
    "for i, sample in enumerate(ConvfinQA_turn_train_data):\n",
    "    if \"qa\" not in sample:\n",
    "        count += 1\n",
    "print(count)\n"
   ]
  },
  {
   "cell_type": "code",
   "execution_count": 23,
   "metadata": {},
   "outputs": [
    {
     "name": "stdout",
     "output_type": "stream",
     "text": [
      "Filtered dataset size: 7462\n"
     ]
    }
   ],
   "source": [
    "# drop samples without qa\n",
    "filtered_data = [s for s in ConvfinQA_turn_train_data if \"qa\" in s]\n",
    "print(f\"Filtered dataset size: {len(filtered_data)}\")"
   ]
  },
  {
   "cell_type": "code",
   "execution_count": 24,
   "metadata": {},
   "outputs": [
    {
     "name": "stdout",
     "output_type": "stream",
     "text": [
      "Successfully processed 7462 ConvFinQA samples\n",
      "Sample structure: ['qid', 'dataset', 'question', 'answer', 'context_text', 'context_table', 'reasoning', 'reason_type', 'gold_text_id', 'gold_table_row', 'meta']\n",
      "\n",
      "📊 First processed sample:\n",
      "  qid: ConvFinQA_Single_JKHY/2009/page_28.pdf-3_0\n",
      "  dataset: ConvFinQA\n",
      "  question: what was the percentage change in the net cash from operating activities from 2008 to 2009\n",
      "  answer: 14.1%\n",
      "  context_text: 12 text segments\n",
      "    First segment: 26 | 2009 annual report in fiscal 2008 , revenues in the credit union systems and services business ...\n",
      "  context_table: 7 table rows\n",
      "  reasoning: True\n",
      "  reason_type: minus2-1\n",
      "  gold_text_id: []\n",
      "  gold_table_row: [6]\n",
      "  meta: ['dialogue_break', 'turn_ind', 'cur_dial', 'cur_program', 'cur_type', 'exe_ans_list', 'original_program', 'step_list', 'answer_list', 'qa_split', 'turn_program', 'turn_program_ori', 'dialogue_break_ori', 'gold_ind', 'amt_table', 'amt_pre_text', 'amt_post_text']\n",
      "    Dialogue length: 4\n",
      "    Turn index: 0\n",
      "\n",
      "📈 Dataset Statistics:\n",
      "  Total samples: 7462\n",
      "  Reasoning samples: 7462 (100.0%)\n",
      "  Non-reasoning samples: 0\n",
      "\n",
      "🔍 Reason Type Distribution:\n",
      "  minus1-1: 2493 samples\n",
      "  minus2-1: 2292 samples\n",
      "  add1-1: 904 samples\n",
      "  add2-1: 831 samples\n",
      "  multiply2-1: 262 samples\n",
      "  multiply1-1: 243 samples\n",
      "  divide1-1: 216 samples\n",
      "  divide2-1: 206 samples\n",
      "  multiply0-0: 15 samples\n"
     ]
    }
   ],
   "source": [
    "# Pre-process the ConvFinQA dataset\n",
    "convinqa_processed = preprocess_convinqa_dataset_simple(filtered_data)\n",
    "\n",
    "# Analysis of the processed data\n",
    "print(f\"Successfully processed {len(convinqa_processed)} ConvFinQA samples\")\n",
    "print(f\"Sample structure: {list(convinqa_processed[0].keys())}\")\n",
    "\n",
    "# Show first processed sample\n",
    "print(\"\\n📊 First processed sample:\")\n",
    "first_processed = convinqa_processed[0]\n",
    "for key, value in first_processed.items():\n",
    "    if key == 'context_text':\n",
    "        print(f\"  {key}: {len(value)} text segments\")\n",
    "        print(f\"    First segment: {value[0][:100]}...\")\n",
    "    elif key == 'context_table':\n",
    "        print(f\"  {key}: {len(value)} table rows\")\n",
    "    elif key == 'meta':\n",
    "        print(f\"  {key}: {list(value.keys())}\")\n",
    "        # Show some conversational meta info\n",
    "        print(f\"    Dialogue length: {len(value.get('dialogue_break', []))}\")\n",
    "        print(f\"    Turn index: {value.get('turn_ind')}\")\n",
    "    else:\n",
    "        print(f\"  {key}: {value}\")\n",
    "\n",
    "# Dataset statistics\n",
    "reasoning_count = sum(1 for sample in convinqa_processed if sample['reasoning'])\n",
    "print(f\"\\n📈 Dataset Statistics:\")\n",
    "print(f\"  Total samples: {len(convinqa_processed)}\")\n",
    "print(f\"  Reasoning samples: {reasoning_count} ({reasoning_count/len(convinqa_processed)*100:.1f}%)\")\n",
    "print(f\"  Non-reasoning samples: {len(convinqa_processed) - reasoning_count}\")\n",
    "\n",
    "# Reason type distribution\n",
    "reason_types = {}\n",
    "for sample in convinqa_processed:\n",
    "    reason_type = sample.get('reason_type')\n",
    "    if reason_type:\n",
    "        reason_types[reason_type] = reason_types.get(reason_type, 0) + 1\n",
    "\n",
    "print(f\"\\n🔍 Reason Type Distribution:\")\n",
    "for reason_type, count in sorted(reason_types.items(), key=lambda x: x[1], reverse=True)[:10]:\n",
    "    print(f\"  {reason_type}: {count} samples\")"
   ]
  },
  {
   "cell_type": "code",
   "execution_count": 25,
   "metadata": {},
   "outputs": [],
   "source": [
    "from data_utils import preprocess_finder_dataset"
   ]
  },
  {
   "cell_type": "code",
   "execution_count": 26,
   "metadata": {},
   "outputs": [
    {
     "name": "stdout",
     "output_type": "stream",
     "text": [
      "Successfully processed 5703 FinDER samples\n",
      "Sample structure: ['qid', 'dataset', 'question', 'answer', 'context_text', 'context_table', 'reasoning', 'reason_type', 'gold_text_id', 'gold_table_row', 'meta']\n",
      "\n",
      "📊 First processed sample:\n",
      "  qid: FinDER_b33fcee7\n",
      "  dataset: FinDER\n",
      "  question: Delta in CBOE Data & Access Solutions rev from 2021-23.\n",
      "  answer: the data and access solutions revenue increased by 111.5 million from 2021 to 2023 calculated as 539.2 million minus 427.7 million.\n",
      "  context_text: 7 text segments\n",
      "    First segment: Cboe Global Markets, Inc. and Subsidiaries Consolidated Statements of Income Years ended December 31...\n",
      "  context_table: 0 table rows\n",
      "  reasoning: True\n",
      "  reason_type: Subtract\n",
      "  gold_text_id: ['ref_0']\n",
      "  gold_table_row: []\n",
      "  meta: ['category']\n",
      "\n",
      "📈 Dataset Statistics:\n",
      "  Total samples: 5703\n",
      "  Reasoning samples: 1085 (19.0%)\n",
      "  Non-reasoning samples: 4618\n",
      "\n",
      "🔍 Reason Type Distribution:\n",
      "  None: 4820 samples\n",
      "  Compositional: 440 samples\n",
      "  Division: 128 samples\n",
      "  Multiplication: 121 samples\n",
      "  Subtract: 111 samples\n",
      "  Addition: 75 samples\n",
      "  Subtraction: 8 samples\n"
     ]
    }
   ],
   "source": [
    "# Pre-process the FinDER dataset\n",
    "finder_processed = preprocess_finder_dataset(finder_train_data)\n",
    "\n",
    "# Analysis of the processed data\n",
    "print(f\"Successfully processed {len(finder_processed)} FinDER samples\")\n",
    "print(f\"Sample structure: {list(finder_processed[0].keys())}\")\n",
    "\n",
    "# Show first processed sample\n",
    "print(\"\\n📊 First processed sample:\")\n",
    "first_processed = finder_processed[0]\n",
    "for key, value in first_processed.items():\n",
    "    if key == 'context_text':\n",
    "        print(f\"  {key}: {len(value)} text segments\")\n",
    "        print(f\"    First segment: {value[0][:100]}...\")\n",
    "    elif key == 'context_table':\n",
    "        print(f\"  {key}: {len(value)} table rows\")\n",
    "    elif key == 'meta':\n",
    "        print(f\"  {key}: {list(value.keys())}\")\n",
    "    else:\n",
    "        print(f\"  {key}: {value}\")\n",
    "\n",
    "# Dataset statistics\n",
    "reasoning_count = sum(1 for sample in finder_processed if sample['reasoning'])\n",
    "print(f\"\\n📈 Dataset Statistics:\")\n",
    "print(f\"  Total samples: {len(finder_processed)}\")\n",
    "print(f\"  Reasoning samples: {reasoning_count} ({reasoning_count/len(finder_processed)*100:.1f}%)\")\n",
    "print(f\"  Non-reasoning samples: {len(finder_processed) - reasoning_count}\")\n",
    "\n",
    "# Reason type distribution\n",
    "reason_types = {}\n",
    "for sample in finder_processed:\n",
    "    reason_type = sample.get('reason_type')\n",
    "    if reason_type:\n",
    "        reason_types[reason_type] = reason_types.get(reason_type, 0) + 1\n",
    "\n",
    "print(f\"\\n🔍 Reason Type Distribution:\")\n",
    "for reason_type, count in sorted(reason_types.items(), key=lambda x: x[1], reverse=True)[:10]:\n",
    "    print(f\"  {reason_type}: {count} samples\")"
   ]
  },
  {
   "cell_type": "code",
   "execution_count": 27,
   "metadata": {},
   "outputs": [],
   "source": [
    "import json\n",
    "\n",
    "# Save FinQA\n",
    "#with open(\"/Users/christel/Desktop/Thesis/thesis_repo/data/data_processed/finqa_processed.json\", \"w\") as f:\n",
    "#    json.dump(finqa_processed, f)\n",
    "\n",
    "# Save ConvFinQA\n",
    "#with open(\"/Users/christel/Desktop/Thesis/thesis_repo/data/data_processed/convinqa_processed.json\", \"w\") as f:\n",
    "#    json.dump(convinqa_processed, f)\n",
    "\n",
    "# Save FinDER\n",
    "#with open(\"/Users/christel/Desktop/Thesis/thesis_repo/data/data_processed/finder_processed.json\", \"w\") as f:\n",
    "#    json.dump(finder_processed, f)"
   ]
  },
  {
   "cell_type": "code",
   "execution_count": 28,
   "metadata": {},
   "outputs": [
    {
     "name": "stdout",
     "output_type": "stream",
     "text": [
      "Total merged samples: 19416\n"
     ]
    }
   ],
   "source": [
    "# Merge the datasets\n",
    "merged_dataset = finqa_processed + convinqa_processed + finder_processed\n",
    "\n",
    "print(f\"Total merged samples: {len(merged_dataset)}\")"
   ]
  },
  {
   "cell_type": "code",
   "execution_count": 29,
   "metadata": {},
   "outputs": [
    {
     "name": "stdout",
     "output_type": "stream",
     "text": [
      "(19416, 11)\n"
     ]
    }
   ],
   "source": [
    "df = pd.DataFrame(merged_dataset)\n",
    "print(df.shape)"
   ]
  },
  {
   "cell_type": "markdown",
   "metadata": {},
   "source": [
    "ConvFinQA and FinQA contain samples that are idenitical and therefore have to be filtered out."
   ]
  },
  {
   "cell_type": "code",
   "execution_count": 30,
   "metadata": {},
   "outputs": [],
   "source": [
    "# Compute the exact hash for each sample\n",
    "import hashlib\n",
    "\n",
    "def canonical_string(row):\n",
    "    question = row['question'].lower().strip()\n",
    "    answer = row['answer'].strip()\n",
    "    return f\"{question}#{answer}\"\n",
    "\n",
    "df[\"hash\"] = df.apply(lambda row: hashlib.sha1(canonical_string(row).encode('utf-8')).hexdigest(), axis=1)"
   ]
  },
  {
   "cell_type": "code",
   "execution_count": 31,
   "metadata": {},
   "outputs": [
    {
     "name": "stdout",
     "output_type": "stream",
     "text": [
      "Number of duplicate hashes: 2124\n",
      "                                                                                                                             question  \\\n",
      "4                                                                                     what is the growth rate in net revenue in 2008?   \n",
      "6   for acquired customer-related and network location intangibles , what is the expected annual amortization expenses , in millions?   \n",
      "8                                                 what percentage decrease occurred from 2011-2012 for deferred acquisition payments?   \n",
      "13                                                                   what is the percent change in net revenue between 2007 and 2008?   \n",
      "21           in february 2016 what was the percent reduction in the board of directors authorized the repurchase to the february 2014   \n",
      "28                                                       what was the total amount lost from the bond authorization to the withdrawn?   \n",
      "29                                                 what was the average effect , in millions , of the dilutive securities in 2012-14?   \n",
      "30                                                                          what is the percentage change in total trade receivables?   \n",
      "32                                   what was the total fees earned in 2016 for management , leasing and construction and development   \n",
      "34                                              what was the percent of the growth of the the priceline group inc . from 2014 to 2015   \n",
      "\n",
      "          answer dataset  \n",
      "4          -3.2%   FinQA  \n",
      "6            7.4   FinQA  \n",
      "8         96.55%   FinQA  \n",
      "13          0.3%   FinQA  \n",
      "21         16.7%   FinQA  \n",
      "28  $ 13 million   FinQA  \n",
      "29          0.96   FinQA  \n",
      "30         -3.8%   FinQA  \n",
      "32          14.9   FinQA  \n",
      "34         11.8%   FinQA  \n"
     ]
    }
   ],
   "source": [
    "# Count duplicates\n",
    "duplicate_counts = df[\"hash\"].value_counts()\n",
    "num_duplicates = (duplicate_counts > 1).sum()\n",
    "print(f\"Number of duplicate hashes: {num_duplicates}\")\n",
    "\n",
    "# Show some duplicate examples\n",
    "dupe_hashes = duplicate_counts[duplicate_counts > 1].index\n",
    "dupes = df[df[\"hash\"].isin(dupe_hashes)]\n",
    "print(dupes[[\"question\", \"answer\", \"dataset\"]].head(10))"
   ]
  },
  {
   "cell_type": "code",
   "execution_count": 32,
   "metadata": {},
   "outputs": [
    {
     "name": "stdout",
     "output_type": "stream",
     "text": [
      "19416\n"
     ]
    }
   ],
   "source": [
    "print(len(df))"
   ]
  },
  {
   "cell_type": "code",
   "execution_count": 33,
   "metadata": {},
   "outputs": [
    {
     "name": "stdout",
     "output_type": "stream",
     "text": [
      "dataset\n",
      "ConvFinQA    7462\n",
      "FinQA        6251\n",
      "FinDER       5703\n",
      "Name: count, dtype: int64\n"
     ]
    }
   ],
   "source": [
    "print(df['dataset'].value_counts())"
   ]
  },
  {
   "cell_type": "code",
   "execution_count": 34,
   "metadata": {},
   "outputs": [
    {
     "name": "stdout",
     "output_type": "stream",
     "text": [
      "After deduplication: 11892 samples\n"
     ]
    }
   ],
   "source": [
    "df['hash'] = df.apply(\n",
    "    lambda r: hashlib.md5(\n",
    "        json.dumps([r['question'], r['answer']], sort_keys=True).encode()\n",
    "    ).hexdigest(),\n",
    "    axis=1\n",
    ")\n",
    "# THEN do the ranking / drop_duplicates block as before\n",
    "# Now only drop duplicates *across datasets* if they're from different sources\n",
    "df['source_rank'] = df['dataset'].map({'FinQA': 0, 'ConvFinQA': 1, 'FinDER': 2})\n",
    "df = df.sort_values(by='source_rank')\n",
    "\n",
    "# Drop duplicates while keeping highest-ranked source\n",
    "df_deduped = df.drop_duplicates(subset='hash', keep='first').drop(columns=['hash', 'source_rank'])\n",
    "print(f\"After deduplication: {len(df_deduped)} samples\")"
   ]
  },
  {
   "cell_type": "code",
   "execution_count": 35,
   "metadata": {},
   "outputs": [
    {
     "name": "stdout",
     "output_type": "stream",
     "text": [
      "dataset\n",
      "FinQA     6189\n",
      "FinDER    5703\n",
      "Name: count, dtype: int64\n"
     ]
    }
   ],
   "source": [
    "print(df_deduped['dataset'].value_counts())"
   ]
  },
  {
   "cell_type": "code",
   "execution_count": 36,
   "metadata": {},
   "outputs": [
    {
     "name": "stdout",
     "output_type": "stream",
     "text": [
      "After deduplication: 11906 samples\n"
     ]
    }
   ],
   "source": [
    "# Deduplicate *within* dataset first\n",
    "df['hash'] = df.apply(lambda row: hashlib.md5(json.dumps([\n",
    "    row['question'], row['answer'], row['context_table'], row['context_text']\n",
    "], sort_keys=True).encode()).hexdigest(), axis=1)\n",
    "\n",
    "# Now only drop duplicates *across datasets* if they're from different sources\n",
    "df['source_rank'] = df['dataset'].map({'FinQA': 0, 'ConvFinQA': 1, 'FinDER': 2})\n",
    "df = df.sort_values(by='source_rank')\n",
    "\n",
    "# Drop duplicates while keeping highest-ranked source\n",
    "df_deduped = df.drop_duplicates(subset='hash', keep='first').drop(columns=['hash', 'source_rank'])\n",
    "print(f\"After deduplication: {len(df_deduped)} samples\")"
   ]
  },
  {
   "cell_type": "code",
   "execution_count": 37,
   "metadata": {},
   "outputs": [
    {
     "name": "stdout",
     "output_type": "stream",
     "text": [
      "dataset\n",
      "FinQA     6203\n",
      "FinDER    5703\n",
      "Name: count, dtype: int64\n"
     ]
    }
   ],
   "source": [
    "print(df_deduped['dataset'].value_counts())"
   ]
  },
  {
   "cell_type": "code",
   "execution_count": 38,
   "metadata": {},
   "outputs": [
    {
     "name": "stdout",
     "output_type": "stream",
     "text": [
      "After deduplication (FinQA preferred): 11906 samples\n"
     ]
    }
   ],
   "source": [
    "import json\n",
    "import pandas as pd\n",
    "import hashlib\n",
    "\n",
    "# Sort so FinQA comes first\n",
    "df['is_finqa'] = (df['dataset'] == 'FinQA')\n",
    "df = df.sort_values(by='is_finqa', ascending=False)\n",
    "\n",
    "# Drop duplicates, keeping the first (FinQA if present)\n",
    "df_deduped = df.drop_duplicates(subset=\"hash\", keep=\"first\")\n",
    "\n",
    "# Drop helper columns\n",
    "df_deduped = df_deduped.drop(columns=[\"hash\", \"is_finqa\"])\n",
    "\n",
    "print(f\"After deduplication (FinQA preferred): {len(df_deduped)} samples\")"
   ]
  },
  {
   "cell_type": "code",
   "execution_count": 39,
   "metadata": {},
   "outputs": [
    {
     "name": "stdout",
     "output_type": "stream",
     "text": [
      "dataset\n",
      "FinQA     6203\n",
      "FinDER    5703\n",
      "Name: count, dtype: int64\n"
     ]
    }
   ],
   "source": [
    "print(df_deduped['dataset'].value_counts())"
   ]
  },
  {
   "cell_type": "markdown",
   "metadata": {},
   "source": [
    "In the following we will remove low-quality samples from the df"
   ]
  },
  {
   "cell_type": "markdown",
   "metadata": {},
   "source": [
    "Filter out samples with empty context_text and empty context_table:"
   ]
  },
  {
   "cell_type": "code",
   "execution_count": 40,
   "metadata": {},
   "outputs": [
    {
     "name": "stdout",
     "output_type": "stream",
     "text": [
      "After removing samples with empty context_text and context_table: 11906 samples\n"
     ]
    }
   ],
   "source": [
    "mask_nonempty_context = ~(\n",
    "    df_deduped[\"context_text\"].apply(lambda x: len(x) == 0) &\n",
    "    df_deduped[\"context_table\"].apply(lambda x: len(x) == 0)\n",
    ")\n",
    "df_filtered = df_deduped[mask_nonempty_context]\n",
    "print(f\"After removing samples with empty context_text and context_table: {len(df_filtered)} samples\")"
   ]
  },
  {
   "cell_type": "markdown",
   "metadata": {},
   "source": [
    "Filter out tables with > 50 rows and no annotated evidence: <br>\n",
    "\"Annotated evidence\" means at least one entry in gold_table_row or gold_text_id."
   ]
  },
  {
   "cell_type": "code",
   "execution_count": 41,
   "metadata": {},
   "outputs": [
    {
     "name": "stdout",
     "output_type": "stream",
     "text": [
      "After removing large tables with no annotated evidence: 11906 samples\n"
     ]
    }
   ],
   "source": [
    "def has_large_table_and_no_evidence(row):\n",
    "    table = row[\"context_table\"]\n",
    "    gold_table_row = row.get(\"gold_table_row\", [])\n",
    "    gold_text_id = row.get(\"gold_text_id\", [])\n",
    "    # Table must be a list of rows (list of lists or list of dicts)\n",
    "    table_rows = len(table) if isinstance(table, list) else 0\n",
    "    no_evidence = (not gold_table_row) and (not gold_text_id)\n",
    "    return (table_rows > 50) and no_evidence\n",
    "\n",
    "mask_table_evidence = ~df_filtered.apply(has_large_table_and_no_evidence, axis=1)\n",
    "df_filtered = df_filtered[mask_table_evidence]\n",
    "print(f\"After removing large tables with no annotated evidence: {len(df_filtered)} samples\")"
   ]
  },
  {
   "cell_type": "code",
   "execution_count": 42,
   "metadata": {},
   "outputs": [
    {
     "name": "stdout",
     "output_type": "stream",
     "text": [
      "dataset\n",
      "FinQA     6203\n",
      "FinDER    5703\n",
      "Name: count, dtype: int64\n"
     ]
    }
   ],
   "source": [
    "# count how many samples per dataset remain in the cleaned df\n",
    "print(df_filtered['dataset'].value_counts())"
   ]
  },
  {
   "cell_type": "markdown",
   "metadata": {},
   "source": [
    "In most academic QA studies a ≤ 2× spread is considered “reasonably balanced”—especially when:<br>\n",
    "\n",
    "- Loss is averaged per-batch, not per-dataset, and<br>\n",
    "- You shuffle data each epoch."
   ]
  },
  {
   "cell_type": "markdown",
   "metadata": {},
   "source": [
    "#### 2.2 Compare FinQA and ConvFinQA\n"
   ]
  },
  {
   "cell_type": "markdown",
   "metadata": {},
   "source": [
    "Find unique questions in both datasets"
   ]
  },
  {
   "cell_type": "code",
   "execution_count": 43,
   "metadata": {},
   "outputs": [
    {
     "name": "stdout",
     "output_type": "stream",
     "text": [
      "Unique to FinQA: 4099\n",
      "Unique to ConvFinQA: 0\n",
      "Shared between both: 2090\n"
     ]
    }
   ],
   "source": [
    "finqa_qas = set((s['question'].strip().lower(), s['answer'].strip().lower()) for s in finqa_processed)\n",
    "convfinqa_qas = set((s['question'].strip().lower(), s['answer'].strip().lower()) for s in convinqa_processed)\n",
    "\n",
    "only_in_finqa = finqa_qas - convfinqa_qas\n",
    "only_in_convfinqa = convfinqa_qas - finqa_qas\n",
    "in_both = finqa_qas & convfinqa_qas\n",
    "\n",
    "print(f\"Unique to FinQA: {len(only_in_finqa)}\")\n",
    "print(f\"Unique to ConvFinQA: {len(only_in_convfinqa)}\")\n",
    "print(f\"Shared between both: {len(in_both)}\")"
   ]
  },
  {
   "cell_type": "markdown",
   "metadata": {},
   "source": [
    "Unique examples"
   ]
  },
  {
   "cell_type": "code",
   "execution_count": 44,
   "metadata": {},
   "outputs": [
    {
     "name": "stdout",
     "output_type": "stream",
     "text": [
      "Examples unique to FinQA:\n",
      "Q: what is the total number of locations leased by fis?\n",
      "A: 136\n",
      "---\n",
      "Q: for the ecolab and nalco plan remeasurement , what percentage in the reduction of postretirement benefit obligations created a corresponding impact to aoci?\n",
      "A: 62%\n",
      "---\n",
      "Q: what was the weighted average price per share of the shares 30.9 repurchased as of february 11 , 2011\n",
      "A: 38.83\n",
      "---\n",
      "Q: what is the percentage of the british pound among the total foreign currency forward contracts?\n",
      "A: 27%\n",
      "---\n",
      "Q: what would 2007 free cash flow have been without capital spending , in millions?\n",
      "A: 748.5\n",
      "---\n",
      "Examples unique to ConvFinQA:\n"
     ]
    }
   ],
   "source": [
    "# Show a few examples unique to FinQA\n",
    "print(\"Examples unique to FinQA:\")\n",
    "for q, a in list(only_in_finqa)[:5]:\n",
    "    print(\"Q:\", q)\n",
    "    print(\"A:\", a)\n",
    "    print(\"---\")\n",
    "\n",
    "# Show a few examples unique to ConvFinQA\n",
    "print(\"Examples unique to ConvFinQA:\")\n",
    "for q, a in list(only_in_convfinqa)[:5]:\n",
    "    print(\"Q:\", q)\n",
    "    print(\"A:\", a)\n",
    "    print(\"---\")"
   ]
  },
  {
   "cell_type": "code",
   "execution_count": 45,
   "metadata": {},
   "outputs": [
    {
     "name": "stdout",
     "output_type": "stream",
     "text": [
      "FinQA avg context_text segments: 9.588705807070868\n",
      "ConvFinQA avg context_text segments: 9.37979094076655\n"
     ]
    }
   ],
   "source": [
    "import numpy as np\n",
    "\n",
    "print(\"FinQA avg context_text segments:\", np.mean([len(s['context_text']) for s in finqa_processed]))\n",
    "print(\"ConvFinQA avg context_text segments:\", np.mean([len(s['context_text']) for s in convinqa_processed]))"
   ]
  },
  {
   "cell_type": "code",
   "execution_count": 46,
   "metadata": {},
   "outputs": [
    {
     "name": "stdout",
     "output_type": "stream",
     "text": [
      "FinQA reasoning types: Counter({'divide1-1': 1264, 'minus1-1': 1236, 'minus2-1': 1148, 'divide2-1': 1042, 'add1-1': 463, 'add2-1': 414, 'multiply1-1': 179, 'multiply2-1': 171, 'compare_larger2-1': 57, 'compare_larger1-1': 53, 'average1-1': 50, 'average2-1': 43, 'max2-1': 31, 'sum2-1': 19, 'min2-1': 17, 'multiply0-0': 16, 'max1-1': 16, 'sum1-1': 13, 'min1-1': 9, 'minus2-2': 7, 'minus1-2': 3})\n",
      "ConvFinQA reasoning types: Counter({'minus1-1': 2493, 'minus2-1': 2292, 'add1-1': 904, 'add2-1': 831, 'multiply2-1': 262, 'multiply1-1': 243, 'divide1-1': 216, 'divide2-1': 206, 'multiply0-0': 15})\n"
     ]
    }
   ],
   "source": [
    "from collections import Counter\n",
    "\n",
    "finqa_reason_types = Counter(s.get('reason_type') for s in finqa_processed)\n",
    "convfinqa_reason_types = Counter(s.get('reason_type') for s in convinqa_processed)\n",
    "\n",
    "print(\"FinQA reasoning types:\", finqa_reason_types)\n",
    "print(\"ConvFinQA reasoning types:\", convfinqa_reason_types)"
   ]
  },
  {
   "cell_type": "code",
   "execution_count": 47,
   "metadata": {},
   "outputs": [
    {
     "name": "stdout",
     "output_type": "stream",
     "text": [
      "Samples with dialogue_break: 7462 / 7462\n"
     ]
    }
   ],
   "source": [
    "# Check if 'meta' and 'dialogue_break' exist and are non-empty in ConvFinQA samples\n",
    "has_dialogue = [\n",
    "    bool(s.get(\"meta\", {}).get(\"dialogue_break\"))\n",
    "    for s in convinqa_processed\n",
    "]\n",
    "print(f\"Samples with dialogue_break: {sum(has_dialogue)} / {len(convinqa_processed)}\")"
   ]
  },
  {
   "cell_type": "code",
   "execution_count": 48,
   "metadata": {},
   "outputs": [
    {
     "name": "stdout",
     "output_type": "stream",
     "text": [
      "Average dialogue length: 3.92\n",
      "Median dialogue length: 4.0\n",
      "Max dialogue length: 6\n",
      "Min dialogue length: 2\n"
     ]
    }
   ],
   "source": [
    "# Get dialogue lengths for all ConvFinQA samples\n",
    "dialogue_lengths = [\n",
    "    len(s[\"meta\"][\"dialogue_break\"]) if \"meta\" in s and \"dialogue_break\" in s[\"meta\"] and s[\"meta\"][\"dialogue_break\"] else 0\n",
    "    for s in convinqa_processed\n",
    "]\n",
    "\n",
    "import numpy as np\n",
    "print(f\"Average dialogue length: {np.mean(dialogue_lengths):.2f}\")\n",
    "print(f\"Median dialogue length: {np.median(dialogue_lengths)}\")\n",
    "print(f\"Max dialogue length: {max(dialogue_lengths)}\")\n",
    "print(f\"Min dialogue length: {min(dialogue_lengths)}\")"
   ]
  },
  {
   "cell_type": "code",
   "execution_count": 49,
   "metadata": {},
   "outputs": [
    {
     "name": "stdout",
     "output_type": "stream",
     "text": [
      "Dialogue (length 4):\n",
      "  - what is the net cash from operating activities in 2009?\n",
      "  - what about in 2008?\n",
      "  - what is the difference?\n",
      "  - what percentage change does this represent?\n",
      "----\n"
     ]
    }
   ],
   "source": [
    "# Show a few example dialogues\n",
    "for s in convinqa_processed:\n",
    "    if \"meta\" in s and \"dialogue_break\" in s[\"meta\"] and s[\"meta\"][\"dialogue_break\"]:\n",
    "        print(\"Dialogue (length {}):\".format(len(s[\"meta\"][\"dialogue_break\"])))\n",
    "        for turn in s[\"meta\"][\"dialogue_break\"]:\n",
    "            print(\"  -\", turn)\n",
    "        print(\"----\")\n",
    "        break  # Remove this break to see more examples"
   ]
  },
  {
   "cell_type": "code",
   "execution_count": 50,
   "metadata": {},
   "outputs": [
    {
     "name": "stdout",
     "output_type": "stream",
     "text": [
      "FinQA samples with dialogue_break: 0 / 6251\n"
     ]
    }
   ],
   "source": [
    "# FinQA should have no dialogue_break\n",
    "finqa_dialogue = [(\"meta\" in s and \"dialogue_break\" in s[\"meta\"] and s[\"meta\"][\"dialogue_break\"]) for s in finqa_processed]\n",
    "print(f\"FinQA samples with dialogue_break: {sum(finqa_dialogue)} / {len(finqa_processed)}\")"
   ]
  },
  {
   "cell_type": "code",
   "execution_count": 52,
   "metadata": {},
   "outputs": [],
   "source": [
    "import matplotlib.pyplot as plt"
   ]
  },
  {
   "cell_type": "code",
   "execution_count": 53,
   "metadata": {},
   "outputs": [
    {
     "data": {
      "image/png": "[encoded data removed]",
      "text/plain": [
       "<Figure size 640x480 with 1 Axes>"
      ]
     },
     "metadata": {},
     "output_type": "display_data"
    }
   ],
   "source": [
    "plt.hist([l for l in dialogue_lengths if l > 0], bins=range(1, max(dialogue_lengths)+2))\n",
    "plt.xlabel(\"Dialogue length\")\n",
    "plt.ylabel(\"Number of samples\")\n",
    "plt.title(\"Distribution of dialogue lengths in ConvFinQA\")\n",
    "plt.show()"
   ]
  },
  {
   "cell_type": "markdown",
   "metadata": {},
   "source": []
  },
  {
   "cell_type": "code",
   "execution_count": 54,
   "metadata": {},
   "outputs": [
    {
     "name": "stdout",
     "output_type": "stream",
     "text": [
      "History-dependent ConvFinQA turns: 1032\n"
     ]
    }
   ],
   "source": [
    "hist_phrases = {\n",
    "    \"what about\", \"what was the change\", \"how much higher\",\n",
    "    \"the above\", \"that amount\", \"difference\", \"increase\", \"decrease\"\n",
    "}\n",
    "\n",
    "def needs_history(turn, turn_index):\n",
    "    # turn should be a dict with a \"question\" key\n",
    "    q = turn.get(\"question\", \"\").lower()\n",
    "    return turn_index > 0 and any(p in q for p in hist_phrases)\n",
    "\n",
    "keep_conv = []\n",
    "for s in convinqa_processed:\n",
    "    meta = s.get(\"meta\", {})\n",
    "    cur_dial = meta.get(\"cur_dial\")\n",
    "    turn_ind = meta.get(\"turn_ind\", 0)\n",
    "    # cur_dial should be a list of dicts, get the current turn if possible\n",
    "    if isinstance(cur_dial, list) and len(cur_dial) > 0 and isinstance(cur_dial[0], dict):\n",
    "        turn = cur_dial[0]\n",
    "    else:\n",
    "        turn = {\"question\": \"\"}\n",
    "    if needs_history(turn, turn_ind):\n",
    "        keep_conv.append(s)\n",
    "\n",
    "print(\"History-dependent ConvFinQA turns:\", len(keep_conv))"
   ]
  },
  {
   "cell_type": "code",
   "execution_count": 55,
   "metadata": {},
   "outputs": [
    {
     "name": "stdout",
     "output_type": "stream",
     "text": [
      "Samples with valid cur_dial: 7462 / 7462\n"
     ]
    }
   ],
   "source": [
    "valid_cur_dial = [\n",
    "    isinstance(s.get(\"meta\", {}).get(\"cur_dial\"), list) and\n",
    "    len(s[\"meta\"][\"cur_dial\"]) > 0 and\n",
    "    isinstance(s[\"meta\"][\"cur_dial\"][0], dict)\n",
    "    for s in convinqa_processed\n",
    "]\n",
    "print(f\"Samples with valid cur_dial: {sum(valid_cur_dial)} / {len(convinqa_processed)}\")"
   ]
  },
  {
   "cell_type": "code",
   "execution_count": 58,
   "metadata": {},
   "outputs": [
    {
     "name": "stdout",
     "output_type": "stream",
     "text": [
      "{'qid': 'ConvFinQA_Single_JKHY/2009/page_28.pdf-3_0', 'dataset': 'ConvFinQA', 'question': 'what was the percentage change in the net cash from operating activities from 2008 to 2009', 'answer': '14.1%', 'context_text': ['26 | 2009 annual report in fiscal 2008 , revenues in the credit union systems and services business segment increased 14% ( 14 % ) from fiscal 2007 . all revenue components within the segment experienced growth during fiscal 2008 . license revenue generated the largest dollar growth in revenue as episys ae , our flagship core processing system aimed at larger credit unions , experienced strong sales throughout the year .', 'support and service revenue , which is the largest component of total revenues for the credit union segment , experienced 34 percent growth in eft support and 10 percent growth in in-house support . gross profit in this business segment increased $ 9344 in fiscal 2008 compared to fiscal 2007 , due primarily to the increase in license revenue , which carries the highest margins .', 'liquidity and capital resources we have historically generated positive cash flow from operations and have generally used funds generated from operations and short-term borrowings on our revolving credit facility to meet capital requirements . we expect this trend to continue in the future . the company 2019s cash and cash equivalents increased to $ 118251 at june 30 , 2009 from $ 65565 at june 30 , 2008 .', 'the following table summarizes net cash from operating activities in the statement of cash flows : 2009 2008 2007 . year ended june 30 , cash provided by operations increased $ 25587 to $ 206588 for the fiscal year ended june 30 , 2009 as compared to $ 181001 for the fiscal year ended june 30 , 2008 .', 'this increase is primarily attributable to a decrease in receivables compared to the same period a year ago of $ 21214 . this decrease is largely the result of fiscal 2010 annual software maintenance billings being provided to customers earlier than in the prior year , which allowed more cash to be collected before the end of the fiscal year than in previous years . further , we collected more cash overall related to revenues that will be recognized in subsequent periods in the current year than in fiscal 2008 .', 'cash used in investing activities for the fiscal year ended june 2009 was $ 59227 and includes $ 3027 in contingent consideration paid on prior years 2019 acquisitions . cash used in investing activities for the fiscal year ended june 2008 was $ 102148 and includes payments for acquisitions of $ 48109 , plus $ 1215 in contingent consideration paid on prior years 2019 acquisitions .', 'capital expenditures for fiscal 2009 were $ 31562 compared to $ 31105 for fiscal 2008 . cash used for software development in fiscal 2009 was $ 24684 compared to $ 23736 during the prior year .', 'net cash used in financing activities for the current fiscal year was $ 94675 and includes the repurchase of 3106 shares of our common stock for $ 58405 , the payment of dividends of $ 26903 and $ 13489 net repayment on our revolving credit facilities .', 'cash used in financing activities was partially offset by proceeds of $ 3773 from the exercise of stock options and the sale of common stock ( through the employee stock purchase plan ) and $ 348 excess tax benefits from stock option exercises .', 'during fiscal 2008 , net cash used in financing activities for the fiscal year was $ 101905 and includes the repurchase of 4200 shares of our common stock for $ 100996 , the payment of dividends of $ 24683 and $ 429 net repayment on our revolving credit facilities .', 'cash used in financing activities was partially offset by proceeds of $ 20394 from the exercise of stock options and the sale of common stock and $ 3809 excess tax benefits from stock option exercises . beginning during fiscal 2008 , us financial markets and many of the largest us financial institutions have been shaken by negative developments in the home mortgage industry and the mortgage markets , and particularly the markets for subprime mortgage-backed securities .', 'since that time , these and other such developments have resulted in a broad , global economic downturn . while we , as is the case with most companies , have experienced the effects of this downturn , we have not experienced any significant issues with our current collection efforts , and we believe that any future impact to our liquidity will be minimized by cash generated by recurring sources of revenue and due to our access to available lines of credit. .'], 'context_table': [['2008', 'year ended june 30 2009 2008', 'year ended june 30 2009 2008', 'year ended june 30 2009'], ['net income', '$ 103102', '$ 104222', '$ 104681'], ['non-cash expenses', '74397', '70420', '56348'], ['change in receivables', '21214', '-2913 ( 2913 )', '-28853 ( 28853 )'], ['change in deferred revenue', '21943', '5100', '24576'], ['change in other assets and liabilities', '-14068 ( 14068 )', '4172', '17495'], ['net cash from operating activities', '$ 206588', '$ 181001', '$ 174247']], 'reasoning': True, 'reason_type': 'minus2-1', 'gold_text_id': [], 'gold_table_row': [6], 'meta': {'dialogue_break': ['what is the net cash from operating activities in 2009?', 'what about in 2008?', 'what is the difference?', 'what percentage change does this represent?'], 'turn_ind': 0, 'cur_dial': [{'question': 'what was the percentage change in the net cash from operating activities from 2008 to 2009'}], 'cur_program': '206588', 'cur_type': 'number_turn', 'exe_ans_list': [206588.0, 181001.0, 25587.0, 0.14136], 'original_program': 'subtract(206588, 181001), divide(A0, 181001)', 'step_list': ['Ask for number 206588', 'Ask for number 181001', 'subtract(206588, 181001)', 'divide(A0, 181001)'], 'answer_list': ['206588', '181001', 'A0', 'A1'], 'qa_split': [0, 0, 0, 0], 'turn_program': ['206588', '181001', 'subtract(206588, 181001)', 'subtract(206588, 181001), divide(#0, 181001)'], 'turn_program_ori': ['206588', '181001', 'subtract(206588, 181001)', 'subtract(206588, 181001), divide(#0, 181001)'], 'dialogue_break_ori': ['what is the net cash from operating activities in 2009?', 'what about in 2008?', 'what is the difference?', 'what percentage change does this represent?'], 'gold_ind': {'table_6': '2008 the net cash from operating activities of year ended june 30 2009 2008 is $ 206588 ; the net cash from operating activities of year ended june 30 2009 2008 is $ 181001 ; the net cash from operating activities of year ended june 30 2009 is $ 174247 ;'}, 'amt_table': \"<table class='wikitable'><tr><td>1</td><td>2008</td><td>year ended june 30 2009 2008</td><td>year ended june 30 2009 2008</td><td>year ended june 30 2009</td></tr><tr><td>2</td><td>net income</td><td>$ 103102</td><td>$ 104222</td><td>$ 104681</td></tr><tr><td>3</td><td>non-cash expenses</td><td>74397</td><td>70420</td><td>56348</td></tr><tr><td>4</td><td>change in receivables</td><td>21214</td><td>-2913 ( 2913 )</td><td>-28853 ( 28853 )</td></tr><tr><td>5</td><td>change in deferred revenue</td><td>21943</td><td>5100</td><td>24576</td></tr><tr><td>6</td><td>change in other assets and liabilities</td><td>-14068 ( 14068 )</td><td>4172</td><td>17495</td></tr><tr><td>7</td><td>net cash from operating activities</td><td>$ 206588</td><td>$ 181001</td><td>$ 174247</td></tr></table>\", 'amt_pre_text': '26 | 2009 annual report in fiscal 2008 , revenues in the credit union systems and services business segment increased 14% ( 14 % ) from fiscal 2007 . all revenue components within the segment experienced growth during fiscal 2008 . license revenue generated the largest dollar growth in revenue as episys ae , our flagship core processing system aimed at larger credit unions , experienced strong sales throughout the year . support and service revenue , which is the largest component of total revenues for the credit union segment , experienced 34 percent growth in eft support and 10 percent growth in in-house support . gross profit in this business segment increased $ 9344 in fiscal 2008 compared to fiscal 2007 , due primarily to the increase in license revenue , which carries the highest margins . liquidity and capital resources we have historically generated positive cash flow from operations and have generally used funds generated from operations and short-term borrowings on our revolving credit facility to meet capital requirements . we expect this trend to continue in the future . the company 2019s cash and cash equivalents increased to $ 118251 at june 30 , 2009 from $ 65565 at june 30 , 2008 . the following table summarizes net cash from operating activities in the statement of cash flows : 2009 2008 2007 .', 'amt_post_text': 'year ended june 30 , cash provided by operations increased $ 25587 to $ 206588 for the fiscal year ended june 30 , 2009 as compared to $ 181001 for the fiscal year ended june 30 , 2008 . this increase is primarily attributable to a decrease in receivables compared to the same period a year ago of $ 21214 . this decrease is largely the result of fiscal 2010 annual software maintenance billings being provided to customers earlier than in the prior year , which allowed more cash to be collected before the end of the fiscal year than in previous years . further , we collected more cash overall related to revenues that will be recognized in subsequent periods in the current year than in fiscal 2008 . cash used in investing activities for the fiscal year ended june 2009 was $ 59227 and includes $ 3027 in contingent consideration paid on prior years 2019 acquisitions . cash used in investing activities for the fiscal year ended june 2008 was $ 102148 and includes payments for acquisitions of $ 48109 , plus $ 1215 in contingent consideration paid on prior years 2019 acquisitions . capital expenditures for fiscal 2009 were $ 31562 compared to $ 31105 for fiscal 2008 . cash used for software development in fiscal 2009 was $ 24684 compared to $ 23736 during the prior year . net cash used in financing activities for the current fiscal year was $ 94675 and includes the repurchase of 3106 shares of our common stock for $ 58405 , the payment of dividends of $ 26903 and $ 13489 net repayment on our revolving credit facilities . cash used in financing activities was partially offset by proceeds of $ 3773 from the exercise of stock options and the sale of common stock ( through the employee stock purchase plan ) and $ 348 excess tax benefits from stock option exercises . during fiscal 2008 , net cash used in financing activities for the fiscal year was $ 101905 and includes the repurchase of 4200 shares of our common stock for $ 100996 , the payment of dividends of $ 24683 and $ 429 net repayment on our revolving credit facilities . cash used in financing activities was partially offset by proceeds of $ 20394 from the exercise of stock options and the sale of common stock and $ 3809 excess tax benefits from stock option exercises . beginning during fiscal 2008 , us financial markets and many of the largest us financial institutions have been shaken by negative developments in the home mortgage industry and the mortgage markets , and particularly the markets for subprime mortgage-backed securities . since that time , these and other such developments have resulted in a broad , global economic downturn . while we , as is the case with most companies , have experienced the effects of this downturn , we have not experienced any significant issues with our current collection efforts , and we believe that any future impact to our liquidity will be minimized by cash generated by recurring sources of revenue and due to our access to available lines of credit. .'}}\n",
      "0\n"
     ]
    }
   ],
   "source": [
    "print(convinqa_processed[0])\n",
    "# print only cur_dial of convinqa_processed[0]\n",
    "print(convinqa_processed[0]['meta']['turn_ind'])\n"
   ]
  },
  {
   "cell_type": "code",
   "execution_count": 59,
   "metadata": {},
   "outputs": [
    {
     "data": {
      "image/png": "[encoded data removed]",
      "text/plain": [
       "<Figure size 800x400 with 1 Axes>"
      ]
     },
     "metadata": {},
     "output_type": "display_data"
    }
   ],
   "source": [
    "import matplotlib.pyplot as plt\n",
    "\n",
    "# Extract turn_ind values, skipping samples where it's missing or None\n",
    "turn_inds = [\n",
    "    s[\"meta\"].get(\"turn_ind\")\n",
    "    for s in convinqa_processed\n",
    "    if s.get(\"meta\") and s[\"meta\"].get(\"turn_ind\") is not None\n",
    "]\n",
    "\n",
    "plt.figure(figsize=(8, 4))\n",
    "plt.hist(turn_inds, bins=range(min(turn_inds), max(turn_inds)+2), align='left', edgecolor='black')\n",
    "plt.xlabel(\"Turn index (turn_ind)\")\n",
    "plt.ylabel(\"Number of samples\")\n",
    "plt.title(\"Distribution of turn_ind in ConvFinQA\")\n",
    "plt.xticks(range(min(turn_inds), max(turn_inds)+1))\n",
    "plt.show()"
   ]
  },
  {
   "cell_type": "code",
   "execution_count": 60,
   "metadata": {},
   "outputs": [
    {
     "name": "stdout",
     "output_type": "stream",
     "text": [
      "Chat history for this sample:\n",
      "Turn 0: what is the net cash from operating activities in 2009?\n",
      "Turn 1: what about in 2008?\n",
      "Turn 2: what is the difference?\n",
      "Turn 3: what percentage change does this represent?\n"
     ]
    }
   ],
   "source": [
    "sample = convinqa_processed[0]\n",
    "chat_history = sample[\"meta\"].get(\"dialogue_break\", [])\n",
    "print(\"Chat history for this sample:\")\n",
    "for i, turn in enumerate(chat_history):\n",
    "    print(f\"Turn {i}: {turn}\")"
   ]
  },
  {
   "cell_type": "markdown",
   "metadata": {},
   "source": [
    "Turn 0 is always the first question in a dialogue — it's standalone and mirrors FinQA's format (single-shot). Since we're interested in assessing retriever performance under context-dependent conditions, keeping only turns > 0 directly aligns with our goal.\n",
    "By filtering out turn 0, we’re removing duplication and enriching the dataset with dialogue-driven questions."
   ]
  },
  {
   "cell_type": "code",
   "execution_count": 62,
   "metadata": {},
   "outputs": [
    {
     "name": "stdout",
     "output_type": "stream",
     "text": [
      "Samples with turn_ind > 0: 5353 / 7462\n"
     ]
    }
   ],
   "source": [
    "# Keep only samples with turn_ind > 0\n",
    "convinqa_turn_history = [\n",
    "    s for s in convinqa_processed\n",
    "    if s.get(\"meta\", {}).get(\"turn_ind\") is not None and s[\"meta\"][\"turn_ind\"] > 0\n",
    "]\n",
    "\n",
    "print(f\"Samples with turn_ind > 0: {len(convinqa_turn_history)} / {len(convinqa_processed)}\")"
   ]
  },
  {
   "cell_type": "code",
   "execution_count": 63,
   "metadata": {},
   "outputs": [],
   "source": [
    "#save new convinqa dataset and overwrite the old one \n",
    "# Save ConvFinQA\n",
    "with open(\"/Users/christel/Desktop/Thesis/thesis_repo/data/data_processed/convinqa_processed.json\", \"w\") as f:\n",
    "    json.dump(convinqa_turn_history, f)"
   ]
  },
  {
   "cell_type": "markdown",
   "metadata": {},
   "source": [
    "#### 2.3 Merge Datasets "
   ]
  },
  {
   "cell_type": "code",
   "execution_count": 67,
   "metadata": {},
   "outputs": [
    {
     "name": "stdout",
     "output_type": "stream",
     "text": [
      "Total merged samples: 17307\n",
      "(17307, 11)\n",
      "Index(['qid', 'dataset', 'question', 'answer', 'context_text', 'context_table',\n",
      "       'reasoning', 'reason_type', 'gold_text_id', 'gold_table_row', 'meta'],\n",
      "      dtype='object')\n"
     ]
    }
   ],
   "source": [
    "# Merge the datasets\n",
    "merged_dataset = finqa_processed + convinqa_turn_history + finder_processed\n",
    "\n",
    "print(f\"Total merged samples: {len(merged_dataset)}\")\n",
    "# print shape of merged dataset\n",
    "df = pd.DataFrame(merged_dataset)\n",
    "print(df.shape)\n",
    "print(df.columns)"
   ]
  },
  {
   "cell_type": "code",
   "execution_count": 72,
   "metadata": {},
   "outputs": [
    {
     "name": "stdout",
     "output_type": "stream",
     "text": [
      "dataset\n",
      "FinQA        6251\n",
      "FinDER       5703\n",
      "ConvFinQA    5353\n",
      "Name: count, dtype: int64\n"
     ]
    }
   ],
   "source": [
    "#count samples per dataset in merged dataset\n",
    "print(df[\"dataset\"].value_counts())"
   ]
  },
  {
   "cell_type": "code",
   "execution_count": 73,
   "metadata": {},
   "outputs": [
    {
     "name": "stdout",
     "output_type": "stream",
     "text": [
      "qid               0\n",
      "dataset           0\n",
      "question          0\n",
      "answer            0\n",
      "context_text      0\n",
      "context_table     0\n",
      "reasoning         0\n",
      "reason_type       0\n",
      "gold_text_id      0\n",
      "gold_table_row    0\n",
      "meta              0\n",
      "dtype: int64\n"
     ]
    }
   ],
   "source": [
    "print(df.isnull().sum())"
   ]
  },
  {
   "cell_type": "code",
   "execution_count": 74,
   "metadata": {},
   "outputs": [
    {
     "name": "stdout",
     "output_type": "stream",
     "text": [
      "Rows with any missing value: 0\n"
     ]
    }
   ],
   "source": [
    "print(\"Rows with any missing value:\", df.isnull().any(axis=1).sum())"
   ]
  },
  {
   "cell_type": "code",
   "execution_count": 75,
   "metadata": {},
   "outputs": [
    {
     "name": "stdout",
     "output_type": "stream",
     "text": [
      "Empty DataFrame\n",
      "Columns: [qid, dataset, question, answer, context_text, context_table, reasoning, reason_type, gold_text_id, gold_table_row, meta]\n",
      "Index: []\n"
     ]
    }
   ],
   "source": [
    "missing_rows = df[df.isnull().any(axis=1)]\n",
    "print(missing_rows.head())"
   ]
  },
  {
   "cell_type": "code",
   "execution_count": 76,
   "metadata": {},
   "outputs": [
    {
     "name": "stdout",
     "output_type": "stream",
     "text": [
      "Missing in 'answer': 0\n"
     ]
    }
   ],
   "source": [
    "print(\"Missing in 'answer':\", df['answer'].isnull().sum())"
   ]
  },
  {
   "cell_type": "code",
   "execution_count": 77,
   "metadata": {},
   "outputs": [
    {
     "name": "stdout",
     "output_type": "stream",
     "text": [
      "qid               0\n",
      "dataset           0\n",
      "question          0\n",
      "answer            0\n",
      "context_text      0\n",
      "context_table     0\n",
      "reasoning         0\n",
      "reason_type       0\n",
      "gold_text_id      0\n",
      "gold_table_row    0\n",
      "meta              0\n",
      "dtype: int64\n"
     ]
    }
   ],
   "source": [
    "print((df == None).sum())"
   ]
  },
  {
   "cell_type": "code",
   "execution_count": 78,
   "metadata": {},
   "outputs": [],
   "source": [
    "with open(\"/Users/christel/Desktop/Thesis/thesis_repo/data/data_processed/merged_dataset.json\", \"w\") as f:\n",
    "    json.dump(merged_dataset, f)"
   ]
  },
  {
   "cell_type": "code",
   "execution_count": 79,
   "metadata": {},
   "outputs": [
    {
     "name": "stdout",
     "output_type": "stream",
     "text": [
      "['divide1-1', 'multiply1-1', 'divide2-1', 'minus1-1', 'add1-1', 'minus2-1', 'average1-1', 'add2-1', 'multiply2-1', 'compare_larger1-1', 'average2-1', 'minus2-2', 'compare_larger2-1', 'multiply0-0', 'max1-1', 'min1-1', 'sum2-1', 'sum1-1', 'max2-1', 'min2-1', 'minus1-2', 'Subtract', 'Compositional', 'None', 'Addition', 'Division', 'Multiplication', 'Subtraction']\n"
     ]
    }
   ],
   "source": [
    "unique_reason_types = df['reason_type'].dropna().unique().tolist()\n",
    "print(unique_reason_types)"
   ]
  },
  {
   "cell_type": "code",
   "execution_count": 95,
   "metadata": {},
   "outputs": [
    {
     "data": {
      "text/html": [
       "<div>\n",
       "<style scoped>\n",
       "    .dataframe tbody tr th:only-of-type {\n",
       "        vertical-align: middle;\n",
       "    }\n",
       "\n",
       "    .dataframe tbody tr th {\n",
       "        vertical-align: top;\n",
       "    }\n",
       "\n",
       "    .dataframe thead th {\n",
       "        text-align: right;\n",
       "    }\n",
       "</style>\n",
       "<table border=\"1\" class=\"dataframe\">\n",
       "  <thead>\n",
       "    <tr style=\"text-align: right;\">\n",
       "      <th></th>\n",
       "      <th>qid</th>\n",
       "      <th>dataset</th>\n",
       "      <th>question</th>\n",
       "      <th>answer</th>\n",
       "      <th>context_text</th>\n",
       "      <th>context_table</th>\n",
       "      <th>reasoning</th>\n",
       "      <th>reason_type</th>\n",
       "      <th>gold_text_id</th>\n",
       "      <th>gold_table_row</th>\n",
       "      <th>meta</th>\n",
       "    </tr>\n",
       "  </thead>\n",
       "  <tbody>\n",
       "    <tr>\n",
       "      <th>11606</th>\n",
       "      <td>FinDER_9826209b</td>\n",
       "      <td>FinDER</td>\n",
       "      <td>Cboe's earnings impact from market data vs reg fees analysis for ticker.</td>\n",
       "      <td>the data provided shows that cboe global markets earns revenue from both market data fees and regulatory fees indicating a degree of revenue diversification. specifically market data fees total 293.7 million while regulatory fees total 223.7 million. this suggests that while market data fees are likely driven by a combination of product offerings and geographic diversity—given the breakdown across regions and products—the revenue from regulatory fees is largely determined by the regulatory environment which means that any changes in regulatory policy or increased regulatory costs could have a direct impact on earnings. in other words:\\n\\n1. diversification of revenue streams: the presence of multiple fee types implies that cboe is not solely dependent on trading or transaction-based revenues. market data fees which come from diverse sources and reflect a broader engagement with clients provide a more stable and potentially growing revenue stream.\\n\\n2. regulatory impact: regulatory fees while making up a slightly smaller component indicate that part of the revenue is tied to compliance and regulatory requirements. this revenue line might be less controllable by company management and more susceptible to changes in the regulatory landscape. for example if regulatory changes lead to higher fees or adjustments in how fees are calculated it could impact overall margins. conversely a stable or supportive regulatory framework might provide a predictable revenue stream.\\n\\noverall the company benefits from having multiple sources of revenue insulating it from risks associated with any single source. however it remains exposed to regulatory shifts that could impact the fee revenue structure.</td>\n",
       "      <td>[North Corporate American Europe and Items and Options Equities Asia Pacific Futures Global FX Digital Eliminations Total Year Ended December 31, 2023 Transaction and clearing fees $ 1,583.7 $ 946.3 $ 145.6 $ 98.0 $ 62.2 $ (4.5) $ — $ 2,831.3 Access and capacity fees 161.0 117.1 36.3 22.0 10.7, 0.4 — 347.5 Market data fees 118.8 128.3 36.7 8.5 1.4 — — 293.7 Regulatory fees 69.6 153.8 — 0.3 — — — 223.7 Other revenue 6.4 7.5 62.6 0.2 0.6 — — 77.3 $ 1,939.5 $, 1,353.0 $ 281.2 $ 129.0 $ 74.9 $ (4.1) $ — $ 3,773.5 Timing of revenue recognition Services transferred at a point in time $ 1,659.7 $ 1,107.6 $ 208.2 $ 98.5 $ 62.8 $ (4.5) $ — $ 3,132.3 Services transferred over time 279.8, 245.4 73.0 30.5 12.1 0.4 — 641.2 $ 1,939.5 $ 1,353.0 $ 281.2 $ 129.0 $ 74.9 $ (4.1) $ — $ 3,773.5]</td>\n",
       "      <td>[]</td>\n",
       "      <td>False</td>\n",
       "      <td>None</td>\n",
       "      <td>[ref_0]</td>\n",
       "      <td>[]</td>\n",
       "      <td>{'category': 'Footnotes'}</td>\n",
       "    </tr>\n",
       "    <tr>\n",
       "      <th>11607</th>\n",
       "      <td>FinDER_30eb0cd9</td>\n",
       "      <td>FinDER</td>\n",
       "      <td>Cboe’s repurchase costs &amp; the impact of its authorization on cap alloc.</td>\n",
       "      <td>the available data on share repurchase activity allows us to assess its implications on capital allocation and overall financial health. first the cost to repurchase shares—in 2023 661721 shares were repurchased at an average cost of 126.80 per share for a total expenditure of 83.9 million while overall since inception the average repurchase price was lower at 72.21 per share (with a total outlay of 1.4 billion)—demonstrates that the company has been active in using excess cash to buy back shares. this activity can reduce the total number of outstanding shares which may enhance earnings per share (eps) and return of capital to shareholders. however repurchase activity also directly affects available liquidity as it consumes cash resources.\\n\\nfurthermore the remaining authorization of 384.0 million under the repurchase program signals that the company still has considerable flexibility in managing its capital allocation. this remaining authorization can provide a safety net or opportunity to further optimize capital structure if market conditions are favorable or if there is a need to offset dilution from other activities (like employee stock compensation). in summary while share repurchases can boost shareholder value and indicate confidence by management they must be balanced against the need to maintain adequate cash reserves for operational and strategic objectives. as such these repurchase costs and the remaining authorization reflect a deliberate capital allocation strategy that supports shareholder returns while also preserving financial flexibility contributing positively to the overall financial health when managed appropriately.</td>\n",
       "      <td>[In 2011, the Board of Directors approved an initial authorization for the Company to repurchase shares of its outstanding common stock of $100 million and subsequently approved additional authorizations, for a total authorization of $1.8 billion. The program permits the Company to purchase shares, through a variety of methods, including in the open market or through privately negotiated transactions, in accordance with applicable securities laws. It does not obligate the Company to make any repurchases at any specific time or situation., Under the program, for the year ended December 31, 2023, the Company repurchased 661,721 shares of common stock at an average cost per share of $126.80, totaling $83.9 million. Since inception of the program through December 31, 2023, the Company has repurchased 19,610,088 shares of common stock at an average cost per share of $72.21, totaling $1.4 billion., As of December 31, 2023, the Company had $384.0 million of availability remaining under its existing share repurchase authorizations. 64]</td>\n",
       "      <td>[]</td>\n",
       "      <td>False</td>\n",
       "      <td>None</td>\n",
       "      <td>[ref_0]</td>\n",
       "      <td>[]</td>\n",
       "      <td>{'category': 'Shareholder return'}</td>\n",
       "    </tr>\n",
       "    <tr>\n",
       "      <th>11608</th>\n",
       "      <td>FinDER_1a4cebce</td>\n",
       "      <td>FinDER</td>\n",
       "      <td>Cboe's operational stability, governance in cybersecurity, and financial health.</td>\n",
       "      <td>cboe global markets inc.'s multi-layered cybersecurity governance framework plays a critical role in promoting operational stability which in turn supports its overall financial health. the framework achieves this through several key mechanisms:\\n\\n1. risk mitigation: the implementation of comprehensive policies procedures and controls—including regular cybersecurity training third-party assessments and incident response protocols—reduces the likelihood and impact of cybersecurity breaches. this safeguards the integrity confidentiality and availability of systems and data preventing costly disruptions and potential financial losses.\\n\\n2. continuous monitoring and oversight: with dedicated cybersecurity and risk management teams (including a chief information security officer and chief risk officer) and regular reviews by internal audit and the board’s risk committee the company is positioned to promptly detect and remediate vulnerabilities. this continuous monitoring minimizes operational interruptions that could adversely affect trading activities and revenue generation.\\n\\n3. vendor and third-party risk management: the framework includes rigorous assessments of high-risk vendors ensuring that external service providers also adhere to high cybersecurity standards. this broader risk management approach prevents third-party failures from compromising critical systems reinforcing overall operational reliability.\\n\\n4. regulatory compliance and stakeholder trust: adhering to best practices and industry standards helps maintain compliance with regulatory requirements. this not only shields the firm from legal and regulatory penalties but also bolsters investor and client confidence which is essential for maintaining market presence and financial stability.\\n\\n5. proactive incident response: the existence of a dedicated incident response team and regular vulnerability management activities means that any cybersecurity incidents are swiftly managed limiting operational interruptions and reducing potential financial damage.\\n\\nthough no direct numerical calculations are provided these qualitative assessments illustrate how the cybersecurity governance framework fundamentally contributes to reducing risks ensuring stable operations and thereby supporting the financial health of cboe global markets inc. by protecting revenue streams minimizing unexpected expenditure and maintaining market reputation.</td>\n",
       "      <td>[We maintain policies, procedures and controls designed to safeguard against cybersecurity incidents by protecting the confidentiality, integrity, availability and reliability of our systems, networks and information. These policies, procedures and controls are subject to monitoring, auditing, and evaluation practices, pursuant to our Enterprise Risk Management program, which is supported by a three-line defense strategy that includes, the business lines, the Enterprise Risk Management Committee, the Risk Management and Information Security Department, the Compliance Department and the Internal Audit Department., Further, we have developed and conduct at least annually cybersecurity and data privacy training programs for our employees and our third-party consultants who have access to our systems. At least annually, we also conduct simulations, tabletop exercises, independent third-party cybersecurity penetration assessments, and response readiness tests. In addition, the information technology systems of our self-regulatory organizations are subject to periodic reviews, audits, and inspections by regulatory authorities., We also conduct diligence on cybersecurity practices in connection with our overall risk assessment when evaluating expansion into new regions, strategic opportunities, and new products. We engage assessors, consultants, auditors and other third parties in connection with developing and evaluating our overall risk management framework. Additionally, our internal audit team periodically engages third parties to co-source internal audits of our information security processes. We strive to utilize best practices in our information security management and follow applicable industry standards., In support of our risk management framework, we maintain a vendor management policy and program to manage third-party risk. Embedded in our vendor management policy is a defined process to assess the risks related to new vendors. Vendors deemed to be high risk are re-assessed annually. These assessments include security questionnaires and reviews of Service Organization Controls (SOC) Reports, where applicable., Cboe uses a third-party service to help monitor the security posture of our vendors that process and/or store confidential Cboe information. We have committees, response and management teams, and dedicated positions for managing and assessing cybersecurity risk, including a Chief Information Security Officer, a Chief Risk Officer, an Enterprise Risk Management Committee and a dedicated internal information security team. Our Chief Information Security Officer and Chief Risk Officer have extensive experience in the industry., Our Chief Information Security Officer has over 20 years of experience leading information security programs including 12 years of experience in cybersecurity consulting, building efficient and sustainable cybersecurity programs for large, complex and heavily regulated global enterprises. Our Chief Information Security Officer is currently responsible for developing and executing the Company’s global security strategy and roadmap along with its long-range plan to meet industry and regional regulatory compliance requirements. We have an information security department with associates who are located around the globe., Our Chief Risk Officer’s tenure with Cboe spans 23 years, during which time he has held senior positions in information security and risk management. He is currently responsible for oversight of the Company’s risk function including the enterprise risk management, information security, privacy, vendor management, and IT asset management programs. Our incident response team is responsible for identifying potential cybersecurity incidents and communicating information regarding the nature and severity of the incident to senior management and others as required by the Company’s written Incident Response Plan., Cybersecurity incidents are tracked pursuant to our incident monitoring processes defined within the Incident Response Plan. Potential cybersecurity incidents may also be reported to our Disclosure Committee to determine if further action and/or public disclosure is required. We have also put in place a vulnerability management program through which our systems are routinely scanned to help identify vulnerabilities and track remediation activities., The Board recognizes that our business depends on the confidentiality, integrity, availability, performance, security, and reliability of our data and technology systems and devotes time and attention to the oversight of cybersecurity and information security risk. In particular, the Board’s Risk Committee receives recurring updates and reports on information security-related topics from senior management, including from the Company’s Chief Compliance Officer, Chief Risk Officer, and Chief Information Security Officer., More specifically, the Risk Committee receives recurring presentations from senior management on cybersecurity, including architecture and resiliency, incident management, business continuity and disaster recovery, significant information technology changes, data privacy, insider threats, physical security, information related to third-party cyber assessments and risks associated with the use of third party service providers. The Risk Committee also reviews and approves any changes to the related information security and privacy program charter., Further, summaries of the proceedings from prior Risk Committee meetings are provided to the Board on a routine basis. We have experienced in the past, and we expect to continue to experience, cybersecurity threats and events of varying degrees. However, we are not aware of any of these threats or events having a material impact on our business or our business strategy, results of operations or financial condition results to date. We cannot assure you that we will not experience future threats or events that may be material., Please also refer to the risk factors above for additional information.]</td>\n",
       "      <td>[]</td>\n",
       "      <td>False</td>\n",
       "      <td>None</td>\n",
       "      <td>[ref_0]</td>\n",
       "      <td>[]</td>\n",
       "      <td>{'category': 'Risk'}</td>\n",
       "    </tr>\n",
       "    <tr>\n",
       "      <th>11609</th>\n",
       "      <td>FinDER_dd6f1e96</td>\n",
       "      <td>FinDER</td>\n",
       "      <td>Fee model of Cboe incentivizes order flow liquidity for increased mkt share &amp; profit, ticker.</td>\n",
       "      <td>the provided text indicates that cboe global markets uses its fee scheduling and pricing model as a strategic tool to attract order flow and provide incentives for liquidity providers. specifically by offering competitive fee structures cboe can lower transaction costs for liquidity providers while offering rebates or fee reductions that encourage market making. this in turn helps create deep and liquid markets which attract a higher volume of order flow. the resulting increase in market depth enhances execution quality and extends cboe’s competitive advantages relative to other exchanges. although the reference does not provide specific quantitative metrics or detailed financial results the mechanism implies that these strategies not only capture greater market share (due to enhanced liquidity and order flow) but also drive profitability by increasing overall trading volumes earning network effects and achieving economies of scale. thus the dual focus on attracting order flow and incentivizing liquidity is foundational to boosting the firm’s market share which eventually translates into improved profitability in a highly competitive environment.</td>\n",
       "      <td>[Competition The industry in which we operate is intensely competitive. We believe we face competition on a number of factors, including: ●\\tprice, quality and speed of our trade and clearing execution; ●\\tfunctionality and ease of use of our trading and clearing platforms; ●\\treliability, integrity, range and functionality of our products and services; ●\\tintegrity of our marketplaces; ●\\ttechnological innovation and adaption; ●\\tour brand awareness; and ●\\tour reputation., We believe that we compete favorably with respect to these factors through a variety of methods, including: ●\\toffering access to a broad array of products and services, including proprietary products and market data; ●\\toffering fee schedules and pricing models that both attract order flow and provide incentives to liquidity providers; ●\\tproviding advanced technology that offers broad functionality, low latency, fast execution, ease of use, scalability, reliability and security;, ●\\toffering efficient, transparent and liquid marketplaces; ●\\toffering deep and liquid markets with opportunities for price improvement; ●\\toffering broad trading platform access in the EU; ●\\toffering efficient and transparent clearing services designed to help maximize netting opportunities; ●\\tmaintaining close relationships with customers; and]</td>\n",
       "      <td>[]</td>\n",
       "      <td>False</td>\n",
       "      <td>None</td>\n",
       "      <td>[ref_0]</td>\n",
       "      <td>[]</td>\n",
       "      <td>{'category': 'Company overview'}</td>\n",
       "    </tr>\n",
       "    <tr>\n",
       "      <th>11610</th>\n",
       "      <td>FinDER_a8300795</td>\n",
       "      <td>FinDER</td>\n",
       "      <td>Cboe's legal proceedings and loss accrual criteria disclosures.</td>\n",
       "      <td>cboe global markets inc. categorizes its legal proceedings and claims on the basis of their probability and estimability. the company distinguishes between unresolved legal matters that are part of its ordinary business operations and those where the outcome is inherently uncertain. specifically the company discloses:\\n\\n1. a detailed discussion of all legal proceedings and claims including various regulatory reviews inspections and other legal matters.\\n\\n2. for each matter an evaluation is made to determine the likelihood of an adverse outcome and whether a loss should be recognized. the criteria used are:\\n   • a loss is accrued if it is both probable (likely to occur) and the amount of the loss can be reasonably estimated.\\n   • if the loss is probable but cannot be reasonably estimated or if the risk is deemed only reasonably possible (or remote) no accrual is made. instead the company discloses the nature of the contingency and the potential loss amount if it is reasonably possible that a loss in excess of the accrued amount could occur.\\n\\nthis structured approach ensures that all significant legal matters are appropriately reflected in the financial disclosures thereby preventing any misleading presentation in the consolidated financial statements.</td>\n",
       "      <td>[Legal Proceedings As of December 31, 2023, the Company was subject to the various legal proceedings and claims discussed below, as well as certain other legal proceedings and claims that have not been fully resolved and that have arisen in the ordinary course of business. The Company reviews its legal proceedings and claims, regulatory reviews and inspections and other legal proceedings on an ongoing basis and follows appropriate accounting guidance when making accrual and disclosure decisions., The Company establishes accruals for those contingencies where the incurrence of a loss is probable and can be reasonably estimated, and the Company discloses the amount accrued and the amount of a reasonably possible loss in excess of the amount accrued, if such disclosure is necessary for the consolidated financial statements to not be misleading., The Company does not record liabilities when the likelihood that the liability has been incurred is probable, but the amount cannot be reasonably estimated, or when the liability is believed to be only reasonably possible or remote. The Company’s assessment of whether a loss is remote, reasonably possible, or probable is based on its assessment of the ultimate outcome of the matter following all appeals., As of December 31, 2023, the Company does not believe that there is a reasonable possibility that any material loss exceeding the amounts already recognized for these legal proceedings and claims, regulatory reviews, inspections or other legal proceedings, if any, has been incurred., While the consequences of certain unresolved proceedings are not presently determinable, the outcome of any proceeding is inherently uncertain and an adverse outcome from certain matters could have a material effect on the financial position, results of operations, or cash flows of the Company in any given reporting period.]</td>\n",
       "      <td>[]</td>\n",
       "      <td>False</td>\n",
       "      <td>None</td>\n",
       "      <td>[ref_0]</td>\n",
       "      <td>[]</td>\n",
       "      <td>{'category': 'Legal'}</td>\n",
       "    </tr>\n",
       "  </tbody>\n",
       "</table>\n",
       "</div>"
      ],
      "text/plain": [
       "                   qid dataset  \\\n",
       "11606  FinDER_9826209b  FinDER   \n",
       "11607  FinDER_30eb0cd9  FinDER   \n",
       "11608  FinDER_1a4cebce  FinDER   \n",
       "11609  FinDER_dd6f1e96  FinDER   \n",
       "11610  FinDER_a8300795  FinDER   \n",
       "\n",
       "                                                                                            question  \\\n",
       "11606                       Cboe's earnings impact from market data vs reg fees analysis for ticker.   \n",
       "11607                        Cboe’s repurchase costs & the impact of its authorization on cap alloc.   \n",
       "11608               Cboe's operational stability, governance in cybersecurity, and financial health.   \n",
       "11609  Fee model of Cboe incentivizes order flow liquidity for increased mkt share & profit, ticker.   \n",
       "11610                                Cboe's legal proceedings and loss accrual criteria disclosures.   \n",
       "\n",
       "                                                                                                                                                                                                                                                                                                                                                                                                                                                                                                                                                                                                                                                                                                                                                                                                                                                                                                                                                                                                                                                                                                                                                                                                                                                                                                                                                                                                                                                                                                                                                                                                                                                                                                                                                                                                                                                                                                                                                                                                                                                                                                                                                                                                                                                                                                                                                                                                                                                                                                                                    answer  \\\n",
       "11606                                                                                                                                                                                                                                                                                                                                                                                                                                                                                                                                                                                                                                                                                                                                                     the data provided shows that cboe global markets earns revenue from both market data fees and regulatory fees indicating a degree of revenue diversification. specifically market data fees total 293.7 million while regulatory fees total 223.7 million. this suggests that while market data fees are likely driven by a combination of product offerings and geographic diversity—given the breakdown across regions and products—the revenue from regulatory fees is largely determined by the regulatory environment which means that any changes in regulatory policy or increased regulatory costs could have a direct impact on earnings. in other words:\\n\\n1. diversification of revenue streams: the presence of multiple fee types implies that cboe is not solely dependent on trading or transaction-based revenues. market data fees which come from diverse sources and reflect a broader engagement with clients provide a more stable and potentially growing revenue stream.\\n\\n2. regulatory impact: regulatory fees while making up a slightly smaller component indicate that part of the revenue is tied to compliance and regulatory requirements. this revenue line might be less controllable by company management and more susceptible to changes in the regulatory landscape. for example if regulatory changes lead to higher fees or adjustments in how fees are calculated it could impact overall margins. conversely a stable or supportive regulatory framework might provide a predictable revenue stream.\\n\\noverall the company benefits from having multiple sources of revenue insulating it from risks associated with any single source. however it remains exposed to regulatory shifts that could impact the fee revenue structure.   \n",
       "11607                                                                                                                                                                                                                                                                                                                                                                                                                                                                                                                                                                                                                                                                                                                                                                                                   the available data on share repurchase activity allows us to assess its implications on capital allocation and overall financial health. first the cost to repurchase shares—in 2023 661721 shares were repurchased at an average cost of 126.80 per share for a total expenditure of 83.9 million while overall since inception the average repurchase price was lower at 72.21 per share (with a total outlay of 1.4 billion)—demonstrates that the company has been active in using excess cash to buy back shares. this activity can reduce the total number of outstanding shares which may enhance earnings per share (eps) and return of capital to shareholders. however repurchase activity also directly affects available liquidity as it consumes cash resources.\\n\\nfurthermore the remaining authorization of 384.0 million under the repurchase program signals that the company still has considerable flexibility in managing its capital allocation. this remaining authorization can provide a safety net or opportunity to further optimize capital structure if market conditions are favorable or if there is a need to offset dilution from other activities (like employee stock compensation). in summary while share repurchases can boost shareholder value and indicate confidence by management they must be balanced against the need to maintain adequate cash reserves for operational and strategic objectives. as such these repurchase costs and the remaining authorization reflect a deliberate capital allocation strategy that supports shareholder returns while also preserving financial flexibility contributing positively to the overall financial health when managed appropriately.   \n",
       "11608  cboe global markets inc.'s multi-layered cybersecurity governance framework plays a critical role in promoting operational stability which in turn supports its overall financial health. the framework achieves this through several key mechanisms:\\n\\n1. risk mitigation: the implementation of comprehensive policies procedures and controls—including regular cybersecurity training third-party assessments and incident response protocols—reduces the likelihood and impact of cybersecurity breaches. this safeguards the integrity confidentiality and availability of systems and data preventing costly disruptions and potential financial losses.\\n\\n2. continuous monitoring and oversight: with dedicated cybersecurity and risk management teams (including a chief information security officer and chief risk officer) and regular reviews by internal audit and the board’s risk committee the company is positioned to promptly detect and remediate vulnerabilities. this continuous monitoring minimizes operational interruptions that could adversely affect trading activities and revenue generation.\\n\\n3. vendor and third-party risk management: the framework includes rigorous assessments of high-risk vendors ensuring that external service providers also adhere to high cybersecurity standards. this broader risk management approach prevents third-party failures from compromising critical systems reinforcing overall operational reliability.\\n\\n4. regulatory compliance and stakeholder trust: adhering to best practices and industry standards helps maintain compliance with regulatory requirements. this not only shields the firm from legal and regulatory penalties but also bolsters investor and client confidence which is essential for maintaining market presence and financial stability.\\n\\n5. proactive incident response: the existence of a dedicated incident response team and regular vulnerability management activities means that any cybersecurity incidents are swiftly managed limiting operational interruptions and reducing potential financial damage.\\n\\nthough no direct numerical calculations are provided these qualitative assessments illustrate how the cybersecurity governance framework fundamentally contributes to reducing risks ensuring stable operations and thereby supporting the financial health of cboe global markets inc. by protecting revenue streams minimizing unexpected expenditure and maintaining market reputation.   \n",
       "11609                                                                                                                                                                                                                                                                                                                                                                                                                                                                                                                                                                                                                                                                                                                                                                                                                                                                                                                                                                                                                                                                                                                                                                                                                                                                                                                         the provided text indicates that cboe global markets uses its fee scheduling and pricing model as a strategic tool to attract order flow and provide incentives for liquidity providers. specifically by offering competitive fee structures cboe can lower transaction costs for liquidity providers while offering rebates or fee reductions that encourage market making. this in turn helps create deep and liquid markets which attract a higher volume of order flow. the resulting increase in market depth enhances execution quality and extends cboe’s competitive advantages relative to other exchanges. although the reference does not provide specific quantitative metrics or detailed financial results the mechanism implies that these strategies not only capture greater market share (due to enhanced liquidity and order flow) but also drive profitability by increasing overall trading volumes earning network effects and achieving economies of scale. thus the dual focus on attracting order flow and incentivizing liquidity is foundational to boosting the firm’s market share which eventually translates into improved profitability in a highly competitive environment.   \n",
       "11610                                                                                                                                                                                                                                                                                                                                                                                                                                                                                                                                                                                                                                                                                                                                                                                                                                                                                                                                                                                                                                                                                                                                                                                                         cboe global markets inc. categorizes its legal proceedings and claims on the basis of their probability and estimability. the company distinguishes between unresolved legal matters that are part of its ordinary business operations and those where the outcome is inherently uncertain. specifically the company discloses:\\n\\n1. a detailed discussion of all legal proceedings and claims including various regulatory reviews inspections and other legal matters.\\n\\n2. for each matter an evaluation is made to determine the likelihood of an adverse outcome and whether a loss should be recognized. the criteria used are:\\n   • a loss is accrued if it is both probable (likely to occur) and the amount of the loss can be reasonably estimated.\\n   • if the loss is probable but cannot be reasonably estimated or if the risk is deemed only reasonably possible (or remote) no accrual is made. instead the company discloses the nature of the contingency and the potential loss amount if it is reasonably possible that a loss in excess of the accrued amount could occur.\\n\\nthis structured approach ensures that all significant legal matters are appropriately reflected in the financial disclosures thereby preventing any misleading presentation in the consolidated financial statements.   \n",
       "\n",
       "                                                                                                                                                                                                                                                                                                                                                                                                                                                                                                                                                                                                                                                                                                                                                                                                                                                                                                                                                                                                                                                                                                                                                                                                                                                                                                                                                                                                                                                                                                                                                                                                                                                                                                                                                                                                                                                                                                                                                                                                                                                                                                                                                                                                                                                                                                                                                                                                                                                                                                                                                                                                                                                                                                                                                                                                                                                                                                                                                                                                                                                                                                                                                                                                                                                                                                                                                                                                                                                                                                                                                                                                                                                                                                                                                                                                                                                                                                                                                                                                                                                                                                                                                                                                                                                                                                                                                                                                                                                                                                                                                                                                                                                                                                                                                                                                                                                                                                                                                                                                                                                                                                                                                                                                                                                                                                                                                                                                                                                                                                                                                                                                                                                                                                                                                                                                                                                                                                                                                                                                                                                                                                                                                                                                                                                                                                        context_text  \\\n",
       "11606                                                                                                                                                                                                                                                                                                                                                                                                                                                                                                                                                                                                                                                                                                                                                                                                                                                                                                                                                                                                                                                                                                                                                                                                                                                                                                                                                                                                                                                                                                                                                                                                                                                                                                                                                                                                                                                                                                                                                                                                                                                                                                                                                                                                                                                                                                                                                                                                                                                                                                                                                                                                                                                                                                                                                                                                                                                                                                                                                                                                                                                                                                                                                                                                                                                                                                                                                                                                                                                                                                                                                                                                                                                                                                                                                                                                                                                                                                                                                                                                                                                                                                                                                                                                                                                                                                                                                                                                                                                                                                                                                                                                                                                                                                                                                                                                                                                                                                                                                                                                                                                                                                                                                                                                                                                                                                                                                                                                                                                                                              [North Corporate American Europe and Items and Options Equities Asia Pacific Futures Global FX Digital Eliminations Total Year Ended December 31, 2023 Transaction and clearing fees $ 1,583.7 $ 946.3 $ 145.6 $ 98.0 $ 62.2 $ (4.5) $ — $ 2,831.3 Access and capacity fees 161.0 117.1 36.3 22.0 10.7, 0.4 — 347.5 Market data fees 118.8 128.3 36.7 8.5 1.4 — — 293.7 Regulatory fees 69.6 153.8 — 0.3 — — — 223.7 Other revenue 6.4 7.5 62.6 0.2 0.6 — — 77.3 $ 1,939.5 $, 1,353.0 $ 281.2 $ 129.0 $ 74.9 $ (4.1) $ — $ 3,773.5 Timing of revenue recognition Services transferred at a point in time $ 1,659.7 $ 1,107.6 $ 208.2 $ 98.5 $ 62.8 $ (4.5) $ — $ 3,132.3 Services transferred over time 279.8, 245.4 73.0 30.5 12.1 0.4 — 641.2 $ 1,939.5 $ 1,353.0 $ 281.2 $ 129.0 $ 74.9 $ (4.1) $ — $ 3,773.5]   \n",
       "11607                                                                                                                                                                                                                                                                                                                                                                                                                                                                                                                                                                                                                                                                                                                                                                                                                                                                                                                                                                                                                                                                                                                                                                                                                                                                                                                                                                                                                                                                                                                                                                                                                                                                                                                                                                                                                                                                                                                                                                                                                                                                                                                                                                                                                                                                                                                                                                                                                                                                                                                                                                                                                                                                                                                                                                                                                                                                                                                                                                                                                                                                                                                                                                                                                                                                                                                                                                                                                                                                                                                                                                                                                                                                                                                                                                                                                                                                                                                                                                                                                                                                                                                                                                                                                                                                                                                                                                                                                                                                                                                                                                                                                                                                                                                                                                                                                                                                                                                                                                                                                                                                                                                                                                                                                            [In 2011, the Board of Directors approved an initial authorization for the Company to repurchase shares of its outstanding common stock of $100 million and subsequently approved additional authorizations, for a total authorization of $1.8 billion. The program permits the Company to purchase shares, through a variety of methods, including in the open market or through privately negotiated transactions, in accordance with applicable securities laws. It does not obligate the Company to make any repurchases at any specific time or situation., Under the program, for the year ended December 31, 2023, the Company repurchased 661,721 shares of common stock at an average cost per share of $126.80, totaling $83.9 million. Since inception of the program through December 31, 2023, the Company has repurchased 19,610,088 shares of common stock at an average cost per share of $72.21, totaling $1.4 billion., As of December 31, 2023, the Company had $384.0 million of availability remaining under its existing share repurchase authorizations. 64]   \n",
       "11608  [We maintain policies, procedures and controls designed to safeguard against cybersecurity incidents by protecting the confidentiality, integrity, availability and reliability of our systems, networks and information. These policies, procedures and controls are subject to monitoring, auditing, and evaluation practices, pursuant to our Enterprise Risk Management program, which is supported by a three-line defense strategy that includes, the business lines, the Enterprise Risk Management Committee, the Risk Management and Information Security Department, the Compliance Department and the Internal Audit Department., Further, we have developed and conduct at least annually cybersecurity and data privacy training programs for our employees and our third-party consultants who have access to our systems. At least annually, we also conduct simulations, tabletop exercises, independent third-party cybersecurity penetration assessments, and response readiness tests. In addition, the information technology systems of our self-regulatory organizations are subject to periodic reviews, audits, and inspections by regulatory authorities., We also conduct diligence on cybersecurity practices in connection with our overall risk assessment when evaluating expansion into new regions, strategic opportunities, and new products. We engage assessors, consultants, auditors and other third parties in connection with developing and evaluating our overall risk management framework. Additionally, our internal audit team periodically engages third parties to co-source internal audits of our information security processes. We strive to utilize best practices in our information security management and follow applicable industry standards., In support of our risk management framework, we maintain a vendor management policy and program to manage third-party risk. Embedded in our vendor management policy is a defined process to assess the risks related to new vendors. Vendors deemed to be high risk are re-assessed annually. These assessments include security questionnaires and reviews of Service Organization Controls (SOC) Reports, where applicable., Cboe uses a third-party service to help monitor the security posture of our vendors that process and/or store confidential Cboe information. We have committees, response and management teams, and dedicated positions for managing and assessing cybersecurity risk, including a Chief Information Security Officer, a Chief Risk Officer, an Enterprise Risk Management Committee and a dedicated internal information security team. Our Chief Information Security Officer and Chief Risk Officer have extensive experience in the industry., Our Chief Information Security Officer has over 20 years of experience leading information security programs including 12 years of experience in cybersecurity consulting, building efficient and sustainable cybersecurity programs for large, complex and heavily regulated global enterprises. Our Chief Information Security Officer is currently responsible for developing and executing the Company’s global security strategy and roadmap along with its long-range plan to meet industry and regional regulatory compliance requirements. We have an information security department with associates who are located around the globe., Our Chief Risk Officer’s tenure with Cboe spans 23 years, during which time he has held senior positions in information security and risk management. He is currently responsible for oversight of the Company’s risk function including the enterprise risk management, information security, privacy, vendor management, and IT asset management programs. Our incident response team is responsible for identifying potential cybersecurity incidents and communicating information regarding the nature and severity of the incident to senior management and others as required by the Company’s written Incident Response Plan., Cybersecurity incidents are tracked pursuant to our incident monitoring processes defined within the Incident Response Plan. Potential cybersecurity incidents may also be reported to our Disclosure Committee to determine if further action and/or public disclosure is required. We have also put in place a vulnerability management program through which our systems are routinely scanned to help identify vulnerabilities and track remediation activities., The Board recognizes that our business depends on the confidentiality, integrity, availability, performance, security, and reliability of our data and technology systems and devotes time and attention to the oversight of cybersecurity and information security risk. In particular, the Board’s Risk Committee receives recurring updates and reports on information security-related topics from senior management, including from the Company’s Chief Compliance Officer, Chief Risk Officer, and Chief Information Security Officer., More specifically, the Risk Committee receives recurring presentations from senior management on cybersecurity, including architecture and resiliency, incident management, business continuity and disaster recovery, significant information technology changes, data privacy, insider threats, physical security, information related to third-party cyber assessments and risks associated with the use of third party service providers. The Risk Committee also reviews and approves any changes to the related information security and privacy program charter., Further, summaries of the proceedings from prior Risk Committee meetings are provided to the Board on a routine basis. We have experienced in the past, and we expect to continue to experience, cybersecurity threats and events of varying degrees. However, we are not aware of any of these threats or events having a material impact on our business or our business strategy, results of operations or financial condition results to date. We cannot assure you that we will not experience future threats or events that may be material., Please also refer to the risk factors above for additional information.]   \n",
       "11609                                                                                                                                                                                                                                                                                                                                                                                                                                                                                                                                                                                                                                                                                                                                                                                                                                                                                                                                                                                                                                                                                                                                                                                                                                                                                                                                                                                                                                                                                                                                                                                                                                                                                                                                                                                                                                                                                                                                                                                                                                                                                                                                                                                                                                                                                                                                                                                                                                                                                                                                                                                                                                                                                                                                                                                                                                                                                                                                                                                                                                                                                                                                                                                                                                                                                                                                                                                                                                                                                                                                                                                                                                                                                                                                                                                                                                                                                                                                                                                                                                                                                                                                                                                                                                                                                                                                                                                                                                                                                                                                                                                                                                                                                                                                                                                                                                                                                                                                         [Competition The industry in which we operate is intensely competitive. We believe we face competition on a number of factors, including: ●\\tprice, quality and speed of our trade and clearing execution; ●\\tfunctionality and ease of use of our trading and clearing platforms; ●\\treliability, integrity, range and functionality of our products and services; ●\\tintegrity of our marketplaces; ●\\ttechnological innovation and adaption; ●\\tour brand awareness; and ●\\tour reputation., We believe that we compete favorably with respect to these factors through a variety of methods, including: ●\\toffering access to a broad array of products and services, including proprietary products and market data; ●\\toffering fee schedules and pricing models that both attract order flow and provide incentives to liquidity providers; ●\\tproviding advanced technology that offers broad functionality, low latency, fast execution, ease of use, scalability, reliability and security;, ●\\toffering efficient, transparent and liquid marketplaces; ●\\toffering deep and liquid markets with opportunities for price improvement; ●\\toffering broad trading platform access in the EU; ●\\toffering efficient and transparent clearing services designed to help maximize netting opportunities; ●\\tmaintaining close relationships with customers; and]   \n",
       "11610                                                                                                                                                                                                                                                                                                                                                                                                                                                                                                                                                                                                                                                                                                                                                                                                                                                                                                                                                                                                                                                                                                                                                                                                                                                                                                                                                                                                                                                                                                                                                                                                                                                                                                                                                                                                                                                                                                                                                                                                                                                                                                                                                                                                                                                                                                                                                                                                                                                                                                                                                                                                                                                                                                                                                                                                                                                                                                                                                                                                                                                                                                                                                                                                                                                                                                                                                                                                                                                                                                                                                                                                                                                                                                                                                                                                                                                                                                                                                                                                                                                                                                                                                                                                                                                                                                                                                            [Legal Proceedings As of December 31, 2023, the Company was subject to the various legal proceedings and claims discussed below, as well as certain other legal proceedings and claims that have not been fully resolved and that have arisen in the ordinary course of business. The Company reviews its legal proceedings and claims, regulatory reviews and inspections and other legal proceedings on an ongoing basis and follows appropriate accounting guidance when making accrual and disclosure decisions., The Company establishes accruals for those contingencies where the incurrence of a loss is probable and can be reasonably estimated, and the Company discloses the amount accrued and the amount of a reasonably possible loss in excess of the amount accrued, if such disclosure is necessary for the consolidated financial statements to not be misleading., The Company does not record liabilities when the likelihood that the liability has been incurred is probable, but the amount cannot be reasonably estimated, or when the liability is believed to be only reasonably possible or remote. The Company’s assessment of whether a loss is remote, reasonably possible, or probable is based on its assessment of the ultimate outcome of the matter following all appeals., As of December 31, 2023, the Company does not believe that there is a reasonable possibility that any material loss exceeding the amounts already recognized for these legal proceedings and claims, regulatory reviews, inspections or other legal proceedings, if any, has been incurred., While the consequences of certain unresolved proceedings are not presently determinable, the outcome of any proceeding is inherently uncertain and an adverse outcome from certain matters could have a material effect on the financial position, results of operations, or cash flows of the Company in any given reporting period.]   \n",
       "\n",
       "      context_table  reasoning reason_type gold_text_id gold_table_row  \\\n",
       "11606            []      False        None      [ref_0]             []   \n",
       "11607            []      False        None      [ref_0]             []   \n",
       "11608            []      False        None      [ref_0]             []   \n",
       "11609            []      False        None      [ref_0]             []   \n",
       "11610            []      False        None      [ref_0]             []   \n",
       "\n",
       "                                     meta  \n",
       "11606           {'category': 'Footnotes'}  \n",
       "11607  {'category': 'Shareholder return'}  \n",
       "11608                {'category': 'Risk'}  \n",
       "11609    {'category': 'Company overview'}  \n",
       "11610               {'category': 'Legal'}  "
      ]
     },
     "execution_count": 95,
     "metadata": {},
     "output_type": "execute_result"
    }
   ],
   "source": [
    "# For both None and NaN (recommended)\n",
    "df_reason_none = df[df['reason_type']==\"None\"]\n",
    "\n",
    "df_reason_none.head()"
   ]
  },
  {
   "cell_type": "code",
   "execution_count": 86,
   "metadata": {},
   "outputs": [
    {
     "name": "stdout",
     "output_type": "stream",
     "text": [
      "(8335, 11)\n"
     ]
    }
   ],
   "source": [
    "# Matches Python None, np.nan, and the string \"None\"\n",
    "df_reason_none = df[\n",
    "(df['reasoning'] == False)\n",
    "]\n",
    "print(df_reason_none.shape)"
   ]
  },
  {
   "cell_type": "code",
   "execution_count": 90,
   "metadata": {},
   "outputs": [
    {
     "name": "stdout",
     "output_type": "stream",
     "text": [
      "Minimum context size: 1\n",
      "Maximum context size: 92\n"
     ]
    }
   ],
   "source": [
    "# Calculate the length of context_text for each row\n",
    "context_lengths = df['context_text'].apply(len)\n",
    "\n",
    "# Find the minimum and maximum\n",
    "min_context = context_lengths.min()\n",
    "max_context = context_lengths.max()\n",
    "\n",
    "print(f\"Minimum context size: {min_context}\")\n",
    "print(f\"Maximum context size: {max_context}\")"
   ]
  },
  {
   "cell_type": "code",
   "execution_count": 94,
   "metadata": {},
   "outputs": [
    {
     "data": {
      "image/png": "[encoded data removed]",
      "text/plain": [
       "<Figure size 800x400 with 1 Axes>"
      ]
     },
     "metadata": {},
     "output_type": "display_data"
    }
   ],
   "source": [
    "import matplotlib.pyplot as plt\n",
    "\n",
    "# Calculate the length of context_text for each row\n",
    "context_lengths = df['context_text'].apply(len)\n",
    "\n",
    "# Plot the distribution\n",
    "plt.figure(figsize=(8, 4))\n",
    "plt.hist(context_lengths, bins=50, edgecolor='black')\n",
    "plt.xlabel(\"Context length (number of segments in context_text)\")\n",
    "plt.ylabel(\"Number of samples\")\n",
    "plt.title(\"Distribution of context_text length in dataset\")\n",
    "plt.show()"
   ]
  },
  {
   "cell_type": "code",
   "execution_count": 100,
   "metadata": {},
   "outputs": [
    {
     "data": {
      "text/plain": [
       "(106, 2)"
      ]
     },
     "execution_count": 100,
     "metadata": {},
     "output_type": "execute_result"
    }
   ],
   "source": [
    "# Calculate the length of each answer\n",
    "answer_lengths = df['answer'].apply(lambda x: len(str(x)) if x is not None else 0)\n",
    "\n",
    "# Find the minimum answer length\n",
    "min_length = answer_lengths.min()\n",
    "#print(f\"Minimum answer length: {min_length}\")\n",
    "\n",
    "# Filter the DataFrame for samples with the shortest answer\n",
    "shortest_answers_df = df[answer_lengths == min_length]\n",
    "\n",
    "shortest_answers_df[['question', 'answer']].shape"
   ]
  },
  {
   "cell_type": "code",
   "execution_count": 102,
   "metadata": {},
   "outputs": [
    {
     "name": "stdout",
     "output_type": "stream",
     "text": [
      "Number of samples with empty answers: 106\n"
     ]
    }
   ],
   "source": [
    "empty_answer_count = df['answer'].apply(lambda x: x is None or (isinstance(x, str) and x.strip() == \"\")).sum()\n",
    "print(f\"Number of samples with empty answers: {empty_answer_count}\")"
   ]
  },
  {
   "cell_type": "code",
   "execution_count": 103,
   "metadata": {},
   "outputs": [
    {
     "data": {
      "text/plain": [
       "(17307, 11)"
      ]
     },
     "execution_count": 103,
     "metadata": {},
     "output_type": "execute_result"
    }
   ],
   "source": [
    "df.shape"
   ]
  },
  {
   "cell_type": "code",
   "execution_count": 104,
   "metadata": {},
   "outputs": [
    {
     "name": "stdout",
     "output_type": "stream",
     "text": [
      "Remaining samples after dropping empty answers: 17201\n"
     ]
    }
   ],
   "source": [
    "df = df[~df['answer'].apply(lambda x: x is None or (isinstance(x, str) and x.strip() == \"\"))]\n",
    "print(f\"Remaining samples after dropping empty answers: {len(df)}\")"
   ]
  },
  {
   "cell_type": "code",
   "execution_count": 106,
   "metadata": {},
   "outputs": [
    {
     "name": "stdout",
     "output_type": "stream",
     "text": [
      "Number of samples with empty questions: 0\n"
     ]
    }
   ],
   "source": [
    "empty_question_count = df['question'].apply(lambda x: x is None or (isinstance(x, str) and x.strip() == \"\")).sum()\n",
    "print(f\"Number of samples with empty questions: {empty_question_count}\")"
   ]
  },
  {
   "cell_type": "code",
   "execution_count": 108,
   "metadata": {},
   "outputs": [],
   "source": [
    "# Calculate the length of each answer\n",
    "answer_lengths = df['answer'].apply(lambda x: len(str(x)) if x is not None else 0)"
   ]
  },
  {
   "cell_type": "code",
   "execution_count": 110,
   "metadata": {},
   "outputs": [
    {
     "name": "stdout",
     "output_type": "stream",
     "text": [
      "1\n"
     ]
    }
   ],
   "source": [
    "min_length = answer_lengths.min()\n",
    "print(min_length)  "
   ]
  },
  {
   "cell_type": "code",
   "execution_count": 112,
   "metadata": {},
   "outputs": [
    {
     "data": {
      "text/html": [
       "<div>\n",
       "<style scoped>\n",
       "    .dataframe tbody tr th:only-of-type {\n",
       "        vertical-align: middle;\n",
       "    }\n",
       "\n",
       "    .dataframe tbody tr th {\n",
       "        vertical-align: top;\n",
       "    }\n",
       "\n",
       "    .dataframe thead th {\n",
       "        text-align: right;\n",
       "    }\n",
       "</style>\n",
       "<table border=\"1\" class=\"dataframe\">\n",
       "  <thead>\n",
       "    <tr style=\"text-align: right;\">\n",
       "      <th></th>\n",
       "      <th>question</th>\n",
       "      <th>answer</th>\n",
       "    </tr>\n",
       "  </thead>\n",
       "  <tbody>\n",
       "    <tr>\n",
       "      <th>23</th>\n",
       "      <td>what was the net notional amounts of purchases and sales under sfas 140 in 2003 ( us$ b ) ?</td>\n",
       "      <td>7</td>\n",
       "    </tr>\n",
       "    <tr>\n",
       "      <th>143</th>\n",
       "      <td>how much of the oil production is estimated to be produced from unproved reserves at dec 31 , 2004 , in mmbbls?</td>\n",
       "      <td>3</td>\n",
       "    </tr>\n",
       "    <tr>\n",
       "      <th>321</th>\n",
       "      <td>what was the ratio of the increase in the operating profit for m&amp;fc to pt&amp;ts</td>\n",
       "      <td>8</td>\n",
       "    </tr>\n",
       "    <tr>\n",
       "      <th>345</th>\n",
       "      <td>what is the liability for interest and penalties as of december 31 , 2017?</td>\n",
       "      <td>0</td>\n",
       "    </tr>\n",
       "    <tr>\n",
       "      <th>349</th>\n",
       "      <td>for 2001 what was the net change in aoci in millions?\\\\n</td>\n",
       "      <td>2</td>\n",
       "    </tr>\n",
       "  </tbody>\n",
       "</table>\n",
       "</div>"
      ],
      "text/plain": [
       "                                                                                                            question  \\\n",
       "23                       what was the net notional amounts of purchases and sales under sfas 140 in 2003 ( us$ b ) ?   \n",
       "143  how much of the oil production is estimated to be produced from unproved reserves at dec 31 , 2004 , in mmbbls?   \n",
       "321                                     what was the ratio of the increase in the operating profit for m&fc to pt&ts   \n",
       "345                                       what is the liability for interest and penalties as of december 31 , 2017?   \n",
       "349                                                         for 2001 what was the net change in aoci in millions?\\\\n   \n",
       "\n",
       "    answer  \n",
       "23       7  \n",
       "143      3  \n",
       "321      8  \n",
       "345      0  \n",
       "349      2  "
      ]
     },
     "execution_count": 112,
     "metadata": {},
     "output_type": "execute_result"
    }
   ],
   "source": [
    "\n",
    "# Filter the DataFrame for samples with the shortest answer\n",
    "shortest_answers_df = df[answer_lengths == min_length]\n",
    "\n",
    "shortest_answers_df[['question', 'answer']].head()"
   ]
  },
  {
   "cell_type": "code",
   "execution_count": 109,
   "metadata": {},
   "outputs": [
    {
     "data": {
      "image/png": "[encoded data removed]",
      "text/plain": [
       "<Figure size 800x400 with 1 Axes>"
      ]
     },
     "metadata": {},
     "output_type": "display_data"
    }
   ],
   "source": [
    "# Calculate the length of context_text for each row\n",
    "\n",
    "\n",
    "# Plot the distribution\n",
    "plt.figure(figsize=(8, 4))\n",
    "plt.hist(answer_lengths, bins=50, edgecolor='black')\n",
    "plt.xlabel(\"Context length (number of segments in context_text)\")\n",
    "plt.ylabel(\"Number of samples\")\n",
    "plt.title(\"Distribution of context_text length in dataset\")\n",
    "plt.show()"
   ]
  },
  {
   "cell_type": "code",
   "execution_count": 113,
   "metadata": {},
   "outputs": [
    {
     "name": "stdout",
     "output_type": "stream",
     "text": [
      "Sample dialogue_break:\n",
      "  Turn 0: what is the net cash from operating activities in 2009?\n",
      "  Turn 1: what about in 2008?\n",
      "  Turn 2: what is the difference?\n",
      "  Turn 3: what percentage change does this represent?\n",
      "---\n",
      "Sample dialogue_break:\n",
      "  Turn 0: what is the net cash from operating activities in 2009?\n",
      "  Turn 1: what about in 2008?\n",
      "  Turn 2: what is the difference?\n",
      "  Turn 3: what percentage change does this represent?\n",
      "---\n",
      "Sample dialogue_break:\n",
      "  Turn 0: what is the net cash from operating activities in 2009?\n",
      "  Turn 1: what about in 2008?\n",
      "  Turn 2: what is the difference?\n",
      "  Turn 3: what percentage change does this represent?\n",
      "---\n"
     ]
    }
   ],
   "source": [
    "for s in convinqa_processed[:3]:\n",
    "    dialogue = s.get(\"meta\", {}).get(\"dialogue_break\", [])\n",
    "    print(\"Sample dialogue_break:\")\n",
    "    for i, turn in enumerate(dialogue):\n",
    "        print(f\"  Turn {i}: {turn}\")\n",
    "    print(\"---\")"
   ]
  },
  {
   "cell_type": "code",
   "execution_count": 114,
   "metadata": {},
   "outputs": [],
   "source": [
    "for s in convinqa_processed[:10]:\n",
    "    dialogue = s.get(\"meta\", {}).get(\"dialogue_break\", [])\n",
    "    for turn in dialogue:\n",
    "        if isinstance(turn, dict) and \"answer\" in turn:\n",
    "            print(\"Found a turn with an answer:\", turn)\n",
    "            break"
   ]
  },
  {
   "cell_type": "markdown",
   "metadata": {},
   "source": [
    "### Splitting the dataset\n",
    "To assess the retrievers performance on task that highlight different aspects of a retriever we are performing label-stratified hierarchical splitting. This preserves the statistical power tor per-category metrics while guaranteeing no lexical overlap that ouwld inflate retrieval accuracy. <br>\n",
    "\n",
    "We define the following task-based labels to characterize the retrieval demands: <br>\n",
    "- Lookup - targets retrieval precision, requiring direct fact retrieval from a single passage \n",
    "- Complex query - it assess the retrievers performance on vague or ambiguous queries \n",
    "- Multi-turn - Measures contextual understanding, evaluting how well the retriever incoporates dialogue history in conversational settings \n",
    "\n",
    "In addition to these primary categories, we also consider whether a question requires numerical reasoning with more than one input. This flag allows us to isolate retrieval performance in settings where agggregated or compositional evidence is required. This aspect however will not be used controlling the split but for the subsequent evaluation. <br>\n",
    "\n",
    "Together, this labeling and splitting strategy ensures coverage across a meaningful spectrum of QA difficulty, grounded in the practical demands of financial document question answering. Stratified splitting ensures that each subset (train/val/test) reflects this diversity and preevnt data leakage. "
   ]
  },
  {
   "cell_type": "code",
   "execution_count": 6,
   "metadata": {},
   "outputs": [],
   "source": [
    "from sklearn.model_selection import train_test_split"
   ]
  },
  {
   "cell_type": "code",
   "execution_count": 4,
   "metadata": {},
   "outputs": [],
   "source": [
    "with open(\"/Users/christel/Desktop/Thesis/thesis_repo/data/data_processed/merged_dataset.json\") as f:\n",
    "    merged_dataset = json.load(f)\n",
    "\n",
    "df = pd.DataFrame(merged_dataset)"
   ]
  },
  {
   "cell_type": "code",
   "execution_count": 7,
   "metadata": {},
   "outputs": [
    {
     "name": "stdout",
     "output_type": "stream",
     "text": [
      "Train: 13845, Val: 1731, Test: 1731\n"
     ]
    }
   ],
   "source": [
    "# First, split off the test set (10%)\n",
    "train_val_df, test_df = train_test_split(\n",
    "    df,\n",
    "    test_size=0.1,\n",
    "    stratify=df['dataset'],\n",
    "    random_state=42\n",
    ")\n",
    "\n",
    "# Then, split the remaining into train (80%) and val (10%)\n",
    "# Since test is 10%, train+val is 90%, so val should be 1/9 of train_val\n",
    "val_size = 1 / 9\n",
    "\n",
    "train_df, val_df = train_test_split(\n",
    "    train_val_df,\n",
    "    test_size=val_size,\n",
    "    stratify=train_val_df['dataset'],\n",
    "    random_state=42\n",
    ")\n",
    "\n",
    "print(f\"Train: {len(train_df)}, Val: {len(val_df)}, Test: {len(test_df)}\")"
   ]
  },
  {
   "cell_type": "code",
   "execution_count": 8,
   "metadata": {},
   "outputs": [
    {
     "name": "stdout",
     "output_type": "stream",
     "text": [
      "Train split distribution:\n",
      "dataset\n",
      "FinQA        0.361213\n",
      "FinDER       0.329505\n",
      "ConvFinQA    0.309281\n",
      "Name: proportion, dtype: float64\n",
      "dataset\n",
      "FinQA        5001\n",
      "FinDER       4562\n",
      "ConvFinQA    4282\n",
      "Name: count, dtype: int64\n",
      "\n",
      "Validation split distribution:\n",
      "dataset\n",
      "FinQA        0.361063\n",
      "FinDER       0.329289\n",
      "ConvFinQA    0.309648\n",
      "Name: proportion, dtype: float64\n",
      "dataset\n",
      "FinQA        625\n",
      "FinDER       570\n",
      "ConvFinQA    536\n",
      "Name: count, dtype: int64\n",
      "\n",
      "Test split distribution:\n",
      "dataset\n",
      "FinQA        0.361063\n",
      "FinDER       0.329867\n",
      "ConvFinQA    0.309070\n",
      "Name: proportion, dtype: float64\n",
      "dataset\n",
      "FinQA        625\n",
      "FinDER       571\n",
      "ConvFinQA    535\n",
      "Name: count, dtype: int64\n"
     ]
    }
   ],
   "source": [
    "print(\"Train split distribution:\")\n",
    "print(train_df['dataset'].value_counts(normalize=True))  # Shows proportions\n",
    "print(train_df['dataset'].value_counts())               # Shows counts\n",
    "\n",
    "print(\"\\nValidation split distribution:\")\n",
    "print(val_df['dataset'].value_counts(normalize=True))\n",
    "print(val_df['dataset'].value_counts())\n",
    "\n",
    "print(\"\\nTest split distribution:\")\n",
    "print(test_df['dataset'].value_counts(normalize=True))\n",
    "print(test_df['dataset'].value_counts())"
   ]
  },
  {
   "cell_type": "code",
   "execution_count": 9,
   "metadata": {},
   "outputs": [],
   "source": [
    "train_df.to_json(\"/Users/christel/Desktop/Thesis/thesis_repo/data/data_processed/Train_Val_Test/df_train.json\", orient=\"records\")\n",
    "val_df.to_json(\"/Users/christel/Desktop/Thesis/thesis_repo/data/data_processed/Train_Val_Test/df_val.json\", orient=\"records\")\n",
    "test_df.to_json(\"/Users/christel/Desktop/Thesis/thesis_repo/data/data_processed/Train_Val_Test/df_test.json\", orient=\"records\")"
   ]
  }
 ],
 "metadata": {
  "kernelspec": {
   "display_name": "venv",
   "language": "python",
   "name": "python3"
  },
  "language_info": {
   "codemirror_mode": {
    "name": "ipython",
    "version": 3
   },
   "file_extension": ".py",
   "mimetype": "text/x-python",
   "name": "python",
   "nbconvert_exporter": "python",
   "pygments_lexer": "ipython3",
   "version": "3.9.6"
  }
 },
 "nbformat": 4,
 "nbformat_minor": 2
}
