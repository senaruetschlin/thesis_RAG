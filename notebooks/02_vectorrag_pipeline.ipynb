{
 "cells": [
  {
   "cell_type": "code",
   "execution_count": 1,
   "id": "ec0bd0b0",
   "metadata": {},
   "outputs": [
    {
     "name": "stdout",
     "output_type": "stream",
     "text": [
      "Using MPS\n"
     ]
    }
   ],
   "source": [
    "import sys\n",
    "from pathlib import Path\n",
    "import pandas as pd\n",
    "\n",
    "# Add /src to sys.path (assumes you are in notebooks/)\n",
    "sys.path.append(str(Path().resolve().parent / \"src\"))\n",
    "\n",
    "import json\n",
    "import torch\n",
    "from vectorrag.chunker import chunk_finder_sample, chunk_all\n",
    "from vectorrag.embedder import embed_passages, embed_query\n",
    "from vectorrag.retriever import build_faiss_index, search, save_index, load_index, rerank_search\n",
    "from generator import ChatGPTGenerator"
   ]
  },
  {
   "cell_type": "markdown",
   "id": "5d57950f",
   "metadata": {},
   "source": [
    "# VectorRAG Pipeline\n",
    "\n",
    "This implementation defines a modular and extensible VectorRAG system for financial document question answering, supporting evaluation on datasets such as FinQA and FinDER. It is designed to run efficiently on local hardware, including Apple Silicon (M1/M2).\n",
    "\n",
    "## Pipeline Overview\n",
    "\n",
    "### Step 1 – Chunking\n",
    "`chunker.py` splits each document sample into text and table-based passages using the `chunk_finder_sample()` function. This preserves document structure and prepares it for fine-grained retrieval.\n",
    "\n",
    "### Step 2 – Embedding\n",
    "`embedder.py` encodes all chunks into vector representations using the `BAAI/bge-base-en-v1.5` model. Batching and MPS acceleration are used for efficient local inference on MacBook hardware.\n",
    "\n",
    "### Step 3 – Indexing\n",
    "The resulting chunk embeddings are indexed using FAISS with L2 similarity (`retriever.py`), allowing fast nearest-neighbor retrieval.\n",
    "\n",
    "### Step 4 – Dense Retrieval\n",
    "Given a user query, `embed_query()` embeds it into the same space and retrieves the top-k similar chunks from the FAISS index.\n",
    "\n",
    "### Step 5 – Cross-Encoder Reranking (optional)\n",
    "If enabled, `reranker.py` re-scores the top-k retrieved documents using a cross-encoder (`cross-encoder/ms-marco-MiniLM-L-6-v2`) for improved semantic relevance.\n",
    "\n",
    "### Step 6 – Answer Generation\n",
    "`generator.py` uses the top reranked chunks to construct a prompt for the OpenAI API (or local Fin-R1 model), generating a grounded answer to the user query.\n",
    "\n",
    "---\n",
    "\n",
    "## Key Features\n",
    "\n",
    "- Embedding model: `BAAI/bge-base-en-v1.5`\n",
    "- FAISS-based vector retrieval (L2 similarity)\n",
    "- Optional cross-encoder reranking via `cross-encoder/ms-marco-MiniLM-L-6-v2`\n",
    "- Modular architecture for easy experimentation\n",
    "- Optimized for CPU or MPS (Mac) environments"
   ]
  },
  {
   "cell_type": "code",
   "execution_count": 2,
   "id": "5c969bf1",
   "metadata": {},
   "outputs": [],
   "source": [
    "import json\n",
    "\n",
    "with open(\"//Users/alex/Documents/Data Science Master/thesis_RAG/data/data_processed/merged_dataset.json\", 'r') as f:\n",
    "    merged_dataset = [json.loads(line) for line in f]\n",
    "\n",
    "#df = pd.DataFrame(merged_dataset)"
   ]
  },
  {
   "cell_type": "code",
   "execution_count": 7,
   "id": "6d2e351f",
   "metadata": {},
   "outputs": [
    {
     "data": {
      "text/html": [
       "<div>\n",
       "<style scoped>\n",
       "    .dataframe tbody tr th:only-of-type {\n",
       "        vertical-align: middle;\n",
       "    }\n",
       "\n",
       "    .dataframe tbody tr th {\n",
       "        vertical-align: top;\n",
       "    }\n",
       "\n",
       "    .dataframe thead th {\n",
       "        text-align: right;\n",
       "    }\n",
       "</style>\n",
       "<table border=\"1\" class=\"dataframe\">\n",
       "  <thead>\n",
       "    <tr style=\"text-align: right;\">\n",
       "      <th></th>\n",
       "      <th>ID</th>\n",
       "      <th>question</th>\n",
       "      <th>answer</th>\n",
       "      <th>context</th>\n",
       "      <th>gold_context</th>\n",
       "      <th>operation</th>\n",
       "      <th>source</th>\n",
       "    </tr>\n",
       "  </thead>\n",
       "  <tbody>\n",
       "    <tr>\n",
       "      <th>0</th>\n",
       "      <td>ADI/2009/page_49.pdf</td>\n",
       "      <td>what is the the interest expense in 2009?</td>\n",
       "      <td>380</td>\n",
       "      <td>['interest rate to a variable interest rate ba...</td>\n",
       "      <td>{'text_1': 'if libor changes by 100 basis poin...</td>\n",
       "      <td>divide(100, 100), divide(3.8, #0)</td>\n",
       "      <td>FinQA</td>\n",
       "    </tr>\n",
       "    <tr>\n",
       "      <th>1</th>\n",
       "      <td>AAL/2018/page_13.pdf</td>\n",
       "      <td>what was the total operating expenses in 2018 ...</td>\n",
       "      <td>41932</td>\n",
       "      <td>['the following table shows annual aircraft fu...</td>\n",
       "      <td>{'table_1': 'year the 2018 of gallons is 4447 ...</td>\n",
       "      <td>divide(9896, 23.6%)</td>\n",
       "      <td>FinQA</td>\n",
       "    </tr>\n",
       "    <tr>\n",
       "      <th>2</th>\n",
       "      <td>INTC/2013/page_71.pdf</td>\n",
       "      <td>what percentage of total cash and investments ...</td>\n",
       "      <td>53%</td>\n",
       "      <td>['the fair value of our grants receivable is d...</td>\n",
       "      <td>{'table_1': '( in millions ) the available-for...</td>\n",
       "      <td>divide(14001, 26302)</td>\n",
       "      <td>FinQA</td>\n",
       "    </tr>\n",
       "    <tr>\n",
       "      <th>3</th>\n",
       "      <td>ETR/2008/page_313.pdf</td>\n",
       "      <td>what is the growth rate in net revenue in 2008?</td>\n",
       "      <td>-3.2%</td>\n",
       "      <td>[\"entergy louisiana , llc management's financi...</td>\n",
       "      <td>{'table_1': 'the 2007 net revenue of amount ( ...</td>\n",
       "      <td>subtract(959.2, 991.1), divide(#0, 991.1)</td>\n",
       "      <td>FinQA</td>\n",
       "    </tr>\n",
       "    <tr>\n",
       "      <th>4</th>\n",
       "      <td>C/2010/page_272.pdf</td>\n",
       "      <td>what was the growth rate of the loans held-for...</td>\n",
       "      <td>56.25%</td>\n",
       "      <td>['the significant changes from december 31 , 2...</td>\n",
       "      <td>{'table_1': 'in billions of dollars the decemb...</td>\n",
       "      <td>divide(2.5, 1.6), divide(#0, 1.6)</td>\n",
       "      <td>FinQA</td>\n",
       "    </tr>\n",
       "    <tr>\n",
       "      <th>5</th>\n",
       "      <td>AMT/2012/page_121.pdf</td>\n",
       "      <td>for acquired customer-related and network loca...</td>\n",
       "      <td>7.4</td>\n",
       "      <td>['american tower corporation and subsidiaries ...</td>\n",
       "      <td>{'text_0': 'american tower corporation and sub...</td>\n",
       "      <td>add(75.0, 72.7), divide(#0, 20)</td>\n",
       "      <td>FinQA</td>\n",
       "    </tr>\n",
       "    <tr>\n",
       "      <th>6</th>\n",
       "      <td>GIS/2019/page_45.pdf</td>\n",
       "      <td>in 2019 what was the percent of the net earnin...</td>\n",
       "      <td>63.6%</td>\n",
       "      <td>['free cash flow conversion rate we believe th...</td>\n",
       "      <td>{'table_1': 'in millions the net earnings incl...</td>\n",
       "      <td>divide(1786.2, 2807.0)</td>\n",
       "      <td>FinQA</td>\n",
       "    </tr>\n",
       "    <tr>\n",
       "      <th>7</th>\n",
       "      <td>IPG/2009/page_89.pdf</td>\n",
       "      <td>what percentage decrease occurred from 2011-20...</td>\n",
       "      <td>96.55%</td>\n",
       "      <td>['notes to consolidated financial statements 2...</td>\n",
       "      <td>{'table_1': 'the deferred acquisition payments...</td>\n",
       "      <td>subtract(34.8, 1.2), divide(#0, 34.8), multipl...</td>\n",
       "      <td>FinQA</td>\n",
       "    </tr>\n",
       "    <tr>\n",
       "      <th>8</th>\n",
       "      <td>CDNS/2018/page_32.pdf</td>\n",
       "      <td>how is net change in cash from financing activ...</td>\n",
       "      <td>56.6</td>\n",
       "      <td>['issuer purchases of equity securities in jan...</td>\n",
       "      <td>{'table_3': 'period the december 2 2018 2013 d...</td>\n",
       "      <td>multiply(1327657, 42.61), divide(#0, const_100...</td>\n",
       "      <td>FinQA</td>\n",
       "    </tr>\n",
       "    <tr>\n",
       "      <th>9</th>\n",
       "      <td>GIS/2008/page_83.pdf</td>\n",
       "      <td>what is the change in net assets from 2007 to ...</td>\n",
       "      <td>6.9</td>\n",
       "      <td>['contributions and future benefit payments we...</td>\n",
       "      <td>{'text_4': 'it had net assets of $ 2309.9 mill...</td>\n",
       "      <td>subtract(2309.9, 2303.0)</td>\n",
       "      <td>FinQA</td>\n",
       "    </tr>\n",
       "  </tbody>\n",
       "</table>\n",
       "</div>"
      ],
      "text/plain": [
       "                      ID                                           question  \\\n",
       "0   ADI/2009/page_49.pdf          what is the the interest expense in 2009?   \n",
       "1   AAL/2018/page_13.pdf  what was the total operating expenses in 2018 ...   \n",
       "2  INTC/2013/page_71.pdf  what percentage of total cash and investments ...   \n",
       "3  ETR/2008/page_313.pdf    what is the growth rate in net revenue in 2008?   \n",
       "4    C/2010/page_272.pdf  what was the growth rate of the loans held-for...   \n",
       "5  AMT/2012/page_121.pdf  for acquired customer-related and network loca...   \n",
       "6   GIS/2019/page_45.pdf  in 2019 what was the percent of the net earnin...   \n",
       "7   IPG/2009/page_89.pdf  what percentage decrease occurred from 2011-20...   \n",
       "8  CDNS/2018/page_32.pdf  how is net change in cash from financing activ...   \n",
       "9   GIS/2008/page_83.pdf  what is the change in net assets from 2007 to ...   \n",
       "\n",
       "   answer                                            context  \\\n",
       "0     380  ['interest rate to a variable interest rate ba...   \n",
       "1   41932  ['the following table shows annual aircraft fu...   \n",
       "2     53%  ['the fair value of our grants receivable is d...   \n",
       "3   -3.2%  [\"entergy louisiana , llc management's financi...   \n",
       "4  56.25%  ['the significant changes from december 31 , 2...   \n",
       "5     7.4  ['american tower corporation and subsidiaries ...   \n",
       "6   63.6%  ['free cash flow conversion rate we believe th...   \n",
       "7  96.55%  ['notes to consolidated financial statements 2...   \n",
       "8    56.6  ['issuer purchases of equity securities in jan...   \n",
       "9     6.9  ['contributions and future benefit payments we...   \n",
       "\n",
       "                                        gold_context  \\\n",
       "0  {'text_1': 'if libor changes by 100 basis poin...   \n",
       "1  {'table_1': 'year the 2018 of gallons is 4447 ...   \n",
       "2  {'table_1': '( in millions ) the available-for...   \n",
       "3  {'table_1': 'the 2007 net revenue of amount ( ...   \n",
       "4  {'table_1': 'in billions of dollars the decemb...   \n",
       "5  {'text_0': 'american tower corporation and sub...   \n",
       "6  {'table_1': 'in millions the net earnings incl...   \n",
       "7  {'table_1': 'the deferred acquisition payments...   \n",
       "8  {'table_3': 'period the december 2 2018 2013 d...   \n",
       "9  {'text_4': 'it had net assets of $ 2309.9 mill...   \n",
       "\n",
       "                                           operation source  \n",
       "0                  divide(100, 100), divide(3.8, #0)  FinQA  \n",
       "1                                divide(9896, 23.6%)  FinQA  \n",
       "2                               divide(14001, 26302)  FinQA  \n",
       "3          subtract(959.2, 991.1), divide(#0, 991.1)  FinQA  \n",
       "4                  divide(2.5, 1.6), divide(#0, 1.6)  FinQA  \n",
       "5                    add(75.0, 72.7), divide(#0, 20)  FinQA  \n",
       "6                             divide(1786.2, 2807.0)  FinQA  \n",
       "7  subtract(34.8, 1.2), divide(#0, 34.8), multipl...  FinQA  \n",
       "8  multiply(1327657, 42.61), divide(#0, const_100...  FinQA  \n",
       "9                           subtract(2309.9, 2303.0)  FinQA  "
      ]
     },
     "execution_count": 7,
     "metadata": {},
     "output_type": "execute_result"
    }
   ],
   "source": [
    "df.head(10)"
   ]
  },
  {
   "cell_type": "code",
   "execution_count": 14,
   "id": "2270eb0d",
   "metadata": {},
   "outputs": [
    {
     "name": "stdout",
     "output_type": "stream",
     "text": [
      "Type breakdown:\n",
      "context\n",
      "<class 'str'>     11505\n",
      "<class 'list'>     5696\n",
      "Name: count, dtype: int64\n",
      "\n",
      "Sample values:\n",
      "Row 0 type: <class 'str'>\n",
      "Row 0 value: ['interest rate to a variable interest rate based on the three-month libor plus 2.05% ( 2.05 % ) ( 2.34% ( 2.34 % ) as of october 31 , 2009 ) .', 'if libor changes by 100 basis points , our annual interest expense would change by $ 3.8 million .', 'foreign currency exposure as more fully described in note 2i .', 'in the notes to consolidated financial statements contained in item 8 of this annual report on form 10-k , we regularly hedge our non-u.s .', 'dollar-based exposures by entering into forward foreign currency exchange contracts .', 'the terms of these contracts are for periods matching the duration of the underlying exposure and generally range from one month to twelve months .', 'currently , our largest foreign currency exposure is the euro , primarily because our european operations have the highest proportion of our local currency denominated expenses .', 'relative to foreign currency exposures existing at october 31 , 2009 and november 1 , 2008 , a 10% ( 10 % ) unfavorable movement in foreign currency exchange rates over the course of the year would not expose us to significant losses in earnings or cash flows because we hedge a high proportion of our year-end exposures against fluctuations in foreign currency exchange rates .', 'the market risk associated with our derivative instruments results from currency exchange rate or interest rate movements that are expected to offset the market risk of the underlying transactions , assets and liabilities being hedged .', 'the counterparties to the agreements relating to our foreign exchange instruments consist of a number of major international financial institutions with high credit ratings .', 'we do not believe that there is significant risk of nonperformance by these counterparties because we continually monitor the credit ratings of such counterparties .', 'while the contract or notional amounts of derivative financial instruments provide one measure of the volume of these transactions , they do not represent the amount of our exposure to credit risk .', 'the amounts potentially subject to credit risk ( arising from the possible inability of counterparties to meet the terms of their contracts ) are generally limited to the amounts , if any , by which the counterparties 2019 obligations under the contracts exceed our obligations to the counterparties .', 'the following table illustrates the effect that a 10% ( 10 % ) unfavorable or favorable movement in foreign currency exchange rates , relative to the u.s .', 'dollar , would have on the fair value of our forward exchange contracts as of october 31 , 2009 and november 1 , 2008: .']\n",
      "\toctober 31 2009\tnovember 1 2008\n",
      "fair value of forward exchange contracts asset ( liability )\t$ 6427\t$ -23158 ( 23158 )\n",
      "fair value of forward exchange contracts after a 10% ( 10 % ) unfavorable movement in foreign currency exchange rates asset ( liability )\t$ 20132\t$ -9457 ( 9457 )\n",
      "fair value of forward exchange contracts after a 10% ( 10 % ) favorable movement in foreign currency exchange rates liability\t$ -6781 ( 6781 )\t$ -38294 ( 38294 )\n",
      "['fair value of forward exchange contracts after a 10% ( 10 % ) unfavorable movement in foreign currency exchange rates asset ( liability ) .', '.', '.', '.', '.', '.', '.', '.', '.', '$ 20132 $ ( 9457 ) fair value of forward exchange contracts after a 10% ( 10 % ) favorable movement in foreign currency exchange rates liability .', '.', '.', '.', '.', '.', '.', '.', '.', '.', '.', '.', '.', '.', '.', '.', '.', '.', '.', '.', '.', '.', '$ ( 6781 ) $ ( 38294 ) the calculation assumes that each exchange rate would change in the same direction relative to the u.s .', 'dollar .', 'in addition to the direct effects of changes in exchange rates , such changes typically affect the volume of sales or the foreign currency sales price as competitors 2019 products become more or less attractive .', 'our sensitivity analysis of the effects of changes in foreign currency exchange rates does not factor in a potential change in sales levels or local currency selling prices. .']\n",
      "────────────────────────────────────────────────────────────\n",
      "Row 1 type: <class 'str'>\n",
      "Row 1 value: ['the following table shows annual aircraft fuel consumption and costs , including taxes , for our mainline and regional operations for 2018 , 2017 and 2016 ( gallons and aircraft fuel expense in millions ) .', 'year gallons average price per gallon aircraft fuel expense percent of total operating expenses .']\n",
      "year\tgallons\taverage priceper gallon\taircraft fuelexpense\tpercent of totaloperating expenses\n",
      "2018\t4447\t$ 2.23\t$ 9896\t23.6% ( 23.6 % )\n",
      "2017\t4352\t1.73\t7510\t19.6% ( 19.6 % )\n",
      "2016\t4347\t1.42\t6180\t17.6% ( 17.6 % )\n",
      "['as of december 31 , 2018 , we did not have any fuel hedging contracts outstanding to hedge our fuel consumption .', 'as such , and assuming we do not enter into any future transactions to hedge our fuel consumption , we will continue to be fully exposed to fluctuations in fuel prices .', 'our current policy is not to enter into transactions to hedge our fuel consumption , although we review that policy from time to time based on market conditions and other factors .', 'fuel prices have fluctuated substantially over the past several years .', 'we cannot predict the future availability , price volatility or cost of aircraft fuel .', 'natural disasters ( including hurricanes or similar events in the u.s .', 'southeast and on the gulf coast where a significant portion of domestic refining capacity is located ) , political disruptions or wars involving oil-producing countries , economic sanctions imposed against oil-producing countries or specific industry participants , changes in fuel-related governmental policy , the strength of the u.s .', 'dollar against foreign currencies , changes in the cost to transport or store petroleum products , changes in access to petroleum product pipelines and terminals , speculation in the energy futures markets , changes in aircraft fuel production capacity , environmental concerns and other unpredictable events may result in fuel supply shortages , distribution challenges , additional fuel price volatility and cost increases in the future .', 'see part i , item 1a .', 'risk factors 2013 201cour business is very dependent on the price and availability of aircraft fuel .', 'continued periods of high volatility in fuel costs , increased fuel prices or significant disruptions in the supply of aircraft fuel could have a significant negative impact on our operating results and liquidity . 201d seasonality and other factors due to the greater demand for air travel during the summer months , revenues in the airline industry in the second and third quarters of the year tend to be greater than revenues in the first and fourth quarters of the year .', 'general economic conditions , fears of terrorism or war , fare initiatives , fluctuations in fuel prices , labor actions , weather , natural disasters , outbreaks of disease and other factors could impact this seasonal pattern .', 'therefore , our quarterly results of operations are not necessarily indicative of operating results for the entire year , and historical operating results in a quarterly or annual period are not necessarily indicative of future operating results .', 'domestic and global regulatory landscape general airlines are subject to extensive domestic and international regulatory requirements .', 'domestically , the dot and the federal aviation administration ( faa ) exercise significant regulatory authority over air carriers .', 'the dot , among other things , oversees domestic and international codeshare agreements , international route authorities , competition and consumer protection matters such as advertising , denied boarding compensation and baggage liability .', 'the antitrust division of the department of justice ( doj ) , along with the dot in certain instances , have jurisdiction over airline antitrust matters. .']\n",
      "────────────────────────────────────────────────────────────\n",
      "Row 2 type: <class 'str'>\n",
      "Row 2 value: ['the fair value of our grants receivable is determined using a discounted cash flow model , which discounts future cash flows using an appropriate yield curve .', 'as of december 28 , 2013 , and december 29 , 2012 , the carrying amount of our grants receivable was classified within other current assets and other long-term assets , as applicable .', 'our long-term debt recognized at amortized cost is comprised of our senior notes and our convertible debentures .', 'the fair value of our senior notes is determined using active market prices , and it is therefore classified as level 1 .', 'the fair value of our convertible long-term debt is determined using discounted cash flow models with observable market inputs , and it takes into consideration variables such as interest rate changes , comparable securities , subordination discount , and credit-rating changes , and it is therefore classified as level 2 .', 'the nvidia corporation ( nvidia ) cross-license agreement liability in the preceding table was incurred as a result of entering into a long-term patent cross-license agreement with nvidia in january 2011 .', 'we agreed to make payments to nvidia over six years .', 'as of december 28 , 2013 , and december 29 , 2012 , the carrying amount of the liability arising from the agreement was classified within other accrued liabilities and other long-term liabilities , as applicable .', 'the fair value is determined using a discounted cash flow model , which discounts future cash flows using our incremental borrowing rates .', 'note 5 : cash and investments cash and investments at the end of each period were as follows : ( in millions ) dec 28 , dec 29 .']\n",
      "( in millions )\tdec 282013\tdec 292012\n",
      "available-for-sale investments\t$ 18086\t$ 14001\n",
      "cash\t854\t593\n",
      "equity method investments\t1038\t992\n",
      "loans receivable\t1072\t979\n",
      "non-marketable cost method investments\t1270\t1202\n",
      "reverse repurchase agreements\t800\t2850\n",
      "trading assets\t8441\t5685\n",
      "total cash and investments\t$ 31561\t$ 26302\n",
      "['in the third quarter of 2013 , we sold our shares in clearwire corporation , which had been accounted for as available-for-sale marketable equity securities , and our interest in clearwire communications , llc ( clearwire llc ) , which had been accounted for as an equity method investment .', 'in total , we received proceeds of $ 470 million on these transactions and recognized a gain of $ 439 million , which is included in gains ( losses ) on equity investments , net on the consolidated statements of income .', 'proceeds received and gains recognized for each investment are included in the \"available-for-sale investments\" and \"equity method investments\" sections that follow .', 'table of contents intel corporation notes to consolidated financial statements ( continued ) .']\n",
      "────────────────────────────────────────────────────────────\n"
     ]
    }
   ],
   "source": [
    "# Count the types found in the context column\n",
    "print(\"Type breakdown:\")\n",
    "print(df[\"context\"].apply(type).value_counts())\n",
    "\n",
    "# Show a few example entries\n",
    "print(\"\\nSample values:\")\n",
    "for i in range(3):\n",
    "    print(f\"Row {i} type: {type(df['context'].iloc[i])}\")\n",
    "    print(f\"Row {i} value: {df['context'].iloc[i]}\")\n",
    "    print(\"─\" * 60)"
   ]
  },
  {
   "cell_type": "code",
   "execution_count": 3,
   "id": "8fb6a4ce",
   "metadata": {},
   "outputs": [
    {
     "name": "stderr",
     "output_type": "stream",
     "text": [
      "<unknown>:2: SyntaxWarning: invalid decimal literal\n",
      "<unknown>:2: SyntaxWarning: invalid decimal literal\n",
      "<unknown>:2: SyntaxWarning: invalid decimal literal\n",
      "<unknown>:2: SyntaxWarning: invalid decimal literal\n",
      "<unknown>:2: SyntaxWarning: invalid decimal literal\n",
      "<unknown>:2: SyntaxWarning: invalid decimal literal\n",
      "<unknown>:8: SyntaxWarning: invalid decimal literal\n",
      "<unknown>:2: SyntaxWarning: invalid decimal literal\n",
      "<unknown>:2: SyntaxWarning: invalid decimal literal\n",
      "<unknown>:2: SyntaxWarning: invalid decimal literal\n",
      "<unknown>:2: SyntaxWarning: invalid decimal literal\n",
      "<unknown>:2: SyntaxWarning: invalid decimal literal\n",
      "<unknown>:2: SyntaxWarning: invalid decimal literal\n",
      "<unknown>:8: SyntaxWarning: invalid decimal literal\n",
      "<unknown>:2: SyntaxWarning: invalid decimal literal\n",
      "<unknown>:2: SyntaxWarning: invalid decimal literal\n",
      "<unknown>:2: SyntaxWarning: invalid decimal literal\n",
      "<unknown>:2: SyntaxWarning: invalid decimal literal\n",
      "<unknown>:2: SyntaxWarning: invalid decimal literal\n",
      "<unknown>:2: SyntaxWarning: invalid decimal literal\n",
      "<unknown>:2: SyntaxWarning: invalid decimal literal\n",
      "<unknown>:2: SyntaxWarning: invalid decimal literal\n",
      "<unknown>:2: SyntaxWarning: invalid decimal literal\n",
      "<unknown>:2: SyntaxWarning: invalid decimal literal\n",
      "<unknown>:2: SyntaxWarning: invalid decimal literal\n",
      "<unknown>:2: SyntaxWarning: invalid decimal literal\n",
      "<unknown>:2: SyntaxWarning: invalid decimal literal\n",
      "<unknown>:2: SyntaxWarning: invalid decimal literal\n",
      "<unknown>:2: SyntaxWarning: invalid decimal literal\n",
      "<unknown>:2: SyntaxWarning: invalid decimal literal\n",
      "<unknown>:2: SyntaxWarning: invalid decimal literal\n",
      "<unknown>:2: SyntaxWarning: invalid decimal literal\n",
      "<unknown>:2: SyntaxWarning: invalid decimal literal\n",
      "<unknown>:2: SyntaxWarning: invalid decimal literal\n",
      "<unknown>:2: SyntaxWarning: invalid decimal literal\n",
      "<unknown>:2: SyntaxWarning: invalid decimal literal\n",
      "<unknown>:2: SyntaxWarning: invalid decimal literal\n",
      "<unknown>:2: SyntaxWarning: invalid decimal literal\n",
      "<unknown>:2: SyntaxWarning: invalid decimal literal\n",
      "<unknown>:2: SyntaxWarning: invalid decimal literal\n"
     ]
    },
    {
     "name": "stdout",
     "output_type": "stream",
     "text": [
      "Total chunks created: 6113\n"
     ]
    },
    {
     "name": "stderr",
     "output_type": "stream",
     "text": [
      "<unknown>:2: SyntaxWarning: invalid decimal literal\n",
      "<unknown>:2: SyntaxWarning: invalid decimal literal\n",
      "<unknown>:2: SyntaxWarning: invalid decimal literal\n",
      "<unknown>:2: SyntaxWarning: invalid decimal literal\n",
      "<unknown>:2: SyntaxWarning: invalid decimal literal\n",
      "<unknown>:2: SyntaxWarning: invalid decimal literal\n",
      "<unknown>:2: SyntaxWarning: invalid decimal literal\n",
      "<unknown>:2: SyntaxWarning: invalid decimal literal\n",
      "<unknown>:2: SyntaxWarning: invalid decimal literal\n",
      "<unknown>:2: SyntaxWarning: invalid decimal literal\n",
      "<unknown>:2: SyntaxWarning: invalid decimal literal\n",
      "<unknown>:2: SyntaxWarning: invalid decimal literal\n",
      "<unknown>:2: SyntaxWarning: invalid decimal literal\n",
      "<unknown>:2: SyntaxWarning: invalid decimal literal\n",
      "<unknown>:2: SyntaxWarning: invalid decimal literal\n",
      "<unknown>:2: SyntaxWarning: invalid decimal literal\n",
      "<unknown>:2: SyntaxWarning: invalid decimal literal\n",
      "<unknown>:2: SyntaxWarning: invalid decimal literal\n",
      "<unknown>:8: SyntaxWarning: invalid decimal literal\n",
      "<unknown>:8: SyntaxWarning: invalid decimal literal\n",
      "<unknown>:8: SyntaxWarning: invalid decimal literal\n",
      "<unknown>:8: SyntaxWarning: invalid decimal literal\n",
      "<unknown>:8: SyntaxWarning: invalid decimal literal\n"
     ]
    }
   ],
   "source": [
    "# Chunk text + table content\n",
    "all_chunks, chunk_metadata = chunk_all(merged_dataset)\n",
    "print(f\"Total chunks created: {len(all_chunks)}\")"
   ]
  },
  {
   "cell_type": "code",
   "execution_count": 4,
   "id": "aae948a2",
   "metadata": {},
   "outputs": [
    {
     "name": "stdout",
     "output_type": "stream",
     "text": [
      "Embedding 6113 passages in batches of 64...\n"
     ]
    },
    {
     "name": "stderr",
     "output_type": "stream",
     "text": [
      "🔄 Embedding progress: 100%|██████████| 96/96 [03:14<00:00,  2.02s/it]"
     ]
    },
    {
     "name": "stdout",
     "output_type": "stream",
     "text": [
      "Embeddings shape: torch.Size([6113, 768])\n"
     ]
    },
    {
     "name": "stderr",
     "output_type": "stream",
     "text": [
      "\n"
     ]
    }
   ],
   "source": [
    "# Embed all chunks with batching\n",
    "embeddings = embed_passages(all_chunks, batch_size=64)\n",
    "print(f\"Embeddings shape: {embeddings.shape}\")"
   ]
  },
  {
   "cell_type": "code",
   "execution_count": 7,
   "id": "857cbbbe",
   "metadata": {},
   "outputs": [
    {
     "name": "stdout",
     "output_type": "stream",
     "text": [
      "✅ Saved embeddings and metadata to data/embeddings\n"
     ]
    }
   ],
   "source": [
    "# Create the save directory if it doesn't exist\n",
    "save_dir = Path(\"data/embeddings\")\n",
    "save_dir.mkdir(parents=True, exist_ok=True)\n",
    "\n",
    "# Save embeddings\n",
    "torch.save(embeddings, save_dir / \"embeddings.pt\")\n",
    "\n",
    "# Save metadata\n",
    "with open(save_dir / \"chunk_metadata.json\", \"w\") as f:\n",
    "    json.dump(chunk_metadata, f)\n",
    "\n",
    "print(f\"✅ Saved embeddings and metadata to {save_dir}\")"
   ]
  },
  {
   "cell_type": "code",
   "execution_count": 5,
   "id": "03f4e8f9",
   "metadata": {},
   "outputs": [
    {
     "name": "stdout",
     "output_type": "stream",
     "text": [
      "FAISS index saved to data/embeddings/faiss_index.index\n"
     ]
    }
   ],
   "source": [
    "# Build & save the FAISS index\n",
    "index = build_faiss_index(embeddings)\n",
    "save_index(index, path=\"data/embeddings/faiss_index.index\")\n"
   ]
  },
  {
   "cell_type": "code",
   "execution_count": 6,
   "id": "5b3cfdd8",
   "metadata": {},
   "outputs": [
    {
     "data": {
      "application/vnd.jupyter.widget-view+json": {
       "model_id": "7f97902df7dc41389091ec569e70dfc3",
       "version_major": 2,
       "version_minor": 0
      },
      "text/plain": [
       "config.json:   0%|          | 0.00/794 [00:00<?, ?B/s]"
      ]
     },
     "metadata": {},
     "output_type": "display_data"
    },
    {
     "data": {
      "application/vnd.jupyter.widget-view+json": {
       "model_id": "beb0f6cfd4ad40cdb9d7e525a9c6abb2",
       "version_major": 2,
       "version_minor": 0
      },
      "text/plain": [
       "model.safetensors:   0%|          | 0.00/90.9M [00:00<?, ?B/s]"
      ]
     },
     "metadata": {},
     "output_type": "display_data"
    },
    {
     "data": {
      "application/vnd.jupyter.widget-view+json": {
       "model_id": "e492530ade6f459699001bd7c8c917ca",
       "version_major": 2,
       "version_minor": 0
      },
      "text/plain": [
       "tokenizer_config.json: 0.00B [00:00, ?B/s]"
      ]
     },
     "metadata": {},
     "output_type": "display_data"
    },
    {
     "data": {
      "application/vnd.jupyter.widget-view+json": {
       "model_id": "a56c028de1ac47c7a425d4918ef14361",
       "version_major": 2,
       "version_minor": 0
      },
      "text/plain": [
       "vocab.txt: 0.00B [00:00, ?B/s]"
      ]
     },
     "metadata": {},
     "output_type": "display_data"
    },
    {
     "data": {
      "application/vnd.jupyter.widget-view+json": {
       "model_id": "bd8123d227854748b133caf700a9db01",
       "version_major": 2,
       "version_minor": 0
      },
      "text/plain": [
       "tokenizer.json: 0.00B [00:00, ?B/s]"
      ]
     },
     "metadata": {},
     "output_type": "display_data"
    },
    {
     "data": {
      "application/vnd.jupyter.widget-view+json": {
       "model_id": "e62259a1fe5540c887de227ca2c72ce6",
       "version_major": 2,
       "version_minor": 0
      },
      "text/plain": [
       "special_tokens_map.json:   0%|          | 0.00/132 [00:00<?, ?B/s]"
      ]
     },
     "metadata": {},
     "output_type": "display_data"
    },
    {
     "data": {
      "application/vnd.jupyter.widget-view+json": {
       "model_id": "da6c63aad1554448b8d7ba09668de939",
       "version_major": 2,
       "version_minor": 0
      },
      "text/plain": [
       "README.md: 0.00B [00:00, ?B/s]"
      ]
     },
     "metadata": {},
     "output_type": "display_data"
    },
    {
     "name": "stdout",
     "output_type": "stream",
     "text": [
      "Top Reranked Passages:\n",
      "1. (Score: -1.0604)\n",
      "[Text] Loan commitments provide for financing on predetermined terms as long as the client continues to meet specified criteria. These agreements generally carry variable rates of interest and have fixed expiration dates or termination clauses. We typically charge a fee for our loan commitments. Since a commitment may expire without resulting in a loan, our aggregate outstanding commitments may significantly exceed our eventual cash outlay.\n",
      "Loan commitments involve credit risk not reflected on our Consolidated Balance Sheets. We mitigate exposure to credit risk with internal controls that guide how we review and approve applications for credit, establish credit limits and, when necessary, demand collateral. In particular, we evaluate the creditworthiness of each prospective borrower on a case-by-case basis and, when appropriate, adjust the allowance for credit losses on lending-related commitments. Additional information pertaining to this allowance is included in Note 1 (“Summary of Significant Accounting Policies”) under the heading “Liability for Credit Losses on Lending-Related Commitments,” and in Note 5 (“Asset Quality”).\n",
      "We also provide financial support to private equity investments, including existing direct portfolio companies and indirect private equity funds, to satisfy unfunded commitments. These unfunded commitments are not recorded on our Consolidated Balance Sheets. Additional information on principal investing commitments is provided in Note 6 (“Fair Value Measurements”). Other unfunded equity investment commitments at December 31, 2023, and December 31, 2022, related to tax credit investments and were primarily attributable to LIHTC investments. Unfunded tax credit investment commitments are recorded on our Consolidated Balance Sheets in “other liabilities.” Additional information on LIHTC commitments is provided in Note 13 (“Variable Interest Entities”).\n",
      "The following table shows the remaining contractual amount of each class of commitment related to extending credit or funding principal investments. For loan commitments and commercial letters of credit, this amount represents our maximum possible accounting loss on the unused commitment if the borrower were to draw upon the full amount of the commitment and subsequently default on payment for the total amount of the then outstanding loan.\n",
      "December 31,\n",
      "Dollars in millions\n",
      "2023\t2022\n",
      "Loan commitments:\t\t\n",
      "Commercial and other\t$\t55,603 \t\t$\t58,269 \t\n",
      "Commercial real estate and construction\t3,440 \t\t4,037 \t\n",
      "Home equity\t8,984 \t\t9,346 \t\n",
      "Credit cards\t7,058 \t\t7,424 \t\n",
      "Total loan commitments\t75,085 \t\t79,076 \t\n",
      "Commercial letters of credit\t65 \t\t86 \t\n",
      "Purchase card commitments\t995 \t\t875 \t\n",
      "Principal investing commitments\t1 \t\t9 \t\n",
      "Tax credit investment commitments\t1,361 \t\t958 \t\n",
      "Total loan and other commitments\t$\t77,507 \t\t$\t81,004\n",
      "---\n",
      "2. (Score: -1.3205)\n",
      "[Text] Contractual Obligations\n",
      "The table below summarizes our material contractual obligations in specified periods as of November 2, 2024:  \n",
      " \t\t \t\tPayment due by period\n",
      " \t\t \t\tLess than\t\t \t\t \t\tMore than\n",
      "(thousands)\t\tTotal\t\t1 Year\t\t1-3 Years\t\t3-5 Years\t\t5 Years\n",
      "Debt obligations (1)\n",
      "$\t7,664,815 \t\t\t$\t947,738 \t\t\t$\t1,340,212 \t\t\t$\t750,000 \t\t\t$\t4,626,865 \t\n",
      "Interest payments associated with debt obligations\t\t3,169,308 \t\t\t232,301 \t\t\t433,714 \t\t\t343,339 \t\t\t2,159,954 \t\n",
      "Investment-related commitments (2)\n",
      "198,000 \t\t\t33,000 \t\t\t66,000 \t\t\t66,000 \t\t\t33,000 \t\n",
      "Transition tax (3)\n",
      "302,141 \t\t\t149,224 \t\t\t152,917 \t\t\t— \t\t\t— \t\n",
      "Operating leases (4)\n",
      "434,856 \t\t\t83,059 \t\t\t146,604 \t\t\t106,743 \t\t\t98,450 \t\n",
      "Inventory-related purchase commitments (5)\t\t485,355 \t\t\t153,434 \t\t\t259,236 \t\t\t49,352 \t\t\t23,333 \t\n",
      "Total\t\t$\t12,254,475 \t\t\t$\t1,598,756 \t\t\t$\t2,398,683 \t\t\t$\t1,315,434 \t\t\t$\t6,941,602\n",
      "---\n",
      "3. (Score: -1.3429)\n",
      "[Text] Our future contractual obligations are related to debt, leases, pension liabilities, unrecognized tax benefits, workers compensation, and purchase obligations. See Note 13: Debt, Note 15: Leases, Note 17: Employee Pension and Other Postretirement Benefits, Note 12: Income Taxes, and Note 2: Summary of Significant Accounting Policies in Item 8 for information about those obligations. Our purchase obligations as of December 31, 2023, were approximately $5,122 million, with approximately $2,702 million expected to be paid in 2024 and $2,420 million thereafter. A purchase obligation is defined as an agreement to purchase goods or services that is enforceable and legally binding on us and that specifies all significant terms, including: fixed or minimum quantities to be purchased; fixed, minimum, or variable price provisions; and the approximate timing of the transaction. As of December 31, 2023, future scheduled periodic interest payments on our outstanding long-term debt, including commitment fees that we are obligated to pay on our existing $1.5 billion Revolving Credit Facility, were approximately $333 million, with approximately $87 million expected to be paid in 2024 and $246 million thereafter.\n",
      "---\n",
      "4. (Score: -1.6622)\n",
      "[Text] Contractual Obligations\n",
      "Our contractual obligations as of December 31, 2023, and the estimated timing of payment, are in the following table:\n",
      "Payments Due By Period\n",
      "Total\n",
      "Less than\n",
      "1 Year\n",
      "1-3\n",
      "Years\n",
      "3-5\n",
      "Years\n",
      "More than\n",
      "5 Years\n",
      "Long-term debt obligations1\n",
      "$\t146,064 \t\t$\t7,537 \t\t$\t15,801 \t\t$\t13,215 \t\t$\t109,511 \t\n",
      "Interest payments on long-term debt2\n",
      "98,565 \t\t5,931 \t\t11,084 \t\t9,870 \t\t71,680 \t\n",
      "Purchase obligations3\n",
      "29,507 \t\t7,555 \t\t12,856 \t\t8,187 \t\t909 \t\n",
      "Operating lease obligations4\n",
      "25,356 \t\t4,699 \t\t7,548 \t\t4,977 \t\t8,132 \t\n",
      "FirstNet sustainability payments5\n",
      "17,010 \t\t561 \t\t1,316 \t\t3,224 \t\t11,909 \t\n",
      "Unrecognized tax benefits (UTB)6\n",
      "9,238 \t\t392 \t\t— \t\t— \t\t8,846 \t\n",
      "Other finance obligations7\n",
      "11,733 \t\t2,692 \t\t2,374 \t\t1,763 \t\t4,904 \t\n",
      "Total Contractual Obligations\t$\t337,473 \t\t$\t29,367 \t\t$\t50,979 \t\t$\t41,236 \t\t$\t215,891 \t\n",
      " \n",
      "1Represents principal or payoff amounts of notes, debentures and credit agreement borrowings at maturity (see Note 11). Foreign debt includes the impact from hedges, when applicable.\n",
      "2Includes credit agreement borrowings.\n",
      "3We expect to fund the purchase obligations with cash provided by operations or through incremental borrowings. The minimum commitment for certain obligations is based on termination penalties that could be paid to exit the contracts. (See Note 21)\n",
      "4Represents operating lease payments (see Note 8).\n",
      "5Represents contractual commitment to make sustainability payments over the 25-year contract. These sustainability payments represent our commitment to fund FirstNet’s operating expenses and future reinvestment in the network, which we own and operate. FirstNet has a statutory requirement to reinvest funds that exceed the agency’s operating expenses, which we anticipate to be $15,000. (See Note 20)\n",
      "6The noncurrent portion of the UTBs is included in the “More than 5 Years” column, as we cannot reasonably estimate the timing or amounts of additional cash payments, if any, at this time (see Note 13).\n",
      "7Represents future minimum payments under the Crown Castle and other arrangements (see Note 18), payables subject to extended payment terms (see Note 22) and finance lease payments (see Note 8).\n",
      "---\n",
      "5. (Score: -1.7194)\n",
      "[Text] We have the following minimum commitments under contractual obligations, including purchase obligations, as defined by the Securities and Exchange Commission. A “purchase obligation” is defined as an agreement to purchase goods or services that is enforceable and legally binding and that specifies all significant terms, including fixed or minimum quantities to be purchased; fixed, minimum or variable price provisions; and the approximate timing of the transaction.\n",
      "\n",
      "Long-term debt and estimated interest. Refer to Note 3. Long-Term Debt to the consolidated financial statements elsewhere in this report for our long-term debt maturities. Estimated interest payments on our senior unsecured notes were determined based on their outstanding balances through maturity at their contractual interest rates, as detailed in Note 3. Estimated interest payments also include a 0.15% commitment fee on our available Revolver, and an average interest rate of 7.0% on our other debt of $61.8 million. Our estimated interest payments are $102.2 million, $80.1 million, $74.9 million, $54.5 million, $50.0 million, for the years 2024 through 2028, respectively, and $343.2 million thereafter. Purchase obligations. We have commitments for the purchase of commodities such as electricity, water, natural gas and its transportation services, fuel, air products, zinc, and electrodes. Refer to Note 9. Commitments and Contingencies to the consolidated financial statements elsewhere in this report for this information.\n",
      "\n",
      "Construction commitments. We have firm contracts with various vendors for the completion of certain construction projects at our various divisions at December 31, 2023. Refer to Note 9. Commitments and Contingencies to the consolidated financial statements elsewhere in this report for this information.\n",
      "\n",
      "Lease commitments. We have entered into operating leases relating principally to transportation and other equipment, and some real estate. Refer to Note 12. Leases to the consolidated financial statements elsewhere in this report for this information.\n",
      "\n",
      "Unrecognized tax benefits. We expect to make cash outlays in the future related to our unrecognized tax benefits; however, due to the uncertainty of the timing, we are unable to make reasonably reliable estimates regarding the period of cash settlement with the respective taxing authorities. Refer to Note 4. Income Taxes to the consolidated financial statements elsewhere in this report for this information.\n",
      "---\n"
     ]
    }
   ],
   "source": [
    "# Test System with query\n",
    "query = \"What are the obligations of the borrower?\"\n",
    "\n",
    "# Step 1: Embed the query\n",
    "query_embedding = embed_query(query)\n",
    "\n",
    "# Step 2: Search FAISS and rerank\n",
    "top_docs, scores = rerank_search(\n",
    "    query=query,\n",
    "    query_embedding=query_embedding,\n",
    "    index=index,\n",
    "    all_documents=all_chunks,   # Should match order of original embeddings\n",
    "    top_k=10,\n",
    "    rerank_k=5,\n",
    "    return_scores=True\n",
    ")\n",
    "\n",
    "# Step 3: Display top reranked passages with scores\n",
    "print(\"Top Reranked Passages:\")\n",
    "for i, (doc, score) in enumerate(zip(top_docs, scores)):\n",
    "    print(f\"{i+1}. (Score: {score:.4f})\\n{doc}\\n---\")"
   ]
  },
  {
   "cell_type": "code",
   "execution_count": null,
   "id": "79e82f76",
   "metadata": {},
   "outputs": [],
   "source": [
    "# Save for eval\n",
    "reranked_metadata = {\n",
    "    \"query\": query,\n",
    "    \"reranked_chunks\": top_docs,\n",
    "    \"scores\": scores\n",
    "}\n",
    "\n",
    "with open(\"data/eval/reranked_log.jsonl\", \"a\") as f:\n",
    "    f.write(json.dumps(reranked_metadata) + \"\\n\")"
   ]
  }
 ],
 "metadata": {
  "kernelspec": {
   "display_name": "fin_rag_env",
   "language": "python",
   "name": "python3"
  },
  "language_info": {
   "codemirror_mode": {
    "name": "ipython",
    "version": 3
   },
   "file_extension": ".py",
   "mimetype": "text/x-python",
   "name": "python",
   "nbconvert_exporter": "python",
   "pygments_lexer": "ipython3",
   "version": "3.11.13"
  }
 },
 "nbformat": 4,
 "nbformat_minor": 5
}
